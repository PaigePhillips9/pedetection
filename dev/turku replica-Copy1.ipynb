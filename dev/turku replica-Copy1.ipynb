{
 "cells": [
  {
   "cell_type": "code",
   "execution_count": 1,
   "id": "34dbfb7f",
   "metadata": {},
   "outputs": [
    {
     "name": "stdout",
     "output_type": "stream",
     "text": [
      "2.8.1\n",
      "2.8.0\n",
      "Num GPUs Available:  1\n"
     ]
    }
   ],
   "source": [
    "\n",
    "import numpy as np\n",
    "import pydicom\n",
    "import os\n",
    "import sys\n",
    "import pandas as pd\n",
    "\n",
    "import tensorflow as tf\n",
    "from tensorflow import keras\n",
    "from tensorflow.keras.utils import Sequence\n",
    "\n",
    "print(tf.__version__)\n",
    "print(keras.__version__)\n",
    "os.environ[\"CUDA_VISIBLE_DEVICES\"] = \"0\"\n",
    "\n",
    "print(\"Num GPUs Available: \", len(tf.config.list_physical_devices('GPU')))\n",
    "import warnings\n",
    "warnings.filterwarnings(action='once')\n",
    "import cv2\n"
   ]
  },
  {
   "cell_type": "code",
   "execution_count": 2,
   "id": "ce3d6b23",
   "metadata": {},
   "outputs": [],
   "source": [
    "import argparse\n",
    "import os\n",
    "import random as rn\n",
    "import sys\n",
    "from typing import Tuple\n",
    "\n",
    "import numpy as np\n",
    "import pandas as pd\n",
    "import tensorflow as tf\n",
    "from keras.applications.inception_resnet_v2 import preprocess_input\n",
    "from tensorflow import keras\n",
    "import random\n",
    "\n",
    "# import config\n",
    "# from pe_logger import PELogger\n",
    "# from plots.plot_results import (save_accuracy_plot, save_loss_plot,\n",
    "#                                 save_pr_curve, save_roc_curve)\n",
    "from inception_resnet_v2_gray import InceptionResNetV2Gray\n",
    "# from training.slice_data_generator import SliceDataGenerator\n",
    "\n",
    "# Set seeding based on Keras documentation\n",
    "np.random.seed(1)\n",
    "rn.seed(2)\n",
    "tf.random.set_seed(3)\n",
    "\n",
    "# logger = PELogger().get_logger()\n",
    "\n",
    "# CONFIG = config.config()\n",
    "# MODEL_DIR = CONFIG[\"model\"][\"model_dir\"]\n",
    "# PLOT_DIR = CONFIG[\"model\"][\"plot_dir\"]\n",
    "IMAGE_W = 386\n",
    "IMAGE_H = 386\n",
    "ENCODING_DIM = 64\n",
    "FILENAME_COL = \"png_filename\"\n",
    "LABEL_COL = \"label\"\n",
    "FOLD_COL = \"pat_fold\"\n",
    "EPOCHS = 3\n",
    "BATCH_SIZE = 32\n",
    "PRETRAINED_WEIGHTS = \"./pretrained/InceptionResNetV2_NIH15_Px256.h5\"\n",
    "MODEL_DIR = '/home/shared/model_checkpoint_paige/singlescan-3channel/'\n"
   ]
  },
  {
   "cell_type": "code",
   "execution_count": 3,
   "id": "f2cb1b60",
   "metadata": {},
   "outputs": [],
   "source": [
    "def get_model(num_channels: int) -> keras.models.Model:\n",
    "    \n",
    "    inputs = keras.Input(shape=(IMAGE_W,IMAGE_H,1))\n",
    "    \n",
    "    inception = InceptionResNetV2Gray(\n",
    "                    input_shape=(IMAGE_H, IMAGE_W, 1),\n",
    "                    include_top=False,\n",
    "                    weights='pretrained/InceptionResNetV2_NIH15_Px256.h5',\n",
    "                )\n",
    "    x = inception(inputs)\n",
    "    x = keras.layers.GlobalAveragePooling2D()(inception.output)\n",
    "    x = keras.layers.Dense(512, activation=\"relu\")(x)\n",
    "    x = keras.layers.Dropout(0.2)(x)\n",
    "    x = keras.layers.Dense(ENCODING_DIM)(x)\n",
    "    x = keras.layers.Dense(1, activation=\"sigmoid\")(x)\n",
    "    model = keras.models.Model(inputs=inception.input, outputs=x)\n",
    "    return model\n",
    "\n",
    "\n",
    "def get_generators(\n",
    "    df,\n",
    "    fold,\n",
    "):\n",
    "\n",
    "    train_df = df[df.fold != fold].reset_index(drop=True)\n",
    "    test_df = df[df.fold == fold].reset_index(drop=True)\n",
    "\n",
    "    \n",
    "    train_generator = DataSliceGenerator(train_df, \n",
    "                                   IMAGE_PATH, \n",
    "                                   img_type = IMG_TYPE,\n",
    "                                   verbose=False, \n",
    "                                   n_channels=1, \n",
    "                                   set_type='train',\n",
    "                                   batch_size=BATCH_SIZE,\n",
    "                                   shuffle=True,\n",
    "                                   dim=386)\n",
    "    \n",
    "    valid_generator = DataSliceGenerator(test_df, \n",
    "                                   IMAGE_PATH, \n",
    "                                   img_type = IMG_TYPE,\n",
    "                                   verbose=False, \n",
    "                                   set_type = 'valid',\n",
    "                                   n_channels=1, \n",
    "                                   batch_size=BATCH_SIZE,\n",
    "                                   shuffle=False,\n",
    "                                   dim=386)\n",
    "\n",
    "    return train_generator, valid_generator\n",
    "\n",
    "\n",
    "def train(\n",
    "    df: pd.DataFrame,\n",
    "    model_prefix: str,\n",
    "    num_channels: int,\n",
    "    pre_train_top: bool,\n",
    "    fold: int,\n",
    "):\n",
    "    \"\"\"Train a slice based (2D) binary classification model using Inception ResNet V2 backbone.\n",
    "    Best model for given fold will be saved based validation loss.\n",
    "    Args:\n",
    "        df: dataframe object that contains list of images with labels and fold info\n",
    "        image_dir: directory from which training images are loaded from\n",
    "        model_prefix: prefix to use when storing trained models\n",
    "        num_channels: number of input channels to use, 1 = NIH, 2 = ImageNet (RGB)\n",
    "        pre_train_top: flag whether to first train a the classifier part\n",
    "        fold: number indicating cross-validation fold\n",
    "    \"\"\"\n",
    "    model = get_model(1)\n",
    "\n",
    "    train_generator, valid_generator = get_generators(df, fold)\n",
    "\n",
    "    opt = keras.optimizers.Adam(learning_rate=0.001, beta_1=0.9, beta_2=0.999, decay=0.01)\n",
    "\n",
    "    training_histories = []\n",
    "    os.makedirs(MODEL_DIR, exist_ok=True)\n",
    "#     os.makedirs(PLOT_DIR, exist_ok=True)\n",
    "\n",
    "    checkpoint_path = os.path.join(MODEL_DIR, f\"{model_prefix}_fold_{fold:02d}.h5\")\n",
    "    check = keras.callbacks.ModelCheckpoint(\n",
    "        checkpoint_path,\n",
    "        save_best_only=True,\n",
    "        verbose=1,\n",
    "    )\n",
    "\n",
    "\n",
    "    for layer in model.layers:\n",
    "        layer.trainable = True\n",
    "\n",
    "    model.compile(loss=\"binary_crossentropy\", optimizer=opt, metrics=[\"accuracy\"])\n",
    "    if fold == 0:\n",
    "        model.summary()\n",
    "\n",
    "    hist_full = model.fit(\n",
    "        train_generator,\n",
    "        epochs=EPOCHS,\n",
    "        shuffle=False,\n",
    "        validation_data=valid_generator,\n",
    "        callbacks=[check],\n",
    "    )\n",
    "\n",
    "    training_histories.append(pd.DataFrame(hist_full.history))\n",
    "\n",
    "    df_hist = pd.concat(training_histories, axis=0, ignore_index=True, sort=False)\n",
    "    df_hist.to_csv(os.path.join(MODEL_DIR, f\"hist_{model_prefix}_fold_{fold:02d}.csv\"))\n",
    "\n",
    "\n"
   ]
  },
  {
   "cell_type": "code",
   "execution_count": 4,
   "id": "af89bbcc",
   "metadata": {},
   "outputs": [
    {
     "name": "stderr",
     "output_type": "stream",
     "text": [
      "/tmp/ipykernel_1627361/1656503385.py:1: DtypeWarning: Columns (17) have mixed types. Specify dtype option on import or set low_memory=False.\n",
      "  all_ids = pd.read_csv('all_ids_updated.csv')\n"
     ]
    }
   ],
   "source": [
    "all_ids = pd.read_csv('all_ids_updated.csv')\n",
    "all_ids = all_ids[all_ids.contains_lung == True].sample(frac=1).reset_index(drop=True)\n",
    "all_ids.ycoord = all_ids.ycoord.replace('True', '1.0').astype('float')"
   ]
  },
  {
   "cell_type": "code",
   "execution_count": 5,
   "id": "aaf29cc8",
   "metadata": {},
   "outputs": [],
   "source": [
    "fold_df = pd.read_csv('folds.csv')\n",
    "all_ids = pd.merge(all_ids, fold_df)"
   ]
  },
  {
   "cell_type": "code",
   "execution_count": null,
   "id": "5252d5ee",
   "metadata": {},
   "outputs": [
    {
     "name": "stdout",
     "output_type": "stream",
     "text": [
      "6\n",
      "Epoch 1/3\n",
      "  808/10835 [=>............................] - ETA: 2:12:54 - loss: 0.5616 - accuracy: 0.7058"
     ]
    }
   ],
   "source": [
    "BATCH_SIZE = 16\n",
    "FOLDS = 10\n",
    "EPOCHS = 3\n",
    "MODEL_DIR = '/home/shared/model_checkpoint_paige/singlescan-3channel/'\n",
    "\n",
    "fold = 6\n",
    "# for fold in range(0, FOLDS):\n",
    "#     if fold != 7 and fold != 8:\n",
    "print(fold)\n",
    "train(all_ids, 'turku-incepres', 1, True, fold)"
   ]
  },
  {
   "cell_type": "code",
   "execution_count": 6,
   "id": "83698325",
   "metadata": {},
   "outputs": [
    {
     "name": "stderr",
     "output_type": "stream",
     "text": [
      "/home/jupyter-paige/turku_aug_funcs.py:3: DeprecationWarning: Please use `gaussian_filter` from the `scipy.ndimage` namespace, the `scipy.ndimage.filters` namespace is deprecated.\n",
      "  from scipy.ndimage.filters import gaussian_filter\n",
      "/home/jupyter-paige/turku_aug_funcs.py:4: DeprecationWarning: Please use `map_coordinates` from the `scipy.ndimage` namespace, the `scipy.ndimage.interpolation` namespace is deprecated.\n",
      "  from scipy.ndimage.interpolation import map_coordinates\n"
     ]
    }
   ],
   "source": [
    "import turku_aug_funcs\n",
    "\n",
    "class DataSliceGenerator(Sequence):\n",
    "    \"\"\"Generates data for Keras\n",
    "    Sequence based data generator. Suitable for building data generator for training and prediction.\n",
    "    \"\"\"\n",
    "    def __init__(self, all_df, image_path, img_type, set_type, n_channels=1, \n",
    "                 batch_size=32, dim=386, num_pos=None, n_classes=2, shuffle=True,\n",
    "                 verbose=False, to_fit=True,\n",
    "                 ):\n",
    "        \"\"\"Initialization\n",
    "        :param list_IDs: list of all 'label' ids to use in the generator\n",
    "        :param labels: list of image labels (file names)\n",
    "        :param image_path: path to images location\n",
    "        :param mask_path: path to masks location\n",
    "        :param to_fit: True to return X and y, False to return X only\n",
    "        :param batch_size: batch size at each iteration\n",
    "        :param dim: tuple indicating image dimension\n",
    "        :param n_channels: number of image channels\n",
    "        :param n_classes: number of output masks\n",
    "        :param shuffle: True to shuffle label indexes after every epoch\n",
    "        \"\"\"\n",
    "        self.image_path = image_path\n",
    "        self.to_fit = to_fit\n",
    "        self.batch_size = batch_size\n",
    "        self.dim = dim\n",
    "        self.n_channels = n_channels\n",
    "        self.n_classes = n_classes\n",
    "        self.shuffle = shuffle\n",
    "        self.path_dicom = image_path\n",
    "        self.verbose = verbose\n",
    "        self.img_type = img_type\n",
    "        warnings.filterwarnings(action='ignore')\n",
    "        self.all_df = all_df\n",
    "        self.set_type = set_type\n",
    "        \n",
    "        if self.set_type == 'test':\n",
    "            self.labels = self.all_df\n",
    "        elif self.set_type == 'valid':\n",
    "            pos = self.all_df[self.all_df.pe_present_on_image == True]\n",
    "            neg = self.all_df[self.all_df.pe_present_on_image == False].sample(n=len(pos))\n",
    "            self.labels = pd.concat([pos,neg]).sample(frac=1).reset_index(drop=True)\n",
    "        elif self.set_type == 'train':\n",
    "            pos = self.all_df[self.all_df.pe_present_on_image ==True]\n",
    "            neg = self.all_df[self.all_df.pe_present_on_image == False].sample(n=len(pos))\n",
    "            self.labels = pd.concat([pos,neg]).sample(frac=1).reset_index(drop=True)\n",
    "        else:\n",
    "            print('Invalid set type, must be test, valid or train')\n",
    "            return False\n",
    "        \n",
    "        self.list_IDs = np.arange(len(self.labels))\n",
    "        if self.shuffle == True:\n",
    "            np.random.shuffle(self.list_IDs)\n",
    "\n",
    "        \n",
    "    def get_df(self):\n",
    "        return self.labels\n",
    "\n",
    "        \n",
    "    def __len__(self):\n",
    "        \"\"\"Denotes the number of batches per epoch\n",
    "        :return: number of batches per epoch\n",
    "        \"\"\"\n",
    "        return int(np.floor(len(self.list_IDs) / self.batch_size))\n",
    "\n",
    "    def __getitem__(self, index):\n",
    "        \"\"\"Generate one batch of data\n",
    "        :param index: index of the batch\n",
    "        :return: X and y when fitting. X only when predicting\n",
    "        \"\"\"\n",
    "        \n",
    "        indexes = self.list_IDs[index * self.batch_size:((index+1) * self.batch_size)]\n",
    "        X = np.zeros([self.batch_size,self.dim,self.dim,1])\n",
    "        y = np.zeros([self.batch_size, 1])\n",
    "        for i in range(0,self.batch_size):\n",
    "            X[i], y[i] = self._load_dicom(indexes[i])\n",
    "            \n",
    "        if self.verbose == True:\n",
    "            fig, ax = plt.subplots(self.batch_size, 1, figsize=[12, 12*(self.batch_size/2)])\n",
    "            for i in range(self.batch_size):\n",
    "                ax[i].imshow(X[i])\n",
    "                ax[i].axis('off')\n",
    "        \n",
    "        X = X/255\n",
    "            \n",
    "        if self.to_fit:\n",
    "            return (X, y)\n",
    "        else:\n",
    "            return (X)\n",
    "        \n",
    "    def on_epoch_end(self):\n",
    "        \"\"\"Updates indexes after each epoch\n",
    "        \"\"\"\n",
    "        if self.set_type == 'train':\n",
    "            pos = self.all_df[self.all_df.pe_present_on_image ==True]\n",
    "            neg = self.all_df[self.all_df.pe_present_on_image == False].sample(n=len(pos)*3)\n",
    "            self.labels = pd.concat([pos,pos,pos,neg]).sample(frac=1).reset_index(drop=True)\n",
    "            \n",
    "        self.list_IDs = np.arange(len(self.labels))\n",
    "        if self.shuffle == True:\n",
    "            np.random.shuffle(self.list_IDs)\n",
    "\n",
    "            \n",
    "    def _load_dicom(self, index):\n",
    "        slice = self.labels.iloc[index] \n",
    "\n",
    "        frame = cv2.imread(self.image_path+slice.StudyInstanceUID + '_'+ slice.SeriesInstanceUID\n",
    "                      + '_' + slice.SOPInstanceUID +'.png')\n",
    "        frame = frame[:,:,self.img_type]\n",
    "        \n",
    "#         frame = np.reshape(frame, (256,256,1))      \n",
    "        \n",
    "        if self.set_type == 'train':\n",
    "            trans = random.sample(range(0,5),random.randint(0,5))\n",
    "            if 0 in trans:\n",
    "                frame = turku_aug_funcs.blur(frame)\n",
    "            if 1 in trans:\n",
    "                zoom = random.randint(0,2)\n",
    "                if zoom == 0:\n",
    "                    frame = turku_aug_funcs.zoom_1_05(frame)\n",
    "                if zoom == 1:\n",
    "                    frame = turku_aug_funcs.zoom_1_075(frame)\n",
    "                if zoom == 2:\n",
    "                    frame = turku_aug_funcs.zoom_1_15(frame)\n",
    "\n",
    "            if 2 in trans:\n",
    "                rot = random.randint(0,3)\n",
    "                if rot == 0:\n",
    "                    frame = turku_aug_funcs.rotate_3(frame)\n",
    "                if rot == 1:\n",
    "                    frame = turku_aug_funcs.rotate_m3(frame)\n",
    "                if rot == 2:\n",
    "                    frame = turku_aug_funcs.rotate_5(frame)\n",
    "                if rot == 3:\n",
    "                    frame = turku_aug_funcs.rotate_m5(frame)\n",
    "\n",
    "            if 3 in trans:\n",
    "                frame = np.reshape(frame, (1,256,256))\n",
    "                frame = turku_aug_funcs.gaussian_noise(frame)\n",
    "                frame = frame.squeeze()\n",
    "\n",
    "            if 4 in trans:\n",
    "                tx = random.randint(0,6)\n",
    "                if tx == 0:\n",
    "                    frame = turku_aug_funcs.tr_x10(frame)\n",
    "                if tx == 1:\n",
    "                    frame = turku_aug_funcs.tr_x15(frame)\n",
    "                if tx == 2:\n",
    "                    frame = turku_aug_funcs.tr_x20(frame)\n",
    "                if tx == 3:\n",
    "                    frame = turku_aug_funcs.tr_xm10(frame)\n",
    "                if tx == 4:\n",
    "                    frame = turku_aug_funcs.tr_xm15(frame)\n",
    "                if tx == 5:\n",
    "                    frame = turku_aug_funcs.tr_xm20(frame)\n",
    "                tx = random.randint(0,6)\n",
    "                if tx == 0:\n",
    "                    frame = turku_aug_funcs.tr_y10(frame)\n",
    "                if tx == 1:\n",
    "                    frame = turku_aug_funcs.tr_y15(frame)\n",
    "                if tx == 2:\n",
    "                    frame = turku_aug_funcs.tr_y20(frame)\n",
    "                if tx == 3:\n",
    "                    frame = turku_aug_funcs.tr_ym10(frame)\n",
    "                if tx == 4:\n",
    "                    frame = turku_aug_funcs.tr_ym15(frame)\n",
    "                if tx == 5:\n",
    "                    frame = turku_aug_funcs.tr_ym20(frame)\n",
    "        frame = cv2.resize(frame, (386,386))\n",
    "        frame = np.reshape(frame, (386,386,1))\n",
    "        \n",
    "        if self.verbose == True:\n",
    "            print(np.shape(frame))\n",
    "            plt.imshow(frame)\n",
    "            plt.show()\n",
    "\n",
    "        frame = frame[None, ...]\n",
    "        y = np.array([int(slice.pe_present_on_image)])\n",
    "        y = y[None, ...]\n",
    "        \n",
    "        return frame, y\n",
    "\n",
    "CROPPED = 0\n",
    "MASKED = 1\n",
    "ORIGINAL = 2\n",
    "\n",
    "IMG_TYPE = MASKED\n",
    "IMAGE_PATH = '/home/shared/nps/imgs/'\n"
   ]
  },
  {
   "cell_type": "code",
   "execution_count": 7,
   "id": "99634fb4",
   "metadata": {},
   "outputs": [
    {
     "name": "stderr",
     "output_type": "stream",
     "text": [
      "/tmp/ipykernel_1492292/1642990385.py:1: DtypeWarning: Columns (17) have mixed types. Specify dtype option on import or set low_memory=False.\n",
      "  all_ids = pd.read_csv('all_ids_updated.csv')\n"
     ]
    }
   ],
   "source": [
    "all_ids = pd.read_csv('all_ids_updated.csv')\n",
    "all_ids = all_ids[all_ids.contains_lung == True].sample(frac=1).reset_index(drop=True)\n",
    "all_ids.ycoord = all_ids.ycoord.replace('True', '1.0').astype('float')\n",
    "\n",
    "all_ids_small = all_ids.drop(columns=['negative_exam_for_pe', 'qa_motion',\n",
    "       'qa_contrast', 'flow_artifact', 'rv_lv_ratio_gte_1', 'rv_lv_ratio_lt_1',\n",
    "       'leftsided_pe', 'chronic_pe', 'true_filling_defect_not_pe',\n",
    "       'rightsided_pe', 'acute_and_chronic_pe', 'central_pe', 'indeterminate',\n",
    "       'contains_lung'])"
   ]
  },
  {
   "cell_type": "code",
   "execution_count": 8,
   "id": "c8658bc1",
   "metadata": {},
   "outputs": [
    {
     "ename": "NameError",
     "evalue": "name 'model' is not defined",
     "output_type": "error",
     "traceback": [
      "\u001b[0;31m---------------------------------------------------------------------------\u001b[0m",
      "\u001b[0;31mNameError\u001b[0m                                 Traceback (most recent call last)",
      "Cell \u001b[0;32mIn [8], line 1\u001b[0m\n\u001b[0;32m----> 1\u001b[0m model_partial \u001b[38;5;241m=\u001b[39m keras\u001b[38;5;241m.\u001b[39mmodels\u001b[38;5;241m.\u001b[39mModel(inputs\u001b[38;5;241m=\u001b[39m\u001b[43mmodel\u001b[49m\u001b[38;5;241m.\u001b[39minput, outputs\u001b[38;5;241m=\u001b[39m[model\u001b[38;5;241m.\u001b[39mlayers[\u001b[38;5;241m-\u001b[39m\u001b[38;5;241m2\u001b[39m]\u001b[38;5;241m.\u001b[39moutput])\n\u001b[1;32m      2\u001b[0m model_partial\u001b[38;5;241m.\u001b[39msummary()\n",
      "\u001b[0;31mNameError\u001b[0m: name 'model' is not defined"
     ]
    }
   ],
   "source": [
    "model_partial = keras.models.Model(inputs=model.input, outputs=[model.layers[-2].output])\n",
    "model_partial.summary()"
   ]
  },
  {
   "cell_type": "code",
   "execution_count": 58,
   "id": "89e6a30d",
   "metadata": {},
   "outputs": [],
   "source": [
    "import datetime"
   ]
  },
  {
   "cell_type": "code",
   "execution_count": null,
   "id": "6b6059cb",
   "metadata": {},
   "outputs": [
    {
     "name": "stdout",
     "output_type": "stream",
     "text": [
      "0 time is:  2022-10-09 17:21:48.965489\n",
      "10 time is:  2022-10-09 17:23:43.074357\n",
      "20 time is:  2022-10-09 17:25:34.837636\n",
      "30 time is:  2022-10-09 17:27:08.002715\n",
      "40 time is:  2022-10-09 17:28:38.794697\n",
      "50 time is:  2022-10-09 17:30:01.889690\n",
      "60 time is:  2022-10-09 17:31:19.464497\n",
      "70 time is:  2022-10-09 17:32:52.569585\n",
      "80 time is:  2022-10-09 17:34:17.136675\n",
      "90 time is:  2022-10-09 17:35:25.225675\n",
      "100 time is:  2022-10-09 17:36:41.543218\n",
      "110 time is:  2022-10-09 17:38:13.101969\n",
      "120 time is:  2022-10-09 17:39:30.769572\n",
      "130 time is:  2022-10-09 17:41:02.771900\n",
      "140 time is:  2022-10-09 17:42:08.398016\n",
      "150 time is:  2022-10-09 17:43:39.983429\n",
      "160 time is:  2022-10-09 17:44:48.065302\n",
      "170 time is:  2022-10-09 17:46:16.261212\n",
      "180 time is:  2022-10-09 17:47:47.058817\n",
      "190 time is:  2022-10-09 17:49:06.159406\n",
      "200 time is:  2022-10-09 17:50:41.998120\n",
      "210 time is:  2022-10-09 17:51:49.363953\n",
      "220 time is:  2022-10-09 17:53:02.008974\n",
      "230 time is:  2022-10-09 17:54:31.213327\n",
      "240 time is:  2022-10-09 17:55:46.405863\n",
      "250 time is:  2022-10-09 17:56:56.264570\n",
      "260 time is:  2022-10-09 17:58:06.663738\n",
      "270 time is:  2022-10-09 17:59:29.750785\n",
      "280 time is:  2022-10-09 18:00:41.629178\n",
      "290 time is:  2022-10-09 18:01:51.313170\n",
      "300 time is:  2022-10-09 18:03:10.978524\n",
      "310 time is:  2022-10-09 18:04:20.018319\n"
     ]
    }
   ],
   "source": [
    "unique_ids = all_ids_small.StudyInstanceUID.unique()\n",
    "\n",
    "IMG_TYPE = MASKED\n",
    "IMAGE_PATH = '/home/shared/nps/imgs/'\n",
    "\n",
    "for i in range(0,len(unique_ids)):\n",
    "    exam_id = unique_ids[i]\n",
    "    exam = all_ids_small[all_ids_small.StudyInstanceUID == exam_id]\n",
    "    exam = exam.sort_values(by='ycoord')\n",
    "    exam_generator = DataSlabGenerator(np.arange(0, len(exam)),\n",
    "                                   exam, \n",
    "                                   IMAGE_PATH, \n",
    "                                   img_type = IMG_TYPE,\n",
    "                                   verbose=False, \n",
    "                                   shuffle=False,\n",
    "                                   n_channels=1, \n",
    "                                   batch_size=1,\n",
    "                                   dim=386)\n",
    "    \n",
    "    x_test = np.zeros([len(exam),386,386,1])\n",
    "    for j in range(0,len(exam)):\n",
    "        x_test[j],_ = exam_generator.__getitem__(j)\n",
    "   \n",
    "    preds = np.zeros([len(exam),1])\n",
    "    feats = np.zeros([len(exam),64])\n",
    "    for j in range(int(len(exam)/64)):\n",
    "        preds[j*64:(j+1)*64] = model(x_test[j*64:(j+1)*64])\n",
    "        feats[j*64:(j+1)*64] = np.array(model_partial(x_test[j*64:(j+1)*64]))\n",
    "    if len(exam)%64 != 0:\n",
    "        preds[(j+1)*64:] = model(x_test[(j+1)*64:])\n",
    "        feats[(j+1)*64:] = np.array(model_partial(x_test[(j+1)*64:]))\n",
    "        \n",
    "    exam['pred'] = preds\n",
    "    exam['features'] = feats.tolist()\n",
    "    \n",
    "    np.save('/home/shared/nps/turku_nps/' + exam_id, exam.to_dict(orient='records'))\n",
    "    if i %10 == 0:\n",
    "        print(i, 'time is: ', datetime.datetime.now())\n",
    "        gc.collect()"
   ]
  },
  {
   "cell_type": "code",
   "execution_count": 4,
   "id": "3a764410",
   "metadata": {},
   "outputs": [
    {
     "name": "stderr",
     "output_type": "stream",
     "text": [
      "/tmp/ipykernel_345789/585394138.py:1: DtypeWarning: Columns (17) have mixed types. Specify dtype option on import or set low_memory=False.\n",
      "  all_ids = pd.read_csv('all_ids_updated.csv')\n"
     ]
    },
    {
     "name": "stdout",
     "output_type": "stream",
     "text": [
      "6805\n"
     ]
    }
   ],
   "source": [
    "all_ids = pd.read_csv('all_ids_updated.csv')\n",
    "all_ids.ycoord = all_ids.ycoord.replace('True', '1.0').astype('float')\n",
    "train_ids = pd.read_csv('train_df_upd.csv').drop(columns='Unnamed: 0')\n",
    "test_ids = pd.read_csv('test_df_upd.csv').drop(columns='Unnamed: 0')\n",
    "val_ids = pd.read_csv('val_df_upd.csv').drop(columns='Unnamed: 0')\n",
    "\n",
    "import os \n",
    "lisdir = os.listdir('/home/shared/nps/turku_nps/')\n",
    "print(len(lisdir))"
   ]
  },
  {
   "cell_type": "code",
   "execution_count": 5,
   "id": "97a40217",
   "metadata": {},
   "outputs": [
    {
     "name": "stderr",
     "output_type": "stream",
     "text": [
      "/tmp/ipykernel_345789/1352226058.py:2: FutureWarning: The default value of regex will change from True to False in a future version.\n",
      "  files['StudyInstanceUID'] = files['file_name'].str.replace('.npy','')\n"
     ]
    }
   ],
   "source": [
    "files = pd.DataFrame({'file_name':lisdir})\n",
    "files['StudyInstanceUID'] = files['file_name'].str.replace('.npy','')"
   ]
  },
  {
   "cell_type": "code",
   "execution_count": 6,
   "id": "4dcd6aa0",
   "metadata": {},
   "outputs": [],
   "source": [
    "test_ids = test_ids[test_ids.StudyInstanceUID.isin(files.StudyInstanceUID)]\n",
    "train_ids = train_ids[train_ids.StudyInstanceUID.isin(files.StudyInstanceUID)]\n",
    "val_ids = val_ids[val_ids.StudyInstanceUID.isin(files.StudyInstanceUID)]"
   ]
  },
  {
   "cell_type": "code",
   "execution_count": 7,
   "id": "388d0701",
   "metadata": {},
   "outputs": [
    {
     "data": {
      "text/plain": [
       "(0.6726179289607217, 0.3273820710392783)"
      ]
     },
     "execution_count": 7,
     "metadata": {},
     "output_type": "execute_result"
    }
   ],
   "source": [
    "train_ids.negative_exam_for_pe.mean(), 1-train_ids.negative_exam_for_pe.mean()"
   ]
  },
  {
   "cell_type": "code",
   "execution_count": 8,
   "id": "62770429",
   "metadata": {},
   "outputs": [],
   "source": [
    "train_ids_pos = train_ids[train_ids.negative_exam_for_pe == False]\n",
    "train_ids_neg = train_ids[train_ids.negative_exam_for_pe == True]\n",
    "train_ids_b = pd.concat([train_ids_pos, train_ids_pos, train_ids_neg,\n",
    "                         train_ids_pos.sample(n = len(train_ids_neg)%len(train_ids_pos))])"
   ]
  },
  {
   "cell_type": "code",
   "execution_count": 9,
   "id": "5e2034e1",
   "metadata": {},
   "outputs": [],
   "source": [
    "val_ids_pos = val_ids[val_ids.negative_exam_for_pe == False]\n",
    "val_ids_neg = val_ids[val_ids.negative_exam_for_pe == True]\n",
    "val_ids_b = pd.concat([val_ids_pos, val_ids_neg.sample(n=len(val_ids_pos))])"
   ]
  },
  {
   "cell_type": "code",
   "execution_count": 10,
   "id": "5e4101c1",
   "metadata": {},
   "outputs": [],
   "source": [
    "num_features = 64\n",
    "MAX_SEQ_LENGTH = 96\n",
    "\n",
    "\n",
    "class DataGenerator(Sequence):\n",
    "    \"\"\"Generates data for Keras\n",
    "    Sequence based data generator. Suitable for building data generator for training and prediction.\n",
    "    \"\"\"\n",
    "    def __init__(self, list_IDs, study_ids, num_features,\n",
    "                 seq_length, return_type = 'both', to_fit=True, batch_size=32, \n",
    "                 shuffle=True, resample=False, full_set = None, random=False):\n",
    "\n",
    "        self.list_IDs = list_IDs\n",
    "        self.study_ids = study_ids\n",
    "        self.to_fit = to_fit\n",
    "        self.batch_size = batch_size\n",
    "        self.shuffle = shuffle\n",
    "        self.num_features = num_features\n",
    "        self.seq_length = seq_length\n",
    "        self.resample = resample\n",
    "        self.full_set = full_set\n",
    "        self.return_type = return_type\n",
    "        self.random = random\n",
    "        warnings.filterwarnings(action='ignore')\n",
    "        self.on_epoch_end()\n",
    "\n",
    "        \n",
    "    def __len__(self):\n",
    "        \"\"\"Denotes the number of batches per epoch\n",
    "        :return: number of batches per epoch\n",
    "        \"\"\"\n",
    "        return int(np.floor(len(self.list_IDs) / self.batch_size))\n",
    "\n",
    "\n",
    "    def __getitem__(self, index):\n",
    "        \"\"\"Generate one batch of data\n",
    "        :param index: index of the batch\n",
    "        :return: X and y when fitting. X only when predicting\n",
    "        \"\"\"\n",
    "#         print('starting')\n",
    "        indexes = self.list_IDs[index * self.batch_size:((index+1) * self.batch_size)]\n",
    "        X = np.zeros([self.batch_size, self.seq_length, self.num_features])\n",
    "        y_seq = np.zeros([self.batch_size, self.seq_length, 1])\n",
    "        y_tot = np.zeros([self.batch_size, 1])\n",
    "        for i in range(0,self.batch_size):\n",
    "            x, y = self._get_scan_data(self.study_ids.iloc[indexes[i]].StudyInstanceUID)\n",
    "            X[i] = x\n",
    "            y_seq[i] = y[0]\n",
    "            y_tot[i] = y[1]\n",
    "            \n",
    "        if self.to_fit:\n",
    "            if self.return_type =='both':\n",
    "                return (X, [y_seq, y_tot])\n",
    "            elif self.return_type == 'seq':\n",
    "                return (X, y_seq)\n",
    "            elif self.return_type == 'tot':\n",
    "                return (X, y_tot)\n",
    "            else:\n",
    "                print('valid return types are both, seq and tot')\n",
    "                return False\n",
    "        else:\n",
    "            return (X)\n",
    "        \n",
    "    def on_epoch_end(self):\n",
    "        \"\"\"Updates indexes after each epoch\n",
    "        \"\"\"\n",
    "        if self.shuffle == True:\n",
    "            np.random.shuffle(self.list_IDs)\n",
    "            \n",
    "    def _get_scan_data(self, study_id):\n",
    "        scan = pd.DataFrame(np.load('/home/shared/nps/turku_nps/' +study_id + '.npy', allow_pickle=True).tolist())\n",
    "        scan.ycoord = scan.ycoord.replace('True', '1.0').astype('float')\n",
    "        scan = scan.sort_values(by=['ycoord'])\n",
    "        \n",
    "        features = scan.features.tolist()\n",
    "        seq = scan.pe_present_on_image.tolist()\n",
    "        seq = np.reshape(seq, [len(seq),1])\n",
    "        tot = self.study_ids[self.study_ids.StudyInstanceUID == study_id].negative_exam_for_pe.iloc[0]\n",
    "                    \n",
    "        if len(features)>=self.seq_length:\n",
    "            xs = (np.array(features)[:96]).tolist()\n",
    "            ys = seq[:96]\n",
    "        else:\n",
    "            xs = np.zeros([self.seq_length, self.num_features])\n",
    "            ys = np.zeros([self.seq_length, 1])\n",
    "            \n",
    "            xs[:len(features)] = features\n",
    "            ys[:len(features)] = seq\n",
    "        \n",
    "        ys = ys.tolist()\n",
    "        \n",
    "        return (xs, [ys, tot])\n",
    "\n",
    "\n",
    "\n",
    "\n",
    "\n",
    "training_generator = DataGenerator(np.arange(0,len(train_ids_b)), \n",
    "                                   train_ids_b,\n",
    "                                   num_features, \n",
    "                                   96, \n",
    "                                   batch_size = 16)\n",
    "validation_generator = DataGenerator(np.arange(0,len(val_ids_b)), \n",
    "                                     val_ids_b,\n",
    "                                     num_features, \n",
    "                                     96, \n",
    "                                     batch_size = 16)\n",
    "test_generator = DataGenerator(np.arange(0,len(test_ids)), \n",
    "                               test_ids, \n",
    "                               num_features, \n",
    "                               96, \n",
    "                               batch_size = 16)\n"
   ]
  },
  {
   "cell_type": "code",
   "execution_count": 13,
   "id": "2bf33b7d",
   "metadata": {},
   "outputs": [],
   "source": [
    "def get_turku_lstm(seq_len, dim):\n",
    "        inputs = keras.Input(shape=(seq_len, dim))\n",
    "        x = layers.BatchNormalization()(inputs)\n",
    "        x = layers.Bidirectional(layers.LSTM(units=64, return_sequences=True))(x)\n",
    "        x = layers.TimeDistributed(layers.Dense(512, activation='relu'))(x)\n",
    "        x = layers.TimeDistributed(layers.Dense(128, activation='relu'))(x)\n",
    "        slice_outputs = layers.TimeDistributed(layers.Dense(1, activation='sigmoid'), name='seq_out')(x)\n",
    "        \n",
    "        reshaped_features = layers.Reshape((seq_len,))(slice_outputs)\n",
    "        reshaped_features = layers.Dropout(0.5)(reshaped_features)\n",
    "        stack_outputs = layers.Dense(1, activation='sigmoid', name='tot_out')(reshaped_features)\n",
    "        \n",
    "        model = keras.models.Model(inputs=inputs, outputs=[slice_outputs, stack_outputs])\n",
    "        \n",
    "        return model"
   ]
  },
  {
   "cell_type": "code",
   "execution_count": 14,
   "id": "af3a9dd6",
   "metadata": {},
   "outputs": [],
   "source": [
    "from keras import layers"
   ]
  },
  {
   "cell_type": "code",
   "execution_count": null,
   "id": "4387efeb",
   "metadata": {},
   "outputs": [
    {
     "name": "stderr",
     "output_type": "stream",
     "text": [
      "2022-10-11 14:16:22.924354: I tensorflow/core/platform/cpu_feature_guard.cc:151] This TensorFlow binary is optimized with oneAPI Deep Neural Network Library (oneDNN) to use the following CPU instructions in performance-critical operations:  SSE4.1 SSE4.2 AVX AVX2 FMA\n",
      "To enable them in other operations, rebuild TensorFlow with the appropriate compiler flags.\n",
      "2022-10-11 14:16:23.516902: I tensorflow/core/common_runtime/gpu/gpu_device.cc:1525] Created device /job:localhost/replica:0/task:0/device:GPU:0 with 10795 MB memory:  -> device: 0, name: NVIDIA TITAN Xp, pci bus id: 0000:05:00.0, compute capability: 6.1\n"
     ]
    },
    {
     "name": "stdout",
     "output_type": "stream",
     "text": [
      "Epoch 1/24\n"
     ]
    },
    {
     "name": "stderr",
     "output_type": "stream",
     "text": [
      "2022-10-11 14:16:28.826027: I tensorflow/stream_executor/cuda/cuda_dnn.cc:368] Loaded cuDNN version 8401\n"
     ]
    },
    {
     "name": "stdout",
     "output_type": "stream",
     "text": [
      "447/447 [==============================] - ETA: 0s - loss: 0.7059 - seq_out_loss: 0.1747 - tot_out_loss: 0.5312 - seq_out_accuracy: 0.9362 - tot_out_accuracy: 0.7596\n",
      "Epoch 1: saving model to /home/shared/model_checkpoint_paige/turku/lstm_sm\n"
     ]
    },
    {
     "name": "stderr",
     "output_type": "stream",
     "text": [
      "2022-10-11 14:17:27.189376: W tensorflow/python/util/util.cc:368] Sets are not currently considered sequences, but this may change in the future, so consider avoiding using them.\n",
      "WARNING:absl:Found untraced functions such as lstm_cell_1_layer_call_fn, lstm_cell_1_layer_call_and_return_conditional_losses, lstm_cell_2_layer_call_fn, lstm_cell_2_layer_call_and_return_conditional_losses while saving (showing 4 of 4). These functions will not be directly callable after loading.\n"
     ]
    },
    {
     "name": "stdout",
     "output_type": "stream",
     "text": [
      "INFO:tensorflow:Assets written to: /home/shared/model_checkpoint_paige/turku/lstm_sm/assets\n"
     ]
    },
    {
     "name": "stderr",
     "output_type": "stream",
     "text": [
      "INFO:tensorflow:Assets written to: /home/shared/model_checkpoint_paige/turku/lstm_sm/assets\n",
      "WARNING:absl:<keras.layers.recurrent.LSTMCell object at 0x7fabcdcc78e0> has the same name 'LSTMCell' as a built-in Keras object. Consider renaming <class 'keras.layers.recurrent.LSTMCell'> to avoid naming conflicts when loading with `tf.keras.models.load_model`. If renaming is not possible, pass the object in the `custom_objects` parameter of the load function.\n",
      "WARNING:absl:<keras.layers.recurrent.LSTMCell object at 0x7fabcdc9b0d0> has the same name 'LSTMCell' as a built-in Keras object. Consider renaming <class 'keras.layers.recurrent.LSTMCell'> to avoid naming conflicts when loading with `tf.keras.models.load_model`. If renaming is not possible, pass the object in the `custom_objects` parameter of the load function.\n"
     ]
    },
    {
     "name": "stdout",
     "output_type": "stream",
     "text": [
      "447/447 [==============================] - 69s 144ms/step - loss: 0.7059 - seq_out_loss: 0.1747 - tot_out_loss: 0.5312 - seq_out_accuracy: 0.9362 - tot_out_accuracy: 0.7596 - val_loss: 0.6668 - val_seq_out_loss: 0.1942 - val_tot_out_loss: 0.4726 - val_seq_out_accuracy: 0.9288 - val_tot_out_accuracy: 0.8333\n",
      "Epoch 2/24\n",
      "447/447 [==============================] - ETA: 0s - loss: 0.6313 - seq_out_loss: 0.1654 - tot_out_loss: 0.4659 - seq_out_accuracy: 0.9404 - tot_out_accuracy: 0.8104\n",
      "Epoch 2: saving model to /home/shared/model_checkpoint_paige/turku/lstm_sm\n"
     ]
    },
    {
     "name": "stderr",
     "output_type": "stream",
     "text": [
      "WARNING:absl:Found untraced functions such as lstm_cell_1_layer_call_fn, lstm_cell_1_layer_call_and_return_conditional_losses, lstm_cell_2_layer_call_fn, lstm_cell_2_layer_call_and_return_conditional_losses while saving (showing 4 of 4). These functions will not be directly callable after loading.\n"
     ]
    },
    {
     "name": "stdout",
     "output_type": "stream",
     "text": [
      "INFO:tensorflow:Assets written to: /home/shared/model_checkpoint_paige/turku/lstm_sm/assets\n"
     ]
    },
    {
     "name": "stderr",
     "output_type": "stream",
     "text": [
      "INFO:tensorflow:Assets written to: /home/shared/model_checkpoint_paige/turku/lstm_sm/assets\n",
      "WARNING:absl:<keras.layers.recurrent.LSTMCell object at 0x7fabcdcc78e0> has the same name 'LSTMCell' as a built-in Keras object. Consider renaming <class 'keras.layers.recurrent.LSTMCell'> to avoid naming conflicts when loading with `tf.keras.models.load_model`. If renaming is not possible, pass the object in the `custom_objects` parameter of the load function.\n",
      "WARNING:absl:<keras.layers.recurrent.LSTMCell object at 0x7fabcdc9b0d0> has the same name 'LSTMCell' as a built-in Keras object. Consider renaming <class 'keras.layers.recurrent.LSTMCell'> to avoid naming conflicts when loading with `tf.keras.models.load_model`. If renaming is not possible, pass the object in the `custom_objects` parameter of the load function.\n"
     ]
    },
    {
     "name": "stdout",
     "output_type": "stream",
     "text": [
      "447/447 [==============================] - 63s 141ms/step - loss: 0.6313 - seq_out_loss: 0.1654 - tot_out_loss: 0.4659 - seq_out_accuracy: 0.9404 - tot_out_accuracy: 0.8104 - val_loss: 0.6400 - val_seq_out_loss: 0.1912 - val_tot_out_loss: 0.4488 - val_seq_out_accuracy: 0.9341 - val_tot_out_accuracy: 0.8356\n",
      "Epoch 3/24\n",
      "447/447 [==============================] - ETA: 0s - loss: 0.5992 - seq_out_loss: 0.1619 - tot_out_loss: 0.4373 - seq_out_accuracy: 0.9405 - tot_out_accuracy: 0.8161\n",
      "Epoch 3: saving model to /home/shared/model_checkpoint_paige/turku/lstm_sm\n"
     ]
    },
    {
     "name": "stderr",
     "output_type": "stream",
     "text": [
      "WARNING:absl:Found untraced functions such as lstm_cell_1_layer_call_fn, lstm_cell_1_layer_call_and_return_conditional_losses, lstm_cell_2_layer_call_fn, lstm_cell_2_layer_call_and_return_conditional_losses while saving (showing 4 of 4). These functions will not be directly callable after loading.\n"
     ]
    },
    {
     "name": "stdout",
     "output_type": "stream",
     "text": [
      "INFO:tensorflow:Assets written to: /home/shared/model_checkpoint_paige/turku/lstm_sm/assets\n"
     ]
    },
    {
     "name": "stderr",
     "output_type": "stream",
     "text": [
      "INFO:tensorflow:Assets written to: /home/shared/model_checkpoint_paige/turku/lstm_sm/assets\n",
      "WARNING:absl:<keras.layers.recurrent.LSTMCell object at 0x7fabcdcc78e0> has the same name 'LSTMCell' as a built-in Keras object. Consider renaming <class 'keras.layers.recurrent.LSTMCell'> to avoid naming conflicts when loading with `tf.keras.models.load_model`. If renaming is not possible, pass the object in the `custom_objects` parameter of the load function.\n",
      "WARNING:absl:<keras.layers.recurrent.LSTMCell object at 0x7fabcdc9b0d0> has the same name 'LSTMCell' as a built-in Keras object. Consider renaming <class 'keras.layers.recurrent.LSTMCell'> to avoid naming conflicts when loading with `tf.keras.models.load_model`. If renaming is not possible, pass the object in the `custom_objects` parameter of the load function.\n"
     ]
    },
    {
     "name": "stdout",
     "output_type": "stream",
     "text": [
      "447/447 [==============================] - 63s 142ms/step - loss: 0.5992 - seq_out_loss: 0.1619 - tot_out_loss: 0.4373 - seq_out_accuracy: 0.9405 - tot_out_accuracy: 0.8161 - val_loss: 0.6180 - val_seq_out_loss: 0.1943 - val_tot_out_loss: 0.4238 - val_seq_out_accuracy: 0.9288 - val_tot_out_accuracy: 0.8333\n",
      "Epoch 4/24\n",
      "447/447 [==============================] - ETA: 0s - loss: 0.5836 - seq_out_loss: 0.1609 - tot_out_loss: 0.4227 - seq_out_accuracy: 0.9406 - tot_out_accuracy: 0.8191\n",
      "Epoch 4: saving model to /home/shared/model_checkpoint_paige/turku/lstm_sm\n"
     ]
    },
    {
     "name": "stderr",
     "output_type": "stream",
     "text": [
      "WARNING:absl:Found untraced functions such as lstm_cell_1_layer_call_fn, lstm_cell_1_layer_call_and_return_conditional_losses, lstm_cell_2_layer_call_fn, lstm_cell_2_layer_call_and_return_conditional_losses while saving (showing 4 of 4). These functions will not be directly callable after loading.\n"
     ]
    },
    {
     "name": "stdout",
     "output_type": "stream",
     "text": [
      "INFO:tensorflow:Assets written to: /home/shared/model_checkpoint_paige/turku/lstm_sm/assets\n"
     ]
    },
    {
     "name": "stderr",
     "output_type": "stream",
     "text": [
      "INFO:tensorflow:Assets written to: /home/shared/model_checkpoint_paige/turku/lstm_sm/assets\n",
      "WARNING:absl:<keras.layers.recurrent.LSTMCell object at 0x7fabcdcc78e0> has the same name 'LSTMCell' as a built-in Keras object. Consider renaming <class 'keras.layers.recurrent.LSTMCell'> to avoid naming conflicts when loading with `tf.keras.models.load_model`. If renaming is not possible, pass the object in the `custom_objects` parameter of the load function.\n",
      "WARNING:absl:<keras.layers.recurrent.LSTMCell object at 0x7fabcdc9b0d0> has the same name 'LSTMCell' as a built-in Keras object. Consider renaming <class 'keras.layers.recurrent.LSTMCell'> to avoid naming conflicts when loading with `tf.keras.models.load_model`. If renaming is not possible, pass the object in the `custom_objects` parameter of the load function.\n"
     ]
    },
    {
     "name": "stdout",
     "output_type": "stream",
     "text": [
      "447/447 [==============================] - 63s 141ms/step - loss: 0.5836 - seq_out_loss: 0.1609 - tot_out_loss: 0.4227 - seq_out_accuracy: 0.9406 - tot_out_accuracy: 0.8191 - val_loss: 0.6040 - val_seq_out_loss: 0.1937 - val_tot_out_loss: 0.4103 - val_seq_out_accuracy: 0.9296 - val_tot_out_accuracy: 0.8333\n",
      "Epoch 5/24\n",
      "447/447 [==============================] - ETA: 0s - loss: 0.5705 - seq_out_loss: 0.1586 - tot_out_loss: 0.4119 - seq_out_accuracy: 0.9419 - tot_out_accuracy: 0.8216\n",
      "Epoch 5: saving model to /home/shared/model_checkpoint_paige/turku/lstm_sm\n"
     ]
    },
    {
     "name": "stderr",
     "output_type": "stream",
     "text": [
      "WARNING:absl:Found untraced functions such as lstm_cell_1_layer_call_fn, lstm_cell_1_layer_call_and_return_conditional_losses, lstm_cell_2_layer_call_fn, lstm_cell_2_layer_call_and_return_conditional_losses while saving (showing 4 of 4). These functions will not be directly callable after loading.\n"
     ]
    },
    {
     "name": "stdout",
     "output_type": "stream",
     "text": [
      "INFO:tensorflow:Assets written to: /home/shared/model_checkpoint_paige/turku/lstm_sm/assets\n"
     ]
    },
    {
     "name": "stderr",
     "output_type": "stream",
     "text": [
      "INFO:tensorflow:Assets written to: /home/shared/model_checkpoint_paige/turku/lstm_sm/assets\n",
      "WARNING:absl:<keras.layers.recurrent.LSTMCell object at 0x7fabcdcc78e0> has the same name 'LSTMCell' as a built-in Keras object. Consider renaming <class 'keras.layers.recurrent.LSTMCell'> to avoid naming conflicts when loading with `tf.keras.models.load_model`. If renaming is not possible, pass the object in the `custom_objects` parameter of the load function.\n",
      "WARNING:absl:<keras.layers.recurrent.LSTMCell object at 0x7fabcdc9b0d0> has the same name 'LSTMCell' as a built-in Keras object. Consider renaming <class 'keras.layers.recurrent.LSTMCell'> to avoid naming conflicts when loading with `tf.keras.models.load_model`. If renaming is not possible, pass the object in the `custom_objects` parameter of the load function.\n"
     ]
    },
    {
     "name": "stdout",
     "output_type": "stream",
     "text": [
      "447/447 [==============================] - 63s 141ms/step - loss: 0.5705 - seq_out_loss: 0.1586 - tot_out_loss: 0.4119 - seq_out_accuracy: 0.9419 - tot_out_accuracy: 0.8216 - val_loss: 0.5920 - val_seq_out_loss: 0.1872 - val_tot_out_loss: 0.4049 - val_seq_out_accuracy: 0.9298 - val_tot_out_accuracy: 0.8356\n",
      "Epoch 6/24\n",
      "447/447 [==============================] - ETA: 0s - loss: 0.5629 - seq_out_loss: 0.1574 - tot_out_loss: 0.4056 - seq_out_accuracy: 0.9424 - tot_out_accuracy: 0.8245\n",
      "Epoch 6: saving model to /home/shared/model_checkpoint_paige/turku/lstm_sm\n"
     ]
    },
    {
     "name": "stderr",
     "output_type": "stream",
     "text": [
      "WARNING:absl:Found untraced functions such as lstm_cell_1_layer_call_fn, lstm_cell_1_layer_call_and_return_conditional_losses, lstm_cell_2_layer_call_fn, lstm_cell_2_layer_call_and_return_conditional_losses while saving (showing 4 of 4). These functions will not be directly callable after loading.\n"
     ]
    },
    {
     "name": "stdout",
     "output_type": "stream",
     "text": [
      "INFO:tensorflow:Assets written to: /home/shared/model_checkpoint_paige/turku/lstm_sm/assets\n"
     ]
    },
    {
     "name": "stderr",
     "output_type": "stream",
     "text": [
      "INFO:tensorflow:Assets written to: /home/shared/model_checkpoint_paige/turku/lstm_sm/assets\n",
      "WARNING:absl:<keras.layers.recurrent.LSTMCell object at 0x7fabcdcc78e0> has the same name 'LSTMCell' as a built-in Keras object. Consider renaming <class 'keras.layers.recurrent.LSTMCell'> to avoid naming conflicts when loading with `tf.keras.models.load_model`. If renaming is not possible, pass the object in the `custom_objects` parameter of the load function.\n",
      "WARNING:absl:<keras.layers.recurrent.LSTMCell object at 0x7fabcdc9b0d0> has the same name 'LSTMCell' as a built-in Keras object. Consider renaming <class 'keras.layers.recurrent.LSTMCell'> to avoid naming conflicts when loading with `tf.keras.models.load_model`. If renaming is not possible, pass the object in the `custom_objects` parameter of the load function.\n"
     ]
    },
    {
     "name": "stdout",
     "output_type": "stream",
     "text": [
      "447/447 [==============================] - 64s 143ms/step - loss: 0.5629 - seq_out_loss: 0.1574 - tot_out_loss: 0.4056 - seq_out_accuracy: 0.9424 - tot_out_accuracy: 0.8245 - val_loss: 0.5890 - val_seq_out_loss: 0.1838 - val_tot_out_loss: 0.4052 - val_seq_out_accuracy: 0.9321 - val_tot_out_accuracy: 0.8426\n",
      "Epoch 7/24\n",
      "447/447 [==============================] - ETA: 0s - loss: 0.5564 - seq_out_loss: 0.1566 - tot_out_loss: 0.3998 - seq_out_accuracy: 0.9420 - tot_out_accuracy: 0.8228\n",
      "Epoch 7: saving model to /home/shared/model_checkpoint_paige/turku/lstm_sm\n"
     ]
    },
    {
     "name": "stderr",
     "output_type": "stream",
     "text": [
      "WARNING:absl:Found untraced functions such as lstm_cell_1_layer_call_fn, lstm_cell_1_layer_call_and_return_conditional_losses, lstm_cell_2_layer_call_fn, lstm_cell_2_layer_call_and_return_conditional_losses while saving (showing 4 of 4). These functions will not be directly callable after loading.\n"
     ]
    },
    {
     "name": "stdout",
     "output_type": "stream",
     "text": [
      "INFO:tensorflow:Assets written to: /home/shared/model_checkpoint_paige/turku/lstm_sm/assets\n"
     ]
    },
    {
     "name": "stderr",
     "output_type": "stream",
     "text": [
      "INFO:tensorflow:Assets written to: /home/shared/model_checkpoint_paige/turku/lstm_sm/assets\n",
      "WARNING:absl:<keras.layers.recurrent.LSTMCell object at 0x7fabcdcc78e0> has the same name 'LSTMCell' as a built-in Keras object. Consider renaming <class 'keras.layers.recurrent.LSTMCell'> to avoid naming conflicts when loading with `tf.keras.models.load_model`. If renaming is not possible, pass the object in the `custom_objects` parameter of the load function.\n",
      "WARNING:absl:<keras.layers.recurrent.LSTMCell object at 0x7fabcdc9b0d0> has the same name 'LSTMCell' as a built-in Keras object. Consider renaming <class 'keras.layers.recurrent.LSTMCell'> to avoid naming conflicts when loading with `tf.keras.models.load_model`. If renaming is not possible, pass the object in the `custom_objects` parameter of the load function.\n"
     ]
    },
    {
     "name": "stdout",
     "output_type": "stream",
     "text": [
      "447/447 [==============================] - 63s 142ms/step - loss: 0.5564 - seq_out_loss: 0.1566 - tot_out_loss: 0.3998 - seq_out_accuracy: 0.9420 - tot_out_accuracy: 0.8228 - val_loss: 0.5874 - val_seq_out_loss: 0.1839 - val_tot_out_loss: 0.4034 - val_seq_out_accuracy: 0.9312 - val_tot_out_accuracy: 0.8380\n",
      "Epoch 8/24\n",
      "447/447 [==============================] - ETA: 0s - loss: 0.5511 - seq_out_loss: 0.1559 - tot_out_loss: 0.3952 - seq_out_accuracy: 0.9419 - tot_out_accuracy: 0.8259\n",
      "Epoch 8: saving model to /home/shared/model_checkpoint_paige/turku/lstm_sm\n"
     ]
    },
    {
     "name": "stderr",
     "output_type": "stream",
     "text": [
      "WARNING:absl:Found untraced functions such as lstm_cell_1_layer_call_fn, lstm_cell_1_layer_call_and_return_conditional_losses, lstm_cell_2_layer_call_fn, lstm_cell_2_layer_call_and_return_conditional_losses while saving (showing 4 of 4). These functions will not be directly callable after loading.\n"
     ]
    },
    {
     "name": "stdout",
     "output_type": "stream",
     "text": [
      "INFO:tensorflow:Assets written to: /home/shared/model_checkpoint_paige/turku/lstm_sm/assets\n"
     ]
    },
    {
     "name": "stderr",
     "output_type": "stream",
     "text": [
      "INFO:tensorflow:Assets written to: /home/shared/model_checkpoint_paige/turku/lstm_sm/assets\n",
      "WARNING:absl:<keras.layers.recurrent.LSTMCell object at 0x7fabcdcc78e0> has the same name 'LSTMCell' as a built-in Keras object. Consider renaming <class 'keras.layers.recurrent.LSTMCell'> to avoid naming conflicts when loading with `tf.keras.models.load_model`. If renaming is not possible, pass the object in the `custom_objects` parameter of the load function.\n",
      "WARNING:absl:<keras.layers.recurrent.LSTMCell object at 0x7fabcdc9b0d0> has the same name 'LSTMCell' as a built-in Keras object. Consider renaming <class 'keras.layers.recurrent.LSTMCell'> to avoid naming conflicts when loading with `tf.keras.models.load_model`. If renaming is not possible, pass the object in the `custom_objects` parameter of the load function.\n"
     ]
    },
    {
     "name": "stdout",
     "output_type": "stream",
     "text": [
      "447/447 [==============================] - 64s 142ms/step - loss: 0.5511 - seq_out_loss: 0.1559 - tot_out_loss: 0.3952 - seq_out_accuracy: 0.9419 - tot_out_accuracy: 0.8259 - val_loss: 0.5939 - val_seq_out_loss: 0.1987 - val_tot_out_loss: 0.3952 - val_seq_out_accuracy: 0.9282 - val_tot_out_accuracy: 0.8310\n",
      "Epoch 9/24\n",
      "447/447 [==============================] - ETA: 0s - loss: 0.5477 - seq_out_loss: 0.1561 - tot_out_loss: 0.3915 - seq_out_accuracy: 0.9415 - tot_out_accuracy: 0.8273\n",
      "Epoch 9: saving model to /home/shared/model_checkpoint_paige/turku/lstm_sm\n"
     ]
    },
    {
     "name": "stderr",
     "output_type": "stream",
     "text": [
      "WARNING:absl:Found untraced functions such as lstm_cell_1_layer_call_fn, lstm_cell_1_layer_call_and_return_conditional_losses, lstm_cell_2_layer_call_fn, lstm_cell_2_layer_call_and_return_conditional_losses while saving (showing 4 of 4). These functions will not be directly callable after loading.\n"
     ]
    },
    {
     "name": "stdout",
     "output_type": "stream",
     "text": [
      "INFO:tensorflow:Assets written to: /home/shared/model_checkpoint_paige/turku/lstm_sm/assets\n"
     ]
    },
    {
     "name": "stderr",
     "output_type": "stream",
     "text": [
      "INFO:tensorflow:Assets written to: /home/shared/model_checkpoint_paige/turku/lstm_sm/assets\n",
      "WARNING:absl:<keras.layers.recurrent.LSTMCell object at 0x7fabcdcc78e0> has the same name 'LSTMCell' as a built-in Keras object. Consider renaming <class 'keras.layers.recurrent.LSTMCell'> to avoid naming conflicts when loading with `tf.keras.models.load_model`. If renaming is not possible, pass the object in the `custom_objects` parameter of the load function.\n",
      "WARNING:absl:<keras.layers.recurrent.LSTMCell object at 0x7fabcdc9b0d0> has the same name 'LSTMCell' as a built-in Keras object. Consider renaming <class 'keras.layers.recurrent.LSTMCell'> to avoid naming conflicts when loading with `tf.keras.models.load_model`. If renaming is not possible, pass the object in the `custom_objects` parameter of the load function.\n"
     ]
    },
    {
     "name": "stdout",
     "output_type": "stream",
     "text": [
      "447/447 [==============================] - 64s 142ms/step - loss: 0.5477 - seq_out_loss: 0.1561 - tot_out_loss: 0.3915 - seq_out_accuracy: 0.9415 - tot_out_accuracy: 0.8273 - val_loss: 0.5841 - val_seq_out_loss: 0.1902 - val_tot_out_loss: 0.3939 - val_seq_out_accuracy: 0.9317 - val_tot_out_accuracy: 0.8333\n",
      "Epoch 10/24\n",
      "447/447 [==============================] - ETA: 0s - loss: 0.5458 - seq_out_loss: 0.1544 - tot_out_loss: 0.3914 - seq_out_accuracy: 0.9419 - tot_out_accuracy: 0.8286\n",
      "Epoch 10: saving model to /home/shared/model_checkpoint_paige/turku/lstm_sm\n"
     ]
    },
    {
     "name": "stderr",
     "output_type": "stream",
     "text": [
      "WARNING:absl:Found untraced functions such as lstm_cell_1_layer_call_fn, lstm_cell_1_layer_call_and_return_conditional_losses, lstm_cell_2_layer_call_fn, lstm_cell_2_layer_call_and_return_conditional_losses while saving (showing 4 of 4). These functions will not be directly callable after loading.\n"
     ]
    },
    {
     "name": "stdout",
     "output_type": "stream",
     "text": [
      "INFO:tensorflow:Assets written to: /home/shared/model_checkpoint_paige/turku/lstm_sm/assets\n"
     ]
    },
    {
     "name": "stderr",
     "output_type": "stream",
     "text": [
      "INFO:tensorflow:Assets written to: /home/shared/model_checkpoint_paige/turku/lstm_sm/assets\n",
      "WARNING:absl:<keras.layers.recurrent.LSTMCell object at 0x7fabcdcc78e0> has the same name 'LSTMCell' as a built-in Keras object. Consider renaming <class 'keras.layers.recurrent.LSTMCell'> to avoid naming conflicts when loading with `tf.keras.models.load_model`. If renaming is not possible, pass the object in the `custom_objects` parameter of the load function.\n",
      "WARNING:absl:<keras.layers.recurrent.LSTMCell object at 0x7fabcdc9b0d0> has the same name 'LSTMCell' as a built-in Keras object. Consider renaming <class 'keras.layers.recurrent.LSTMCell'> to avoid naming conflicts when loading with `tf.keras.models.load_model`. If renaming is not possible, pass the object in the `custom_objects` parameter of the load function.\n"
     ]
    },
    {
     "name": "stdout",
     "output_type": "stream",
     "text": [
      "447/447 [==============================] - 64s 142ms/step - loss: 0.5458 - seq_out_loss: 0.1544 - tot_out_loss: 0.3914 - seq_out_accuracy: 0.9419 - tot_out_accuracy: 0.8286 - val_loss: 0.5833 - val_seq_out_loss: 0.1928 - val_tot_out_loss: 0.3905 - val_seq_out_accuracy: 0.9311 - val_tot_out_accuracy: 0.8380\n",
      "Epoch 11/24\n",
      "447/447 [==============================] - ETA: 0s - loss: 0.5411 - seq_out_loss: 0.1544 - tot_out_loss: 0.3867 - seq_out_accuracy: 0.9425 - tot_out_accuracy: 0.8300\n",
      "Epoch 11: saving model to /home/shared/model_checkpoint_paige/turku/lstm_sm\n"
     ]
    },
    {
     "name": "stderr",
     "output_type": "stream",
     "text": [
      "WARNING:absl:Found untraced functions such as lstm_cell_1_layer_call_fn, lstm_cell_1_layer_call_and_return_conditional_losses, lstm_cell_2_layer_call_fn, lstm_cell_2_layer_call_and_return_conditional_losses while saving (showing 4 of 4). These functions will not be directly callable after loading.\n"
     ]
    },
    {
     "name": "stdout",
     "output_type": "stream",
     "text": [
      "INFO:tensorflow:Assets written to: /home/shared/model_checkpoint_paige/turku/lstm_sm/assets\n"
     ]
    },
    {
     "name": "stderr",
     "output_type": "stream",
     "text": [
      "INFO:tensorflow:Assets written to: /home/shared/model_checkpoint_paige/turku/lstm_sm/assets\n",
      "WARNING:absl:<keras.layers.recurrent.LSTMCell object at 0x7fabcdcc78e0> has the same name 'LSTMCell' as a built-in Keras object. Consider renaming <class 'keras.layers.recurrent.LSTMCell'> to avoid naming conflicts when loading with `tf.keras.models.load_model`. If renaming is not possible, pass the object in the `custom_objects` parameter of the load function.\n",
      "WARNING:absl:<keras.layers.recurrent.LSTMCell object at 0x7fabcdc9b0d0> has the same name 'LSTMCell' as a built-in Keras object. Consider renaming <class 'keras.layers.recurrent.LSTMCell'> to avoid naming conflicts when loading with `tf.keras.models.load_model`. If renaming is not possible, pass the object in the `custom_objects` parameter of the load function.\n"
     ]
    },
    {
     "name": "stdout",
     "output_type": "stream",
     "text": [
      "447/447 [==============================] - 64s 142ms/step - loss: 0.5411 - seq_out_loss: 0.1544 - tot_out_loss: 0.3867 - seq_out_accuracy: 0.9425 - tot_out_accuracy: 0.8300 - val_loss: 0.5692 - val_seq_out_loss: 0.1871 - val_tot_out_loss: 0.3820 - val_seq_out_accuracy: 0.9301 - val_tot_out_accuracy: 0.8449\n",
      "Epoch 12/24\n",
      "447/447 [==============================] - ETA: 0s - loss: 0.5398 - seq_out_loss: 0.1559 - tot_out_loss: 0.3839 - seq_out_accuracy: 0.9412 - tot_out_accuracy: 0.8324\n",
      "Epoch 12: saving model to /home/shared/model_checkpoint_paige/turku/lstm_sm\n"
     ]
    },
    {
     "name": "stderr",
     "output_type": "stream",
     "text": [
      "WARNING:absl:Found untraced functions such as lstm_cell_1_layer_call_fn, lstm_cell_1_layer_call_and_return_conditional_losses, lstm_cell_2_layer_call_fn, lstm_cell_2_layer_call_and_return_conditional_losses while saving (showing 4 of 4). These functions will not be directly callable after loading.\n"
     ]
    },
    {
     "name": "stdout",
     "output_type": "stream",
     "text": [
      "INFO:tensorflow:Assets written to: /home/shared/model_checkpoint_paige/turku/lstm_sm/assets\n"
     ]
    },
    {
     "name": "stderr",
     "output_type": "stream",
     "text": [
      "INFO:tensorflow:Assets written to: /home/shared/model_checkpoint_paige/turku/lstm_sm/assets\n",
      "WARNING:absl:<keras.layers.recurrent.LSTMCell object at 0x7fabcdcc78e0> has the same name 'LSTMCell' as a built-in Keras object. Consider renaming <class 'keras.layers.recurrent.LSTMCell'> to avoid naming conflicts when loading with `tf.keras.models.load_model`. If renaming is not possible, pass the object in the `custom_objects` parameter of the load function.\n",
      "WARNING:absl:<keras.layers.recurrent.LSTMCell object at 0x7fabcdc9b0d0> has the same name 'LSTMCell' as a built-in Keras object. Consider renaming <class 'keras.layers.recurrent.LSTMCell'> to avoid naming conflicts when loading with `tf.keras.models.load_model`. If renaming is not possible, pass the object in the `custom_objects` parameter of the load function.\n"
     ]
    },
    {
     "name": "stdout",
     "output_type": "stream",
     "text": [
      "447/447 [==============================] - 63s 142ms/step - loss: 0.5398 - seq_out_loss: 0.1559 - tot_out_loss: 0.3839 - seq_out_accuracy: 0.9412 - tot_out_accuracy: 0.8324 - val_loss: 0.5727 - val_seq_out_loss: 0.1874 - val_tot_out_loss: 0.3853 - val_seq_out_accuracy: 0.9314 - val_tot_out_accuracy: 0.8356\n",
      "Epoch 13/24\n",
      "447/447 [==============================] - ETA: 0s - loss: 0.5358 - seq_out_loss: 0.1537 - tot_out_loss: 0.3821 - seq_out_accuracy: 0.9426 - tot_out_accuracy: 0.8319\n",
      "Epoch 13: saving model to /home/shared/model_checkpoint_paige/turku/lstm_sm\n"
     ]
    },
    {
     "name": "stderr",
     "output_type": "stream",
     "text": [
      "WARNING:absl:Found untraced functions such as lstm_cell_1_layer_call_fn, lstm_cell_1_layer_call_and_return_conditional_losses, lstm_cell_2_layer_call_fn, lstm_cell_2_layer_call_and_return_conditional_losses while saving (showing 4 of 4). These functions will not be directly callable after loading.\n"
     ]
    },
    {
     "name": "stdout",
     "output_type": "stream",
     "text": [
      "INFO:tensorflow:Assets written to: /home/shared/model_checkpoint_paige/turku/lstm_sm/assets\n"
     ]
    },
    {
     "name": "stderr",
     "output_type": "stream",
     "text": [
      "INFO:tensorflow:Assets written to: /home/shared/model_checkpoint_paige/turku/lstm_sm/assets\n",
      "WARNING:absl:<keras.layers.recurrent.LSTMCell object at 0x7fabcdcc78e0> has the same name 'LSTMCell' as a built-in Keras object. Consider renaming <class 'keras.layers.recurrent.LSTMCell'> to avoid naming conflicts when loading with `tf.keras.models.load_model`. If renaming is not possible, pass the object in the `custom_objects` parameter of the load function.\n",
      "WARNING:absl:<keras.layers.recurrent.LSTMCell object at 0x7fabcdc9b0d0> has the same name 'LSTMCell' as a built-in Keras object. Consider renaming <class 'keras.layers.recurrent.LSTMCell'> to avoid naming conflicts when loading with `tf.keras.models.load_model`. If renaming is not possible, pass the object in the `custom_objects` parameter of the load function.\n"
     ]
    },
    {
     "name": "stdout",
     "output_type": "stream",
     "text": [
      "447/447 [==============================] - 64s 143ms/step - loss: 0.5358 - seq_out_loss: 0.1537 - tot_out_loss: 0.3821 - seq_out_accuracy: 0.9426 - tot_out_accuracy: 0.8319 - val_loss: 0.5823 - val_seq_out_loss: 0.1886 - val_tot_out_loss: 0.3937 - val_seq_out_accuracy: 0.9325 - val_tot_out_accuracy: 0.8380\n",
      "Epoch 14/24\n",
      "447/447 [==============================] - ETA: 0s - loss: 0.5257 - seq_out_loss: 0.1531 - tot_out_loss: 0.3726 - seq_out_accuracy: 0.9431 - tot_out_accuracy: 0.8386\n",
      "Epoch 14: saving model to /home/shared/model_checkpoint_paige/turku/lstm_sm\n"
     ]
    },
    {
     "name": "stderr",
     "output_type": "stream",
     "text": [
      "WARNING:absl:Found untraced functions such as lstm_cell_1_layer_call_fn, lstm_cell_1_layer_call_and_return_conditional_losses, lstm_cell_2_layer_call_fn, lstm_cell_2_layer_call_and_return_conditional_losses while saving (showing 4 of 4). These functions will not be directly callable after loading.\n"
     ]
    },
    {
     "name": "stdout",
     "output_type": "stream",
     "text": [
      "INFO:tensorflow:Assets written to: /home/shared/model_checkpoint_paige/turku/lstm_sm/assets\n"
     ]
    },
    {
     "name": "stderr",
     "output_type": "stream",
     "text": [
      "INFO:tensorflow:Assets written to: /home/shared/model_checkpoint_paige/turku/lstm_sm/assets\n",
      "WARNING:absl:<keras.layers.recurrent.LSTMCell object at 0x7fabcdcc78e0> has the same name 'LSTMCell' as a built-in Keras object. Consider renaming <class 'keras.layers.recurrent.LSTMCell'> to avoid naming conflicts when loading with `tf.keras.models.load_model`. If renaming is not possible, pass the object in the `custom_objects` parameter of the load function.\n",
      "WARNING:absl:<keras.layers.recurrent.LSTMCell object at 0x7fabcdc9b0d0> has the same name 'LSTMCell' as a built-in Keras object. Consider renaming <class 'keras.layers.recurrent.LSTMCell'> to avoid naming conflicts when loading with `tf.keras.models.load_model`. If renaming is not possible, pass the object in the `custom_objects` parameter of the load function.\n"
     ]
    },
    {
     "name": "stdout",
     "output_type": "stream",
     "text": [
      "447/447 [==============================] - 64s 143ms/step - loss: 0.5257 - seq_out_loss: 0.1531 - tot_out_loss: 0.3726 - seq_out_accuracy: 0.9431 - tot_out_accuracy: 0.8386 - val_loss: 0.5902 - val_seq_out_loss: 0.1982 - val_tot_out_loss: 0.3920 - val_seq_out_accuracy: 0.9288 - val_tot_out_accuracy: 0.8356\n",
      "Epoch 15/24\n",
      "447/447 [==============================] - ETA: 0s - loss: 0.5246 - seq_out_loss: 0.1526 - tot_out_loss: 0.3721 - seq_out_accuracy: 0.9423 - tot_out_accuracy: 0.8385\n",
      "Epoch 15: saving model to /home/shared/model_checkpoint_paige/turku/lstm_sm\n"
     ]
    },
    {
     "name": "stderr",
     "output_type": "stream",
     "text": [
      "WARNING:absl:Found untraced functions such as lstm_cell_1_layer_call_fn, lstm_cell_1_layer_call_and_return_conditional_losses, lstm_cell_2_layer_call_fn, lstm_cell_2_layer_call_and_return_conditional_losses while saving (showing 4 of 4). These functions will not be directly callable after loading.\n"
     ]
    },
    {
     "name": "stdout",
     "output_type": "stream",
     "text": [
      "INFO:tensorflow:Assets written to: /home/shared/model_checkpoint_paige/turku/lstm_sm/assets\n"
     ]
    },
    {
     "name": "stderr",
     "output_type": "stream",
     "text": [
      "INFO:tensorflow:Assets written to: /home/shared/model_checkpoint_paige/turku/lstm_sm/assets\n",
      "WARNING:absl:<keras.layers.recurrent.LSTMCell object at 0x7fabcdcc78e0> has the same name 'LSTMCell' as a built-in Keras object. Consider renaming <class 'keras.layers.recurrent.LSTMCell'> to avoid naming conflicts when loading with `tf.keras.models.load_model`. If renaming is not possible, pass the object in the `custom_objects` parameter of the load function.\n",
      "WARNING:absl:<keras.layers.recurrent.LSTMCell object at 0x7fabcdc9b0d0> has the same name 'LSTMCell' as a built-in Keras object. Consider renaming <class 'keras.layers.recurrent.LSTMCell'> to avoid naming conflicts when loading with `tf.keras.models.load_model`. If renaming is not possible, pass the object in the `custom_objects` parameter of the load function.\n"
     ]
    },
    {
     "name": "stdout",
     "output_type": "stream",
     "text": [
      "447/447 [==============================] - 64s 143ms/step - loss: 0.5246 - seq_out_loss: 0.1526 - tot_out_loss: 0.3721 - seq_out_accuracy: 0.9423 - tot_out_accuracy: 0.8385 - val_loss: 0.5819 - val_seq_out_loss: 0.1933 - val_tot_out_loss: 0.3885 - val_seq_out_accuracy: 0.9298 - val_tot_out_accuracy: 0.8310\n",
      "Epoch 16/24\n",
      "447/447 [==============================] - ETA: 0s - loss: 0.5239 - seq_out_loss: 0.1523 - tot_out_loss: 0.3716 - seq_out_accuracy: 0.9427 - tot_out_accuracy: 0.8346\n",
      "Epoch 16: saving model to /home/shared/model_checkpoint_paige/turku/lstm_sm\n"
     ]
    },
    {
     "name": "stderr",
     "output_type": "stream",
     "text": [
      "WARNING:absl:Found untraced functions such as lstm_cell_1_layer_call_fn, lstm_cell_1_layer_call_and_return_conditional_losses, lstm_cell_2_layer_call_fn, lstm_cell_2_layer_call_and_return_conditional_losses while saving (showing 4 of 4). These functions will not be directly callable after loading.\n"
     ]
    },
    {
     "name": "stdout",
     "output_type": "stream",
     "text": [
      "INFO:tensorflow:Assets written to: /home/shared/model_checkpoint_paige/turku/lstm_sm/assets\n"
     ]
    },
    {
     "name": "stderr",
     "output_type": "stream",
     "text": [
      "INFO:tensorflow:Assets written to: /home/shared/model_checkpoint_paige/turku/lstm_sm/assets\n",
      "WARNING:absl:<keras.layers.recurrent.LSTMCell object at 0x7fabcdcc78e0> has the same name 'LSTMCell' as a built-in Keras object. Consider renaming <class 'keras.layers.recurrent.LSTMCell'> to avoid naming conflicts when loading with `tf.keras.models.load_model`. If renaming is not possible, pass the object in the `custom_objects` parameter of the load function.\n",
      "WARNING:absl:<keras.layers.recurrent.LSTMCell object at 0x7fabcdc9b0d0> has the same name 'LSTMCell' as a built-in Keras object. Consider renaming <class 'keras.layers.recurrent.LSTMCell'> to avoid naming conflicts when loading with `tf.keras.models.load_model`. If renaming is not possible, pass the object in the `custom_objects` parameter of the load function.\n"
     ]
    },
    {
     "name": "stdout",
     "output_type": "stream",
     "text": [
      "447/447 [==============================] - 64s 142ms/step - loss: 0.5239 - seq_out_loss: 0.1523 - tot_out_loss: 0.3716 - seq_out_accuracy: 0.9427 - tot_out_accuracy: 0.8346 - val_loss: 0.5893 - val_seq_out_loss: 0.1963 - val_tot_out_loss: 0.3929 - val_seq_out_accuracy: 0.9312 - val_tot_out_accuracy: 0.8356\n",
      "Epoch 17/24\n",
      "447/447 [==============================] - ETA: 0s - loss: 0.5125 - seq_out_loss: 0.1518 - tot_out_loss: 0.3608 - seq_out_accuracy: 0.9435 - tot_out_accuracy: 0.8399\n",
      "Epoch 17: saving model to /home/shared/model_checkpoint_paige/turku/lstm_sm\n"
     ]
    },
    {
     "name": "stderr",
     "output_type": "stream",
     "text": [
      "WARNING:absl:Found untraced functions such as lstm_cell_1_layer_call_fn, lstm_cell_1_layer_call_and_return_conditional_losses, lstm_cell_2_layer_call_fn, lstm_cell_2_layer_call_and_return_conditional_losses while saving (showing 4 of 4). These functions will not be directly callable after loading.\n"
     ]
    },
    {
     "name": "stdout",
     "output_type": "stream",
     "text": [
      "INFO:tensorflow:Assets written to: /home/shared/model_checkpoint_paige/turku/lstm_sm/assets\n"
     ]
    },
    {
     "name": "stderr",
     "output_type": "stream",
     "text": [
      "INFO:tensorflow:Assets written to: /home/shared/model_checkpoint_paige/turku/lstm_sm/assets\n",
      "WARNING:absl:<keras.layers.recurrent.LSTMCell object at 0x7fabcdcc78e0> has the same name 'LSTMCell' as a built-in Keras object. Consider renaming <class 'keras.layers.recurrent.LSTMCell'> to avoid naming conflicts when loading with `tf.keras.models.load_model`. If renaming is not possible, pass the object in the `custom_objects` parameter of the load function.\n",
      "WARNING:absl:<keras.layers.recurrent.LSTMCell object at 0x7fabcdc9b0d0> has the same name 'LSTMCell' as a built-in Keras object. Consider renaming <class 'keras.layers.recurrent.LSTMCell'> to avoid naming conflicts when loading with `tf.keras.models.load_model`. If renaming is not possible, pass the object in the `custom_objects` parameter of the load function.\n"
     ]
    },
    {
     "name": "stdout",
     "output_type": "stream",
     "text": [
      "447/447 [==============================] - 64s 143ms/step - loss: 0.5125 - seq_out_loss: 0.1518 - tot_out_loss: 0.3608 - seq_out_accuracy: 0.9435 - tot_out_accuracy: 0.8399 - val_loss: 0.5964 - val_seq_out_loss: 0.1939 - val_tot_out_loss: 0.4025 - val_seq_out_accuracy: 0.9303 - val_tot_out_accuracy: 0.8333\n",
      "Epoch 18/24\n",
      "447/447 [==============================] - ETA: 0s - loss: 0.5073 - seq_out_loss: 0.1516 - tot_out_loss: 0.3558 - seq_out_accuracy: 0.9433 - tot_out_accuracy: 0.8454\n",
      "Epoch 18: saving model to /home/shared/model_checkpoint_paige/turku/lstm_sm\n"
     ]
    },
    {
     "name": "stderr",
     "output_type": "stream",
     "text": [
      "WARNING:absl:Found untraced functions such as lstm_cell_1_layer_call_fn, lstm_cell_1_layer_call_and_return_conditional_losses, lstm_cell_2_layer_call_fn, lstm_cell_2_layer_call_and_return_conditional_losses while saving (showing 4 of 4). These functions will not be directly callable after loading.\n"
     ]
    },
    {
     "name": "stdout",
     "output_type": "stream",
     "text": [
      "INFO:tensorflow:Assets written to: /home/shared/model_checkpoint_paige/turku/lstm_sm/assets\n"
     ]
    },
    {
     "name": "stderr",
     "output_type": "stream",
     "text": [
      "INFO:tensorflow:Assets written to: /home/shared/model_checkpoint_paige/turku/lstm_sm/assets\n",
      "WARNING:absl:<keras.layers.recurrent.LSTMCell object at 0x7fabcdcc78e0> has the same name 'LSTMCell' as a built-in Keras object. Consider renaming <class 'keras.layers.recurrent.LSTMCell'> to avoid naming conflicts when loading with `tf.keras.models.load_model`. If renaming is not possible, pass the object in the `custom_objects` parameter of the load function.\n",
      "WARNING:absl:<keras.layers.recurrent.LSTMCell object at 0x7fabcdc9b0d0> has the same name 'LSTMCell' as a built-in Keras object. Consider renaming <class 'keras.layers.recurrent.LSTMCell'> to avoid naming conflicts when loading with `tf.keras.models.load_model`. If renaming is not possible, pass the object in the `custom_objects` parameter of the load function.\n"
     ]
    },
    {
     "name": "stdout",
     "output_type": "stream",
     "text": [
      "447/447 [==============================] - 64s 143ms/step - loss: 0.5073 - seq_out_loss: 0.1516 - tot_out_loss: 0.3558 - seq_out_accuracy: 0.9433 - tot_out_accuracy: 0.8454 - val_loss: 0.6060 - val_seq_out_loss: 0.1902 - val_tot_out_loss: 0.4158 - val_seq_out_accuracy: 0.9307 - val_tot_out_accuracy: 0.8264\n",
      "Epoch 19/24\n",
      "447/447 [==============================] - ETA: 0s - loss: 0.5082 - seq_out_loss: 0.1505 - tot_out_loss: 0.3577 - seq_out_accuracy: 0.9438 - tot_out_accuracy: 0.8440\n",
      "Epoch 19: saving model to /home/shared/model_checkpoint_paige/turku/lstm_sm\n"
     ]
    },
    {
     "name": "stderr",
     "output_type": "stream",
     "text": [
      "WARNING:absl:Found untraced functions such as lstm_cell_1_layer_call_fn, lstm_cell_1_layer_call_and_return_conditional_losses, lstm_cell_2_layer_call_fn, lstm_cell_2_layer_call_and_return_conditional_losses while saving (showing 4 of 4). These functions will not be directly callable after loading.\n"
     ]
    },
    {
     "name": "stdout",
     "output_type": "stream",
     "text": [
      "INFO:tensorflow:Assets written to: /home/shared/model_checkpoint_paige/turku/lstm_sm/assets\n"
     ]
    },
    {
     "name": "stderr",
     "output_type": "stream",
     "text": [
      "INFO:tensorflow:Assets written to: /home/shared/model_checkpoint_paige/turku/lstm_sm/assets\n",
      "WARNING:absl:<keras.layers.recurrent.LSTMCell object at 0x7fabcdcc78e0> has the same name 'LSTMCell' as a built-in Keras object. Consider renaming <class 'keras.layers.recurrent.LSTMCell'> to avoid naming conflicts when loading with `tf.keras.models.load_model`. If renaming is not possible, pass the object in the `custom_objects` parameter of the load function.\n",
      "WARNING:absl:<keras.layers.recurrent.LSTMCell object at 0x7fabcdc9b0d0> has the same name 'LSTMCell' as a built-in Keras object. Consider renaming <class 'keras.layers.recurrent.LSTMCell'> to avoid naming conflicts when loading with `tf.keras.models.load_model`. If renaming is not possible, pass the object in the `custom_objects` parameter of the load function.\n"
     ]
    },
    {
     "name": "stdout",
     "output_type": "stream",
     "text": [
      "447/447 [==============================] - 64s 143ms/step - loss: 0.5082 - seq_out_loss: 0.1505 - tot_out_loss: 0.3577 - seq_out_accuracy: 0.9438 - tot_out_accuracy: 0.8440 - val_loss: 0.5934 - val_seq_out_loss: 0.1895 - val_tot_out_loss: 0.4039 - val_seq_out_accuracy: 0.9327 - val_tot_out_accuracy: 0.8380\n",
      "Epoch 20/24\n",
      " 56/447 [==>...........................] - ETA: 45s - loss: 0.5120 - seq_out_loss: 0.1513 - tot_out_loss: 0.3607 - seq_out_accuracy: 0.9418 - tot_out_accuracy: 0.8415"
     ]
    }
   ],
   "source": [
    "\n",
    "checkpoint_filepath = '/home/shared/model_checkpoint_paige/turku/lstm_sm'\n",
    "\n",
    "\n",
    "opt = keras.optimizers.Nadam(learning_rate=0.001)\n",
    "model = get_turku_lstm(96,64)\n",
    "model.compile(loss=\"binary_crossentropy\", optimizer = opt, metrics=['accuracy'])\n",
    "\n",
    "mc = keras.callbacks.ModelCheckpoint(checkpoint_filepath, \n",
    "                                     monitor='val_loss', \n",
    "                                     verbose=1)\n",
    "\n",
    "history = model.fit(\n",
    "                    training_generator,\n",
    "                    epochs=24,\n",
    "                    validation_data=validation_generator,\n",
    "                    callbacks=[mc])"
   ]
  },
  {
   "cell_type": "code",
   "execution_count": 42,
   "id": "7b787799",
   "metadata": {},
   "outputs": [
    {
     "name": "stderr",
     "output_type": "stream",
     "text": [
      "2022-10-11 12:45:54.861934: I tensorflow/core/platform/cpu_feature_guard.cc:151] This TensorFlow binary is optimized with oneAPI Deep Neural Network Library (oneDNN) to use the following CPU instructions in performance-critical operations:  SSE4.1 SSE4.2 AVX AVX2 FMA\n",
      "To enable them in other operations, rebuild TensorFlow with the appropriate compiler flags.\n",
      "2022-10-11 12:45:55.592664: I tensorflow/core/common_runtime/gpu/gpu_device.cc:1525] Created device /job:localhost/replica:0/task:0/device:GPU:0 with 11470 MB memory:  -> device: 0, name: NVIDIA GeForce GTX TITAN X, pci bus id: 0000:06:00.0, compute capability: 5.2\n"
     ]
    },
    {
     "name": "stdout",
     "output_type": "stream",
     "text": [
      "Epoch 1/24\n",
      "  1/447 [..............................] - ETA: 33:52 - loss: 1.6875 - seq_out_loss: 0.6971 - tot_out_loss: 0.9904 - seq_out_accuracy: 0.4819 - tot_out_accuracy: 0.3750"
     ]
    },
    {
     "name": "stderr",
     "output_type": "stream",
     "text": [
      "2022-10-11 12:46:00.736262: I tensorflow/stream_executor/cuda/cuda_dnn.cc:368] Loaded cuDNN version 8401\n"
     ]
    },
    {
     "name": "stdout",
     "output_type": "stream",
     "text": [
      "447/447 [==============================] - ETA: 0s - loss: 0.6448 - seq_out_loss: 0.1340 - tot_out_loss: 0.5108 - seq_out_accuracy: 0.9535 - tot_out_accuracy: 0.7781\n",
      "Epoch 1: saving model to /home/shared/model_checkpoint_paige/turku/lstm\n"
     ]
    },
    {
     "name": "stderr",
     "output_type": "stream",
     "text": [
      "2022-10-11 12:46:52.214757: W tensorflow/python/util/util.cc:368] Sets are not currently considered sequences, but this may change in the future, so consider avoiding using them.\n",
      "WARNING:absl:Found untraced functions such as lstm_cell_1_layer_call_fn, lstm_cell_1_layer_call_and_return_conditional_losses, lstm_cell_2_layer_call_fn, lstm_cell_2_layer_call_and_return_conditional_losses while saving (showing 4 of 4). These functions will not be directly callable after loading.\n"
     ]
    },
    {
     "name": "stdout",
     "output_type": "stream",
     "text": [
      "INFO:tensorflow:Assets written to: /home/shared/model_checkpoint_paige/turku/lstm/assets\n"
     ]
    },
    {
     "name": "stderr",
     "output_type": "stream",
     "text": [
      "INFO:tensorflow:Assets written to: /home/shared/model_checkpoint_paige/turku/lstm/assets\n",
      "WARNING:absl:<keras.layers.recurrent.LSTMCell object at 0x7f9ebb14a140> has the same name 'LSTMCell' as a built-in Keras object. Consider renaming <class 'keras.layers.recurrent.LSTMCell'> to avoid naming conflicts when loading with `tf.keras.models.load_model`. If renaming is not possible, pass the object in the `custom_objects` parameter of the load function.\n",
      "WARNING:absl:<keras.layers.recurrent.LSTMCell object at 0x7f9e989eb3d0> has the same name 'LSTMCell' as a built-in Keras object. Consider renaming <class 'keras.layers.recurrent.LSTMCell'> to avoid naming conflicts when loading with `tf.keras.models.load_model`. If renaming is not possible, pass the object in the `custom_objects` parameter of the load function.\n"
     ]
    },
    {
     "name": "stdout",
     "output_type": "stream",
     "text": [
      "447/447 [==============================] - 62s 128ms/step - loss: 0.6448 - seq_out_loss: 0.1340 - tot_out_loss: 0.5108 - seq_out_accuracy: 0.9535 - tot_out_accuracy: 0.7781 - val_loss: 0.6103 - val_seq_out_loss: 0.1334 - val_tot_out_loss: 0.4769 - val_seq_out_accuracy: 0.9488 - val_tot_out_accuracy: 0.8056\n",
      "Epoch 2/24\n",
      "447/447 [==============================] - ETA: 0s - loss: 0.5608 - seq_out_loss: 0.1250 - tot_out_loss: 0.4358 - seq_out_accuracy: 0.9559 - tot_out_accuracy: 0.8365\n",
      "Epoch 2: saving model to /home/shared/model_checkpoint_paige/turku/lstm\n"
     ]
    },
    {
     "name": "stderr",
     "output_type": "stream",
     "text": [
      "WARNING:absl:Found untraced functions such as lstm_cell_1_layer_call_fn, lstm_cell_1_layer_call_and_return_conditional_losses, lstm_cell_2_layer_call_fn, lstm_cell_2_layer_call_and_return_conditional_losses while saving (showing 4 of 4). These functions will not be directly callable after loading.\n"
     ]
    },
    {
     "name": "stdout",
     "output_type": "stream",
     "text": [
      "INFO:tensorflow:Assets written to: /home/shared/model_checkpoint_paige/turku/lstm/assets\n"
     ]
    },
    {
     "name": "stderr",
     "output_type": "stream",
     "text": [
      "INFO:tensorflow:Assets written to: /home/shared/model_checkpoint_paige/turku/lstm/assets\n",
      "WARNING:absl:<keras.layers.recurrent.LSTMCell object at 0x7f9ebb14a140> has the same name 'LSTMCell' as a built-in Keras object. Consider renaming <class 'keras.layers.recurrent.LSTMCell'> to avoid naming conflicts when loading with `tf.keras.models.load_model`. If renaming is not possible, pass the object in the `custom_objects` parameter of the load function.\n",
      "WARNING:absl:<keras.layers.recurrent.LSTMCell object at 0x7f9e989eb3d0> has the same name 'LSTMCell' as a built-in Keras object. Consider renaming <class 'keras.layers.recurrent.LSTMCell'> to avoid naming conflicts when loading with `tf.keras.models.load_model`. If renaming is not possible, pass the object in the `custom_objects` parameter of the load function.\n"
     ]
    },
    {
     "name": "stdout",
     "output_type": "stream",
     "text": [
      "447/447 [==============================] - 55s 124ms/step - loss: 0.5608 - seq_out_loss: 0.1250 - tot_out_loss: 0.4358 - seq_out_accuracy: 0.9559 - tot_out_accuracy: 0.8365 - val_loss: 0.5598 - val_seq_out_loss: 0.1320 - val_tot_out_loss: 0.4278 - val_seq_out_accuracy: 0.9558 - val_tot_out_accuracy: 0.8426\n",
      "Epoch 3/24\n",
      "447/447 [==============================] - ETA: 0s - loss: 0.5337 - seq_out_loss: 0.1267 - tot_out_loss: 0.4070 - seq_out_accuracy: 0.9559 - tot_out_accuracy: 0.8452\n",
      "Epoch 3: saving model to /home/shared/model_checkpoint_paige/turku/lstm\n"
     ]
    },
    {
     "name": "stderr",
     "output_type": "stream",
     "text": [
      "WARNING:absl:Found untraced functions such as lstm_cell_1_layer_call_fn, lstm_cell_1_layer_call_and_return_conditional_losses, lstm_cell_2_layer_call_fn, lstm_cell_2_layer_call_and_return_conditional_losses while saving (showing 4 of 4). These functions will not be directly callable after loading.\n"
     ]
    },
    {
     "name": "stdout",
     "output_type": "stream",
     "text": [
      "INFO:tensorflow:Assets written to: /home/shared/model_checkpoint_paige/turku/lstm/assets\n"
     ]
    },
    {
     "name": "stderr",
     "output_type": "stream",
     "text": [
      "INFO:tensorflow:Assets written to: /home/shared/model_checkpoint_paige/turku/lstm/assets\n",
      "WARNING:absl:<keras.layers.recurrent.LSTMCell object at 0x7f9ebb14a140> has the same name 'LSTMCell' as a built-in Keras object. Consider renaming <class 'keras.layers.recurrent.LSTMCell'> to avoid naming conflicts when loading with `tf.keras.models.load_model`. If renaming is not possible, pass the object in the `custom_objects` parameter of the load function.\n",
      "WARNING:absl:<keras.layers.recurrent.LSTMCell object at 0x7f9e989eb3d0> has the same name 'LSTMCell' as a built-in Keras object. Consider renaming <class 'keras.layers.recurrent.LSTMCell'> to avoid naming conflicts when loading with `tf.keras.models.load_model`. If renaming is not possible, pass the object in the `custom_objects` parameter of the load function.\n"
     ]
    },
    {
     "name": "stdout",
     "output_type": "stream",
     "text": [
      "447/447 [==============================] - 56s 125ms/step - loss: 0.5337 - seq_out_loss: 0.1267 - tot_out_loss: 0.4070 - seq_out_accuracy: 0.9559 - tot_out_accuracy: 0.8452 - val_loss: 0.5406 - val_seq_out_loss: 0.1336 - val_tot_out_loss: 0.4070 - val_seq_out_accuracy: 0.9533 - val_tot_out_accuracy: 0.8426\n",
      "Epoch 4/24\n",
      "447/447 [==============================] - ETA: 0s - loss: 0.5068 - seq_out_loss: 0.1260 - tot_out_loss: 0.3808 - seq_out_accuracy: 0.9565 - tot_out_accuracy: 0.8438\n",
      "Epoch 4: saving model to /home/shared/model_checkpoint_paige/turku/lstm\n"
     ]
    },
    {
     "name": "stderr",
     "output_type": "stream",
     "text": [
      "WARNING:absl:Found untraced functions such as lstm_cell_1_layer_call_fn, lstm_cell_1_layer_call_and_return_conditional_losses, lstm_cell_2_layer_call_fn, lstm_cell_2_layer_call_and_return_conditional_losses while saving (showing 4 of 4). These functions will not be directly callable after loading.\n"
     ]
    },
    {
     "name": "stdout",
     "output_type": "stream",
     "text": [
      "INFO:tensorflow:Assets written to: /home/shared/model_checkpoint_paige/turku/lstm/assets\n"
     ]
    },
    {
     "name": "stderr",
     "output_type": "stream",
     "text": [
      "INFO:tensorflow:Assets written to: /home/shared/model_checkpoint_paige/turku/lstm/assets\n",
      "WARNING:absl:<keras.layers.recurrent.LSTMCell object at 0x7f9ebb14a140> has the same name 'LSTMCell' as a built-in Keras object. Consider renaming <class 'keras.layers.recurrent.LSTMCell'> to avoid naming conflicts when loading with `tf.keras.models.load_model`. If renaming is not possible, pass the object in the `custom_objects` parameter of the load function.\n",
      "WARNING:absl:<keras.layers.recurrent.LSTMCell object at 0x7f9e989eb3d0> has the same name 'LSTMCell' as a built-in Keras object. Consider renaming <class 'keras.layers.recurrent.LSTMCell'> to avoid naming conflicts when loading with `tf.keras.models.load_model`. If renaming is not possible, pass the object in the `custom_objects` parameter of the load function.\n"
     ]
    },
    {
     "name": "stdout",
     "output_type": "stream",
     "text": [
      "447/447 [==============================] - 55s 124ms/step - loss: 0.5068 - seq_out_loss: 0.1260 - tot_out_loss: 0.3808 - seq_out_accuracy: 0.9565 - tot_out_accuracy: 0.8438 - val_loss: 0.5128 - val_seq_out_loss: 0.1356 - val_tot_out_loss: 0.3773 - val_seq_out_accuracy: 0.9510 - val_tot_out_accuracy: 0.8588\n",
      "Epoch 5/24\n",
      "447/447 [==============================] - ETA: 0s - loss: 0.4959 - seq_out_loss: 0.1269 - tot_out_loss: 0.3690 - seq_out_accuracy: 0.9558 - tot_out_accuracy: 0.8475\n",
      "Epoch 5: saving model to /home/shared/model_checkpoint_paige/turku/lstm\n"
     ]
    },
    {
     "name": "stderr",
     "output_type": "stream",
     "text": [
      "WARNING:absl:Found untraced functions such as lstm_cell_1_layer_call_fn, lstm_cell_1_layer_call_and_return_conditional_losses, lstm_cell_2_layer_call_fn, lstm_cell_2_layer_call_and_return_conditional_losses while saving (showing 4 of 4). These functions will not be directly callable after loading.\n"
     ]
    },
    {
     "name": "stdout",
     "output_type": "stream",
     "text": [
      "INFO:tensorflow:Assets written to: /home/shared/model_checkpoint_paige/turku/lstm/assets\n"
     ]
    },
    {
     "name": "stderr",
     "output_type": "stream",
     "text": [
      "INFO:tensorflow:Assets written to: /home/shared/model_checkpoint_paige/turku/lstm/assets\n",
      "WARNING:absl:<keras.layers.recurrent.LSTMCell object at 0x7f9ebb14a140> has the same name 'LSTMCell' as a built-in Keras object. Consider renaming <class 'keras.layers.recurrent.LSTMCell'> to avoid naming conflicts when loading with `tf.keras.models.load_model`. If renaming is not possible, pass the object in the `custom_objects` parameter of the load function.\n",
      "WARNING:absl:<keras.layers.recurrent.LSTMCell object at 0x7f9e989eb3d0> has the same name 'LSTMCell' as a built-in Keras object. Consider renaming <class 'keras.layers.recurrent.LSTMCell'> to avoid naming conflicts when loading with `tf.keras.models.load_model`. If renaming is not possible, pass the object in the `custom_objects` parameter of the load function.\n"
     ]
    },
    {
     "name": "stdout",
     "output_type": "stream",
     "text": [
      "447/447 [==============================] - 57s 127ms/step - loss: 0.4959 - seq_out_loss: 0.1269 - tot_out_loss: 0.3690 - seq_out_accuracy: 0.9558 - tot_out_accuracy: 0.8475 - val_loss: 0.5194 - val_seq_out_loss: 0.1405 - val_tot_out_loss: 0.3788 - val_seq_out_accuracy: 0.9483 - val_tot_out_accuracy: 0.8449\n",
      "Epoch 6/24\n",
      "447/447 [==============================] - ETA: 0s - loss: 0.4864 - seq_out_loss: 0.1239 - tot_out_loss: 0.3625 - seq_out_accuracy: 0.9566 - tot_out_accuracy: 0.8501\n",
      "Epoch 6: saving model to /home/shared/model_checkpoint_paige/turku/lstm\n"
     ]
    },
    {
     "name": "stderr",
     "output_type": "stream",
     "text": [
      "WARNING:absl:Found untraced functions such as lstm_cell_1_layer_call_fn, lstm_cell_1_layer_call_and_return_conditional_losses, lstm_cell_2_layer_call_fn, lstm_cell_2_layer_call_and_return_conditional_losses while saving (showing 4 of 4). These functions will not be directly callable after loading.\n"
     ]
    },
    {
     "name": "stdout",
     "output_type": "stream",
     "text": [
      "INFO:tensorflow:Assets written to: /home/shared/model_checkpoint_paige/turku/lstm/assets\n"
     ]
    },
    {
     "name": "stderr",
     "output_type": "stream",
     "text": [
      "INFO:tensorflow:Assets written to: /home/shared/model_checkpoint_paige/turku/lstm/assets\n",
      "WARNING:absl:<keras.layers.recurrent.LSTMCell object at 0x7f9ebb14a140> has the same name 'LSTMCell' as a built-in Keras object. Consider renaming <class 'keras.layers.recurrent.LSTMCell'> to avoid naming conflicts when loading with `tf.keras.models.load_model`. If renaming is not possible, pass the object in the `custom_objects` parameter of the load function.\n",
      "WARNING:absl:<keras.layers.recurrent.LSTMCell object at 0x7f9e989eb3d0> has the same name 'LSTMCell' as a built-in Keras object. Consider renaming <class 'keras.layers.recurrent.LSTMCell'> to avoid naming conflicts when loading with `tf.keras.models.load_model`. If renaming is not possible, pass the object in the `custom_objects` parameter of the load function.\n"
     ]
    },
    {
     "name": "stdout",
     "output_type": "stream",
     "text": [
      "447/447 [==============================] - 56s 125ms/step - loss: 0.4864 - seq_out_loss: 0.1239 - tot_out_loss: 0.3625 - seq_out_accuracy: 0.9566 - tot_out_accuracy: 0.8501 - val_loss: 0.5070 - val_seq_out_loss: 0.1361 - val_tot_out_loss: 0.3709 - val_seq_out_accuracy: 0.9492 - val_tot_out_accuracy: 0.8565\n",
      "Epoch 7/24\n",
      "447/447 [==============================] - ETA: 0s - loss: 0.4797 - seq_out_loss: 0.1254 - tot_out_loss: 0.3543 - seq_out_accuracy: 0.9562 - tot_out_accuracy: 0.8500\n",
      "Epoch 7: saving model to /home/shared/model_checkpoint_paige/turku/lstm\n"
     ]
    },
    {
     "name": "stderr",
     "output_type": "stream",
     "text": [
      "WARNING:absl:Found untraced functions such as lstm_cell_1_layer_call_fn, lstm_cell_1_layer_call_and_return_conditional_losses, lstm_cell_2_layer_call_fn, lstm_cell_2_layer_call_and_return_conditional_losses while saving (showing 4 of 4). These functions will not be directly callable after loading.\n"
     ]
    },
    {
     "name": "stdout",
     "output_type": "stream",
     "text": [
      "INFO:tensorflow:Assets written to: /home/shared/model_checkpoint_paige/turku/lstm/assets\n"
     ]
    },
    {
     "name": "stderr",
     "output_type": "stream",
     "text": [
      "INFO:tensorflow:Assets written to: /home/shared/model_checkpoint_paige/turku/lstm/assets\n",
      "WARNING:absl:<keras.layers.recurrent.LSTMCell object at 0x7f9ebb14a140> has the same name 'LSTMCell' as a built-in Keras object. Consider renaming <class 'keras.layers.recurrent.LSTMCell'> to avoid naming conflicts when loading with `tf.keras.models.load_model`. If renaming is not possible, pass the object in the `custom_objects` parameter of the load function.\n",
      "WARNING:absl:<keras.layers.recurrent.LSTMCell object at 0x7f9e989eb3d0> has the same name 'LSTMCell' as a built-in Keras object. Consider renaming <class 'keras.layers.recurrent.LSTMCell'> to avoid naming conflicts when loading with `tf.keras.models.load_model`. If renaming is not possible, pass the object in the `custom_objects` parameter of the load function.\n"
     ]
    },
    {
     "name": "stdout",
     "output_type": "stream",
     "text": [
      "447/447 [==============================] - 57s 127ms/step - loss: 0.4797 - seq_out_loss: 0.1254 - tot_out_loss: 0.3543 - seq_out_accuracy: 0.9562 - tot_out_accuracy: 0.8500 - val_loss: 0.5134 - val_seq_out_loss: 0.1367 - val_tot_out_loss: 0.3767 - val_seq_out_accuracy: 0.9521 - val_tot_out_accuracy: 0.8565\n",
      "Epoch 8/24\n",
      "447/447 [==============================] - ETA: 0s - loss: 0.4752 - seq_out_loss: 0.1216 - tot_out_loss: 0.3535 - seq_out_accuracy: 0.9569 - tot_out_accuracy: 0.8487\n",
      "Epoch 8: saving model to /home/shared/model_checkpoint_paige/turku/lstm\n"
     ]
    },
    {
     "name": "stderr",
     "output_type": "stream",
     "text": [
      "WARNING:absl:Found untraced functions such as lstm_cell_1_layer_call_fn, lstm_cell_1_layer_call_and_return_conditional_losses, lstm_cell_2_layer_call_fn, lstm_cell_2_layer_call_and_return_conditional_losses while saving (showing 4 of 4). These functions will not be directly callable after loading.\n"
     ]
    },
    {
     "name": "stdout",
     "output_type": "stream",
     "text": [
      "INFO:tensorflow:Assets written to: /home/shared/model_checkpoint_paige/turku/lstm/assets\n"
     ]
    },
    {
     "name": "stderr",
     "output_type": "stream",
     "text": [
      "INFO:tensorflow:Assets written to: /home/shared/model_checkpoint_paige/turku/lstm/assets\n",
      "WARNING:absl:<keras.layers.recurrent.LSTMCell object at 0x7f9ebb14a140> has the same name 'LSTMCell' as a built-in Keras object. Consider renaming <class 'keras.layers.recurrent.LSTMCell'> to avoid naming conflicts when loading with `tf.keras.models.load_model`. If renaming is not possible, pass the object in the `custom_objects` parameter of the load function.\n",
      "WARNING:absl:<keras.layers.recurrent.LSTMCell object at 0x7f9e989eb3d0> has the same name 'LSTMCell' as a built-in Keras object. Consider renaming <class 'keras.layers.recurrent.LSTMCell'> to avoid naming conflicts when loading with `tf.keras.models.load_model`. If renaming is not possible, pass the object in the `custom_objects` parameter of the load function.\n"
     ]
    },
    {
     "name": "stdout",
     "output_type": "stream",
     "text": [
      "447/447 [==============================] - 57s 128ms/step - loss: 0.4752 - seq_out_loss: 0.1216 - tot_out_loss: 0.3535 - seq_out_accuracy: 0.9569 - tot_out_accuracy: 0.8487 - val_loss: 0.5101 - val_seq_out_loss: 0.1312 - val_tot_out_loss: 0.3788 - val_seq_out_accuracy: 0.9543 - val_tot_out_accuracy: 0.8565\n",
      "Epoch 9/24\n",
      "447/447 [==============================] - ETA: 0s - loss: 0.4652 - seq_out_loss: 0.1211 - tot_out_loss: 0.3441 - seq_out_accuracy: 0.9570 - tot_out_accuracy: 0.8570\n",
      "Epoch 9: saving model to /home/shared/model_checkpoint_paige/turku/lstm\n"
     ]
    },
    {
     "name": "stderr",
     "output_type": "stream",
     "text": [
      "WARNING:absl:Found untraced functions such as lstm_cell_1_layer_call_fn, lstm_cell_1_layer_call_and_return_conditional_losses, lstm_cell_2_layer_call_fn, lstm_cell_2_layer_call_and_return_conditional_losses while saving (showing 4 of 4). These functions will not be directly callable after loading.\n"
     ]
    },
    {
     "name": "stdout",
     "output_type": "stream",
     "text": [
      "INFO:tensorflow:Assets written to: /home/shared/model_checkpoint_paige/turku/lstm/assets\n"
     ]
    },
    {
     "name": "stderr",
     "output_type": "stream",
     "text": [
      "INFO:tensorflow:Assets written to: /home/shared/model_checkpoint_paige/turku/lstm/assets\n",
      "WARNING:absl:<keras.layers.recurrent.LSTMCell object at 0x7f9ebb14a140> has the same name 'LSTMCell' as a built-in Keras object. Consider renaming <class 'keras.layers.recurrent.LSTMCell'> to avoid naming conflicts when loading with `tf.keras.models.load_model`. If renaming is not possible, pass the object in the `custom_objects` parameter of the load function.\n",
      "WARNING:absl:<keras.layers.recurrent.LSTMCell object at 0x7f9e989eb3d0> has the same name 'LSTMCell' as a built-in Keras object. Consider renaming <class 'keras.layers.recurrent.LSTMCell'> to avoid naming conflicts when loading with `tf.keras.models.load_model`. If renaming is not possible, pass the object in the `custom_objects` parameter of the load function.\n"
     ]
    },
    {
     "name": "stdout",
     "output_type": "stream",
     "text": [
      "447/447 [==============================] - 56s 124ms/step - loss: 0.4652 - seq_out_loss: 0.1211 - tot_out_loss: 0.3441 - seq_out_accuracy: 0.9570 - tot_out_accuracy: 0.8570 - val_loss: 0.5083 - val_seq_out_loss: 0.1307 - val_tot_out_loss: 0.3776 - val_seq_out_accuracy: 0.9535 - val_tot_out_accuracy: 0.8519\n",
      "Epoch 10/24\n",
      "447/447 [==============================] - ETA: 0s - loss: 0.4676 - seq_out_loss: 0.1213 - tot_out_loss: 0.3463 - seq_out_accuracy: 0.9570 - tot_out_accuracy: 0.8518\n",
      "Epoch 10: saving model to /home/shared/model_checkpoint_paige/turku/lstm\n"
     ]
    },
    {
     "name": "stderr",
     "output_type": "stream",
     "text": [
      "WARNING:absl:Found untraced functions such as lstm_cell_1_layer_call_fn, lstm_cell_1_layer_call_and_return_conditional_losses, lstm_cell_2_layer_call_fn, lstm_cell_2_layer_call_and_return_conditional_losses while saving (showing 4 of 4). These functions will not be directly callable after loading.\n"
     ]
    },
    {
     "name": "stdout",
     "output_type": "stream",
     "text": [
      "INFO:tensorflow:Assets written to: /home/shared/model_checkpoint_paige/turku/lstm/assets\n"
     ]
    },
    {
     "name": "stderr",
     "output_type": "stream",
     "text": [
      "INFO:tensorflow:Assets written to: /home/shared/model_checkpoint_paige/turku/lstm/assets\n",
      "WARNING:absl:<keras.layers.recurrent.LSTMCell object at 0x7f9ebb14a140> has the same name 'LSTMCell' as a built-in Keras object. Consider renaming <class 'keras.layers.recurrent.LSTMCell'> to avoid naming conflicts when loading with `tf.keras.models.load_model`. If renaming is not possible, pass the object in the `custom_objects` parameter of the load function.\n",
      "WARNING:absl:<keras.layers.recurrent.LSTMCell object at 0x7f9e989eb3d0> has the same name 'LSTMCell' as a built-in Keras object. Consider renaming <class 'keras.layers.recurrent.LSTMCell'> to avoid naming conflicts when loading with `tf.keras.models.load_model`. If renaming is not possible, pass the object in the `custom_objects` parameter of the load function.\n"
     ]
    },
    {
     "name": "stdout",
     "output_type": "stream",
     "text": [
      "447/447 [==============================] - 56s 125ms/step - loss: 0.4676 - seq_out_loss: 0.1213 - tot_out_loss: 0.3463 - seq_out_accuracy: 0.9570 - tot_out_accuracy: 0.8518 - val_loss: 0.5084 - val_seq_out_loss: 0.1350 - val_tot_out_loss: 0.3733 - val_seq_out_accuracy: 0.9530 - val_tot_out_accuracy: 0.8588\n",
      "Epoch 11/24\n",
      "447/447 [==============================] - ETA: 0s - loss: 0.4590 - seq_out_loss: 0.1195 - tot_out_loss: 0.3394 - seq_out_accuracy: 0.9574 - tot_out_accuracy: 0.8575\n",
      "Epoch 11: saving model to /home/shared/model_checkpoint_paige/turku/lstm\n"
     ]
    },
    {
     "name": "stderr",
     "output_type": "stream",
     "text": [
      "WARNING:absl:Found untraced functions such as lstm_cell_1_layer_call_fn, lstm_cell_1_layer_call_and_return_conditional_losses, lstm_cell_2_layer_call_fn, lstm_cell_2_layer_call_and_return_conditional_losses while saving (showing 4 of 4). These functions will not be directly callable after loading.\n"
     ]
    },
    {
     "name": "stdout",
     "output_type": "stream",
     "text": [
      "INFO:tensorflow:Assets written to: /home/shared/model_checkpoint_paige/turku/lstm/assets\n"
     ]
    },
    {
     "name": "stderr",
     "output_type": "stream",
     "text": [
      "INFO:tensorflow:Assets written to: /home/shared/model_checkpoint_paige/turku/lstm/assets\n",
      "WARNING:absl:<keras.layers.recurrent.LSTMCell object at 0x7f9ebb14a140> has the same name 'LSTMCell' as a built-in Keras object. Consider renaming <class 'keras.layers.recurrent.LSTMCell'> to avoid naming conflicts when loading with `tf.keras.models.load_model`. If renaming is not possible, pass the object in the `custom_objects` parameter of the load function.\n",
      "WARNING:absl:<keras.layers.recurrent.LSTMCell object at 0x7f9e989eb3d0> has the same name 'LSTMCell' as a built-in Keras object. Consider renaming <class 'keras.layers.recurrent.LSTMCell'> to avoid naming conflicts when loading with `tf.keras.models.load_model`. If renaming is not possible, pass the object in the `custom_objects` parameter of the load function.\n"
     ]
    },
    {
     "name": "stdout",
     "output_type": "stream",
     "text": [
      "447/447 [==============================] - 55s 122ms/step - loss: 0.4590 - seq_out_loss: 0.1195 - tot_out_loss: 0.3394 - seq_out_accuracy: 0.9574 - tot_out_accuracy: 0.8575 - val_loss: 0.5008 - val_seq_out_loss: 0.1348 - val_tot_out_loss: 0.3660 - val_seq_out_accuracy: 0.9498 - val_tot_out_accuracy: 0.8472\n",
      "Epoch 12/24\n",
      "447/447 [==============================] - ETA: 0s - loss: 0.4575 - seq_out_loss: 0.1199 - tot_out_loss: 0.3376 - seq_out_accuracy: 0.9572 - tot_out_accuracy: 0.8584\n",
      "Epoch 12: saving model to /home/shared/model_checkpoint_paige/turku/lstm\n"
     ]
    },
    {
     "name": "stderr",
     "output_type": "stream",
     "text": [
      "WARNING:absl:Found untraced functions such as lstm_cell_1_layer_call_fn, lstm_cell_1_layer_call_and_return_conditional_losses, lstm_cell_2_layer_call_fn, lstm_cell_2_layer_call_and_return_conditional_losses while saving (showing 4 of 4). These functions will not be directly callable after loading.\n"
     ]
    },
    {
     "name": "stdout",
     "output_type": "stream",
     "text": [
      "INFO:tensorflow:Assets written to: /home/shared/model_checkpoint_paige/turku/lstm/assets\n"
     ]
    },
    {
     "name": "stderr",
     "output_type": "stream",
     "text": [
      "INFO:tensorflow:Assets written to: /home/shared/model_checkpoint_paige/turku/lstm/assets\n",
      "WARNING:absl:<keras.layers.recurrent.LSTMCell object at 0x7f9ebb14a140> has the same name 'LSTMCell' as a built-in Keras object. Consider renaming <class 'keras.layers.recurrent.LSTMCell'> to avoid naming conflicts when loading with `tf.keras.models.load_model`. If renaming is not possible, pass the object in the `custom_objects` parameter of the load function.\n",
      "WARNING:absl:<keras.layers.recurrent.LSTMCell object at 0x7f9e989eb3d0> has the same name 'LSTMCell' as a built-in Keras object. Consider renaming <class 'keras.layers.recurrent.LSTMCell'> to avoid naming conflicts when loading with `tf.keras.models.load_model`. If renaming is not possible, pass the object in the `custom_objects` parameter of the load function.\n"
     ]
    },
    {
     "name": "stdout",
     "output_type": "stream",
     "text": [
      "447/447 [==============================] - 55s 123ms/step - loss: 0.4575 - seq_out_loss: 0.1199 - tot_out_loss: 0.3376 - seq_out_accuracy: 0.9572 - tot_out_accuracy: 0.8584 - val_loss: 0.5037 - val_seq_out_loss: 0.1353 - val_tot_out_loss: 0.3684 - val_seq_out_accuracy: 0.9531 - val_tot_out_accuracy: 0.8611\n",
      "Epoch 13/24\n",
      "447/447 [==============================] - ETA: 0s - loss: 0.4535 - seq_out_loss: 0.1196 - tot_out_loss: 0.3339 - seq_out_accuracy: 0.9574 - tot_out_accuracy: 0.8574\n",
      "Epoch 13: saving model to /home/shared/model_checkpoint_paige/turku/lstm\n"
     ]
    },
    {
     "name": "stderr",
     "output_type": "stream",
     "text": [
      "WARNING:absl:Found untraced functions such as lstm_cell_1_layer_call_fn, lstm_cell_1_layer_call_and_return_conditional_losses, lstm_cell_2_layer_call_fn, lstm_cell_2_layer_call_and_return_conditional_losses while saving (showing 4 of 4). These functions will not be directly callable after loading.\n"
     ]
    },
    {
     "name": "stdout",
     "output_type": "stream",
     "text": [
      "INFO:tensorflow:Assets written to: /home/shared/model_checkpoint_paige/turku/lstm/assets\n"
     ]
    },
    {
     "name": "stderr",
     "output_type": "stream",
     "text": [
      "INFO:tensorflow:Assets written to: /home/shared/model_checkpoint_paige/turku/lstm/assets\n",
      "WARNING:absl:<keras.layers.recurrent.LSTMCell object at 0x7f9ebb14a140> has the same name 'LSTMCell' as a built-in Keras object. Consider renaming <class 'keras.layers.recurrent.LSTMCell'> to avoid naming conflicts when loading with `tf.keras.models.load_model`. If renaming is not possible, pass the object in the `custom_objects` parameter of the load function.\n",
      "WARNING:absl:<keras.layers.recurrent.LSTMCell object at 0x7f9e989eb3d0> has the same name 'LSTMCell' as a built-in Keras object. Consider renaming <class 'keras.layers.recurrent.LSTMCell'> to avoid naming conflicts when loading with `tf.keras.models.load_model`. If renaming is not possible, pass the object in the `custom_objects` parameter of the load function.\n"
     ]
    },
    {
     "name": "stdout",
     "output_type": "stream",
     "text": [
      "447/447 [==============================] - 57s 127ms/step - loss: 0.4535 - seq_out_loss: 0.1196 - tot_out_loss: 0.3339 - seq_out_accuracy: 0.9574 - tot_out_accuracy: 0.8574 - val_loss: 0.5026 - val_seq_out_loss: 0.1369 - val_tot_out_loss: 0.3657 - val_seq_out_accuracy: 0.9493 - val_tot_out_accuracy: 0.8588\n",
      "Epoch 14/24\n",
      "447/447 [==============================] - ETA: 0s - loss: 0.4511 - seq_out_loss: 0.1184 - tot_out_loss: 0.3327 - seq_out_accuracy: 0.9579 - tot_out_accuracy: 0.8606\n",
      "Epoch 14: saving model to /home/shared/model_checkpoint_paige/turku/lstm\n"
     ]
    },
    {
     "name": "stderr",
     "output_type": "stream",
     "text": [
      "WARNING:absl:Found untraced functions such as lstm_cell_1_layer_call_fn, lstm_cell_1_layer_call_and_return_conditional_losses, lstm_cell_2_layer_call_fn, lstm_cell_2_layer_call_and_return_conditional_losses while saving (showing 4 of 4). These functions will not be directly callable after loading.\n"
     ]
    },
    {
     "name": "stdout",
     "output_type": "stream",
     "text": [
      "INFO:tensorflow:Assets written to: /home/shared/model_checkpoint_paige/turku/lstm/assets\n"
     ]
    },
    {
     "name": "stderr",
     "output_type": "stream",
     "text": [
      "INFO:tensorflow:Assets written to: /home/shared/model_checkpoint_paige/turku/lstm/assets\n",
      "WARNING:absl:<keras.layers.recurrent.LSTMCell object at 0x7f9ebb14a140> has the same name 'LSTMCell' as a built-in Keras object. Consider renaming <class 'keras.layers.recurrent.LSTMCell'> to avoid naming conflicts when loading with `tf.keras.models.load_model`. If renaming is not possible, pass the object in the `custom_objects` parameter of the load function.\n",
      "WARNING:absl:<keras.layers.recurrent.LSTMCell object at 0x7f9e989eb3d0> has the same name 'LSTMCell' as a built-in Keras object. Consider renaming <class 'keras.layers.recurrent.LSTMCell'> to avoid naming conflicts when loading with `tf.keras.models.load_model`. If renaming is not possible, pass the object in the `custom_objects` parameter of the load function.\n"
     ]
    },
    {
     "name": "stdout",
     "output_type": "stream",
     "text": [
      "447/447 [==============================] - 57s 126ms/step - loss: 0.4511 - seq_out_loss: 0.1184 - tot_out_loss: 0.3327 - seq_out_accuracy: 0.9579 - tot_out_accuracy: 0.8606 - val_loss: 0.5045 - val_seq_out_loss: 0.1390 - val_tot_out_loss: 0.3655 - val_seq_out_accuracy: 0.9492 - val_tot_out_accuracy: 0.8542\n",
      "Epoch 15/24\n",
      "447/447 [==============================] - ETA: 0s - loss: 0.4453 - seq_out_loss: 0.1186 - tot_out_loss: 0.3268 - seq_out_accuracy: 0.9577 - tot_out_accuracy: 0.8613\n",
      "Epoch 15: saving model to /home/shared/model_checkpoint_paige/turku/lstm\n"
     ]
    },
    {
     "name": "stderr",
     "output_type": "stream",
     "text": [
      "WARNING:absl:Found untraced functions such as lstm_cell_1_layer_call_fn, lstm_cell_1_layer_call_and_return_conditional_losses, lstm_cell_2_layer_call_fn, lstm_cell_2_layer_call_and_return_conditional_losses while saving (showing 4 of 4). These functions will not be directly callable after loading.\n"
     ]
    },
    {
     "name": "stdout",
     "output_type": "stream",
     "text": [
      "INFO:tensorflow:Assets written to: /home/shared/model_checkpoint_paige/turku/lstm/assets\n"
     ]
    },
    {
     "name": "stderr",
     "output_type": "stream",
     "text": [
      "INFO:tensorflow:Assets written to: /home/shared/model_checkpoint_paige/turku/lstm/assets\n",
      "WARNING:absl:<keras.layers.recurrent.LSTMCell object at 0x7f9ebb14a140> has the same name 'LSTMCell' as a built-in Keras object. Consider renaming <class 'keras.layers.recurrent.LSTMCell'> to avoid naming conflicts when loading with `tf.keras.models.load_model`. If renaming is not possible, pass the object in the `custom_objects` parameter of the load function.\n",
      "WARNING:absl:<keras.layers.recurrent.LSTMCell object at 0x7f9e989eb3d0> has the same name 'LSTMCell' as a built-in Keras object. Consider renaming <class 'keras.layers.recurrent.LSTMCell'> to avoid naming conflicts when loading with `tf.keras.models.load_model`. If renaming is not possible, pass the object in the `custom_objects` parameter of the load function.\n"
     ]
    },
    {
     "name": "stdout",
     "output_type": "stream",
     "text": [
      "447/447 [==============================] - 57s 127ms/step - loss: 0.4453 - seq_out_loss: 0.1186 - tot_out_loss: 0.3268 - seq_out_accuracy: 0.9577 - tot_out_accuracy: 0.8613 - val_loss: 0.5013 - val_seq_out_loss: 0.1353 - val_tot_out_loss: 0.3660 - val_seq_out_accuracy: 0.9519 - val_tot_out_accuracy: 0.8542\n",
      "Epoch 16/24\n",
      "447/447 [==============================] - ETA: 0s - loss: 0.4437 - seq_out_loss: 0.1185 - tot_out_loss: 0.3252 - seq_out_accuracy: 0.9576 - tot_out_accuracy: 0.8619\n",
      "Epoch 16: saving model to /home/shared/model_checkpoint_paige/turku/lstm\n"
     ]
    },
    {
     "name": "stderr",
     "output_type": "stream",
     "text": [
      "WARNING:absl:Found untraced functions such as lstm_cell_1_layer_call_fn, lstm_cell_1_layer_call_and_return_conditional_losses, lstm_cell_2_layer_call_fn, lstm_cell_2_layer_call_and_return_conditional_losses while saving (showing 4 of 4). These functions will not be directly callable after loading.\n"
     ]
    },
    {
     "name": "stdout",
     "output_type": "stream",
     "text": [
      "INFO:tensorflow:Assets written to: /home/shared/model_checkpoint_paige/turku/lstm/assets\n"
     ]
    },
    {
     "name": "stderr",
     "output_type": "stream",
     "text": [
      "INFO:tensorflow:Assets written to: /home/shared/model_checkpoint_paige/turku/lstm/assets\n",
      "WARNING:absl:<keras.layers.recurrent.LSTMCell object at 0x7f9ebb14a140> has the same name 'LSTMCell' as a built-in Keras object. Consider renaming <class 'keras.layers.recurrent.LSTMCell'> to avoid naming conflicts when loading with `tf.keras.models.load_model`. If renaming is not possible, pass the object in the `custom_objects` parameter of the load function.\n",
      "WARNING:absl:<keras.layers.recurrent.LSTMCell object at 0x7f9e989eb3d0> has the same name 'LSTMCell' as a built-in Keras object. Consider renaming <class 'keras.layers.recurrent.LSTMCell'> to avoid naming conflicts when loading with `tf.keras.models.load_model`. If renaming is not possible, pass the object in the `custom_objects` parameter of the load function.\n"
     ]
    },
    {
     "name": "stdout",
     "output_type": "stream",
     "text": [
      "447/447 [==============================] - 56s 125ms/step - loss: 0.4437 - seq_out_loss: 0.1185 - tot_out_loss: 0.3252 - seq_out_accuracy: 0.9576 - tot_out_accuracy: 0.8619 - val_loss: 0.4924 - val_seq_out_loss: 0.1330 - val_tot_out_loss: 0.3594 - val_seq_out_accuracy: 0.9527 - val_tot_out_accuracy: 0.8588\n",
      "Epoch 17/24\n",
      "447/447 [==============================] - ETA: 0s - loss: 0.4401 - seq_out_loss: 0.1178 - tot_out_loss: 0.3223 - seq_out_accuracy: 0.9576 - tot_out_accuracy: 0.8656\n",
      "Epoch 17: saving model to /home/shared/model_checkpoint_paige/turku/lstm\n"
     ]
    },
    {
     "name": "stderr",
     "output_type": "stream",
     "text": [
      "WARNING:absl:Found untraced functions such as lstm_cell_1_layer_call_fn, lstm_cell_1_layer_call_and_return_conditional_losses, lstm_cell_2_layer_call_fn, lstm_cell_2_layer_call_and_return_conditional_losses while saving (showing 4 of 4). These functions will not be directly callable after loading.\n"
     ]
    },
    {
     "name": "stdout",
     "output_type": "stream",
     "text": [
      "INFO:tensorflow:Assets written to: /home/shared/model_checkpoint_paige/turku/lstm/assets\n"
     ]
    },
    {
     "name": "stderr",
     "output_type": "stream",
     "text": [
      "INFO:tensorflow:Assets written to: /home/shared/model_checkpoint_paige/turku/lstm/assets\n",
      "WARNING:absl:<keras.layers.recurrent.LSTMCell object at 0x7f9ebb14a140> has the same name 'LSTMCell' as a built-in Keras object. Consider renaming <class 'keras.layers.recurrent.LSTMCell'> to avoid naming conflicts when loading with `tf.keras.models.load_model`. If renaming is not possible, pass the object in the `custom_objects` parameter of the load function.\n",
      "WARNING:absl:<keras.layers.recurrent.LSTMCell object at 0x7f9e989eb3d0> has the same name 'LSTMCell' as a built-in Keras object. Consider renaming <class 'keras.layers.recurrent.LSTMCell'> to avoid naming conflicts when loading with `tf.keras.models.load_model`. If renaming is not possible, pass the object in the `custom_objects` parameter of the load function.\n"
     ]
    },
    {
     "name": "stdout",
     "output_type": "stream",
     "text": [
      "447/447 [==============================] - 58s 129ms/step - loss: 0.4401 - seq_out_loss: 0.1178 - tot_out_loss: 0.3223 - seq_out_accuracy: 0.9576 - tot_out_accuracy: 0.8656 - val_loss: 0.4931 - val_seq_out_loss: 0.1302 - val_tot_out_loss: 0.3629 - val_seq_out_accuracy: 0.9525 - val_tot_out_accuracy: 0.8588\n",
      "Epoch 18/24\n",
      "447/447 [==============================] - ETA: 0s - loss: 0.4389 - seq_out_loss: 0.1184 - tot_out_loss: 0.3205 - seq_out_accuracy: 0.9570 - tot_out_accuracy: 0.8645\n",
      "Epoch 18: saving model to /home/shared/model_checkpoint_paige/turku/lstm\n"
     ]
    },
    {
     "name": "stderr",
     "output_type": "stream",
     "text": [
      "WARNING:absl:Found untraced functions such as lstm_cell_1_layer_call_fn, lstm_cell_1_layer_call_and_return_conditional_losses, lstm_cell_2_layer_call_fn, lstm_cell_2_layer_call_and_return_conditional_losses while saving (showing 4 of 4). These functions will not be directly callable after loading.\n"
     ]
    },
    {
     "name": "stdout",
     "output_type": "stream",
     "text": [
      "INFO:tensorflow:Assets written to: /home/shared/model_checkpoint_paige/turku/lstm/assets\n"
     ]
    },
    {
     "name": "stderr",
     "output_type": "stream",
     "text": [
      "INFO:tensorflow:Assets written to: /home/shared/model_checkpoint_paige/turku/lstm/assets\n",
      "WARNING:absl:<keras.layers.recurrent.LSTMCell object at 0x7f9ebb14a140> has the same name 'LSTMCell' as a built-in Keras object. Consider renaming <class 'keras.layers.recurrent.LSTMCell'> to avoid naming conflicts when loading with `tf.keras.models.load_model`. If renaming is not possible, pass the object in the `custom_objects` parameter of the load function.\n",
      "WARNING:absl:<keras.layers.recurrent.LSTMCell object at 0x7f9e989eb3d0> has the same name 'LSTMCell' as a built-in Keras object. Consider renaming <class 'keras.layers.recurrent.LSTMCell'> to avoid naming conflicts when loading with `tf.keras.models.load_model`. If renaming is not possible, pass the object in the `custom_objects` parameter of the load function.\n"
     ]
    },
    {
     "name": "stdout",
     "output_type": "stream",
     "text": [
      "447/447 [==============================] - 58s 129ms/step - loss: 0.4389 - seq_out_loss: 0.1184 - tot_out_loss: 0.3205 - seq_out_accuracy: 0.9570 - tot_out_accuracy: 0.8645 - val_loss: 0.4981 - val_seq_out_loss: 0.1291 - val_tot_out_loss: 0.3690 - val_seq_out_accuracy: 0.9542 - val_tot_out_accuracy: 0.8542\n",
      "Epoch 19/24\n",
      "447/447 [==============================] - ETA: 0s - loss: 0.4364 - seq_out_loss: 0.1168 - tot_out_loss: 0.3196 - seq_out_accuracy: 0.9580 - tot_out_accuracy: 0.8648\n",
      "Epoch 19: saving model to /home/shared/model_checkpoint_paige/turku/lstm\n"
     ]
    },
    {
     "name": "stderr",
     "output_type": "stream",
     "text": [
      "WARNING:absl:Found untraced functions such as lstm_cell_1_layer_call_fn, lstm_cell_1_layer_call_and_return_conditional_losses, lstm_cell_2_layer_call_fn, lstm_cell_2_layer_call_and_return_conditional_losses while saving (showing 4 of 4). These functions will not be directly callable after loading.\n"
     ]
    },
    {
     "name": "stdout",
     "output_type": "stream",
     "text": [
      "INFO:tensorflow:Assets written to: /home/shared/model_checkpoint_paige/turku/lstm/assets\n"
     ]
    },
    {
     "name": "stderr",
     "output_type": "stream",
     "text": [
      "INFO:tensorflow:Assets written to: /home/shared/model_checkpoint_paige/turku/lstm/assets\n",
      "WARNING:absl:<keras.layers.recurrent.LSTMCell object at 0x7f9ebb14a140> has the same name 'LSTMCell' as a built-in Keras object. Consider renaming <class 'keras.layers.recurrent.LSTMCell'> to avoid naming conflicts when loading with `tf.keras.models.load_model`. If renaming is not possible, pass the object in the `custom_objects` parameter of the load function.\n",
      "WARNING:absl:<keras.layers.recurrent.LSTMCell object at 0x7f9e989eb3d0> has the same name 'LSTMCell' as a built-in Keras object. Consider renaming <class 'keras.layers.recurrent.LSTMCell'> to avoid naming conflicts when loading with `tf.keras.models.load_model`. If renaming is not possible, pass the object in the `custom_objects` parameter of the load function.\n"
     ]
    },
    {
     "name": "stdout",
     "output_type": "stream",
     "text": [
      "447/447 [==============================] - 59s 133ms/step - loss: 0.4364 - seq_out_loss: 0.1168 - tot_out_loss: 0.3196 - seq_out_accuracy: 0.9580 - tot_out_accuracy: 0.8648 - val_loss: 0.5160 - val_seq_out_loss: 0.1306 - val_tot_out_loss: 0.3855 - val_seq_out_accuracy: 0.9532 - val_tot_out_accuracy: 0.8449\n",
      "Epoch 20/24\n",
      "447/447 [==============================] - ETA: 0s - loss: 0.4318 - seq_out_loss: 0.1169 - tot_out_loss: 0.3150 - seq_out_accuracy: 0.9580 - tot_out_accuracy: 0.8693\n",
      "Epoch 20: saving model to /home/shared/model_checkpoint_paige/turku/lstm\n"
     ]
    },
    {
     "name": "stderr",
     "output_type": "stream",
     "text": [
      "WARNING:absl:Found untraced functions such as lstm_cell_1_layer_call_fn, lstm_cell_1_layer_call_and_return_conditional_losses, lstm_cell_2_layer_call_fn, lstm_cell_2_layer_call_and_return_conditional_losses while saving (showing 4 of 4). These functions will not be directly callable after loading.\n"
     ]
    },
    {
     "name": "stdout",
     "output_type": "stream",
     "text": [
      "INFO:tensorflow:Assets written to: /home/shared/model_checkpoint_paige/turku/lstm/assets\n"
     ]
    },
    {
     "name": "stderr",
     "output_type": "stream",
     "text": [
      "INFO:tensorflow:Assets written to: /home/shared/model_checkpoint_paige/turku/lstm/assets\n",
      "WARNING:absl:<keras.layers.recurrent.LSTMCell object at 0x7f9ebb14a140> has the same name 'LSTMCell' as a built-in Keras object. Consider renaming <class 'keras.layers.recurrent.LSTMCell'> to avoid naming conflicts when loading with `tf.keras.models.load_model`. If renaming is not possible, pass the object in the `custom_objects` parameter of the load function.\n",
      "WARNING:absl:<keras.layers.recurrent.LSTMCell object at 0x7f9e989eb3d0> has the same name 'LSTMCell' as a built-in Keras object. Consider renaming <class 'keras.layers.recurrent.LSTMCell'> to avoid naming conflicts when loading with `tf.keras.models.load_model`. If renaming is not possible, pass the object in the `custom_objects` parameter of the load function.\n"
     ]
    },
    {
     "name": "stdout",
     "output_type": "stream",
     "text": [
      "447/447 [==============================] - 58s 130ms/step - loss: 0.4318 - seq_out_loss: 0.1169 - tot_out_loss: 0.3150 - seq_out_accuracy: 0.9580 - tot_out_accuracy: 0.8693 - val_loss: 0.5128 - val_seq_out_loss: 0.1326 - val_tot_out_loss: 0.3802 - val_seq_out_accuracy: 0.9523 - val_tot_out_accuracy: 0.8519\n",
      "Epoch 21/24\n",
      "447/447 [==============================] - ETA: 0s - loss: 0.4289 - seq_out_loss: 0.1169 - tot_out_loss: 0.3119 - seq_out_accuracy: 0.9583 - tot_out_accuracy: 0.8729\n",
      "Epoch 21: saving model to /home/shared/model_checkpoint_paige/turku/lstm\n"
     ]
    },
    {
     "name": "stderr",
     "output_type": "stream",
     "text": [
      "WARNING:absl:Found untraced functions such as lstm_cell_1_layer_call_fn, lstm_cell_1_layer_call_and_return_conditional_losses, lstm_cell_2_layer_call_fn, lstm_cell_2_layer_call_and_return_conditional_losses while saving (showing 4 of 4). These functions will not be directly callable after loading.\n"
     ]
    },
    {
     "name": "stdout",
     "output_type": "stream",
     "text": [
      "INFO:tensorflow:Assets written to: /home/shared/model_checkpoint_paige/turku/lstm/assets\n"
     ]
    },
    {
     "name": "stderr",
     "output_type": "stream",
     "text": [
      "INFO:tensorflow:Assets written to: /home/shared/model_checkpoint_paige/turku/lstm/assets\n",
      "WARNING:absl:<keras.layers.recurrent.LSTMCell object at 0x7f9ebb14a140> has the same name 'LSTMCell' as a built-in Keras object. Consider renaming <class 'keras.layers.recurrent.LSTMCell'> to avoid naming conflicts when loading with `tf.keras.models.load_model`. If renaming is not possible, pass the object in the `custom_objects` parameter of the load function.\n",
      "WARNING:absl:<keras.layers.recurrent.LSTMCell object at 0x7f9e989eb3d0> has the same name 'LSTMCell' as a built-in Keras object. Consider renaming <class 'keras.layers.recurrent.LSTMCell'> to avoid naming conflicts when loading with `tf.keras.models.load_model`. If renaming is not possible, pass the object in the `custom_objects` parameter of the load function.\n"
     ]
    },
    {
     "name": "stdout",
     "output_type": "stream",
     "text": [
      "447/447 [==============================] - 58s 130ms/step - loss: 0.4289 - seq_out_loss: 0.1169 - tot_out_loss: 0.3119 - seq_out_accuracy: 0.9583 - tot_out_accuracy: 0.8729 - val_loss: 0.5076 - val_seq_out_loss: 0.1336 - val_tot_out_loss: 0.3740 - val_seq_out_accuracy: 0.9529 - val_tot_out_accuracy: 0.8611\n",
      "Epoch 22/24\n",
      "447/447 [==============================] - ETA: 0s - loss: 0.4229 - seq_out_loss: 0.1176 - tot_out_loss: 0.3053 - seq_out_accuracy: 0.9577 - tot_out_accuracy: 0.8746\n",
      "Epoch 22: saving model to /home/shared/model_checkpoint_paige/turku/lstm\n"
     ]
    },
    {
     "name": "stderr",
     "output_type": "stream",
     "text": [
      "WARNING:absl:Found untraced functions such as lstm_cell_1_layer_call_fn, lstm_cell_1_layer_call_and_return_conditional_losses, lstm_cell_2_layer_call_fn, lstm_cell_2_layer_call_and_return_conditional_losses while saving (showing 4 of 4). These functions will not be directly callable after loading.\n"
     ]
    },
    {
     "name": "stdout",
     "output_type": "stream",
     "text": [
      "INFO:tensorflow:Assets written to: /home/shared/model_checkpoint_paige/turku/lstm/assets\n"
     ]
    },
    {
     "name": "stderr",
     "output_type": "stream",
     "text": [
      "INFO:tensorflow:Assets written to: /home/shared/model_checkpoint_paige/turku/lstm/assets\n",
      "WARNING:absl:<keras.layers.recurrent.LSTMCell object at 0x7f9ebb14a140> has the same name 'LSTMCell' as a built-in Keras object. Consider renaming <class 'keras.layers.recurrent.LSTMCell'> to avoid naming conflicts when loading with `tf.keras.models.load_model`. If renaming is not possible, pass the object in the `custom_objects` parameter of the load function.\n",
      "WARNING:absl:<keras.layers.recurrent.LSTMCell object at 0x7f9e989eb3d0> has the same name 'LSTMCell' as a built-in Keras object. Consider renaming <class 'keras.layers.recurrent.LSTMCell'> to avoid naming conflicts when loading with `tf.keras.models.load_model`. If renaming is not possible, pass the object in the `custom_objects` parameter of the load function.\n"
     ]
    },
    {
     "name": "stdout",
     "output_type": "stream",
     "text": [
      "447/447 [==============================] - 58s 130ms/step - loss: 0.4229 - seq_out_loss: 0.1176 - tot_out_loss: 0.3053 - seq_out_accuracy: 0.9577 - tot_out_accuracy: 0.8746 - val_loss: 0.5135 - val_seq_out_loss: 0.1358 - val_tot_out_loss: 0.3776 - val_seq_out_accuracy: 0.9515 - val_tot_out_accuracy: 0.8449\n",
      "Epoch 23/24\n",
      "447/447 [==============================] - ETA: 0s - loss: 0.4225 - seq_out_loss: 0.1158 - tot_out_loss: 0.3067 - seq_out_accuracy: 0.9584 - tot_out_accuracy: 0.8746\n",
      "Epoch 23: saving model to /home/shared/model_checkpoint_paige/turku/lstm\n"
     ]
    },
    {
     "name": "stderr",
     "output_type": "stream",
     "text": [
      "WARNING:absl:Found untraced functions such as lstm_cell_1_layer_call_fn, lstm_cell_1_layer_call_and_return_conditional_losses, lstm_cell_2_layer_call_fn, lstm_cell_2_layer_call_and_return_conditional_losses while saving (showing 4 of 4). These functions will not be directly callable after loading.\n"
     ]
    },
    {
     "name": "stdout",
     "output_type": "stream",
     "text": [
      "INFO:tensorflow:Assets written to: /home/shared/model_checkpoint_paige/turku/lstm/assets\n"
     ]
    },
    {
     "name": "stderr",
     "output_type": "stream",
     "text": [
      "INFO:tensorflow:Assets written to: /home/shared/model_checkpoint_paige/turku/lstm/assets\n",
      "WARNING:absl:<keras.layers.recurrent.LSTMCell object at 0x7f9ebb14a140> has the same name 'LSTMCell' as a built-in Keras object. Consider renaming <class 'keras.layers.recurrent.LSTMCell'> to avoid naming conflicts when loading with `tf.keras.models.load_model`. If renaming is not possible, pass the object in the `custom_objects` parameter of the load function.\n",
      "WARNING:absl:<keras.layers.recurrent.LSTMCell object at 0x7f9e989eb3d0> has the same name 'LSTMCell' as a built-in Keras object. Consider renaming <class 'keras.layers.recurrent.LSTMCell'> to avoid naming conflicts when loading with `tf.keras.models.load_model`. If renaming is not possible, pass the object in the `custom_objects` parameter of the load function.\n"
     ]
    },
    {
     "name": "stdout",
     "output_type": "stream",
     "text": [
      "447/447 [==============================] - 58s 130ms/step - loss: 0.4225 - seq_out_loss: 0.1158 - tot_out_loss: 0.3067 - seq_out_accuracy: 0.9584 - tot_out_accuracy: 0.8746 - val_loss: 0.5039 - val_seq_out_loss: 0.1306 - val_tot_out_loss: 0.3733 - val_seq_out_accuracy: 0.9531 - val_tot_out_accuracy: 0.8634\n",
      "Epoch 24/24\n",
      "447/447 [==============================] - ETA: 0s - loss: 0.4156 - seq_out_loss: 0.1159 - tot_out_loss: 0.2997 - seq_out_accuracy: 0.9582 - tot_out_accuracy: 0.8760\n",
      "Epoch 24: saving model to /home/shared/model_checkpoint_paige/turku/lstm\n"
     ]
    },
    {
     "name": "stderr",
     "output_type": "stream",
     "text": [
      "WARNING:absl:Found untraced functions such as lstm_cell_1_layer_call_fn, lstm_cell_1_layer_call_and_return_conditional_losses, lstm_cell_2_layer_call_fn, lstm_cell_2_layer_call_and_return_conditional_losses while saving (showing 4 of 4). These functions will not be directly callable after loading.\n"
     ]
    },
    {
     "name": "stdout",
     "output_type": "stream",
     "text": [
      "INFO:tensorflow:Assets written to: /home/shared/model_checkpoint_paige/turku/lstm/assets\n"
     ]
    },
    {
     "name": "stderr",
     "output_type": "stream",
     "text": [
      "INFO:tensorflow:Assets written to: /home/shared/model_checkpoint_paige/turku/lstm/assets\n",
      "WARNING:absl:<keras.layers.recurrent.LSTMCell object at 0x7f9ebb14a140> has the same name 'LSTMCell' as a built-in Keras object. Consider renaming <class 'keras.layers.recurrent.LSTMCell'> to avoid naming conflicts when loading with `tf.keras.models.load_model`. If renaming is not possible, pass the object in the `custom_objects` parameter of the load function.\n",
      "WARNING:absl:<keras.layers.recurrent.LSTMCell object at 0x7f9e989eb3d0> has the same name 'LSTMCell' as a built-in Keras object. Consider renaming <class 'keras.layers.recurrent.LSTMCell'> to avoid naming conflicts when loading with `tf.keras.models.load_model`. If renaming is not possible, pass the object in the `custom_objects` parameter of the load function.\n"
     ]
    },
    {
     "name": "stdout",
     "output_type": "stream",
     "text": [
      "\b\b\b\b\b\b\b\b\b\b\b\b\b\b\b\b\b\b\b\b\b\b\b\b\b\b\b\b\b\b\b\b\b\b\b\b\b\b\b\b\b\b\b\b\b\b\b\b\b\b\b\b\b\b\b\b\b\b\b\b\b\b\b\b\b\b\b\b\b\b\b\b\b\b\b\b\b\b\b\b\b\b\b\b\b\b\b\b\b\b\b\b\b\b\b\b\b\b\b\b\b\b\b\b\b\b\b\b\b\b\b\b\b\b\b\b\b\b\b\b\b\b\b\b\b\b\b\b\b\b\b\b\b\b\b\b\b\b\b\b\b\b\b\b\b\b\b\b\b\b\b\b\b\b\b\b\b\b\b\b\b\b\b\b\b\r",
      "447/447 [==============================] - 58s 129ms/step - loss: 0.4156 - seq_out_loss: 0.1159 - tot_out_loss: 0.2997 - seq_out_accuracy: 0.9582 - tot_out_accuracy: 0.8760 - val_loss: 0.5056 - val_seq_out_loss: 0.1326 - val_tot_out_loss: 0.3730 - val_seq_out_accuracy: 0.9514 - val_tot_out_accuracy: 0.8565\n"
     ]
    }
   ],
   "source": [
    "\n",
    "checkpoint_filepath = '/home/shared/model_checkpoint_paige/turku/lstm'\n",
    "\n",
    "\n",
    "opt = keras.optimizers.Nadam(learning_rate=0.001)\n",
    "model = get_turku_lstm(200,64)\n",
    "model.compile(loss=\"binary_crossentropy\", optimizer = opt, metrics=['accuracy'])\n",
    "\n",
    "mc = keras.callbacks.ModelCheckpoint(checkpoint_filepath, \n",
    "                                     monitor='val_loss', \n",
    "                                     verbose=1)\n",
    "\n",
    "history = model.fit(\n",
    "                    training_generator,\n",
    "                    epochs=24,\n",
    "                    validation_data=validation_generator,\n",
    "                    callbacks=[mc])"
   ]
  },
  {
   "cell_type": "code",
   "execution_count": 16,
   "id": "441b78c3",
   "metadata": {},
   "outputs": [
    {
     "name": "stderr",
     "output_type": "stream",
     "text": [
      "2022-10-11 15:04:58.370684: W tensorflow/core/util/tensor_slice_reader.cc:96] Could not open /home/shared/model_checkpoint_paige/turku/lstm_sm: FAILED_PRECONDITION: /home/shared/model_checkpoint_paige/turku/lstm_sm; Is a directory: perhaps your file is in a different file format and you need to use a different restore operator?\n"
     ]
    },
    {
     "name": "stdout",
     "output_type": "stream",
     "text": [
      "41/41 [==============================] - 4s 103ms/step - loss: 0.5870 - seq_out_loss: 0.1626 - tot_out_loss: 0.4244 - seq_out_accuracy: 0.9532 - tot_out_accuracy: 0.8445\n"
     ]
    },
    {
     "data": {
      "text/plain": [
       "[0.5869824290275574,\n",
       " 0.16258110105991364,\n",
       " 0.4244012236595154,\n",
       " 0.9531885385513306,\n",
       " 0.8445122241973877]"
      ]
     },
     "execution_count": 16,
     "metadata": {},
     "output_type": "execute_result"
    }
   ],
   "source": [
    "model.load_weights(checkpoint_filepath)\n",
    "model.evaluate(test_generator)"
   ]
  },
  {
   "cell_type": "code",
   "execution_count": 45,
   "id": "d7785e1f",
   "metadata": {},
   "outputs": [
    {
     "data": {
      "text/plain": [
       "665"
      ]
     },
     "execution_count": 45,
     "metadata": {},
     "output_type": "execute_result"
    }
   ],
   "source": [
    "len(test_ids)"
   ]
  },
  {
   "cell_type": "code",
   "execution_count": 18,
   "id": "958f3960",
   "metadata": {},
   "outputs": [],
   "source": [
    "test_generator = DataGenerator(np.arange(0,len(test_ids)), \n",
    "                               test_ids, \n",
    "                               num_features, \n",
    "                               MAX_SEQ_LENGTH, \n",
    "                               batch_size = 1,\n",
    "                               return_type='both',\n",
    "                               shuffle=False)\n",
    "x_test = np.zeros([665,96,64])\n",
    "y_test = np.zeros([665,1])\n",
    "y_seq_test = np.zeros([665,96,1])\n",
    "for i in range(0,665):\n",
    "    x_test[i],y= test_generator.__getitem__(i)\n",
    "    y_test[i] = y[1]\n",
    "    y_seq_test[i] = y[0]"
   ]
  },
  {
   "cell_type": "code",
   "execution_count": 19,
   "id": "81b16117",
   "metadata": {},
   "outputs": [
    {
     "name": "stdout",
     "output_type": "stream",
     "text": [
      " 0.6728110599078341 \n",
      " 0.9196428571428571 \n",
      " 0.8021978021978022 \n",
      " 0.8530020703933747 \n",
      " 0.8390977443609022\n",
      "[[146  71]\n",
      " [ 36 412]]\n"
     ]
    },
    {
     "data": {
      "text/plain": [
       "<sklearn.metrics._plot.roc_curve.RocCurveDisplay at 0x7fab3e0d3850>"
      ]
     },
     "execution_count": 19,
     "metadata": {},
     "output_type": "execute_result"
    },
    {
     "data": {
      "image/png": "[encoded data removed]",
      "text/plain": [
       "<Figure size 640x480 with 1 Axes>"
      ]
     },
     "metadata": {},
     "output_type": "display_data"
    }
   ],
   "source": [
    "from sklearn.metrics import confusion_matrix\n",
    "\n",
    "y_pred_seq, y_pred_tot = model.predict(x_test)\n",
    "\n",
    "cm = confusion_matrix(y_test, y_pred_tot.round())\n",
    "\n",
    "sepecifity = cm[1][1]/(cm[1][1]+cm[1][0])\n",
    "sensitivity = cm[0][0]/(cm[0][0]+cm[0][1])\n",
    "accuracy = (cm[1][1]+cm[0][0])/(cm[1][1]+cm[1][0]+cm[0][0]+cm[0][1])\n",
    "\n",
    "ppv = cm[0][0]/(cm[0][0]+cm[1][0])\n",
    "npv = cm[1][1]/(cm[1][1]+cm[0][1])\n",
    "\n",
    "print('',sensitivity,'\\n',sepecifity,'\\n',ppv,'\\n',npv,'\\n',accuracy)\n",
    "print(cm)\n",
    "\n",
    "from sklearn import metrics\n",
    "fpr, tpr, thresholds = metrics.roc_curve(y_test, y_pred_tot, pos_label=1)\n",
    "roc_auc = metrics.auc(fpr, tpr)\n",
    "display = metrics.RocCurveDisplay(fpr=fpr, tpr=tpr, roc_auc=roc_auc,\n",
    "                                  estimator_name='example estimator')\n",
    "display.plot()"
   ]
  },
  {
   "cell_type": "code",
   "execution_count": 8,
   "id": "2e629b34",
   "metadata": {},
   "outputs": [
    {
     "name": "stderr",
     "output_type": "stream",
     "text": [
      "2022-12-02 14:14:13.616834: I tensorflow/core/platform/cpu_feature_guard.cc:151] This TensorFlow binary is optimized with oneAPI Deep Neural Network Library (oneDNN) to use the following CPU instructions in performance-critical operations:  SSE4.1 SSE4.2 AVX AVX2 FMA\n",
      "To enable them in other operations, rebuild TensorFlow with the appropriate compiler flags.\n",
      "2022-12-02 14:14:15.774432: I tensorflow/core/common_runtime/gpu/gpu_device.cc:1525] Created device /job:localhost/replica:0/task:0/device:GPU:0 with 11470 MB memory:  -> device: 0, name: NVIDIA GeForce GTX TITAN X, pci bus id: 0000:06:00.0, compute capability: 5.2\n"
     ]
    },
    {
     "name": "stdout",
     "output_type": "stream",
     "text": [
      "0\n",
      "1\n"
     ]
    }
   ],
   "source": [
    "models = []\n",
    "model_partials = []\n",
    "for i in range(0,2):\n",
    "    models.append(get_model(1))\n",
    "    models[i].load_weights(MODEL_DIR + 'turku-incepres_fold_0'+ str(i) +'.h5')\n",
    "    model_partials.append(keras.models.Model(inputs=models[i].input, outputs=[models[i].layers[-2].output]))\n",
    "    print(i)"
   ]
  },
  {
   "cell_type": "code",
   "execution_count": null,
   "id": "51377f3d",
   "metadata": {
    "scrolled": true
   },
   "outputs": [
    {
     "name": "stderr",
     "output_type": "stream",
     "text": [
      "2022-12-02 14:14:59.964577: I tensorflow/stream_executor/cuda/cuda_dnn.cc:368] Loaded cuDNN version 8401\n",
      "2022-12-02 14:15:02.156107: W tensorflow/stream_executor/gpu/asm_compiler.cc:111] *** WARNING *** You are using ptxas 10.1.243, which is older than 11.1. ptxas before 11.1 is known to miscompile XLA code, leading to incorrect results or invalid-address errors.\n",
      "\n",
      "You may not need to update to CUDA 11.1; cherry-picking the ptxas binary is often sufficient.\n"
     ]
    },
    {
     "name": "stdout",
     "output_type": "stream",
     "text": [
      "0 time is:  2022-12-02 14:15:31.179433\n",
      "10 time is:  2022-12-02 14:19:06.563873\n",
      "20 time is:  2022-12-02 14:22:42.424030\n",
      "30 time is:  2022-12-02 14:26:06.339175\n",
      "40 time is:  2022-12-02 14:29:41.777184\n",
      "50 time is:  2022-12-02 14:32:30.859580\n",
      "60 time is:  2022-12-02 14:36:10.401866\n",
      "70 time is:  2022-12-02 14:39:39.737821\n",
      "80 time is:  2022-12-02 14:42:51.417499\n",
      "90 time is:  2022-12-02 14:45:45.100555\n",
      "100 time is:  2022-12-02 14:48:16.059106\n",
      "110 time is:  2022-12-02 14:50:56.812732\n",
      "120 time is:  2022-12-02 14:54:16.228083\n",
      "130 time is:  2022-12-02 14:57:18.604544\n",
      "140 time is:  2022-12-02 15:00:14.739360\n",
      "150 time is:  2022-12-02 15:03:08.525096\n",
      "160 time is:  2022-12-02 15:06:05.575629\n",
      "170 time is:  2022-12-02 15:08:58.887631\n",
      "180 time is:  2022-12-02 15:12:00.515995\n",
      "190 time is:  2022-12-02 15:14:56.175611\n",
      "200 time is:  2022-12-02 15:17:46.050480\n",
      "210 time is:  2022-12-02 15:20:57.897147\n",
      "220 time is:  2022-12-02 15:23:34.181473\n",
      "230 time is:  2022-12-02 15:26:26.961590\n",
      "240 time is:  2022-12-02 15:29:25.574545\n",
      "250 time is:  2022-12-02 15:31:59.343986\n",
      "260 time is:  2022-12-02 15:35:06.724563\n",
      "270 time is:  2022-12-02 15:38:08.445641\n",
      "280 time is:  2022-12-02 15:41:05.113244\n",
      "290 time is:  2022-12-02 15:44:00.579866\n",
      "300 time is:  2022-12-02 15:46:42.119795\n",
      "310 time is:  2022-12-02 15:49:02.394487\n",
      "320 time is:  2022-12-02 15:51:57.601821\n",
      "330 time is:  2022-12-02 15:55:02.812260\n",
      "340 time is:  2022-12-02 15:58:04.500820\n",
      "350 time is:  2022-12-02 16:01:00.555858\n",
      "360 time is:  2022-12-02 16:03:47.633081\n",
      "370 time is:  2022-12-02 16:06:20.654345\n",
      "380 time is:  2022-12-02 16:09:20.763717\n",
      "390 time is:  2022-12-02 16:12:45.877714\n",
      "400 time is:  2022-12-02 16:15:51.590458\n"
     ]
    }
   ],
   "source": [
    "import datetime\n",
    "import gc\n",
    "\n",
    "unique_ids = all_ids.StudyInstanceUID.unique()\n",
    "\n",
    "IMG_TYPE = MASKED\n",
    "IMAGE_PATH = '/home/shared/nps/imgs/'\n",
    "BATCH_SIZE = 64\n",
    "\n",
    "MAX = 2\n",
    "\n",
    "for i in range(0,len(unique_ids)):\n",
    "    exam_id = unique_ids[i]\n",
    "    exam = all_ids[all_ids.StudyInstanceUID == exam_id]\n",
    "    exam = exam.sort_values(by='ycoord')\n",
    "    exam_generator = DataSliceGenerator(exam, \n",
    "                                   IMAGE_PATH, \n",
    "                                   img_type = IMG_TYPE,\n",
    "                                   verbose=False, \n",
    "                                   set_type = 'test',\n",
    "                                   shuffle=False,\n",
    "                                   n_channels=1, \n",
    "                                   batch_size=1,\n",
    "                                   dim=386)\n",
    "    \n",
    "    x_test = np.zeros([len(exam),386,386,1])\n",
    "    for j in range(0,len(exam)):\n",
    "        x_test[j],_ = exam_generator.__getitem__(j)\n",
    "           \n",
    "    feats = np.zeros([MAX, len(exam),64])\n",
    "    results = np.zeros([MAX,len(exam),1])\n",
    "    for j in range(int(len(exam)/BATCH_SIZE)):\n",
    "        for k in range(0,MAX):\n",
    "            feats[k, j*BATCH_SIZE:(j+1)*BATCH_SIZE] = np.array(model_partials[k](x_test[j*BATCH_SIZE:(j+1)*BATCH_SIZE]))\n",
    "            results[k, j*BATCH_SIZE:(j+1)*BATCH_SIZE] = np.array(models[k](x_test[j*BATCH_SIZE:(j+1)*BATCH_SIZE]))\n",
    "    if len(exam)%BATCH_SIZE != 0:\n",
    "        for k in range(0,MAX):\n",
    "            feats[k, (j+1)*BATCH_SIZE:] = np.array(model_partials[k](x_test[(j+1)*BATCH_SIZE:]))\n",
    "            results[k, (j+1)*BATCH_SIZE:] = np.array(models[k](x_test[(j+1)*BATCH_SIZE:]))\n",
    "        \n",
    "    for k in range(0,MAX):\n",
    "        exam['features'] = feats[k].tolist()\n",
    "        exam['preds'] = results[k].tolist()\n",
    "        np.save('/home/shared/nps/turku_0'+ str(k)+ '/' + exam_id, exam.to_dict(orient='records'))\n",
    "\n",
    "    if i %10 == 0:\n",
    "        print(i, 'time is: ', datetime.datetime.now())\n",
    "        gc.collect()"
   ]
  },
  {
   "cell_type": "code",
   "execution_count": null,
   "id": "0253d7b9",
   "metadata": {},
   "outputs": [
    {
     "name": "stdout",
     "output_type": "stream",
     "text": [
      "2\n",
      "3\n",
      "4\n",
      "0 time is:  2022-12-03 19:24:03.967259\n",
      "10 time is:  2022-12-03 19:27:50.867344\n",
      "20 time is:  2022-12-03 19:31:44.469551\n",
      "30 time is:  2022-12-03 19:35:40.729277\n",
      "40 time is:  2022-12-03 19:39:43.032734\n",
      "50 time is:  2022-12-03 19:42:57.965260\n",
      "60 time is:  2022-12-03 19:47:21.485160\n",
      "70 time is:  2022-12-03 19:51:38.390659\n",
      "80 time is:  2022-12-03 19:55:45.362907\n",
      "90 time is:  2022-12-03 19:59:13.773276\n",
      "100 time is:  2022-12-03 20:02:33.682846\n",
      "110 time is:  2022-12-03 20:05:58.601448\n",
      "120 time is:  2022-12-03 20:10:11.698824\n",
      "130 time is:  2022-12-03 20:14:04.185687\n",
      "140 time is:  2022-12-03 20:17:38.397889\n",
      "150 time is:  2022-12-03 20:20:59.264195\n",
      "160 time is:  2022-12-03 20:24:37.974125\n",
      "170 time is:  2022-12-03 20:28:19.174748\n",
      "180 time is:  2022-12-03 20:32:04.380271\n",
      "190 time is:  2022-12-03 20:35:44.163386\n",
      "200 time is:  2022-12-03 20:39:27.069022\n"
     ]
    }
   ],
   "source": [
    "models = []\n",
    "model_partials = []\n",
    "\n",
    "MIN = 2\n",
    "MAX = 5\n",
    "for i in range(MIN,MAX):\n",
    "    models.append(get_model(1))\n",
    "    models[i-MIN].load_weights(MODEL_DIR + 'turku-incepres_fold_0'+ str(i) +'.h5')\n",
    "    model_partials.append(keras.models.Model(inputs=models[i-MIN].input, outputs=[models[i-MIN].layers[-2].output]))\n",
    "    print(i)\n",
    "    \n",
    "    \n",
    "unique_ids = all_ids.StudyInstanceUID.unique()\n",
    "\n",
    "IMG_TYPE = MASKED\n",
    "IMAGE_PATH = '/home/shared/nps/imgs/'\n",
    "BATCH_SIZE = 64\n",
    "\n",
    "for i in range(0,len(unique_ids)):\n",
    "    exam_id = unique_ids[i]\n",
    "    exam = all_ids[all_ids.StudyInstanceUID == exam_id]\n",
    "    exam = exam.sort_values(by='ycoord')\n",
    "    exam_generator = DataSliceGenerator(exam, \n",
    "                                   IMAGE_PATH, \n",
    "                                   img_type = IMG_TYPE,\n",
    "                                   verbose=False, \n",
    "                                   set_type = 'test',\n",
    "                                   shuffle=False,\n",
    "                                   n_channels=1, \n",
    "                                   batch_size=1,\n",
    "                                   dim=386)\n",
    "    \n",
    "    x_test = np.zeros([len(exam),386,386,1])\n",
    "    for j in range(0,len(exam)):\n",
    "        x_test[j],_ = exam_generator.__getitem__(j)\n",
    "           \n",
    "    feats = np.zeros([MAX-MIN, len(exam),64])\n",
    "    results = np.zeros([MAX-MIN,len(exam),1])\n",
    "    for j in range(int(len(exam)/BATCH_SIZE)):\n",
    "        for k in range(0,MAX-MIN):\n",
    "            feats[k, j*BATCH_SIZE:(j+1)*BATCH_SIZE] = np.array(model_partials[k](x_test[j*BATCH_SIZE:(j+1)*BATCH_SIZE]))\n",
    "            results[k, j*BATCH_SIZE:(j+1)*BATCH_SIZE] = np.array(models[k](x_test[j*BATCH_SIZE:(j+1)*BATCH_SIZE]))\n",
    "    if len(exam)%BATCH_SIZE != 0:\n",
    "        for k in range(0,MAX-MIN):\n",
    "            feats[k, (j+1)*BATCH_SIZE:] = np.array(model_partials[k](x_test[(j+1)*BATCH_SIZE:]))\n",
    "            results[k, (j+1)*BATCH_SIZE:] = np.array(models[k](x_test[(j+1)*BATCH_SIZE:]))\n",
    "        \n",
    "    for k in range(MIN,MAX):\n",
    "        exam['features'] = feats[k-MIN].tolist()\n",
    "        exam['preds'] = results[k-MIN].tolist()\n",
    "        np.save('/home/shared/nps/turku_0'+ str(k)+ '/' + exam_id, exam.to_dict(orient='records'))\n",
    "\n",
    "    if i %10 == 0:\n",
    "        print(i, 'time is: ', datetime.datetime.now())\n",
    "        gc.collect()"
   ]
  },
  {
   "cell_type": "code",
   "execution_count": null,
   "id": "3c45b6a9",
   "metadata": {},
   "outputs": [
    {
     "name": "stdout",
     "output_type": "stream",
     "text": [
      "hello?\n",
      "6787\n",
      "0 time is:  2022-12-06 11:41:10.238770\n"
     ]
    }
   ],
   "source": [
    "# import datetime\n",
    "# import gc\n",
    "\n",
    "# models = []\n",
    "# model_partials = []\n",
    "\n",
    "\n",
    "# MIN = 5\n",
    "# MAX = 8\n",
    "# for i in range(MIN,MAX):\n",
    "#     models.append(get_model(1))\n",
    "#     models[i-MIN].load_weights(MODEL_DIR + 'turku-incepres_fold_0'+ str(i) +'.h5')\n",
    "#     model_partials.append(keras.models.Model(inputs=models[i-MIN].input, outputs=[models[i-MIN].layers[-2].output]))\n",
    "#     print(i)\n",
    "    \n",
    "directory = '/home/shared/nps/turku_05/'\n",
    "\n",
    "lisdir = os.listdir(directory)\n",
    "print('hello?')\n",
    "print(len(lisdir))\n",
    "\n",
    "files = pd.DataFrame({'file_name':lisdir})\n",
    "files['StudyInstanceUID'] = files['file_name'].str.replace('.npy','')\n",
    "\n",
    "remaining = all_ids[~all_ids.StudyInstanceUID.isin(files.StudyInstanceUID.unique())]\n",
    "remaining = remaining.sort_values(by='StudyInstanceUID', ascending=False)\n",
    "\n",
    "unique_ids = remaining.StudyInstanceUID.unique()[:20]\n",
    "\n",
    "IMG_TYPE = MASKED\n",
    "IMAGE_PATH = '/home/shared/nps/imgs/'\n",
    "BATCH_SIZE = 64\n",
    "\n",
    "for i in range(0,len(unique_ids)):\n",
    "    exam_id = unique_ids[i]\n",
    "    exam = all_ids[all_ids.StudyInstanceUID == exam_id]\n",
    "    exam = exam.sort_values(by='ycoord')\n",
    "    exam_generator = DataSliceGenerator(exam, \n",
    "                                   IMAGE_PATH, \n",
    "                                   img_type = IMG_TYPE,\n",
    "                                   verbose=False, \n",
    "                                   set_type = 'test',\n",
    "                                   shuffle=False,\n",
    "                                   n_channels=1, \n",
    "                                   batch_size=1,\n",
    "                                   dim=386)\n",
    "    \n",
    "    x_test = np.zeros([len(exam),386,386,1])\n",
    "    for j in range(0,len(exam)):\n",
    "        x_test[j],_ = exam_generator.__getitem__(j)\n",
    "           \n",
    "    feats = np.zeros([MAX-MIN, len(exam),64])\n",
    "    results = np.zeros([MAX-MIN,len(exam),1])\n",
    "    for j in range(int(len(exam)/BATCH_SIZE)):\n",
    "        for k in range(0,MAX-MIN):\n",
    "            feats[k, j*BATCH_SIZE:(j+1)*BATCH_SIZE] = np.array(model_partials[k](x_test[j*BATCH_SIZE:(j+1)*BATCH_SIZE]))\n",
    "            results[k, j*BATCH_SIZE:(j+1)*BATCH_SIZE] = np.array(models[k](x_test[j*BATCH_SIZE:(j+1)*BATCH_SIZE]))\n",
    "    if len(exam)%BATCH_SIZE != 0:\n",
    "        for k in range(0,MAX-MIN):\n",
    "            feats[k, (j+1)*BATCH_SIZE:] = np.array(model_partials[k](x_test[(j+1)*BATCH_SIZE:]))\n",
    "            results[k, (j+1)*BATCH_SIZE:] = np.array(models[k](x_test[(j+1)*BATCH_SIZE:]))\n",
    "        \n",
    "    for k in range(MIN,MAX):\n",
    "        exam['features'] = feats[k-MIN].tolist()\n",
    "        exam['preds'] = results[k-MIN].tolist()\n",
    "        np.save('/home/shared/nps/turku_0'+ str(k)+ '/' + exam_id, exam.to_dict(orient='records'))\n",
    "\n",
    "    if i %10 == 0:\n",
    "        print(i, 'time is: ', datetime.datetime.now())\n",
    "        gc.collect()"
   ]
  }
 ],
 "metadata": {
  "kernelspec": {
   "display_name": "tf-gpu",
   "language": "python",
   "name": "tf-gpu"
  },
  "language_info": {
   "codemirror_mode": {
    "name": "ipython",
    "version": 3
   },
   "file_extension": ".py",
   "mimetype": "text/x-python",
   "name": "python",
   "nbconvert_exporter": "python",
   "pygments_lexer": "ipython3",
   "version": "3.10.6"
  }
 },
 "nbformat": 4,
 "nbformat_minor": 5
}
