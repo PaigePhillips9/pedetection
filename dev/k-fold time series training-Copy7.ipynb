{
 "cells": [
  {
   "cell_type": "code",
   "execution_count": 2,
   "id": "64c68948",
   "metadata": {},
   "outputs": [
    {
     "name": "stdout",
     "output_type": "stream",
     "text": [
      "2.8.1\n",
      "2.8.0\n",
      "Num GPUs Available:  1\n"
     ]
    }
   ],
   "source": [
    "import numpy as np\n",
    "import pydicom\n",
    "import os\n",
    "import matplotlib.pyplot as plt\n",
    "from glob import glob\n",
    "from mpl_toolkits.mplot3d.art3d import Poly3DCollection\n",
    "import scipy.ndimage\n",
    "from skimage import morphology\n",
    "from skimage import measure\n",
    "from skimage.transform import resize\n",
    "from sklearn.cluster import KMeans\n",
    "from skimage import filters\n",
    "\n",
    "import tensorflow as tf\n",
    "from tensorflow.keras import Model, Sequential \n",
    "from tensorflow.keras.utils import Sequence\n",
    "from tensorflow.keras.layers import Conv2D, MultiHeadAttention, AveragePooling2D, GlobalAveragePooling2D, MaxPooling2D , Conv3D, Layer, MaxPooling2D, Dropout, Flatten, Dense, GRU, ConvLSTM2D, Input, BatchNormalization, TimeDistributed, MaxPooling3D, Bidirectional, LSTM\n",
    "from tensorflow.keras.optimizers import Adam\n",
    "from random import shuffle\n",
    "from tensorflow.keras.regularizers import l2\n",
    "\n",
    "# from tensorflow_docs.vis import embed\n",
    "from tensorflow.keras import layers\n",
    "from tensorflow import keras\n",
    "from keras.models import Model, load_model\n",
    "\n",
    "\n",
    "# import cv2\n",
    "# import imageio\n",
    "# import cv2\n",
    "\n",
    "import numpy as np\n",
    "import os\n",
    "import sys\n",
    "\n",
    "import matplotlib.pyplot as plt\n",
    "import pandas as pd\n",
    "# import seaborn as sns\n",
    "# import IPython\n",
    "# from six.moves import urllib\n",
    "print(tf.__version__)\n",
    "print(keras.__version__)\n",
    "import pydicom\n",
    "import re\n",
    "import math\n",
    "import random\n",
    "# import bisect\n",
    "np.random.seed(1234)\n",
    "os.environ[\"CUDA_VISIBLE_DEVICES\"] = \"2\"\n",
    "print(\"Num GPUs Available: \", len(tf.config.list_physical_devices('GPU')))\n",
    "import warnings\n",
    "warnings.filterwarnings(action='once')\n",
    "\n",
    "MAX_SEQ_LENGTH = 200\n",
    "NUM_FEATURES = 1024\n",
    "IMG_SIZE = 512\n",
    "BATCH_SIZE = 4\n",
    "EPOCHS = 2\n",
    "NUM_SCANS = 8\n",
    "NUM_CHANNELS = 1\n",
    "INPUT_DIM = 256\n",
    "\n",
    "keras.utils.set_random_seed(1)\n",
    "random.seed(1)\n",
    "np.random.seed(1)"
   ]
  },
  {
   "cell_type": "code",
   "execution_count": 2,
   "id": "5dd2400c",
   "metadata": {},
   "outputs": [],
   "source": [
    "test = pd.read_csv('/home/data/pe/test.csv')"
   ]
  },
  {
   "cell_type": "code",
   "execution_count": 144,
   "id": "c26fd53c",
   "metadata": {},
   "outputs": [],
   "source": [
    "pos = pd.read_csv('/home/data/new_PE_annotations/PE_positive_labels_April_2022.csv')"
   ]
  },
  {
   "cell_type": "code",
   "execution_count": 138,
   "id": "5de62db0",
   "metadata": {},
   "outputs": [
    {
     "data": {
      "text/plain": [
       "0"
      ]
     },
     "execution_count": 138,
     "metadata": {},
     "output_type": "execute_result"
    }
   ],
   "source": [
    "sample.id.isin(all_ids.StudyInstanceUID).sum()"
   ]
  },
  {
   "cell_type": "code",
   "execution_count": 143,
   "id": "883244b6",
   "metadata": {},
   "outputs": [
    {
     "data": {
      "text/plain": [
       "0"
      ]
     },
     "execution_count": 143,
     "metadata": {},
     "output_type": "execute_result"
    }
   ],
   "source": [
    "all_ids.StudyInstanceUID.isin(test.StudyInstanceUID).sum()"
   ]
  },
  {
   "cell_type": "code",
   "execution_count": 147,
   "id": "9f446d9e",
   "metadata": {},
   "outputs": [
    {
     "data": {
      "text/plain": [
       "0"
      ]
     },
     "execution_count": 147,
     "metadata": {},
     "output_type": "execute_result"
    }
   ],
   "source": [
    "pos.StudyInstanceUID.isin(test.StudyInstanceUID).sum()"
   ]
  },
  {
   "cell_type": "code",
   "execution_count": 3,
   "id": "6d208901",
   "metadata": {},
   "outputs": [
    {
     "name": "stderr",
     "output_type": "stream",
     "text": [
      "/tmp/ipykernel_3552920/3829534473.py:2: DtypeWarning: Columns (17) have mixed types. Specify dtype option on import or set low_memory=False.\n",
      "  all_ids = pd.read_csv('all_ids_updated.csv')\n"
     ]
    },
    {
     "name": "stdout",
     "output_type": "stream",
     "text": [
      "hello?\n",
      "6813\n"
     ]
    },
    {
     "name": "stderr",
     "output_type": "stream",
     "text": [
      "/tmp/ipykernel_3552920/3829534473.py:14: FutureWarning: The default value of regex will change from True to False in a future version.\n",
      "  files['StudyInstanceUID'] = files['file_name'].str.replace('.npy','')\n"
     ]
    }
   ],
   "source": [
    "fold = 0\n",
    "all_ids = pd.read_csv('all_ids_updated.csv')\n",
    "all_ids.ycoord = all_ids.ycoord.replace('True', '1.0').astype('float')\n",
    "all_ids = all_ids.drop_duplicates('StudyInstanceUID')\n",
    "fold_df = pd.read_csv('folds.csv')\n",
    "\n",
    "directory = '/home/shared/nps/coat_np_0' + str(fold) + '/'\n",
    "\n",
    "lisdir = os.listdir(directory)\n",
    "print('hello?')\n",
    "print(len(lisdir))\n",
    "\n",
    "files = pd.DataFrame({'file_name':lisdir})\n",
    "files['StudyInstanceUID'] = files['file_name'].str.replace('.npy','')\n",
    "files = pd.merge(files, all_ids)\n",
    "files = files.drop(columns=['SeriesInstanceUID', 'SOPInstanceUID',\n",
    "       'pe_present_on_image','ycoord', 'contains_lung'])\n",
    "files = pd.merge(files, fold_df)\n",
    "    "
   ]
  },
  {
   "cell_type": "code",
   "execution_count": 4,
   "id": "17b7f4fa",
   "metadata": {},
   "outputs": [],
   "source": [
    "num_features = 64\n",
    "MAX_SEQ_LENGTH = 200\n",
    "\n",
    "class DataGenerator(Sequence):\n",
    "    \"\"\"Generates data for Keras\n",
    "    Sequence based data generator. Suitable for building data generator for training and prediction.\n",
    "    \"\"\"\n",
    "    def __init__(self, list_IDs, study_ids, num_features, directory,\n",
    "                 seq_length, return_type = 'both', to_fit=True, batch_size=32, \n",
    "                 shuffle=True, full_set = None, random=False, set_type='test',\n",
    "                 feat_type = 'feats', oversample=True, crop=False ):\n",
    "\n",
    "        self.list_IDs = list_IDs\n",
    "        self.study_ids = study_ids\n",
    "        self.to_fit = to_fit\n",
    "        self.batch_size = batch_size\n",
    "        self.shuffle = shuffle\n",
    "        self.num_features = num_features\n",
    "        self.seq_length = seq_length\n",
    "        self.full_set = full_set\n",
    "        self.return_type = return_type\n",
    "        self.random = random\n",
    "        warnings.filterwarnings(action='ignore')\n",
    "        self.directory = directory\n",
    "        self.set_type = set_type\n",
    "        self.feat_type = feat_type\n",
    "        self.oversample=oversample\n",
    "        self.crop= crop\n",
    "        \n",
    "        if self.set_type == 'val':\n",
    "            sample_pos = self.full_set[self.full_set.negative_exam_for_pe == False]\n",
    "            sample_neg = self.full_set[self.full_set.negative_exam_for_pe == True]\n",
    "            self.study_ids = pd.concat([sample_pos, sample_neg.sample(n=len(sample_pos))]).sample(frac = 1).reset_index(drop=True)\n",
    "            self.list_IDs = np.arange(0, len(self.study_ids))\n",
    "        self.on_epoch_end()\n",
    "            \n",
    "        \n",
    "    def __len__(self):\n",
    "        \"\"\"Denotes the number of batches per epoch\n",
    "        :return: number of batches per epoch\n",
    "        \"\"\"\n",
    "        return int(np.floor(len(self.list_IDs) / self.batch_size))\n",
    "\n",
    "\n",
    "    def __getitem__(self, index):\n",
    "#         print('starting')\n",
    "        indexes = self.list_IDs[index * self.batch_size:((index+1) * self.batch_size)]\n",
    "        x_feats = np.zeros([self.batch_size, self.seq_length, self.num_features])\n",
    "        y_seq = np.zeros([self.batch_size, self.seq_length, 1])\n",
    "        y_tot = np.zeros([self.batch_size, 1])\n",
    "        for i in range(0,self.batch_size):\n",
    "            x, y = self._get_scan_data(self.study_ids.iloc[indexes[i]].StudyInstanceUID)\n",
    "            x_feats[i] = x\n",
    "            y_seq[i] = y[0]\n",
    "            y_tot[i] = y[1]\n",
    "            \n",
    "        if self.to_fit:\n",
    "            if self.return_type =='both':\n",
    "                y = [np.array(y_seq), y_tot]\n",
    "            elif self.return_type == 'seq':\n",
    "                y = y_seq\n",
    "            elif self.return_type == 'tot':\n",
    "                y = y_tot\n",
    "            else:\n",
    "                print('valid return types are both, seq and tot')\n",
    "                return False\n",
    "            x = x_feats\n",
    "            return x, y\n",
    "        else:\n",
    "            return (X)\n",
    "        \n",
    "    def on_epoch_end(self):\n",
    "        \"\"\"Updates indexes after each epoch\n",
    "        \"\"\"\n",
    "        if self.set_type == 'train':\n",
    "            sample_pos = self.full_set[self.full_set.negative_exam_for_pe == False]\n",
    "            sample_neg = self.full_set[self.full_set.negative_exam_for_pe == True]\n",
    "            if self.oversample == False:\n",
    "                self.study_ids = pd.concat([sample_pos, sample_neg.sample(n=len(sample_pos))]).sample(frac=1).reset_index(drop=True)\n",
    "            else:\n",
    "                self.study_ids = pd.concat([sample_pos.sample(n=len(sample_neg), replace=True), sample_neg]).sample(frac = 1).reset_index(drop=True)\n",
    "            self.list_IDs = np.arange(0, len(self.study_ids))\n",
    "        if self.shuffle == True:\n",
    "            np.random.shuffle(self.list_IDs)\n",
    "            \n",
    "    def _get_scan_data(self, study_id):\n",
    "        scan = pd.DataFrame(np.load(self.directory +study_id + '.npy', allow_pickle=True).tolist())\n",
    "        scan.ycoord = scan.ycoord.replace('True', '1.0').astype('float')\n",
    "        scan = scan.sort_values(by=['ycoord'], ascending=False).reset_index(drop=True)\n",
    "        \n",
    "        features = scan.features.tolist()\n",
    "        seq = scan.pe_present_on_image.tolist()\n",
    "        seq = np.reshape(seq, [len(seq),1])\n",
    "        tot = self.study_ids[self.study_ids.StudyInstanceUID == study_id].negative_exam_for_pe.iloc[0]\n",
    "        \n",
    "        if self.set_type == 'train' and self.random == True:\n",
    "            new_len = int(len(scan) * (random.random()*0.25 +0.9))\n",
    "            inst = np.round(np.arange(0,new_len)/new_len*len(features)).astype(int)\n",
    "            features = (np.array(features)[inst]).tolist()\n",
    "            seq = seq[inst]   \n",
    "            \n",
    "            new_len = int(len(features)*(1 - np.random.random() * 0.05))\n",
    "            new_start = int(np.random.random() * (len(features)- new_len))\n",
    "            features = features[new_start:new_start+new_len]\n",
    "            seq = seq[new_start:new_start+new_len]        \n",
    "        \n",
    "        \n",
    "        if len(features)>=self.seq_length:\n",
    "            if self.crop==False:\n",
    "                inst = np.round(np.arange(0,self.seq_length)/self.seq_length*len(features)).astype(int)\n",
    "                xs = (np.array(features)[inst]).tolist()\n",
    "                ys = seq[inst]\n",
    "            if self.crop==True:\n",
    "                xs = (np.array(features)[:self.seq_length]).tolist()\n",
    "                ys = seq[:self.seq_length]\n",
    "        else:\n",
    "            xs = np.zeros([self.seq_length, self.num_features])\n",
    "            ys = np.zeros([self.seq_length, 1])\n",
    "\n",
    "            start = int(np.floor((self.seq_length - len(features))/2))\n",
    "            end = start + len(features)\n",
    "            xs[start:end] = features\n",
    "            ys[start:end] = seq\n",
    "\n",
    "        ys = ys.tolist()\n",
    "                    \n",
    "        return (xs, [ys, tot])\n",
    "\n",
    "    \n",
    "def get_generators(df, fold, batch_size, out, feat, random, seq_len=200, crop=True, np_dir='/home/shared/coat_np_0', osa=True, test_only=False):\n",
    "\n",
    "    dire = np_dir + str(fold) + '/'\n",
    "\n",
    "    if test_only:\n",
    "        return DataGenerator(np.arange(0, len(df)),\n",
    "                                    df, \n",
    "                                    64,\n",
    "                                    dire,\n",
    "                                    seq_len,\n",
    "                                    batch_size=batch_size,\n",
    "                                    set_type = 'test',\n",
    "                                    return_type=out,\n",
    "                                    feat_type=feat,\n",
    "                                    crop=crop,\n",
    "                                    shuffle=False)\n",
    "    \n",
    "    test_df = df[df.fold == fold]\n",
    "    train_df = df[df.fold != fold]\n",
    "        \n",
    "    print(train_df.fold.unique())\n",
    "    print(test_df.fold.unique())\n",
    "    test_generator = DataGenerator(np.arange(0, len(test_df)),\n",
    "                                    test_df, \n",
    "                                    64,\n",
    "                                    dire,\n",
    "                                    seq_len,\n",
    "                                    batch_size=batch_size,\n",
    "                                    set_type = 'test',\n",
    "                                    return_type=out,\n",
    "                                    feat_type=feat,\n",
    "                                    crop=crop)\n",
    "    \n",
    "    val_generator = DataGenerator(np.arange(0, len(test_df)),\n",
    "                                  test_df, \n",
    "                                  64,\n",
    "                                  dire,\n",
    "                                  seq_len,\n",
    "                                  batch_size=batch_size,\n",
    "                                  set_type ='val',\n",
    "                                  full_set=test_df,\n",
    "                                  return_type=out,\n",
    "                                  feat_type=feat,\n",
    "                                  crop=crop)\n",
    "    \n",
    "    train_generator = DataGenerator(np.arange(0, len(train_df)),\n",
    "                                  train_df, \n",
    "                                  64,\n",
    "                                  dire,\n",
    "                                  seq_len,\n",
    "                                  batch_size=batch_size,\n",
    "                                  set_type ='train',\n",
    "                                  full_set = train_df,\n",
    "                                  random = random,\n",
    "                                  return_type=out,\n",
    "                                  feat_type=feat,\n",
    "                                  crop=crop,\n",
    "                                  oversample=osa)\n",
    "    \n",
    "    return train_generator, val_generator, test_generator"
   ]
  },
  {
   "cell_type": "code",
   "execution_count": 5,
   "id": "1c54eeaf",
   "metadata": {
    "scrolled": true
   },
   "outputs": [],
   "source": [
    "def get_attn_lstm(seq_len, noise=0.001):\n",
    "        num_heads = 1\n",
    "        key_dim = 8\n",
    "        inputs = keras.Input(shape=(seq_len, 64))\n",
    "        x = layers.BatchNormalization()(inputs)\n",
    "        x = layers.GaussianNoise(noise)(x)\n",
    "        x = layers.TimeDistributed(layers.Dropout(0.3))(x)\n",
    "        attn = layers.MultiHeadAttention(num_heads=num_heads,\n",
    "                                                     key_dim=key_dim, \n",
    "                                                     dropout=0.4\n",
    "                                                    )(x, x)\n",
    "        attn = layers.LayerNormalization()(attn)\n",
    "        x = layers.Add()((x,attn))\n",
    "        x = layers.TimeDistributed(layers.Dropout(0.4))(x)\n",
    "        x = layers.Bidirectional(layers.LSTM(units=8, \n",
    "                                             return_sequences=True,\n",
    "                                             dropout=0.3, \n",
    "                                             recurrent_regularizer=keras.regularizers.L2(0.01),\n",
    "                                            ))(x)\n",
    "        x = layers.TimeDistributed(layers.Dropout(0.4))(x)\n",
    "        x = layers.LSTM(units=8, return_sequences=True,\n",
    "                        dropout=0.3, \n",
    "#                         bias_regularizer=keras.regularizers.L2(0.005)\n",
    "                       )(x)\n",
    "        x = layers.TimeDistributed(layers.Dropout(0.4))(x)\n",
    "        x = layers.Bidirectional(layers.LSTM(units=8,\n",
    "                                             return_sequences=False, \n",
    "                                             dropout=0.3,\n",
    "#                                              bias_regularizer=keras.regularizers.L2(0.005),\n",
    "                                            ))(x)\n",
    "        x = layers.Dropout(0.4)(x)\n",
    "        stack_outputs = layers.Dense(1, activation='sigmoid', name='tot_out')(x)\n",
    "\n",
    "        model = keras.models.Model(inputs=inputs, outputs=stack_outputs)\n",
    "        \n",
    "\n",
    "        return model"
   ]
  },
  {
   "cell_type": "code",
   "execution_count": 6,
   "id": "65015db2",
   "metadata": {},
   "outputs": [],
   "source": [
    "files = files[files.indeterminate == False].reset_index(drop=True)"
   ]
  },
  {
   "cell_type": "code",
   "execution_count": 7,
   "id": "a4ec620d",
   "metadata": {},
   "outputs": [],
   "source": [
    "seq_len = 208\n",
    "from sklearn.metrics import confusion_matrix\n",
    "from sklearn import metrics"
   ]
  },
  {
   "cell_type": "code",
   "execution_count": 40,
   "id": "0a912fae",
   "metadata": {
    "scrolled": true
   },
   "outputs": [
    {
     "name": "stdout",
     "output_type": "stream",
     "text": [
      "[0 4 8 6 7 9 1 3 5]\n",
      "[2]\n",
      "Model: \"model\"\n",
      "__________________________________________________________________________________________________\n",
      " Layer (type)                   Output Shape         Param #     Connected to                     \n",
      "==================================================================================================\n",
      " input_1 (InputLayer)           [(None, 208, 64)]    0           []                               \n",
      "                                                                                                  \n",
      " batch_normalization (BatchNorm  (None, 208, 64)     256         ['input_1[0][0]']                \n",
      " alization)                                                                                       \n",
      "                                                                                                  \n",
      " gaussian_noise (GaussianNoise)  (None, 208, 64)     0           ['batch_normalization[0][0]']    \n",
      "                                                                                                  \n",
      " time_distributed (TimeDistribu  (None, 208, 64)     0           ['gaussian_noise[0][0]']         \n",
      " ted)                                                                                             \n",
      "                                                                                                  \n",
      " multi_head_attention (MultiHea  (None, 208, 64)     2136        ['time_distributed[0][0]',       \n",
      " dAttention)                                                      'time_distributed[0][0]']       \n",
      "                                                                                                  \n",
      " layer_normalization (LayerNorm  (None, 208, 64)     128         ['multi_head_attention[0][0]']   \n",
      " alization)                                                                                       \n",
      "                                                                                                  \n",
      " add (Add)                      (None, 208, 64)      0           ['time_distributed[0][0]',       \n",
      "                                                                  'layer_normalization[0][0]']    \n",
      "                                                                                                  \n",
      " time_distributed_1 (TimeDistri  (None, 208, 64)     0           ['add[0][0]']                    \n",
      " buted)                                                                                           \n",
      "                                                                                                  \n",
      " bidirectional (Bidirectional)  (None, 208, 16)      4672        ['time_distributed_1[0][0]']     \n",
      "                                                                                                  \n",
      " time_distributed_2 (TimeDistri  (None, 208, 16)     0           ['bidirectional[0][0]']          \n",
      " buted)                                                                                           \n",
      "                                                                                                  \n",
      " lstm_1 (LSTM)                  (None, 208, 8)       800         ['time_distributed_2[0][0]']     \n",
      "                                                                                                  \n",
      " time_distributed_3 (TimeDistri  (None, 208, 8)      0           ['lstm_1[0][0]']                 \n",
      " buted)                                                                                           \n",
      "                                                                                                  \n",
      " bidirectional_1 (Bidirectional  (None, 16)          1088        ['time_distributed_3[0][0]']     \n",
      " )                                                                                                \n",
      "                                                                                                  \n",
      " dropout_4 (Dropout)            (None, 16)           0           ['bidirectional_1[0][0]']        \n",
      "                                                                                                  \n",
      " tot_out (Dense)                (None, 1)            17          ['dropout_4[0][0]']              \n",
      "                                                                                                  \n",
      "==================================================================================================\n",
      "Total params: 9,097\n",
      "Trainable params: 8,969\n",
      "Non-trainable params: 128\n",
      "__________________________________________________________________________________________________\n",
      "Epoch 1/15\n",
      "121/121 [==============================] - ETA: 0s - loss: 0.5876 - accuracy: 0.8171\n",
      "Epoch 1: val_loss improved from inf to 0.48709, saving model to /home/shared/model_checkpoint_paige/scan/reg5-kfold_02\n",
      "121/121 [==============================] - 46s 325ms/step - loss: 0.5876 - accuracy: 0.8171 - val_loss: 0.4871 - val_accuracy: 0.8371 - lr: 0.0010\n",
      "Epoch 2/15\n",
      "121/121 [==============================] - ETA: 0s - loss: 0.3945 - accuracy: 0.8662\n",
      "Epoch 2: val_loss improved from 0.48709 to 0.44545, saving model to /home/shared/model_checkpoint_paige/scan/reg5-kfold_02\n",
      "121/121 [==============================] - 37s 302ms/step - loss: 0.3945 - accuracy: 0.8662 - val_loss: 0.4455 - val_accuracy: 0.7879 - lr: 1.0000e-03\n",
      "Epoch 3/15\n",
      "121/121 [==============================] - ETA: 0s - loss: 0.3525 - accuracy: 0.8657\n",
      "Epoch 3: val_loss improved from 0.44545 to 0.41233, saving model to /home/shared/model_checkpoint_paige/scan/reg5-kfold_02\n",
      "121/121 [==============================] - 37s 304ms/step - loss: 0.3525 - accuracy: 0.8657 - val_loss: 0.4123 - val_accuracy: 0.8348 - lr: 9.9999e-04\n",
      "Epoch 4/15\n",
      "121/121 [==============================] - ETA: 0s - loss: 0.3328 - accuracy: 0.8719\n",
      "Epoch 4: val_loss improved from 0.41233 to 0.39493, saving model to /home/shared/model_checkpoint_paige/scan/reg5-kfold_02\n",
      "121/121 [==============================] - 37s 309ms/step - loss: 0.3328 - accuracy: 0.8719 - val_loss: 0.3949 - val_accuracy: 0.8348 - lr: 9.9998e-04\n",
      "Epoch 5/15\n",
      "121/121 [==============================] - ETA: 0s - loss: 0.3332 - accuracy: 0.8654\n",
      "Epoch 5: val_loss improved from 0.39493 to 0.39428, saving model to /home/shared/model_checkpoint_paige/scan/reg5-kfold_02\n",
      "121/121 [==============================] - 37s 303ms/step - loss: 0.3332 - accuracy: 0.8654 - val_loss: 0.3943 - val_accuracy: 0.8304 - lr: 9.9998e-04\n",
      "Epoch 6/15\n",
      "121/121 [==============================] - ETA: 0s - loss: 0.3332 - accuracy: 0.8698\n",
      "Epoch 6: val_loss improved from 0.39428 to 0.39268, saving model to /home/shared/model_checkpoint_paige/scan/reg5-kfold_02\n",
      "121/121 [==============================] - 37s 303ms/step - loss: 0.3332 - accuracy: 0.8698 - val_loss: 0.3927 - val_accuracy: 0.8237 - lr: 9.9997e-04\n",
      "Epoch 7/15\n",
      "121/121 [==============================] - ETA: 0s - loss: 0.3116 - accuracy: 0.8716\n",
      "Epoch 7: val_loss did not improve from 0.39268\n",
      "121/121 [==============================] - 37s 307ms/step - loss: 0.3116 - accuracy: 0.8716 - val_loss: 0.4087 - val_accuracy: 0.8237 - lr: 9.9997e-04\n",
      "Epoch 8/15\n",
      "121/121 [==============================] - ETA: 0s - loss: 0.3182 - accuracy: 0.8784\n",
      "Epoch 8: val_loss did not improve from 0.39268\n",
      "121/121 [==============================] - 37s 302ms/step - loss: 0.3182 - accuracy: 0.8784 - val_loss: 0.4003 - val_accuracy: 0.8259 - lr: 9.9996e-04\n",
      "Epoch 9/15\n",
      "121/121 [==============================] - ETA: 0s - loss: 0.3101 - accuracy: 0.8776\n",
      "Epoch 9: val_loss improved from 0.39268 to 0.38234, saving model to /home/shared/model_checkpoint_paige/scan/reg5-kfold_02\n",
      "121/121 [==============================] - 37s 303ms/step - loss: 0.3101 - accuracy: 0.8776 - val_loss: 0.3823 - val_accuracy: 0.8281 - lr: 9.9996e-04\n",
      "Epoch 10/15\n",
      "121/121 [==============================] - ETA: 0s - loss: 0.3221 - accuracy: 0.8711\n",
      "Epoch 10: val_loss improved from 0.38234 to 0.37276, saving model to /home/shared/model_checkpoint_paige/scan/reg5-kfold_02\n",
      "121/121 [==============================] - 37s 302ms/step - loss: 0.3221 - accuracy: 0.8711 - val_loss: 0.3728 - val_accuracy: 0.8326 - lr: 9.9995e-04\n",
      "Epoch 11/15\n",
      "121/121 [==============================] - ETA: 0s - loss: 0.3115 - accuracy: 0.8724\n",
      "Epoch 11: val_loss did not improve from 0.37276\n",
      "121/121 [==============================] - 37s 308ms/step - loss: 0.3115 - accuracy: 0.8724 - val_loss: 0.3841 - val_accuracy: 0.8304 - lr: 9.9995e-04\n"
     ]
    },
    {
     "name": "stdout",
     "output_type": "stream",
     "text": [
      "Epoch 12/15\n",
      "121/121 [==============================] - ETA: 0s - loss: 0.3236 - accuracy: 0.8742\n",
      "Epoch 12: val_loss did not improve from 0.37276\n",
      "121/121 [==============================] - 37s 302ms/step - loss: 0.3236 - accuracy: 0.8742 - val_loss: 0.3960 - val_accuracy: 0.8326 - lr: 9.9994e-04\n",
      "Epoch 13/15\n",
      "121/121 [==============================] - ETA: 0s - loss: 0.3014 - accuracy: 0.8840\n",
      "Epoch 13: val_loss did not improve from 0.37276\n",
      "121/121 [==============================] - 37s 305ms/step - loss: 0.3014 - accuracy: 0.8840 - val_loss: 0.3806 - val_accuracy: 0.8304 - lr: 9.9994e-04\n",
      "Epoch 14/15\n",
      "121/121 [==============================] - ETA: 0s - loss: 0.3020 - accuracy: 0.8781\n",
      "Epoch 14: val_loss did not improve from 0.37276\n",
      "121/121 [==============================] - 37s 307ms/step - loss: 0.3020 - accuracy: 0.8781 - val_loss: 0.4134 - val_accuracy: 0.8192 - lr: 9.9993e-04\n",
      "Epoch 15/15\n",
      "121/121 [==============================] - ETA: 0s - loss: 0.3104 - accuracy: 0.8758\n",
      "Epoch 15: val_loss did not improve from 0.37276\n",
      "121/121 [==============================] - 37s 303ms/step - loss: 0.3104 - accuracy: 0.8758 - val_loss: 0.3841 - val_accuracy: 0.8281 - lr: 9.9993e-04\n",
      "[0 4 8 6 7 9 1 3 5]\n",
      "[2]\n",
      "[[181  45]\n",
      " [ 59 385]]\n",
      "0.8008849557522124 0.8671171171171171 0.844776119402985 0.9016383640277446\n",
      "[0 2 8 6 7 9 1 3 5]\n",
      "[4]\n",
      "Model: \"model\"\n",
      "__________________________________________________________________________________________________\n",
      " Layer (type)                   Output Shape         Param #     Connected to                     \n",
      "==================================================================================================\n",
      " input_1 (InputLayer)           [(None, 208, 64)]    0           []                               \n",
      "                                                                                                  \n",
      " batch_normalization (BatchNorm  (None, 208, 64)     256         ['input_1[0][0]']                \n",
      " alization)                                                                                       \n",
      "                                                                                                  \n",
      " gaussian_noise (GaussianNoise)  (None, 208, 64)     0           ['batch_normalization[0][0]']    \n",
      "                                                                                                  \n",
      " time_distributed (TimeDistribu  (None, 208, 64)     0           ['gaussian_noise[0][0]']         \n",
      " ted)                                                                                             \n",
      "                                                                                                  \n",
      " multi_head_attention (MultiHea  (None, 208, 64)     2136        ['time_distributed[0][0]',       \n",
      " dAttention)                                                      'time_distributed[0][0]']       \n",
      "                                                                                                  \n",
      " layer_normalization (LayerNorm  (None, 208, 64)     128         ['multi_head_attention[0][0]']   \n",
      " alization)                                                                                       \n",
      "                                                                                                  \n",
      " add (Add)                      (None, 208, 64)      0           ['time_distributed[0][0]',       \n",
      "                                                                  'layer_normalization[0][0]']    \n",
      "                                                                                                  \n",
      " time_distributed_1 (TimeDistri  (None, 208, 64)     0           ['add[0][0]']                    \n",
      " buted)                                                                                           \n",
      "                                                                                                  \n",
      " bidirectional (Bidirectional)  (None, 208, 16)      4672        ['time_distributed_1[0][0]']     \n",
      "                                                                                                  \n",
      " time_distributed_2 (TimeDistri  (None, 208, 16)     0           ['bidirectional[0][0]']          \n",
      " buted)                                                                                           \n",
      "                                                                                                  \n",
      " lstm_1 (LSTM)                  (None, 208, 8)       800         ['time_distributed_2[0][0]']     \n",
      "                                                                                                  \n",
      " time_distributed_3 (TimeDistri  (None, 208, 8)      0           ['lstm_1[0][0]']                 \n",
      " buted)                                                                                           \n",
      "                                                                                                  \n",
      " bidirectional_1 (Bidirectional  (None, 16)          1088        ['time_distributed_3[0][0]']     \n",
      " )                                                                                                \n",
      "                                                                                                  \n",
      " dropout_4 (Dropout)            (None, 16)           0           ['bidirectional_1[0][0]']        \n",
      "                                                                                                  \n",
      " tot_out (Dense)                (None, 1)            17          ['dropout_4[0][0]']              \n",
      "                                                                                                  \n",
      "==================================================================================================\n",
      "Total params: 9,097\n",
      "Trainable params: 8,969\n",
      "Non-trainable params: 128\n",
      "__________________________________________________________________________________________________\n",
      "Epoch 1/15\n",
      "123/123 [==============================] - ETA: 0s - loss: 0.5928 - accuracy: 0.8117\n",
      "Epoch 1: val_loss improved from inf to 0.48360, saving model to /home/shared/model_checkpoint_paige/scan/reg5-kfold_04\n",
      "123/123 [==============================] - 46s 321ms/step - loss: 0.5928 - accuracy: 0.8117 - val_loss: 0.4836 - val_accuracy: 0.8229 - lr: 0.0010\n",
      "Epoch 2/15\n",
      "123/123 [==============================] - ETA: 0s - loss: 0.3941 - accuracy: 0.8628\n",
      "Epoch 2: val_loss improved from 0.48360 to 0.41903, saving model to /home/shared/model_checkpoint_paige/scan/reg5-kfold_04\n",
      "123/123 [==============================] - 37s 298ms/step - loss: 0.3941 - accuracy: 0.8628 - val_loss: 0.4190 - val_accuracy: 0.8281 - lr: 1.0000e-03\n",
      "Epoch 3/15\n",
      "123/123 [==============================] - ETA: 0s - loss: 0.3576 - accuracy: 0.8702\n",
      "Epoch 3: val_loss did not improve from 0.41903\n",
      "123/123 [==============================] - 37s 298ms/step - loss: 0.3576 - accuracy: 0.8702 - val_loss: 0.4234 - val_accuracy: 0.8255 - lr: 9.9999e-04\n",
      "Epoch 4/15\n",
      "123/123 [==============================] - ETA: 0s - loss: 0.3377 - accuracy: 0.8697\n",
      "Epoch 4: val_loss did not improve from 0.41903\n",
      "123/123 [==============================] - 38s 307ms/step - loss: 0.3377 - accuracy: 0.8697 - val_loss: 0.4405 - val_accuracy: 0.8333 - lr: 9.9998e-04\n",
      "Epoch 5/15\n",
      "123/123 [==============================] - ETA: 0s - loss: 0.3353 - accuracy: 0.8694\n",
      "Epoch 5: val_loss improved from 0.41903 to 0.35660, saving model to /home/shared/model_checkpoint_paige/scan/reg5-kfold_04\n",
      "123/123 [==============================] - 37s 300ms/step - loss: 0.3353 - accuracy: 0.8694 - val_loss: 0.3566 - val_accuracy: 0.8464 - lr: 9.9998e-04\n",
      "Epoch 6/15\n",
      "123/123 [==============================] - ETA: 0s - loss: 0.3558 - accuracy: 0.8570\n",
      "Epoch 6: val_loss did not improve from 0.35660\n",
      "123/123 [==============================] - 37s 302ms/step - loss: 0.3558 - accuracy: 0.8570 - val_loss: 0.3754 - val_accuracy: 0.8385 - lr: 9.9997e-04\n",
      "Epoch 7/15\n",
      "123/123 [==============================] - ETA: 0s - loss: 0.3222 - accuracy: 0.8725\n",
      "Epoch 7: val_loss did not improve from 0.35660\n",
      "123/123 [==============================] - 37s 300ms/step - loss: 0.3222 - accuracy: 0.8725 - val_loss: 0.5038 - val_accuracy: 0.8177 - lr: 9.9997e-04\n",
      "Epoch 8/15\n",
      "123/123 [==============================] - ETA: 0s - loss: 0.3326 - accuracy: 0.8669\n",
      "Epoch 8: val_loss did not improve from 0.35660\n",
      "123/123 [==============================] - 38s 307ms/step - loss: 0.3326 - accuracy: 0.8669 - val_loss: 0.4381 - val_accuracy: 0.8333 - lr: 9.9996e-04\n"
     ]
    },
    {
     "name": "stdout",
     "output_type": "stream",
     "text": [
      "Epoch 9/15\n",
      "123/123 [==============================] - ETA: 0s - loss: 0.3292 - accuracy: 0.8671\n",
      "Epoch 9: val_loss did not improve from 0.35660\n",
      "123/123 [==============================] - 37s 298ms/step - loss: 0.3292 - accuracy: 0.8671 - val_loss: 0.4384 - val_accuracy: 0.8307 - lr: 9.9996e-04\n",
      "Epoch 10/15\n",
      "123/123 [==============================] - ETA: 0s - loss: 0.3156 - accuracy: 0.8737\n",
      "Epoch 10: val_loss did not improve from 0.35660\n",
      "123/123 [==============================] - 37s 298ms/step - loss: 0.3156 - accuracy: 0.8737 - val_loss: 0.4542 - val_accuracy: 0.8281 - lr: 9.9995e-04\n",
      "Epoch 11/15\n",
      "123/123 [==============================] - ETA: 0s - loss: 0.3080 - accuracy: 0.8707\n",
      "Epoch 11: val_loss did not improve from 0.35660\n",
      "123/123 [==============================] - 37s 305ms/step - loss: 0.3080 - accuracy: 0.8707 - val_loss: 0.4644 - val_accuracy: 0.8307 - lr: 9.9995e-04\n",
      "Epoch 12/15\n",
      "123/123 [==============================] - ETA: 0s - loss: 0.3234 - accuracy: 0.8712\n",
      "Epoch 12: val_loss did not improve from 0.35660\n",
      "123/123 [==============================] - 37s 301ms/step - loss: 0.3234 - accuracy: 0.8712 - val_loss: 0.5249 - val_accuracy: 0.8177 - lr: 9.9994e-04\n",
      "Epoch 13/15\n",
      "123/123 [==============================] - ETA: 0s - loss: 0.3099 - accuracy: 0.8760\n",
      "Epoch 13: val_loss did not improve from 0.35660\n",
      "123/123 [==============================] - 37s 298ms/step - loss: 0.3099 - accuracy: 0.8760 - val_loss: 0.4674 - val_accuracy: 0.8203 - lr: 9.9994e-04\n",
      "Epoch 14/15\n",
      "123/123 [==============================] - ETA: 0s - loss: 0.3071 - accuracy: 0.8803\n",
      "Epoch 14: val_loss did not improve from 0.35660\n",
      "123/123 [==============================] - 38s 307ms/step - loss: 0.3071 - accuracy: 0.8803 - val_loss: 0.4571 - val_accuracy: 0.8333 - lr: 9.9993e-04\n",
      "Epoch 15/15\n",
      "123/123 [==============================] - ETA: 0s - loss: 0.3115 - accuracy: 0.8742\n",
      "Epoch 15: val_loss did not improve from 0.35660\n",
      "123/123 [==============================] - 37s 300ms/step - loss: 0.3115 - accuracy: 0.8742 - val_loss: 0.4347 - val_accuracy: 0.8411 - lr: 9.9993e-04\n",
      "[0 2 8 6 7 9 1 3 5]\n",
      "[4]\n",
      "[[156  51]\n",
      " [ 42 422]]\n",
      "0.7536231884057971 0.9094827586206896 0.8614008941877794 0.9059532733633183\n",
      "[0 2 8 6 7 9 1 3 5]\n",
      "[4]\n",
      "Model: \"model\"\n",
      "__________________________________________________________________________________________________\n",
      " Layer (type)                   Output Shape         Param #     Connected to                     \n",
      "==================================================================================================\n",
      " input_1 (InputLayer)           [(None, 208, 64)]    0           []                               \n",
      "                                                                                                  \n",
      " batch_normalization (BatchNorm  (None, 208, 64)     256         ['input_1[0][0]']                \n",
      " alization)                                                                                       \n",
      "                                                                                                  \n",
      " gaussian_noise (GaussianNoise)  (None, 208, 64)     0           ['batch_normalization[0][0]']    \n",
      "                                                                                                  \n",
      " time_distributed (TimeDistribu  (None, 208, 64)     0           ['gaussian_noise[0][0]']         \n",
      " ted)                                                                                             \n",
      "                                                                                                  \n",
      " multi_head_attention (MultiHea  (None, 208, 64)     2136        ['time_distributed[0][0]',       \n",
      " dAttention)                                                      'time_distributed[0][0]']       \n",
      "                                                                                                  \n",
      " layer_normalization (LayerNorm  (None, 208, 64)     128         ['multi_head_attention[0][0]']   \n",
      " alization)                                                                                       \n",
      "                                                                                                  \n",
      " add (Add)                      (None, 208, 64)      0           ['time_distributed[0][0]',       \n",
      "                                                                  'layer_normalization[0][0]']    \n",
      "                                                                                                  \n",
      " time_distributed_1 (TimeDistri  (None, 208, 64)     0           ['add[0][0]']                    \n",
      " buted)                                                                                           \n",
      "                                                                                                  \n",
      " bidirectional (Bidirectional)  (None, 208, 16)      4672        ['time_distributed_1[0][0]']     \n",
      "                                                                                                  \n",
      " time_distributed_2 (TimeDistri  (None, 208, 16)     0           ['bidirectional[0][0]']          \n",
      " buted)                                                                                           \n",
      "                                                                                                  \n",
      " lstm_1 (LSTM)                  (None, 208, 8)       800         ['time_distributed_2[0][0]']     \n",
      "                                                                                                  \n",
      " time_distributed_3 (TimeDistri  (None, 208, 8)      0           ['lstm_1[0][0]']                 \n",
      " buted)                                                                                           \n",
      "                                                                                                  \n",
      " bidirectional_1 (Bidirectional  (None, 16)          1088        ['time_distributed_3[0][0]']     \n",
      " )                                                                                                \n",
      "                                                                                                  \n",
      " dropout_4 (Dropout)            (None, 16)           0           ['bidirectional_1[0][0]']        \n",
      "                                                                                                  \n",
      " tot_out (Dense)                (None, 1)            17          ['dropout_4[0][0]']              \n",
      "                                                                                                  \n",
      "==================================================================================================\n",
      "Total params: 9,097\n",
      "Trainable params: 8,969\n",
      "Non-trainable params: 128\n",
      "__________________________________________________________________________________________________\n",
      "Epoch 1/15\n",
      "123/123 [==============================] - ETA: 0s - loss: 0.5726 - accuracy: 0.8166\n",
      "Epoch 1: val_loss improved from inf to 0.50323, saving model to /home/shared/model_checkpoint_paige/scan/reg5-kfold_04\n",
      "123/123 [==============================] - 46s 319ms/step - loss: 0.5726 - accuracy: 0.8166 - val_loss: 0.5032 - val_accuracy: 0.8125 - lr: 0.0010\n",
      "Epoch 2/15\n",
      "123/123 [==============================] - ETA: 0s - loss: 0.3761 - accuracy: 0.8681\n",
      "Epoch 2: val_loss improved from 0.50323 to 0.38089, saving model to /home/shared/model_checkpoint_paige/scan/reg5-kfold_04\n",
      "123/123 [==============================] - 37s 299ms/step - loss: 0.3761 - accuracy: 0.8681 - val_loss: 0.3809 - val_accuracy: 0.8490 - lr: 1.0000e-03\n",
      "Epoch 3/15\n",
      "123/123 [==============================] - ETA: 0s - loss: 0.3388 - accuracy: 0.8714\n",
      "Epoch 3: val_loss did not improve from 0.38089\n",
      "123/123 [==============================] - 37s 298ms/step - loss: 0.3388 - accuracy: 0.8714 - val_loss: 0.4525 - val_accuracy: 0.8307 - lr: 9.9999e-04\n",
      "Epoch 4/15\n",
      "123/123 [==============================] - ETA: 0s - loss: 0.3249 - accuracy: 0.8686\n",
      "Epoch 4: val_loss did not improve from 0.38089\n",
      "123/123 [==============================] - 38s 306ms/step - loss: 0.3249 - accuracy: 0.8686 - val_loss: 0.4100 - val_accuracy: 0.8281 - lr: 9.9998e-04\n",
      "Epoch 5/15\n",
      "123/123 [==============================] - ETA: 0s - loss: 0.3182 - accuracy: 0.8747\n",
      "Epoch 5: val_loss did not improve from 0.38089\n",
      "123/123 [==============================] - 37s 297ms/step - loss: 0.3182 - accuracy: 0.8747 - val_loss: 0.4099 - val_accuracy: 0.8281 - lr: 9.9998e-04\n"
     ]
    },
    {
     "name": "stdout",
     "output_type": "stream",
     "text": [
      "Epoch 6/15\n",
      "123/123 [==============================] - ETA: 0s - loss: 0.3166 - accuracy: 0.8796\n",
      "Epoch 6: val_loss did not improve from 0.38089\n",
      "123/123 [==============================] - 36s 297ms/step - loss: 0.3166 - accuracy: 0.8796 - val_loss: 0.3894 - val_accuracy: 0.8307 - lr: 9.9997e-04\n",
      "Epoch 7/15\n",
      "123/123 [==============================] - ETA: 0s - loss: 0.3104 - accuracy: 0.8760\n",
      "Epoch 7: val_loss did not improve from 0.38089\n",
      "123/123 [==============================] - 37s 299ms/step - loss: 0.3104 - accuracy: 0.8760 - val_loss: 0.4092 - val_accuracy: 0.8281 - lr: 9.9997e-04\n",
      "Epoch 8/15\n",
      "123/123 [==============================] - ETA: 0s - loss: 0.3149 - accuracy: 0.8737\n",
      "Epoch 8: val_loss did not improve from 0.38089\n",
      "123/123 [==============================] - 38s 306ms/step - loss: 0.3149 - accuracy: 0.8737 - val_loss: 0.3829 - val_accuracy: 0.8307 - lr: 9.9996e-04\n",
      "Epoch 9/15\n",
      "123/123 [==============================] - ETA: 0s - loss: 0.3040 - accuracy: 0.8760\n",
      "Epoch 9: val_loss did not improve from 0.38089\n",
      "123/123 [==============================] - 37s 297ms/step - loss: 0.3040 - accuracy: 0.8760 - val_loss: 0.4032 - val_accuracy: 0.8307 - lr: 9.9996e-04\n",
      "Epoch 10/15\n",
      "123/123 [==============================] - ETA: 0s - loss: 0.3117 - accuracy: 0.8714\n",
      "Epoch 10: val_loss improved from 0.38089 to 0.37493, saving model to /home/shared/model_checkpoint_paige/scan/reg5-kfold_04\n",
      "123/123 [==============================] - 36s 296ms/step - loss: 0.3117 - accuracy: 0.8714 - val_loss: 0.3749 - val_accuracy: 0.8464 - lr: 9.9995e-04\n",
      "Epoch 11/15\n",
      "123/123 [==============================] - ETA: 0s - loss: 0.3039 - accuracy: 0.8742\n",
      "Epoch 11: val_loss did not improve from 0.37493\n",
      "123/123 [==============================] - 37s 303ms/step - loss: 0.3039 - accuracy: 0.8742 - val_loss: 0.3999 - val_accuracy: 0.8411 - lr: 9.9995e-04\n",
      "Epoch 12/15\n",
      "123/123 [==============================] - ETA: 0s - loss: 0.2999 - accuracy: 0.8778\n",
      "Epoch 12: val_loss improved from 0.37493 to 0.37440, saving model to /home/shared/model_checkpoint_paige/scan/reg5-kfold_04\n",
      "123/123 [==============================] - 36s 295ms/step - loss: 0.2999 - accuracy: 0.8778 - val_loss: 0.3744 - val_accuracy: 0.8464 - lr: 9.9994e-04\n",
      "Epoch 13/15\n",
      "123/123 [==============================] - ETA: 0s - loss: 0.3047 - accuracy: 0.8727\n",
      "Epoch 13: val_loss did not improve from 0.37440\n",
      "123/123 [==============================] - 37s 302ms/step - loss: 0.3047 - accuracy: 0.8727 - val_loss: 0.3986 - val_accuracy: 0.8464 - lr: 9.9994e-04\n",
      "Epoch 14/15\n",
      "123/123 [==============================] - ETA: 0s - loss: 0.3136 - accuracy: 0.8758\n",
      "Epoch 14: val_loss did not improve from 0.37440\n",
      "123/123 [==============================] - 37s 303ms/step - loss: 0.3136 - accuracy: 0.8758 - val_loss: 0.3880 - val_accuracy: 0.8177 - lr: 9.9993e-04\n",
      "Epoch 15/15\n",
      "123/123 [==============================] - ETA: 0s - loss: 0.3098 - accuracy: 0.8798\n",
      "Epoch 15: val_loss did not improve from 0.37440\n",
      "123/123 [==============================] - 37s 298ms/step - loss: 0.3098 - accuracy: 0.8798 - val_loss: 0.3951 - val_accuracy: 0.8594 - lr: 9.9993e-04\n",
      "[0 2 8 6 7 9 1 3 5]\n",
      "[4]\n",
      "[[154  53]\n",
      " [ 29 435]]\n",
      "0.7439613526570048 0.9375 0.8777943368107303 0.9069944194569382\n",
      "[0 2 8 6 7 9 1 3 5]\n",
      "[4]\n",
      "Model: \"model\"\n",
      "__________________________________________________________________________________________________\n",
      " Layer (type)                   Output Shape         Param #     Connected to                     \n",
      "==================================================================================================\n",
      " input_1 (InputLayer)           [(None, 208, 64)]    0           []                               \n",
      "                                                                                                  \n",
      " batch_normalization (BatchNorm  (None, 208, 64)     256         ['input_1[0][0]']                \n",
      " alization)                                                                                       \n",
      "                                                                                                  \n",
      " gaussian_noise (GaussianNoise)  (None, 208, 64)     0           ['batch_normalization[0][0]']    \n",
      "                                                                                                  \n",
      " time_distributed (TimeDistribu  (None, 208, 64)     0           ['gaussian_noise[0][0]']         \n",
      " ted)                                                                                             \n",
      "                                                                                                  \n",
      " multi_head_attention (MultiHea  (None, 208, 64)     2136        ['time_distributed[0][0]',       \n",
      " dAttention)                                                      'time_distributed[0][0]']       \n",
      "                                                                                                  \n",
      " layer_normalization (LayerNorm  (None, 208, 64)     128         ['multi_head_attention[0][0]']   \n",
      " alization)                                                                                       \n",
      "                                                                                                  \n",
      " add (Add)                      (None, 208, 64)      0           ['time_distributed[0][0]',       \n",
      "                                                                  'layer_normalization[0][0]']    \n",
      "                                                                                                  \n",
      " time_distributed_1 (TimeDistri  (None, 208, 64)     0           ['add[0][0]']                    \n",
      " buted)                                                                                           \n",
      "                                                                                                  \n",
      " bidirectional (Bidirectional)  (None, 208, 16)      4672        ['time_distributed_1[0][0]']     \n",
      "                                                                                                  \n",
      " time_distributed_2 (TimeDistri  (None, 208, 16)     0           ['bidirectional[0][0]']          \n",
      " buted)                                                                                           \n",
      "                                                                                                  \n",
      " lstm_1 (LSTM)                  (None, 208, 8)       800         ['time_distributed_2[0][0]']     \n",
      "                                                                                                  \n",
      " time_distributed_3 (TimeDistri  (None, 208, 8)      0           ['lstm_1[0][0]']                 \n",
      " buted)                                                                                           \n",
      "                                                                                                  \n",
      " bidirectional_1 (Bidirectional  (None, 16)          1088        ['time_distributed_3[0][0]']     \n",
      " )                                                                                                \n",
      "                                                                                                  \n",
      " dropout_4 (Dropout)            (None, 16)           0           ['bidirectional_1[0][0]']        \n",
      "                                                                                                  \n",
      " tot_out (Dense)                (None, 1)            17          ['dropout_4[0][0]']              \n",
      "                                                                                                  \n",
      "==================================================================================================\n",
      "Total params: 9,097\n",
      "Trainable params: 8,969\n",
      "Non-trainable params: 128\n",
      "__________________________________________________________________________________________________\n",
      "Epoch 1/15\n",
      "123/123 [==============================] - ETA: 0s - loss: 0.5528 - accuracy: 0.8371\n",
      "Epoch 1: val_loss improved from inf to 0.53601, saving model to /home/shared/model_checkpoint_paige/scan/reg5-kfold_04\n",
      "123/123 [==============================] - 46s 318ms/step - loss: 0.5528 - accuracy: 0.8371 - val_loss: 0.5360 - val_accuracy: 0.8099 - lr: 0.0010\n",
      "Epoch 2/15\n",
      "123/123 [==============================] - ETA: 0s - loss: 0.3914 - accuracy: 0.8704\n",
      "Epoch 2: val_loss improved from 0.53601 to 0.44576, saving model to /home/shared/model_checkpoint_paige/scan/reg5-kfold_04\n"
     ]
    },
    {
     "name": "stdout",
     "output_type": "stream",
     "text": [
      "123/123 [==============================] - 37s 299ms/step - loss: 0.3914 - accuracy: 0.8704 - val_loss: 0.4458 - val_accuracy: 0.8307 - lr: 1.0000e-03\n",
      "Epoch 3/15\n",
      "123/123 [==============================] - ETA: 0s - loss: 0.3456 - accuracy: 0.8725\n",
      "Epoch 3: val_loss did not improve from 0.44576\n",
      "123/123 [==============================] - 37s 300ms/step - loss: 0.3456 - accuracy: 0.8725 - val_loss: 0.4732 - val_accuracy: 0.8281 - lr: 9.9999e-04\n",
      "Epoch 4/15\n",
      "123/123 [==============================] - ETA: 0s - loss: 0.3325 - accuracy: 0.8671\n",
      "Epoch 4: val_loss did not improve from 0.44576\n",
      "123/123 [==============================] - 38s 306ms/step - loss: 0.3325 - accuracy: 0.8671 - val_loss: 0.4895 - val_accuracy: 0.8229 - lr: 9.9998e-04\n",
      "Epoch 5/15\n",
      "123/123 [==============================] - ETA: 0s - loss: 0.3232 - accuracy: 0.8780\n",
      "Epoch 5: val_loss improved from 0.44576 to 0.43108, saving model to /home/shared/model_checkpoint_paige/scan/reg5-kfold_04\n",
      "123/123 [==============================] - 37s 299ms/step - loss: 0.3232 - accuracy: 0.8780 - val_loss: 0.4311 - val_accuracy: 0.8359 - lr: 9.9998e-04\n",
      "Epoch 6/15\n",
      "123/123 [==============================] - ETA: 0s - loss: 0.3090 - accuracy: 0.8773\n",
      "Epoch 6: val_loss did not improve from 0.43108\n",
      "123/123 [==============================] - 37s 299ms/step - loss: 0.3090 - accuracy: 0.8773 - val_loss: 0.4559 - val_accuracy: 0.8229 - lr: 9.9997e-04\n",
      "Epoch 7/15\n",
      "123/123 [==============================] - ETA: 0s - loss: 0.3107 - accuracy: 0.8737\n",
      "Epoch 7: val_loss improved from 0.43108 to 0.42535, saving model to /home/shared/model_checkpoint_paige/scan/reg5-kfold_04\n",
      "123/123 [==============================] - 37s 299ms/step - loss: 0.3107 - accuracy: 0.8737 - val_loss: 0.4253 - val_accuracy: 0.8333 - lr: 9.9997e-04\n",
      "Epoch 8/15\n",
      "123/123 [==============================] - ETA: 0s - loss: 0.3131 - accuracy: 0.8714\n",
      "Epoch 8: val_loss did not improve from 0.42535\n",
      "123/123 [==============================] - 37s 304ms/step - loss: 0.3131 - accuracy: 0.8714 - val_loss: 0.4488 - val_accuracy: 0.8255 - lr: 9.9996e-04\n",
      "Epoch 9/15\n",
      "123/123 [==============================] - ETA: 0s - loss: 0.3113 - accuracy: 0.8727\n",
      "Epoch 9: val_loss did not improve from 0.42535\n",
      "123/123 [==============================] - 37s 301ms/step - loss: 0.3113 - accuracy: 0.8727 - val_loss: 0.4290 - val_accuracy: 0.8359 - lr: 9.9996e-04\n",
      "Epoch 10/15\n",
      "123/123 [==============================] - ETA: 0s - loss: 0.3090 - accuracy: 0.8793\n",
      "Epoch 10: val_loss did not improve from 0.42535\n",
      "123/123 [==============================] - 37s 298ms/step - loss: 0.3090 - accuracy: 0.8793 - val_loss: 0.4536 - val_accuracy: 0.8333 - lr: 9.9995e-04\n",
      "Epoch 11/15\n",
      "123/123 [==============================] - ETA: 0s - loss: 0.3031 - accuracy: 0.8808\n",
      "Epoch 11: val_loss did not improve from 0.42535\n",
      "123/123 [==============================] - 37s 304ms/step - loss: 0.3031 - accuracy: 0.8808 - val_loss: 0.4386 - val_accuracy: 0.8359 - lr: 9.9995e-04\n",
      "Epoch 12/15\n",
      "123/123 [==============================] - ETA: 0s - loss: 0.3092 - accuracy: 0.8704\n",
      "Epoch 12: val_loss did not improve from 0.42535\n",
      "123/123 [==============================] - 37s 298ms/step - loss: 0.3092 - accuracy: 0.8704 - val_loss: 0.4507 - val_accuracy: 0.8125 - lr: 9.9994e-04\n",
      "Epoch 13/15\n",
      "123/123 [==============================] - ETA: 0s - loss: 0.2982 - accuracy: 0.8780\n",
      "Epoch 13: val_loss did not improve from 0.42535\n",
      "123/123 [==============================] - 37s 298ms/step - loss: 0.2982 - accuracy: 0.8780 - val_loss: 0.4529 - val_accuracy: 0.8333 - lr: 9.9994e-04\n",
      "Epoch 14/15\n",
      "123/123 [==============================] - ETA: 0s - loss: 0.2972 - accuracy: 0.8803\n",
      "Epoch 14: val_loss improved from 0.42535 to 0.41031, saving model to /home/shared/model_checkpoint_paige/scan/reg5-kfold_04\n",
      "123/123 [==============================] - 37s 304ms/step - loss: 0.2972 - accuracy: 0.8803 - val_loss: 0.4103 - val_accuracy: 0.8307 - lr: 9.9993e-04\n",
      "Epoch 15/15\n",
      "123/123 [==============================] - ETA: 0s - loss: 0.3026 - accuracy: 0.8770\n",
      "Epoch 15: val_loss did not improve from 0.41031\n",
      "123/123 [==============================] - 37s 298ms/step - loss: 0.3026 - accuracy: 0.8770 - val_loss: 0.4569 - val_accuracy: 0.8203 - lr: 9.9993e-04\n",
      "[0 2 8 6 7 9 1 3 5]\n",
      "[4]\n",
      "[[159  48]\n",
      " [ 47 417]]\n",
      "0.7681159420289855 0.8987068965517241 0.8584202682563339 0.8945319007163085\n",
      "[0 2 8 6 7 9 1 3 5]\n",
      "[4]\n",
      "Model: \"model\"\n",
      "__________________________________________________________________________________________________\n",
      " Layer (type)                   Output Shape         Param #     Connected to                     \n",
      "==================================================================================================\n",
      " input_1 (InputLayer)           [(None, 208, 64)]    0           []                               \n",
      "                                                                                                  \n",
      " batch_normalization (BatchNorm  (None, 208, 64)     256         ['input_1[0][0]']                \n",
      " alization)                                                                                       \n",
      "                                                                                                  \n",
      " gaussian_noise (GaussianNoise)  (None, 208, 64)     0           ['batch_normalization[0][0]']    \n",
      "                                                                                                  \n",
      " time_distributed (TimeDistribu  (None, 208, 64)     0           ['gaussian_noise[0][0]']         \n",
      " ted)                                                                                             \n",
      "                                                                                                  \n",
      " multi_head_attention (MultiHea  (None, 208, 64)     2136        ['time_distributed[0][0]',       \n",
      " dAttention)                                                      'time_distributed[0][0]']       \n",
      "                                                                                                  \n",
      " layer_normalization (LayerNorm  (None, 208, 64)     128         ['multi_head_attention[0][0]']   \n",
      " alization)                                                                                       \n",
      "                                                                                                  \n",
      " add (Add)                      (None, 208, 64)      0           ['time_distributed[0][0]',       \n",
      "                                                                  'layer_normalization[0][0]']    \n",
      "                                                                                                  \n",
      " time_distributed_1 (TimeDistri  (None, 208, 64)     0           ['add[0][0]']                    \n",
      " buted)                                                                                           \n",
      "                                                                                                  \n",
      " bidirectional (Bidirectional)  (None, 208, 16)      4672        ['time_distributed_1[0][0]']     \n",
      "                                                                                                  \n",
      " time_distributed_2 (TimeDistri  (None, 208, 16)     0           ['bidirectional[0][0]']          \n",
      " buted)                                                                                           \n",
      "                                                                                                  \n",
      " lstm_1 (LSTM)                  (None, 208, 8)       800         ['time_distributed_2[0][0]']     \n",
      "                                                                                                  \n",
      " time_distributed_3 (TimeDistri  (None, 208, 8)      0           ['lstm_1[0][0]']                 \n",
      " buted)                                                                                           \n",
      "                                                                                                  \n",
      " bidirectional_1 (Bidirectional  (None, 16)          1088        ['time_distributed_3[0][0]']     \n",
      " )                                                                                                \n",
      "                                                                                                  \n",
      " dropout_4 (Dropout)            (None, 16)           0           ['bidirectional_1[0][0]']        \n"
     ]
    },
    {
     "name": "stdout",
     "output_type": "stream",
     "text": [
      "                                                                                                  \n",
      " tot_out (Dense)                (None, 1)            17          ['dropout_4[0][0]']              \n",
      "                                                                                                  \n",
      "==================================================================================================\n",
      "Total params: 9,097\n",
      "Trainable params: 8,969\n",
      "Non-trainable params: 128\n",
      "__________________________________________________________________________________________________\n",
      "Epoch 1/15\n",
      "123/123 [==============================] - ETA: 0s - loss: 0.5857 - accuracy: 0.8084\n",
      "Epoch 1: val_loss improved from inf to 0.52392, saving model to /home/shared/model_checkpoint_paige/scan/reg5-kfold_04\n",
      "123/123 [==============================] - 46s 317ms/step - loss: 0.5857 - accuracy: 0.8084 - val_loss: 0.5239 - val_accuracy: 0.7995 - lr: 0.0010\n",
      "Epoch 2/15\n",
      "123/123 [==============================] - ETA: 0s - loss: 0.3889 - accuracy: 0.8620\n",
      "Epoch 2: val_loss improved from 0.52392 to 0.43173, saving model to /home/shared/model_checkpoint_paige/scan/reg5-kfold_04\n",
      "123/123 [==============================] - 37s 300ms/step - loss: 0.3889 - accuracy: 0.8620 - val_loss: 0.4317 - val_accuracy: 0.8359 - lr: 1.0000e-03\n",
      "Epoch 3/15\n",
      "123/123 [==============================] - ETA: 0s - loss: 0.3474 - accuracy: 0.8638\n",
      "Epoch 3: val_loss did not improve from 0.43173\n",
      "123/123 [==============================] - 37s 300ms/step - loss: 0.3474 - accuracy: 0.8638 - val_loss: 0.4449 - val_accuracy: 0.7969 - lr: 9.9999e-04\n",
      "Epoch 4/15\n",
      "123/123 [==============================] - ETA: 0s - loss: 0.3260 - accuracy: 0.8692\n",
      "Epoch 4: val_loss improved from 0.43173 to 0.42524, saving model to /home/shared/model_checkpoint_paige/scan/reg5-kfold_04\n",
      "123/123 [==============================] - 38s 307ms/step - loss: 0.3260 - accuracy: 0.8692 - val_loss: 0.4252 - val_accuracy: 0.8203 - lr: 9.9998e-04\n",
      "Epoch 5/15\n",
      "123/123 [==============================] - ETA: 0s - loss: 0.3234 - accuracy: 0.8702\n",
      "Epoch 5: val_loss improved from 0.42524 to 0.42095, saving model to /home/shared/model_checkpoint_paige/scan/reg5-kfold_04\n",
      "123/123 [==============================] - 37s 300ms/step - loss: 0.3234 - accuracy: 0.8702 - val_loss: 0.4209 - val_accuracy: 0.8229 - lr: 9.9998e-04\n",
      "Epoch 6/15\n",
      "123/123 [==============================] - ETA: 0s - loss: 0.3138 - accuracy: 0.8727\n",
      "Epoch 6: val_loss improved from 0.42095 to 0.41560, saving model to /home/shared/model_checkpoint_paige/scan/reg5-kfold_04\n",
      "123/123 [==============================] - 37s 300ms/step - loss: 0.3138 - accuracy: 0.8727 - val_loss: 0.4156 - val_accuracy: 0.8229 - lr: 9.9997e-04\n",
      "Epoch 7/15\n",
      "123/123 [==============================] - ETA: 0s - loss: 0.3123 - accuracy: 0.8730\n",
      "Epoch 7: val_loss improved from 0.41560 to 0.40017, saving model to /home/shared/model_checkpoint_paige/scan/reg5-kfold_04\n",
      "123/123 [==============================] - 37s 300ms/step - loss: 0.3123 - accuracy: 0.8730 - val_loss: 0.4002 - val_accuracy: 0.8255 - lr: 9.9997e-04\n",
      "Epoch 8/15\n",
      "123/123 [==============================] - ETA: 0s - loss: 0.3043 - accuracy: 0.8793\n",
      "Epoch 8: val_loss did not improve from 0.40017\n",
      "123/123 [==============================] - 38s 305ms/step - loss: 0.3043 - accuracy: 0.8793 - val_loss: 0.4318 - val_accuracy: 0.8177 - lr: 9.9996e-04\n",
      "Epoch 9/15\n",
      "123/123 [==============================] - ETA: 0s - loss: 0.3062 - accuracy: 0.8755\n",
      "Epoch 9: val_loss did not improve from 0.40017\n",
      "123/123 [==============================] - 37s 299ms/step - loss: 0.3062 - accuracy: 0.8755 - val_loss: 0.4420 - val_accuracy: 0.8203 - lr: 9.9996e-04\n",
      "Epoch 10/15\n",
      "123/123 [==============================] - ETA: 0s - loss: 0.3018 - accuracy: 0.8798\n",
      "Epoch 10: val_loss did not improve from 0.40017\n",
      "123/123 [==============================] - 37s 299ms/step - loss: 0.3018 - accuracy: 0.8798 - val_loss: 0.4202 - val_accuracy: 0.8255 - lr: 9.9995e-04\n",
      "Epoch 11/15\n",
      "123/123 [==============================] - ETA: 0s - loss: 0.3040 - accuracy: 0.8778\n",
      "Epoch 11: val_loss did not improve from 0.40017\n",
      "123/123 [==============================] - 38s 307ms/step - loss: 0.3040 - accuracy: 0.8778 - val_loss: 0.4221 - val_accuracy: 0.8359 - lr: 9.9995e-04\n",
      "Epoch 12/15\n",
      "123/123 [==============================] - ETA: 0s - loss: 0.2992 - accuracy: 0.8765\n",
      "Epoch 12: val_loss did not improve from 0.40017\n",
      "123/123 [==============================] - 37s 300ms/step - loss: 0.2992 - accuracy: 0.8765 - val_loss: 0.4069 - val_accuracy: 0.8307 - lr: 9.9994e-04\n",
      "Epoch 13/15\n",
      "123/123 [==============================] - ETA: 0s - loss: 0.2997 - accuracy: 0.8836\n",
      "Epoch 13: val_loss did not improve from 0.40017\n",
      "123/123 [==============================] - 37s 301ms/step - loss: 0.2997 - accuracy: 0.8836 - val_loss: 0.4135 - val_accuracy: 0.8255 - lr: 9.9994e-04\n",
      "Epoch 14/15\n",
      "123/123 [==============================] - ETA: 0s - loss: 0.2916 - accuracy: 0.8808\n",
      "Epoch 14: val_loss improved from 0.40017 to 0.39392, saving model to /home/shared/model_checkpoint_paige/scan/reg5-kfold_04\n",
      "123/123 [==============================] - 38s 306ms/step - loss: 0.2916 - accuracy: 0.8808 - val_loss: 0.3939 - val_accuracy: 0.8255 - lr: 9.9993e-04\n",
      "Epoch 15/15\n",
      "123/123 [==============================] - ETA: 0s - loss: 0.3062 - accuracy: 0.8783\n",
      "Epoch 15: val_loss did not improve from 0.39392\n",
      "123/123 [==============================] - 37s 300ms/step - loss: 0.3062 - accuracy: 0.8783 - val_loss: 0.4287 - val_accuracy: 0.8307 - lr: 9.9993e-04\n",
      "[0 2 8 6 7 9 1 3 5]\n",
      "[4]\n",
      "[[163  44]\n",
      " [ 56 408]]\n",
      "0.7874396135265701 0.8793103448275862 0.8509687034277198 0.9040896218557388\n",
      "[0 2 4 8 6 7 9 1 3]\n",
      "[5]\n",
      "Model: \"model\"\n",
      "__________________________________________________________________________________________________\n",
      " Layer (type)                   Output Shape         Param #     Connected to                     \n",
      "==================================================================================================\n",
      " input_1 (InputLayer)           [(None, 208, 64)]    0           []                               \n",
      "                                                                                                  \n",
      " batch_normalization (BatchNorm  (None, 208, 64)     256         ['input_1[0][0]']                \n",
      " alization)                                                                                       \n",
      "                                                                                                  \n",
      " gaussian_noise (GaussianNoise)  (None, 208, 64)     0           ['batch_normalization[0][0]']    \n",
      "                                                                                                  \n",
      " time_distributed (TimeDistribu  (None, 208, 64)     0           ['gaussian_noise[0][0]']         \n",
      " ted)                                                                                             \n",
      "                                                                                                  \n",
      " multi_head_attention (MultiHea  (None, 208, 64)     2136        ['time_distributed[0][0]',       \n",
      " dAttention)                                                      'time_distributed[0][0]']       \n",
      "                                                                                                  \n",
      " layer_normalization (LayerNorm  (None, 208, 64)     128         ['multi_head_attention[0][0]']   \n",
      " alization)                                                                                       \n",
      "                                                                                                  \n",
      " add (Add)                      (None, 208, 64)      0           ['time_distributed[0][0]',       \n",
      "                                                                  'layer_normalization[0][0]']    \n",
      "                                                                                                  \n",
      " time_distributed_1 (TimeDistri  (None, 208, 64)     0           ['add[0][0]']                    \n",
      " buted)                                                                                           \n",
      "                                                                                                  \n",
      " bidirectional (Bidirectional)  (None, 208, 16)      4672        ['time_distributed_1[0][0]']     \n"
     ]
    },
    {
     "name": "stdout",
     "output_type": "stream",
     "text": [
      "                                                                                                  \n",
      " time_distributed_2 (TimeDistri  (None, 208, 16)     0           ['bidirectional[0][0]']          \n",
      " buted)                                                                                           \n",
      "                                                                                                  \n",
      " lstm_1 (LSTM)                  (None, 208, 8)       800         ['time_distributed_2[0][0]']     \n",
      "                                                                                                  \n",
      " time_distributed_3 (TimeDistri  (None, 208, 8)      0           ['lstm_1[0][0]']                 \n",
      " buted)                                                                                           \n",
      "                                                                                                  \n",
      " bidirectional_1 (Bidirectional  (None, 16)          1088        ['time_distributed_3[0][0]']     \n",
      " )                                                                                                \n",
      "                                                                                                  \n",
      " dropout_4 (Dropout)            (None, 16)           0           ['bidirectional_1[0][0]']        \n",
      "                                                                                                  \n",
      " tot_out (Dense)                (None, 1)            17          ['dropout_4[0][0]']              \n",
      "                                                                                                  \n",
      "==================================================================================================\n",
      "Total params: 9,097\n",
      "Trainable params: 8,969\n",
      "Non-trainable params: 128\n",
      "__________________________________________________________________________________________________\n",
      "Epoch 1/15\n",
      "122/122 [==============================] - ETA: 0s - loss: 0.6007 - accuracy: 0.7961\n",
      "Epoch 1: val_loss improved from inf to 0.50586, saving model to /home/shared/model_checkpoint_paige/scan/reg5-kfold_05\n",
      "122/122 [==============================] - 46s 320ms/step - loss: 0.6007 - accuracy: 0.7961 - val_loss: 0.5059 - val_accuracy: 0.8125 - lr: 0.0010\n",
      "Epoch 2/15\n",
      "122/122 [==============================] - ETA: 0s - loss: 0.3702 - accuracy: 0.8747\n",
      "Epoch 2: val_loss improved from 0.50586 to 0.39303, saving model to /home/shared/model_checkpoint_paige/scan/reg5-kfold_05\n",
      "122/122 [==============================] - 37s 300ms/step - loss: 0.3702 - accuracy: 0.8747 - val_loss: 0.3930 - val_accuracy: 0.8293 - lr: 1.0000e-03\n",
      "Epoch 3/15\n",
      "122/122 [==============================] - ETA: 0s - loss: 0.3302 - accuracy: 0.8742\n",
      "Epoch 3: val_loss improved from 0.39303 to 0.38001, saving model to /home/shared/model_checkpoint_paige/scan/reg5-kfold_05\n",
      "122/122 [==============================] - 37s 299ms/step - loss: 0.3302 - accuracy: 0.8742 - val_loss: 0.3800 - val_accuracy: 0.8293 - lr: 9.9999e-04\n",
      "Epoch 4/15\n",
      "122/122 [==============================] - ETA: 0s - loss: 0.3011 - accuracy: 0.8835\n",
      "Epoch 4: val_loss did not improve from 0.38001\n",
      "122/122 [==============================] - 36s 298ms/step - loss: 0.3011 - accuracy: 0.8835 - val_loss: 0.3835 - val_accuracy: 0.8438 - lr: 9.9998e-04\n",
      "Epoch 5/15\n",
      "122/122 [==============================] - ETA: 0s - loss: 0.3083 - accuracy: 0.8778\n",
      "Epoch 5: val_loss improved from 0.38001 to 0.35737, saving model to /home/shared/model_checkpoint_paige/scan/reg5-kfold_05\n",
      "122/122 [==============================] - 37s 306ms/step - loss: 0.3083 - accuracy: 0.8778 - val_loss: 0.3574 - val_accuracy: 0.8558 - lr: 9.9998e-04\n",
      "Epoch 6/15\n",
      "122/122 [==============================] - ETA: 0s - loss: 0.3043 - accuracy: 0.8806\n",
      "Epoch 6: val_loss improved from 0.35737 to 0.34354, saving model to /home/shared/model_checkpoint_paige/scan/reg5-kfold_05\n",
      "122/122 [==============================] - 36s 299ms/step - loss: 0.3043 - accuracy: 0.8806 - val_loss: 0.3435 - val_accuracy: 0.8558 - lr: 9.9997e-04\n",
      "Epoch 7/15\n",
      "122/122 [==============================] - ETA: 0s - loss: 0.2917 - accuracy: 0.8819\n",
      "Epoch 7: val_loss did not improve from 0.34354\n",
      "122/122 [==============================] - 36s 298ms/step - loss: 0.2917 - accuracy: 0.8819 - val_loss: 0.3482 - val_accuracy: 0.8534 - lr: 9.9997e-04\n",
      "Epoch 8/15\n",
      "122/122 [==============================] - ETA: 0s - loss: 0.2991 - accuracy: 0.8840\n",
      "Epoch 8: val_loss did not improve from 0.34354\n",
      "122/122 [==============================] - 37s 303ms/step - loss: 0.2991 - accuracy: 0.8840 - val_loss: 0.4312 - val_accuracy: 0.8462 - lr: 9.9996e-04\n",
      "Epoch 9/15\n",
      "122/122 [==============================] - ETA: 0s - loss: 0.2840 - accuracy: 0.8852\n",
      "Epoch 9: val_loss did not improve from 0.34354\n",
      "122/122 [==============================] - 37s 300ms/step - loss: 0.2840 - accuracy: 0.8852 - val_loss: 0.3438 - val_accuracy: 0.8534 - lr: 9.9996e-04\n",
      "Epoch 10/15\n",
      "122/122 [==============================] - ETA: 0s - loss: 0.2811 - accuracy: 0.8827\n",
      "Epoch 10: val_loss did not improve from 0.34354\n",
      "122/122 [==============================] - 36s 297ms/step - loss: 0.2811 - accuracy: 0.8827 - val_loss: 0.3464 - val_accuracy: 0.8486 - lr: 9.9995e-04\n",
      "Epoch 11/15\n",
      "122/122 [==============================] - ETA: 0s - loss: 0.2798 - accuracy: 0.8876\n",
      "Epoch 11: val_loss did not improve from 0.34354\n",
      "122/122 [==============================] - 37s 305ms/step - loss: 0.2798 - accuracy: 0.8876 - val_loss: 0.3549 - val_accuracy: 0.8389 - lr: 9.9995e-04\n",
      "Epoch 12/15\n",
      "122/122 [==============================] - ETA: 0s - loss: 0.2901 - accuracy: 0.8819\n",
      "Epoch 12: val_loss improved from 0.34354 to 0.33493, saving model to /home/shared/model_checkpoint_paige/scan/reg5-kfold_05\n",
      "122/122 [==============================] - 37s 300ms/step - loss: 0.2901 - accuracy: 0.8819 - val_loss: 0.3349 - val_accuracy: 0.8606 - lr: 9.9994e-04\n",
      "Epoch 13/15\n",
      "122/122 [==============================] - ETA: 0s - loss: 0.2769 - accuracy: 0.8919\n",
      "Epoch 13: val_loss improved from 0.33493 to 0.32619, saving model to /home/shared/model_checkpoint_paige/scan/reg5-kfold_05\n",
      "122/122 [==============================] - 36s 298ms/step - loss: 0.2769 - accuracy: 0.8919 - val_loss: 0.3262 - val_accuracy: 0.8630 - lr: 9.9994e-04\n",
      "Epoch 14/15\n",
      "122/122 [==============================] - ETA: 0s - loss: 0.2895 - accuracy: 0.8804\n",
      "Epoch 14: val_loss did not improve from 0.32619\n",
      "122/122 [==============================] - 37s 304ms/step - loss: 0.2895 - accuracy: 0.8804 - val_loss: 0.3384 - val_accuracy: 0.8510 - lr: 9.9993e-04\n",
      "Epoch 15/15\n",
      "122/122 [==============================] - ETA: 0s - loss: 0.2805 - accuracy: 0.8881\n",
      "Epoch 15: val_loss did not improve from 0.32619\n",
      "122/122 [==============================] - 37s 301ms/step - loss: 0.2805 - accuracy: 0.8881 - val_loss: 0.3355 - val_accuracy: 0.8510 - lr: 9.9993e-04\n",
      "[0 2 4 8 6 7 9 1 3]\n",
      "[5]\n",
      "[[173  40]\n",
      " [ 37 415]]\n",
      "0.812206572769953 0.918141592920354 0.8842105263157894 0.9272300469483568\n",
      "[0 2 4 8 6 9 1 3 5]\n",
      "[7]\n",
      "Model: \"model\"\n",
      "__________________________________________________________________________________________________\n",
      " Layer (type)                   Output Shape         Param #     Connected to                     \n",
      "==================================================================================================\n",
      " input_1 (InputLayer)           [(None, 208, 64)]    0           []                               \n",
      "                                                                                                  \n",
      " batch_normalization (BatchNorm  (None, 208, 64)     256         ['input_1[0][0]']                \n",
      " alization)                                                                                       \n",
      "                                                                                                  \n",
      " gaussian_noise (GaussianNoise)  (None, 208, 64)     0           ['batch_normalization[0][0]']    \n",
      "                                                                                                  \n",
      " time_distributed (TimeDistribu  (None, 208, 64)     0           ['gaussian_noise[0][0]']         \n",
      " ted)                                                                                             \n",
      "                                                                                                  \n"
     ]
    },
    {
     "name": "stdout",
     "output_type": "stream",
     "text": [
      " multi_head_attention (MultiHea  (None, 208, 64)     2136        ['time_distributed[0][0]',       \n",
      " dAttention)                                                      'time_distributed[0][0]']       \n",
      "                                                                                                  \n",
      " layer_normalization (LayerNorm  (None, 208, 64)     128         ['multi_head_attention[0][0]']   \n",
      " alization)                                                                                       \n",
      "                                                                                                  \n",
      " add (Add)                      (None, 208, 64)      0           ['time_distributed[0][0]',       \n",
      "                                                                  'layer_normalization[0][0]']    \n",
      "                                                                                                  \n",
      " time_distributed_1 (TimeDistri  (None, 208, 64)     0           ['add[0][0]']                    \n",
      " buted)                                                                                           \n",
      "                                                                                                  \n",
      " bidirectional (Bidirectional)  (None, 208, 16)      4672        ['time_distributed_1[0][0]']     \n",
      "                                                                                                  \n",
      " time_distributed_2 (TimeDistri  (None, 208, 16)     0           ['bidirectional[0][0]']          \n",
      " buted)                                                                                           \n",
      "                                                                                                  \n",
      " lstm_1 (LSTM)                  (None, 208, 8)       800         ['time_distributed_2[0][0]']     \n",
      "                                                                                                  \n",
      " time_distributed_3 (TimeDistri  (None, 208, 8)      0           ['lstm_1[0][0]']                 \n",
      " buted)                                                                                           \n",
      "                                                                                                  \n",
      " bidirectional_1 (Bidirectional  (None, 16)          1088        ['time_distributed_3[0][0]']     \n",
      " )                                                                                                \n",
      "                                                                                                  \n",
      " dropout_4 (Dropout)            (None, 16)           0           ['bidirectional_1[0][0]']        \n",
      "                                                                                                  \n",
      " tot_out (Dense)                (None, 1)            17          ['dropout_4[0][0]']              \n",
      "                                                                                                  \n",
      "==================================================================================================\n",
      "Total params: 9,097\n",
      "Trainable params: 8,969\n",
      "Non-trainable params: 128\n",
      "__________________________________________________________________________________________________\n",
      "Epoch 1/15\n",
      "120/120 [==============================] - ETA: 0s - loss: 0.6438 - accuracy: 0.7760\n",
      "Epoch 1: val_loss improved from inf to 0.45092, saving model to /home/shared/model_checkpoint_paige/scan/reg5-kfold_07\n",
      "120/120 [==============================] - 44s 314ms/step - loss: 0.6438 - accuracy: 0.7760 - val_loss: 0.4509 - val_accuracy: 0.8542 - lr: 0.0010\n",
      "Epoch 2/15\n",
      "120/120 [==============================] - ETA: 0s - loss: 0.4639 - accuracy: 0.8201\n",
      "Epoch 2: val_loss improved from 0.45092 to 0.38473, saving model to /home/shared/model_checkpoint_paige/scan/reg5-kfold_07\n",
      "120/120 [==============================] - 38s 314ms/step - loss: 0.4639 - accuracy: 0.8201 - val_loss: 0.3847 - val_accuracy: 0.8542 - lr: 1.0000e-03\n",
      "Epoch 3/15\n",
      "120/120 [==============================] - ETA: 0s - loss: 0.4207 - accuracy: 0.8227\n",
      "Epoch 3: val_loss did not improve from 0.38473\n",
      "120/120 [==============================] - 36s 303ms/step - loss: 0.4207 - accuracy: 0.8227 - val_loss: 0.3923 - val_accuracy: 0.8396 - lr: 9.9999e-04\n",
      "Epoch 4/15\n",
      "120/120 [==============================] - ETA: 0s - loss: 0.4048 - accuracy: 0.8344\n",
      "Epoch 4: val_loss did not improve from 0.38473\n",
      "120/120 [==============================] - 37s 304ms/step - loss: 0.4048 - accuracy: 0.8344 - val_loss: 0.3871 - val_accuracy: 0.8500 - lr: 9.9998e-04\n",
      "Epoch 5/15\n",
      "120/120 [==============================] - ETA: 0s - loss: 0.3984 - accuracy: 0.8242\n",
      "Epoch 5: val_loss improved from 0.38473 to 0.35863, saving model to /home/shared/model_checkpoint_paige/scan/reg5-kfold_07\n",
      "120/120 [==============================] - 38s 313ms/step - loss: 0.3984 - accuracy: 0.8242 - val_loss: 0.3586 - val_accuracy: 0.8542 - lr: 9.9998e-04\n",
      "Epoch 6/15\n",
      "120/120 [==============================] - ETA: 0s - loss: 0.3877 - accuracy: 0.8313\n",
      "Epoch 6: val_loss did not improve from 0.35863\n",
      "120/120 [==============================] - 37s 306ms/step - loss: 0.3877 - accuracy: 0.8313 - val_loss: 0.3717 - val_accuracy: 0.8396 - lr: 9.9997e-04\n",
      "Epoch 7/15\n",
      "120/120 [==============================] - ETA: 0s - loss: 0.3863 - accuracy: 0.8253\n",
      "Epoch 7: val_loss did not improve from 0.35863\n",
      "120/120 [==============================] - 36s 304ms/step - loss: 0.3863 - accuracy: 0.8253 - val_loss: 0.3598 - val_accuracy: 0.8604 - lr: 9.9997e-04\n",
      "Epoch 8/15\n",
      "120/120 [==============================] - ETA: 0s - loss: 0.3877 - accuracy: 0.8289\n",
      "Epoch 8: val_loss did not improve from 0.35863\n",
      "120/120 [==============================] - 37s 311ms/step - loss: 0.3877 - accuracy: 0.8289 - val_loss: 0.3719 - val_accuracy: 0.8625 - lr: 9.9996e-04\n",
      "Epoch 9/15\n",
      "120/120 [==============================] - ETA: 0s - loss: 0.3852 - accuracy: 0.8354\n",
      "Epoch 9: val_loss did not improve from 0.35863\n",
      "120/120 [==============================] - 37s 304ms/step - loss: 0.3852 - accuracy: 0.8354 - val_loss: 0.3606 - val_accuracy: 0.8625 - lr: 9.9996e-04\n",
      "Epoch 10/15\n",
      "120/120 [==============================] - ETA: 0s - loss: 0.3808 - accuracy: 0.8365\n",
      "Epoch 10: val_loss improved from 0.35863 to 0.35580, saving model to /home/shared/model_checkpoint_paige/scan/reg5-kfold_07\n",
      "120/120 [==============================] - 37s 305ms/step - loss: 0.3808 - accuracy: 0.8365 - val_loss: 0.3558 - val_accuracy: 0.8646 - lr: 9.9995e-04\n",
      "Epoch 11/15\n",
      "120/120 [==============================] - ETA: 0s - loss: 0.3801 - accuracy: 0.8326\n",
      "Epoch 11: val_loss did not improve from 0.35580\n",
      "120/120 [==============================] - 37s 311ms/step - loss: 0.3801 - accuracy: 0.8326 - val_loss: 0.3604 - val_accuracy: 0.8604 - lr: 9.9995e-04\n",
      "Epoch 12/15\n",
      "120/120 [==============================] - ETA: 0s - loss: 0.3894 - accuracy: 0.8273\n",
      "Epoch 12: val_loss did not improve from 0.35580\n",
      "120/120 [==============================] - 36s 303ms/step - loss: 0.3894 - accuracy: 0.8273 - val_loss: 0.3612 - val_accuracy: 0.8562 - lr: 9.9994e-04\n",
      "Epoch 13/15\n",
      "120/120 [==============================] - ETA: 0s - loss: 0.3781 - accuracy: 0.8362\n",
      "Epoch 13: val_loss improved from 0.35580 to 0.34861, saving model to /home/shared/model_checkpoint_paige/scan/reg5-kfold_07\n",
      "120/120 [==============================] - 37s 305ms/step - loss: 0.3781 - accuracy: 0.8362 - val_loss: 0.3486 - val_accuracy: 0.8583 - lr: 9.9994e-04\n",
      "Epoch 14/15\n",
      "120/120 [==============================] - ETA: 0s - loss: 0.3801 - accuracy: 0.8375\n",
      "Epoch 14: val_loss did not improve from 0.34861\n",
      "120/120 [==============================] - 36s 303ms/step - loss: 0.3801 - accuracy: 0.8375 - val_loss: 0.3500 - val_accuracy: 0.8583 - lr: 9.9993e-04\n",
      "Epoch 15/15\n",
      "120/120 [==============================] - ETA: 0s - loss: 0.3792 - accuracy: 0.8305\n",
      "Epoch 15: val_loss did not improve from 0.34861\n",
      "120/120 [==============================] - 37s 312ms/step - loss: 0.3792 - accuracy: 0.8305 - val_loss: 0.3525 - val_accuracy: 0.8625 - lr: 9.9993e-04\n",
      "[0 2 4 8 6 9 1 3 5]\n",
      "[7]\n",
      "[[202  44]\n",
      " [ 51 367]]\n",
      "0.8211382113821138 0.8779904306220095 0.8569277108433735 0.9119062901155327\n"
     ]
    }
   ],
   "source": [
    "seq_len = 208\n",
    "from sklearn.metrics import confusion_matrix\n",
    "from sklearn import metrics\n",
    "\n",
    "\n",
    "folds = [2,4,5,7]\n",
    "for fold in folds:\n",
    "    for cnt in [1,6,-2,-1]:\n",
    "        \n",
    "        tf.keras.backend.clear_session()\n",
    "\n",
    "        keras.utils.set_random_seed(cnt + 2)\n",
    "        random.seed(cnt+2)\n",
    "        np.random.seed(cnt+2)\n",
    "\n",
    "        model = get_attn_lstm(seq_len, noise=0.005)\n",
    "\n",
    "        np_dir = '/home/shared/nps/coat_np_0'\n",
    "\n",
    "        batch_size = 32\n",
    "        training_gen, validation_gen, test_gen = get_generators(files, fold, \n",
    "                                                                batch_size, \n",
    "                                                                'tot', \n",
    "                                                                'feats', \n",
    "                                                                True, \n",
    "                                                                seq_len=seq_len, \n",
    "                                                                np_dir=np_dir, \n",
    "                                                                crop=False,\n",
    "                                                                osa=False\n",
    "                                                               )\n",
    "\n",
    "        lr = 0.001\n",
    "        opt = keras.optimizers.Nadam(learning_rate=lr)#,beta_1=0.9, beta_2=0.999, decay=0.01)\n",
    "        scheduler = keras.optimizers.schedules.ExponentialDecay(lr, 2000,0.99)\n",
    "        scheduler = keras.callbacks.LearningRateScheduler(scheduler)\n",
    "        \n",
    "        es = keras.callbacks.EarlyStopping(monitor='val_loss', patience=10)\n",
    "\n",
    "        model.compile(\n",
    "                optimizer=opt,\n",
    "                loss=keras.losses.binary_crossentropy,\n",
    "                metrics=[\"accuracy\",]\n",
    "            )\n",
    "\n",
    "        model.summary()\n",
    "\n",
    "        checkpoint_filepath = '/home/shared/model_checkpoint_paige/scan/reg5-kfold_0'+str(fold)\n",
    "        checkpoint = keras.callbacks.ModelCheckpoint(\n",
    "            checkpoint_filepath, save_weights_only=True, save_best_only=True, verbose=1\n",
    "        )\n",
    "\n",
    "        history = model.fit(\n",
    "            training_gen, \n",
    "            validation_data = validation_gen,\n",
    "            epochs=15,\n",
    "            callbacks=[checkpoint,scheduler,\n",
    "                       es\n",
    "                      ],\n",
    "        )\n",
    "\n",
    "        df_hist = pd.DataFrame(history.history)\n",
    "        df_hist.to_csv('/home/shared/model_checkpoint_paige/scan/hist-reg5-kfold_0'+str(fold)+'.csv')\n",
    "        \n",
    "        _,_, test_gen = get_generators(files, fold,  1,  'tot', 'feats', \n",
    "                                       True,  seq_len=seq_len, np_dir=np_dir, \n",
    "                                       crop=False, osa=False)\n",
    "        \n",
    "        t_len = test_gen.__len__()\n",
    "        x_test = np.zeros([t_len,208,num_features])\n",
    "        y_test = np.zeros([t_len,1])\n",
    "        for i in range(0,t_len):\n",
    "            x_test[i],y= test_gen.__getitem__(i)\n",
    "            y_test[i] = y\n",
    "\n",
    "        model.load_weights(checkpoint_filepath)\n",
    "        y_pred = model(x_test, training=False)\n",
    "        \n",
    "        cm = confusion_matrix(y_test, np.asarray(y_pred).round())\n",
    "\n",
    "        sepecifity = cm[1][1]/(cm[1][1]+cm[1][0])\n",
    "        sensitivity = cm[0][0]/(cm[0][0]+cm[0][1])\n",
    "        accuracy = (cm[1][1]+cm[0][0])/(cm[1][1]+cm[1][0]+cm[0][0]+cm[0][1])\n",
    "        fpr, tpr, thresholds = metrics.roc_curve(y_test, y_pred, pos_label=1)\n",
    "        roc_auc = metrics.auc(fpr, tpr)\n",
    "        \n",
    "        print(cm)\n",
    "        print(sensitivity, sepecifity, accuracy, roc_auc)\n",
    "        if accuracy > 0.84 and sensitivity > 0.79:\n",
    "            break      "
   ]
  },
  {
   "cell_type": "code",
   "execution_count": 53,
   "id": "56da903e",
   "metadata": {},
   "outputs": [
    {
     "data": {
      "text/html": [
       "<div>\n",
       "<style scoped>\n",
       "    .dataframe tbody tr th:only-of-type {\n",
       "        vertical-align: middle;\n",
       "    }\n",
       "\n",
       "    .dataframe tbody tr th {\n",
       "        vertical-align: top;\n",
       "    }\n",
       "\n",
       "    .dataframe thead th {\n",
       "        text-align: right;\n",
       "    }\n",
       "</style>\n",
       "<table border=\"1\" class=\"dataframe\">\n",
       "  <thead>\n",
       "    <tr style=\"text-align: right;\">\n",
       "      <th></th>\n",
       "      <th>fold</th>\n",
       "      <th>auc</th>\n",
       "      <th>sensitivity</th>\n",
       "      <th>specificity</th>\n",
       "      <th>accuracy</th>\n",
       "      <th>npv</th>\n",
       "      <th>ppv</th>\n",
       "    </tr>\n",
       "  </thead>\n",
       "  <tbody>\n",
       "    <tr>\n",
       "      <th>0</th>\n",
       "      <td>0.0</td>\n",
       "      <td>0.916162</td>\n",
       "      <td>0.819095</td>\n",
       "      <td>0.884615</td>\n",
       "      <td>0.865067</td>\n",
       "      <td>0.92</td>\n",
       "      <td>0.751152</td>\n",
       "    </tr>\n",
       "    <tr>\n",
       "      <th>1</th>\n",
       "      <td>1.0</td>\n",
       "      <td>0.904398</td>\n",
       "      <td>0.793578</td>\n",
       "      <td>0.870246</td>\n",
       "      <td>0.845113</td>\n",
       "      <td>0.896313</td>\n",
       "      <td>0.748918</td>\n",
       "    </tr>\n",
       "    <tr>\n",
       "      <th>2</th>\n",
       "      <td>2.0</td>\n",
       "      <td>0.901638</td>\n",
       "      <td>0.800885</td>\n",
       "      <td>0.867117</td>\n",
       "      <td>0.844776</td>\n",
       "      <td>0.895349</td>\n",
       "      <td>0.754167</td>\n",
       "    </tr>\n",
       "    <tr>\n",
       "      <th>3</th>\n",
       "      <td>3.0</td>\n",
       "      <td>0.885279</td>\n",
       "      <td>0.763033</td>\n",
       "      <td>0.904656</td>\n",
       "      <td>0.859517</td>\n",
       "      <td>0.89083</td>\n",
       "      <td>0.789216</td>\n",
       "    </tr>\n",
       "    <tr>\n",
       "      <th>4</th>\n",
       "      <td>4.0</td>\n",
       "      <td>0.90409</td>\n",
       "      <td>0.78744</td>\n",
       "      <td>0.87931</td>\n",
       "      <td>0.850969</td>\n",
       "      <td>0.902655</td>\n",
       "      <td>0.744292</td>\n",
       "    </tr>\n",
       "    <tr>\n",
       "      <th>5</th>\n",
       "      <td>5.0</td>\n",
       "      <td>0.92723</td>\n",
       "      <td>0.812207</td>\n",
       "      <td>0.918142</td>\n",
       "      <td>0.884211</td>\n",
       "      <td>0.912088</td>\n",
       "      <td>0.82381</td>\n",
       "    </tr>\n",
       "    <tr>\n",
       "      <th>6</th>\n",
       "      <td>6.0</td>\n",
       "      <td>0.908468</td>\n",
       "      <td>0.805825</td>\n",
       "      <td>0.908096</td>\n",
       "      <td>0.87632</td>\n",
       "      <td>0.912088</td>\n",
       "      <td>0.798077</td>\n",
       "    </tr>\n",
       "    <tr>\n",
       "      <th>7</th>\n",
       "      <td>7.0</td>\n",
       "      <td>0.911906</td>\n",
       "      <td>0.821138</td>\n",
       "      <td>0.87799</td>\n",
       "      <td>0.856928</td>\n",
       "      <td>0.892944</td>\n",
       "      <td>0.798419</td>\n",
       "    </tr>\n",
       "    <tr>\n",
       "      <th>8</th>\n",
       "      <td>8.0</td>\n",
       "      <td>0.907459</td>\n",
       "      <td>0.801762</td>\n",
       "      <td>0.913043</td>\n",
       "      <td>0.875</td>\n",
       "      <td>0.898649</td>\n",
       "      <td>0.827273</td>\n",
       "    </tr>\n",
       "    <tr>\n",
       "      <th>9</th>\n",
       "      <td>9.0</td>\n",
       "      <td>0.895629</td>\n",
       "      <td>0.762332</td>\n",
       "      <td>0.88964</td>\n",
       "      <td>0.847076</td>\n",
       "      <td>0.881696</td>\n",
       "      <td>0.776256</td>\n",
       "    </tr>\n",
       "  </tbody>\n",
       "</table>\n",
       "</div>"
      ],
      "text/plain": [
       "  fold       auc sensitivity specificity  accuracy       npv       ppv\n",
       "0  0.0  0.916162    0.819095    0.884615  0.865067      0.92  0.751152\n",
       "1  1.0  0.904398    0.793578    0.870246  0.845113  0.896313  0.748918\n",
       "2  2.0  0.901638    0.800885    0.867117  0.844776  0.895349  0.754167\n",
       "3  3.0  0.885279    0.763033    0.904656  0.859517   0.89083  0.789216\n",
       "4  4.0   0.90409     0.78744     0.87931  0.850969  0.902655  0.744292\n",
       "5  5.0   0.92723    0.812207    0.918142  0.884211  0.912088   0.82381\n",
       "6  6.0  0.908468    0.805825    0.908096   0.87632  0.912088  0.798077\n",
       "7  7.0  0.911906    0.821138     0.87799  0.856928  0.892944  0.798419\n",
       "8  8.0  0.907459    0.801762    0.913043     0.875  0.898649  0.827273\n",
       "9  9.0  0.895629    0.762332     0.88964  0.847076  0.881696  0.776256"
      ]
     },
     "execution_count": 53,
     "metadata": {},
     "output_type": "execute_result"
    }
   ],
   "source": [
    "dos5"
   ]
  },
  {
   "cell_type": "code",
   "execution_count": 24,
   "id": "dbafbbfc",
   "metadata": {
    "scrolled": true
   },
   "outputs": [
    {
     "name": "stdout",
     "output_type": "stream",
     "text": [
      "[2 4 8 6 7 9 1 3 5]\n",
      "[0]\n",
      "Sensitivity:81.91 \n",
      "Specificity:88.46 \n",
      "PPV:75.12 \n",
      "NPV:92.0 \n",
      "Accuracy:86.51 \n",
      "Loss:0.3553\n",
      "[[163  36]\n",
      " [ 54 414]]\n",
      "[0 2 4 8 6 7 9 3 5]\n",
      "[1]\n",
      "Sensitivity:79.36 \n",
      "Specificity:87.02 \n",
      "PPV:74.89 \n",
      "NPV:89.63 \n",
      "Accuracy:84.51 \n",
      "Loss:0.3782\n",
      "[[173  45]\n",
      " [ 58 389]]\n",
      "[0 4 8 6 7 9 1 3 5]\n",
      "[2]\n",
      "Sensitivity:80.09 \n",
      "Specificity:86.71 \n",
      "PPV:75.42 \n",
      "NPV:89.53 \n",
      "Accuracy:84.48 \n",
      "Loss:0.364\n",
      "[[181  45]\n",
      " [ 59 385]]\n",
      "[0 2 4 8 6 7 9 1 5]\n",
      "[3]\n",
      "Sensitivity:76.3 \n",
      "Specificity:90.47 \n",
      "PPV:78.92 \n",
      "NPV:89.08 \n",
      "Accuracy:85.95 \n",
      "Loss:0.376\n",
      "[[161  50]\n",
      " [ 43 408]]\n",
      "[0 2 8 6 7 9 1 3 5]\n",
      "[4]\n",
      "Sensitivity:78.74 \n",
      "Specificity:87.93 \n",
      "PPV:74.43 \n",
      "NPV:90.27 \n",
      "Accuracy:85.1 \n",
      "Loss:0.3669\n",
      "[[163  44]\n",
      " [ 56 408]]\n",
      "[0 2 4 8 6 7 9 1 3]\n",
      "[5]\n",
      "Sensitivity:81.22 \n",
      "Specificity:91.81 \n",
      "PPV:82.38 \n",
      "NPV:91.21 \n",
      "Accuracy:88.42 \n",
      "Loss:0.3176\n",
      "[[173  40]\n",
      " [ 37 415]]\n",
      "[0 2 4 8 7 9 1 3 5]\n",
      "[6]\n",
      "Sensitivity:80.58 \n",
      "Specificity:90.81 \n",
      "PPV:79.81 \n",
      "NPV:91.21 \n",
      "Accuracy:87.63 \n",
      "Loss:0.3317\n",
      "[[166  40]\n",
      " [ 42 415]]\n",
      "[0 2 4 8 6 9 1 3 5]\n",
      "[7]\n",
      "Sensitivity:82.11 \n",
      "Specificity:87.8 \n",
      "PPV:79.84 \n",
      "NPV:89.29 \n",
      "Accuracy:85.69 \n",
      "Loss:0.3442\n",
      "[[202  44]\n",
      " [ 51 367]]\n",
      "[0 2 4 6 7 9 1 3 5]\n",
      "[8]\n",
      "Sensitivity:80.18 \n",
      "Specificity:91.3 \n",
      "PPV:82.73 \n",
      "NPV:89.86 \n",
      "Accuracy:87.5 \n",
      "Loss:0.3672\n",
      "[[182  45]\n",
      " [ 38 399]]\n",
      "[0 2 4 8 6 7 1 3 5]\n",
      "[9]\n",
      "Sensitivity:76.23 \n",
      "Specificity:88.96 \n",
      "PPV:77.63 \n",
      "NPV:88.17 \n",
      "Accuracy:84.71 \n",
      "Loss:0.3815\n",
      "[[170  53]\n",
      " [ 49 395]]\n"
     ]
    },
    {
     "data": {
      "image/png": "[encoded data removed]",
      "text/plain": [
       "<Figure size 640x480 with 1 Axes>"
      ]
     },
     "metadata": {},
     "output_type": "display_data"
    }
   ],
   "source": [
    "seq_len=208\n",
    "dos5 = pd.DataFrame(columns=['fold','auc','sensitivity', 'specificity', 'accuracy','npv','ppv'])\n",
    "files_test = files\n",
    "tot = 0\n",
    "caught = 0\n",
    "\n",
    "no = 0\n",
    "nope = 0\n",
    "\n",
    "plt.figure(0).clf()\n",
    "for fold in range(0,10):\n",
    "\n",
    "    model = get_attn_lstm(seq_len)\n",
    "\n",
    "    np_dir = '/home/shared/nps/coat_np_0'\n",
    "\n",
    "    batch_size = 1\n",
    "    _,_, test_gen = get_generators(files, fold, \n",
    "                                   batch_size, \n",
    "                                   'tot', \n",
    "                                   'feats', \n",
    "                                   True, \n",
    "                                   seq_len=seq_len, \n",
    "                                   np_dir=np_dir, \n",
    "                                   crop=False,\n",
    "                                   osa=False)\n",
    "    \n",
    "    \n",
    "    t_len = test_gen.__len__()\n",
    "    x_test = np.zeros([t_len,208,num_features])\n",
    "    y_test = np.zeros([t_len,1])\n",
    "    for i in range(0,t_len):\n",
    "        x_test[i],y= test_gen.__getitem__(i)\n",
    "        y_test[i] = y\n",
    "        \n",
    "    lr = 0.001\n",
    "    opt = keras.optimizers.Nadam(learning_rate=lr)\n",
    "    model.compile(\n",
    "            optimizer=opt,\n",
    "            loss=keras.losses.binary_crossentropy,\n",
    "            metrics=[\"accuracy\",]\n",
    "        )\n",
    "\n",
    "#     if fold != 9:\n",
    "    checkpoint_filepath = '/home/shared/model_checkpoint_paige/scan/reg5-kfold_0'+str(fold)\n",
    "#     else:\n",
    "#         checkpoint_filepath = '/home/shared/model_checkpoint_paige/scan/reg-kfold_0'+str(fold)\n",
    "    model.load_weights(checkpoint_filepath).expect_partial()\n",
    "    \n",
    "    (fpr,tpr), data, cm = test_version(model, x_test,y_test)\n",
    "    \n",
    "    auc = metrics.auc(fpr, tpr)\n",
    "    plt.plot(fpr,tpr, label='Fold '+str(fold +1)+' AUC={:.4f}'.format(auc))\n",
    "\n",
    "    #     plt.show(plot)\n",
    "    tot = tot + cm[0].sum()\n",
    "    caught = caught + cm[0][0]\n",
    "    \n",
    "    no = no + cm[1].sum()\n",
    "    nope = nope + cm[1][1]\n",
    "    dos5 = dos5.append({'fold':fold,'auc':data[0],'sensitivity':data[1], 'specificity':data[2], 'accuracy':data[3], 'npv':data[4],'ppv':data[5]}, ignore_index=True)\n",
    "plt.legend()\n",
    "plt.show()"
   ]
  },
  {
   "cell_type": "code",
   "execution_count": 52,
   "id": "97dc3f93",
   "metadata": {},
   "outputs": [
    {
     "data": {
      "image/png": "[encoded data removed]",
      "text/plain": [
       "<Figure size 640x480 with 2 Axes>"
      ]
     },
     "metadata": {},
     "output_type": "display_data"
    }
   ],
   "source": [
    "fig, axs = plt.subplots(2)\n",
    "colours = ['#1f77b4', '#ff7f0e', '#2ca02c', '#d62728', '#9467bd', '#8c564b', '#e377c2', '#7f7f7f', '#bcbd22', '#17becf']\n",
    "\n",
    "for fold in range(0,10):\n",
    "\n",
    "    if fold != 9:\n",
    "        hist = pd.read_csv('/home/shared/model_checkpoint_paige/scan/hist-reg5-kfold_0'+str(fold)+'.csv')\n",
    "    else:\n",
    "        hist = pd.read_csv('/home/shared/model_checkpoint_paige/scan/hist-reg4-kfold_0'+str(fold)+'.csv')    \n",
    "    axs[0].plot(np.arange(0,len(hist)),hist.val_loss, colours[fold], label='Fold '+str(fold))\n",
    "    axs[0].plot(np.arange(0,len(hist)),hist.loss, colours[fold], linestyle='dashed', label='Fold '+str(fold))\n",
    "\n",
    "    axs[1].plot(np.arange(0,len(hist)),hist.val_accuracy, colours[fold], label='Fold '+str(fold))\n",
    "    axs[1].plot(np.arange(0,len(hist)),hist.accuracy, colours[fold], linestyle='dashed', label='Fold '+str(fold))\n",
    "\n",
    "#     #     plt.show(plot)\n",
    "#     tot = tot + cm[0].sum()\n",
    "#     caught = caught + cm[0][0]\n",
    "    \n",
    "#     no = no + cm[1].sum()\n",
    "#     nope = nope + cm[1][1]\n",
    "#     dos5 = dos5.append({'fold':fold,'auc':data[0],'sensitivity':data[1], 'specificity':data[2], 'accuracy':data[3], 'npv':data[4],'ppv':data[5]}, ignore_index=True)\n",
    "# plt.legend()"
   ]
  },
  {
   "cell_type": "code",
   "execution_count": null,
   "id": "c3efdad8",
   "metadata": {},
   "outputs": [],
   "source": []
  },
  {
   "cell_type": "code",
   "execution_count": 14,
   "id": "9b867431",
   "metadata": {},
   "outputs": [
    {
     "name": "stdout",
     "output_type": "stream",
     "text": [
      "[2 4 8 6 7 9 1 3 5]\n",
      "[0]\n"
     ]
    },
    {
     "name": "stderr",
     "output_type": "stream",
     "text": [
      "2023-01-19 15:46:28.238703: I tensorflow/stream_executor/cuda/cuda_dnn.cc:368] Loaded cuDNN version 8401\n"
     ]
    },
    {
     "name": "stdout",
     "output_type": "stream",
     "text": [
      "Sensitivity:79.9 \n",
      "Specificity:84.4 \n",
      "PPV:68.53 \n",
      "NPV:90.8 \n",
      "Accuracy:83.06 \n",
      "Loss:0.4822\n",
      "[[159  40]\n",
      " [ 73 395]]\n",
      "[0 2 4 8 6 7 9 3 5]\n",
      "[1]\n",
      "WARNING:tensorflow:Detecting that an object or model or tf.train.Checkpoint is being deleted with unrestored values. See the following logs for the specific values in question. To silence these warnings, use `status.expect_partial()`. See https://www.tensorflow.org/api_docs/python/tf/train/Checkpoint#restorefor details about the status object returned by the restore function.\n",
      "WARNING:tensorflow:Value in checkpoint could not be found in the restored object: (root).optimizer.iter\n",
      "WARNING:tensorflow:Value in checkpoint could not be found in the restored object: (root).optimizer.beta_1\n",
      "WARNING:tensorflow:Value in checkpoint could not be found in the restored object: (root).optimizer.beta_2\n",
      "WARNING:tensorflow:Value in checkpoint could not be found in the restored object: (root).optimizer.decay\n",
      "WARNING:tensorflow:Value in checkpoint could not be found in the restored object: (root).optimizer.learning_rate\n",
      "WARNING:tensorflow:Value in checkpoint could not be found in the restored object: (root).optimizer.momentum_cache\n",
      "Sensitivity:69.27 \n",
      "Specificity:93.96 \n",
      "PPV:84.83 \n",
      "NPV:86.24 \n",
      "Accuracy:85.86 \n",
      "Loss:0.4399\n",
      "[[151  67]\n",
      " [ 27 420]]\n",
      "[0 4 8 6 7 9 1 3 5]\n",
      "[2]\n",
      "WARNING:tensorflow:Detecting that an object or model or tf.train.Checkpoint is being deleted with unrestored values. See the following logs for the specific values in question. To silence these warnings, use `status.expect_partial()`. See https://www.tensorflow.org/api_docs/python/tf/train/Checkpoint#restorefor details about the status object returned by the restore function.\n",
      "WARNING:tensorflow:Value in checkpoint could not be found in the restored object: (root).optimizer.iter\n",
      "WARNING:tensorflow:Value in checkpoint could not be found in the restored object: (root).optimizer.beta_1\n",
      "WARNING:tensorflow:Value in checkpoint could not be found in the restored object: (root).optimizer.beta_2\n",
      "WARNING:tensorflow:Value in checkpoint could not be found in the restored object: (root).optimizer.decay\n",
      "WARNING:tensorflow:Value in checkpoint could not be found in the restored object: (root).optimizer.learning_rate\n",
      "WARNING:tensorflow:Value in checkpoint could not be found in the restored object: (root).optimizer.momentum_cache\n",
      "Sensitivity:66.81 \n",
      "Specificity:87.84 \n",
      "PPV:73.66 \n",
      "NPV:83.87 \n",
      "Accuracy:80.75 \n",
      "Loss:0.5095\n",
      "[[151  75]\n",
      " [ 54 390]]\n",
      "[0 2 4 8 6 7 9 1 5]\n",
      "[3]\n",
      "WARNING:tensorflow:Detecting that an object or model or tf.train.Checkpoint is being deleted with unrestored values. See the following logs for the specific values in question. To silence these warnings, use `status.expect_partial()`. See https://www.tensorflow.org/api_docs/python/tf/train/Checkpoint#restorefor details about the status object returned by the restore function.\n",
      "WARNING:tensorflow:Value in checkpoint could not be found in the restored object: (root).optimizer.iter\n",
      "WARNING:tensorflow:Value in checkpoint could not be found in the restored object: (root).optimizer.beta_1\n",
      "WARNING:tensorflow:Value in checkpoint could not be found in the restored object: (root).optimizer.beta_2\n",
      "WARNING:tensorflow:Value in checkpoint could not be found in the restored object: (root).optimizer.decay\n",
      "WARNING:tensorflow:Value in checkpoint could not be found in the restored object: (root).optimizer.learning_rate\n",
      "WARNING:tensorflow:Value in checkpoint could not be found in the restored object: (root).optimizer.momentum_cache\n",
      "Sensitivity:68.72 \n",
      "Specificity:88.25 \n",
      "PPV:73.23 \n",
      "NPV:85.78 \n",
      "Accuracy:82.02 \n",
      "Loss:0.4987\n",
      "[[145  66]\n",
      " [ 53 398]]\n",
      "[0 2 8 6 7 9 1 3 5]\n",
      "[4]\n",
      "WARNING:tensorflow:Detecting that an object or model or tf.train.Checkpoint is being deleted with unrestored values. See the following logs for the specific values in question. To silence these warnings, use `status.expect_partial()`. See https://www.tensorflow.org/api_docs/python/tf/train/Checkpoint#restorefor details about the status object returned by the restore function.\n",
      "WARNING:tensorflow:Value in checkpoint could not be found in the restored object: (root).optimizer.iter\n",
      "WARNING:tensorflow:Value in checkpoint could not be found in the restored object: (root).optimizer.beta_1\n",
      "WARNING:tensorflow:Value in checkpoint could not be found in the restored object: (root).optimizer.beta_2\n",
      "WARNING:tensorflow:Value in checkpoint could not be found in the restored object: (root).optimizer.decay\n",
      "WARNING:tensorflow:Value in checkpoint could not be found in the restored object: (root).optimizer.learning_rate\n",
      "WARNING:tensorflow:Value in checkpoint could not be found in the restored object: (root).optimizer.momentum_cache\n",
      "Sensitivity:70.53 \n",
      "Specificity:91.16 \n",
      "PPV:78.07 \n",
      "NPV:87.4 \n",
      "Accuracy:84.8 \n",
      "Loss:0.4548\n",
      "[[146  61]\n",
      " [ 41 423]]\n",
      "[0 2 4 8 6 7 9 1 3]\n",
      "[5]\n",
      "WARNING:tensorflow:Detecting that an object or model or tf.train.Checkpoint is being deleted with unrestored values. See the following logs for the specific values in question. To silence these warnings, use `status.expect_partial()`. See https://www.tensorflow.org/api_docs/python/tf/train/Checkpoint#restorefor details about the status object returned by the restore function.\n",
      "WARNING:tensorflow:Value in checkpoint could not be found in the restored object: (root).optimizer.iter\n",
      "WARNING:tensorflow:Value in checkpoint could not be found in the restored object: (root).optimizer.beta_1\n",
      "WARNING:tensorflow:Value in checkpoint could not be found in the restored object: (root).optimizer.beta_2\n",
      "WARNING:tensorflow:Value in checkpoint could not be found in the restored object: (root).optimizer.decay\n",
      "WARNING:tensorflow:Value in checkpoint could not be found in the restored object: (root).optimizer.learning_rate\n",
      "WARNING:tensorflow:Value in checkpoint could not be found in the restored object: (root).optimizer.momentum_cache\n",
      "Sensitivity:72.3 \n",
      "Specificity:91.37 \n",
      "PPV:79.79 \n",
      "NPV:87.5 \n",
      "Accuracy:85.26 \n",
      "Loss:0.4581\n",
      "[[154  59]\n",
      " [ 39 413]]\n",
      "[0 2 4 8 7 9 1 3 5]\n",
      "[6]\n",
      "WARNING:tensorflow:Detecting that an object or model or tf.train.Checkpoint is being deleted with unrestored values. See the following logs for the specific values in question. To silence these warnings, use `status.expect_partial()`. See https://www.tensorflow.org/api_docs/python/tf/train/Checkpoint#restorefor details about the status object returned by the restore function.\n",
      "WARNING:tensorflow:Value in checkpoint could not be found in the restored object: (root).optimizer.iter\n",
      "WARNING:tensorflow:Value in checkpoint could not be found in the restored object: (root).optimizer.beta_1\n",
      "WARNING:tensorflow:Value in checkpoint could not be found in the restored object: (root).optimizer.beta_2\n",
      "WARNING:tensorflow:Value in checkpoint could not be found in the restored object: (root).optimizer.decay\n",
      "WARNING:tensorflow:Value in checkpoint could not be found in the restored object: (root).optimizer.learning_rate\n",
      "WARNING:tensorflow:Value in checkpoint could not be found in the restored object: (root).optimizer.momentum_cache\n",
      "Sensitivity:62.14 \n",
      "Specificity:91.03 \n",
      "PPV:75.74 \n",
      "NPV:84.21 \n",
      "Accuracy:82.05 \n",
      "Loss:0.4838\n",
      "[[128  78]\n",
      " [ 41 416]]\n",
      "[0 2 4 8 6 9 1 3 5]\n",
      "[7]\n",
      "WARNING:tensorflow:Detecting that an object or model or tf.train.Checkpoint is being deleted with unrestored values. See the following logs for the specific values in question. To silence these warnings, use `status.expect_partial()`. See https://www.tensorflow.org/api_docs/python/tf/train/Checkpoint#restorefor details about the status object returned by the restore function.\n",
      "WARNING:tensorflow:Value in checkpoint could not be found in the restored object: (root).optimizer.iter\n",
      "WARNING:tensorflow:Value in checkpoint could not be found in the restored object: (root).optimizer.beta_1\n",
      "WARNING:tensorflow:Value in checkpoint could not be found in the restored object: (root).optimizer.beta_2\n",
      "WARNING:tensorflow:Value in checkpoint could not be found in the restored object: (root).optimizer.decay\n",
      "WARNING:tensorflow:Value in checkpoint could not be found in the restored object: (root).optimizer.learning_rate\n",
      "WARNING:tensorflow:Value in checkpoint could not be found in the restored object: (root).optimizer.momentum_cache\n",
      "Sensitivity:77.64 \n",
      "Specificity:84.93 \n",
      "PPV:75.2 \n",
      "NPV:86.59 \n",
      "Accuracy:82.23 \n",
      "Loss:0.4643\n",
      "[[191  55]\n",
      " [ 63 355]]\n"
     ]
    },
    {
     "name": "stdout",
     "output_type": "stream",
     "text": [
      "[0 2 4 6 7 9 1 3 5]\n",
      "[8]\n",
      "WARNING:tensorflow:Detecting that an object or model or tf.train.Checkpoint is being deleted with unrestored values. See the following logs for the specific values in question. To silence these warnings, use `status.expect_partial()`. See https://www.tensorflow.org/api_docs/python/tf/train/Checkpoint#restorefor details about the status object returned by the restore function.\n",
      "WARNING:tensorflow:Value in checkpoint could not be found in the restored object: (root).optimizer.iter\n",
      "WARNING:tensorflow:Value in checkpoint could not be found in the restored object: (root).optimizer.beta_1\n",
      "WARNING:tensorflow:Value in checkpoint could not be found in the restored object: (root).optimizer.beta_2\n",
      "WARNING:tensorflow:Value in checkpoint could not be found in the restored object: (root).optimizer.decay\n",
      "WARNING:tensorflow:Value in checkpoint could not be found in the restored object: (root).optimizer.learning_rate\n",
      "WARNING:tensorflow:Value in checkpoint could not be found in the restored object: (root).optimizer.momentum_cache\n",
      "Sensitivity:70.48 \n",
      "Specificity:92.22 \n",
      "PPV:82.47 \n",
      "NPV:85.74 \n",
      "Accuracy:84.79 \n",
      "Loss:0.4376\n",
      "[[160  67]\n",
      " [ 34 403]]\n",
      "[0 2 4 8 6 7 1 3 5]\n",
      "[9]\n",
      "WARNING:tensorflow:Detecting that an object or model or tf.train.Checkpoint is being deleted with unrestored values. See the following logs for the specific values in question. To silence these warnings, use `status.expect_partial()`. See https://www.tensorflow.org/api_docs/python/tf/train/Checkpoint#restorefor details about the status object returned by the restore function.\n",
      "WARNING:tensorflow:Value in checkpoint could not be found in the restored object: (root).optimizer.iter\n",
      "WARNING:tensorflow:Value in checkpoint could not be found in the restored object: (root).optimizer.beta_1\n",
      "WARNING:tensorflow:Value in checkpoint could not be found in the restored object: (root).optimizer.beta_2\n",
      "WARNING:tensorflow:Value in checkpoint could not be found in the restored object: (root).optimizer.decay\n",
      "WARNING:tensorflow:Value in checkpoint could not be found in the restored object: (root).optimizer.learning_rate\n",
      "WARNING:tensorflow:Value in checkpoint could not be found in the restored object: (root).optimizer.momentum_cache\n",
      "Sensitivity:72.2 \n",
      "Specificity:85.14 \n",
      "PPV:70.93 \n",
      "NPV:85.91 \n",
      "Accuracy:80.81 \n",
      "Loss:0.5034\n",
      "[[161  62]\n",
      " [ 66 378]]\n"
     ]
    }
   ],
   "source": [
    "seq_len = NUM_SLICES = 96\n",
    "ENCODING_DIM = 64\n",
    "\n",
    "dt = pd.DataFrame(columns=['fold','auc','sensitivity', 'specificity', 'accuracy','npv','ppv'])\n",
    "files_test = files\n",
    "tot = 0\n",
    "caught = 0\n",
    "\n",
    "no = 0\n",
    "nope = 0\n",
    "\n",
    "for fold in range(0,10):\n",
    "\n",
    "    model = get_model()\n",
    "\n",
    "    batch_size = 1\n",
    "    _,_, test_gen = get_turku_generators(files,fold,1)\n",
    "    \n",
    "    t_len = test_gen.__len__()\n",
    "    x_test = np.zeros([t_len,96,num_features])\n",
    "    y_test = np.zeros([t_len,1])\n",
    "    for i in range(0,t_len):\n",
    "        x_test[i],y= test_gen.__getitem__(i)\n",
    "        y_test[i] = y[1]\n",
    "        \n",
    "    lr = 0.001\n",
    "    opt = keras.optimizers.Nadam(learning_rate=lr)\n",
    "    model.compile(\n",
    "            optimizer=opt,\n",
    "            loss=keras.losses.binary_crossentropy,\n",
    "            metrics=[\"accuracy\",]\n",
    "        )\n",
    "\n",
    "    checkpoint_filepath = '/home/shared/model_checkpoint_paige/scan/turku_fold_0'+str(fold)\n",
    "    model.load_weights(checkpoint_filepath)\n",
    "#     .expect_patial()\n",
    "    \n",
    "    plot, data, cm = test_version(model, x_test,y_test, turku=True)\n",
    "    tot = tot + cm[0].sum()\n",
    "    caught = caught + cm[0][0]\n",
    "    \n",
    "    no = no + cm[1].sum()\n",
    "    nope = nope + cm[1][1]\n",
    "    dt = dt.append({'fold':fold,'auc':data[0],'sensitivity':data[1], 'specificity':data[2], 'accuracy':data[3], 'npv':data[4],'ppv':data[5]}, ignore_index=True)"
   ]
  },
  {
   "cell_type": "code",
   "execution_count": 25,
   "id": "38e65d7e",
   "metadata": {},
   "outputs": [
    {
     "name": "stdout",
     "output_type": "stream",
     "text": [
      "fold\n",
      "RanksumsResult(statistic=0.0, pvalue=1.0)\n",
      "4.5 4.5\n",
      "\n",
      "auc\n",
      "RanksumsResult(statistic=3.6284589408885815, pvalue=0.00028511808363161265)\n",
      "0.9062258912153782 0.8644019975248968\n",
      "\n",
      "sensitivity\n",
      "RanksumsResult(statistic=3.3260873624811995, pvalue=0.000880743190741727)\n",
      "0.7967295183645524 0.7099920510897142\n",
      "\n",
      "specificity\n",
      "RanksumsResult(statistic=-0.15118578920369088, pvalue=0.8798291600118298)\n",
      "0.891285667239214 0.8902945811549448\n",
      "\n",
      "accuracy\n",
      "RanksumsResult(statistic=2.6457513110645907, pvalue=0.008150971593502691)\n",
      "0.8604976144967637 0.8316344854469613\n",
      "\n",
      "npv\n",
      "RanksumsResult(statistic=3.250494467879354, pvalue=0.0011520450981421845)\n",
      "0.9002611703169725 0.8640400854511905\n",
      "\n",
      "ppv\n",
      "RanksumsResult(statistic=0.9827076298239908, pvalue=0.3257513544787166)\n",
      "0.7811578267288313 0.7624602479750144\n",
      "\n"
     ]
    }
   ],
   "source": [
    "from scipy.stats import ranksums\n",
    "for col in dos5.columns:\n",
    "    print(col)\n",
    "    print(ranksums(dos5[col], dt[col]))\n",
    "    print(dos5[col].mean(), dt[col].mean())\n",
    "    print()\n"
   ]
  },
  {
   "cell_type": "code",
   "execution_count": 183,
   "id": "a891c080",
   "metadata": {},
   "outputs": [
    {
     "name": "stdout",
     "output_type": "stream",
     "text": [
      "0.9194630872483222\n",
      "0.7094017094017094\n"
     ]
    }
   ],
   "source": [
    "fold = 1\n",
    "all_fold = all_pred[all_pred.fold == fold]\n",
    "print((all_fold[all_fold.negative_exam_for_pe == True].pred >0.5).mean())\n",
    "print((all_fold[all_fold.negative_exam_for_pe == False].pred <0.5).mean())"
   ]
  },
  {
   "cell_type": "code",
   "execution_count": 81,
   "id": "6591e281",
   "metadata": {},
   "outputs": [],
   "source": [
    "all_neg = all_pred[all_pred.negative_exam_for_pe == True]\n",
    "all_pos = all_pred[all_pred.negative_exam_for_pe == False]"
   ]
  },
  {
   "cell_type": "code",
   "execution_count": 82,
   "id": "a452ca38",
   "metadata": {},
   "outputs": [
    {
     "data": {
      "text/plain": [
       "(0.7950367647058824, 0.8984828201695672)"
      ]
     },
     "execution_count": 82,
     "metadata": {},
     "output_type": "execute_result"
    }
   ],
   "source": [
    "(all_pos.pred < 0.5).sum()/len(all_pos),(all_neg.pred > 0.5).sum()/len(all_neg)"
   ]
  },
  {
   "cell_type": "code",
   "execution_count": 85,
   "id": "b19005a9",
   "metadata": {},
   "outputs": [
    {
     "data": {
      "text/plain": [
       "(2176, 1730)"
      ]
     },
     "execution_count": 85,
     "metadata": {},
     "output_type": "execute_result"
    }
   ],
   "source": [
    "len(all_pos), len(all_pos[all_pos.pred < 0.5])"
   ]
  },
  {
   "cell_type": "code",
   "execution_count": 31,
   "id": "4d278a38",
   "metadata": {},
   "outputs": [
    {
     "data": {
      "text/plain": [
       "(0.9724310776942355, 0.8640093786635404, 0.6255411255411255)"
      ]
     },
     "execution_count": 31,
     "metadata": {},
     "output_type": "execute_result"
    }
   ],
   "source": [
    "(all_pos[all_pos.central_pe == True].pred <0.5).mean(), (all_pos[(all_pos.central_pe == False) &((all_pos.leftsided_pe == True) & (all_pos.rightsided_pe ==True))].pred < 0.5).mean(), (all_pos[(all_pos.central_pe == False) & ((all_pos.leftsided_pe == False) | (all_pos.rightsided_pe ==False))].pred < 0.5).mean()"
   ]
  },
  {
   "cell_type": "code",
   "execution_count": 177,
   "id": "b8720d1e",
   "metadata": {},
   "outputs": [],
   "source": [
    "all_false_neg = all_pos[all_pos.pred > 0.5]\n",
    "all_true_pos = all_pos[all_pos.pred < 0.5]\n",
    "\n",
    "all_false_pos = all_neg[all_neg.pred < 0.5]\n",
    "all_true_neg = all_neg[all_neg.pred > 0.5]"
   ]
  },
  {
   "cell_type": "code",
   "execution_count": 176,
   "id": "bc21bd86",
   "metadata": {},
   "outputs": [
    {
     "data": {
      "text/plain": [
       "0.17582417582417584"
      ]
     },
     "execution_count": 176,
     "metadata": {},
     "output_type": "execute_result"
    }
   ],
   "source": [
    "len(all_pos[(all_pos.pred > 0.5) & ((all_pos.qa_contrast == True) | (all_pos.qa_motion== True))])/len(all_pos[all_pos.pred >0.5])"
   ]
  },
  {
   "cell_type": "code",
   "execution_count": 167,
   "id": "574788b5",
   "metadata": {},
   "outputs": [
    {
     "data": {
      "text/plain": [
       "0.7931985294117647"
      ]
     },
     "execution_count": 167,
     "metadata": {},
     "output_type": "execute_result"
    }
   ],
   "source": [
    "(all_pos[(all_pos.qa_contrast == False) & (all_pos.qa_motion == False)].pred < 0.5).mean()"
   ]
  },
  {
   "cell_type": "code",
   "execution_count": 89,
   "id": "05cc8c50",
   "metadata": {},
   "outputs": [
    {
     "data": {
      "text/plain": [
       "(0.974937343358396, 0.7546426561620709, 399, 389)"
      ]
     },
     "execution_count": 89,
     "metadata": {},
     "output_type": "execute_result"
    }
   ],
   "source": [
    "col = 'central_pe'\n",
    "(all_pos[all_pos[col] == True].pred <0.5).sum()/len(all_pos[all_pos[col] == True]),(all_pos[all_pos[col] == False].pred <0.5).sum()/len(all_pos[all_pos[col] == False]),len(all_pos[all_pos[col]==True]),len(all_pos[(all_pos.pred < 0.5) & (all_pos[col]==True)])"
   ]
  },
  {
   "cell_type": "code",
   "execution_count": 100,
   "id": "6a9f3e2c",
   "metadata": {},
   "outputs": [
    {
     "data": {
      "text/plain": [
       "(0.8733880422039859, 0.645021645021645)"
      ]
     },
     "execution_count": 100,
     "metadata": {},
     "output_type": "execute_result"
    }
   ],
   "source": [
    "(all_pos[(all_pos.central_pe == False) & (all_pos.leftsided_pe == True) & (all_pos.rightsided_pe == True)].pred <0.5).sum()/len(all_pos[(all_pos.central_pe == False) & (all_pos.leftsided_pe == True) & (all_pos.rightsided_pe == True)]),(all_pos[(all_pos.central_pe == False) & ((all_pos.leftsided_pe == True) ^ (all_pos.rightsided_pe == True))].pred <0.5).sum()/len(all_pos[(all_pos.central_pe == False) & ((all_pos.leftsided_pe == True) ^ (all_pos.rightsided_pe == True))])"
   ]
  },
  {
   "cell_type": "code",
   "execution_count": 159,
   "id": "9e2d1fb3",
   "metadata": {},
   "outputs": [
    {
     "data": {
      "text/plain": [
       "(0.8881118881118881, 0.7568807339449541, 143)"
      ]
     },
     "execution_count": 159,
     "metadata": {},
     "output_type": "execute_result"
    }
   ],
   "source": [
    "col = 'acute_and_chronic_pe'\n",
    "(all_pos[all_pos[col] == True].pred <0.5).sum()/len(all_pos[all_pos[col] == True]),(all_pos[all_pos[col] == False].pred <0.5).sum()/len(all_pos[all_pos[col] == False]),len(all_pos[all_pos[col]==True])"
   ]
  },
  {
   "cell_type": "code",
   "execution_count": 101,
   "id": "adb94d85",
   "metadata": {},
   "outputs": [
    {
     "data": {
      "text/plain": [
       "(0.8260869565217391, 0.901582131223825, 184)"
      ]
     },
     "execution_count": 101,
     "metadata": {},
     "output_type": "execute_result"
    }
   ],
   "source": [
    "col = 'flow_artifact'\n",
    "(all_neg[all_neg[col] == True].pred >0.5).sum()/len(all_neg[all_neg[col] == True]),(all_neg[all_neg[col] == False].pred >0.5).sum()/len(all_neg[all_neg[col] == False]),len(all_neg[all_neg[col]==True])"
   ]
  },
  {
   "cell_type": "code",
   "execution_count": 102,
   "id": "639b7d8d",
   "metadata": {},
   "outputs": [
    {
     "data": {
      "text/plain": [
       "(0.7419354838709677, 0.8995731296337902, 31)"
      ]
     },
     "execution_count": 102,
     "metadata": {},
     "output_type": "execute_result"
    }
   ],
   "source": [
    "col = 'true_filling_defect_not_pe'\n",
    "(all_neg[all_neg[col] == True].pred >0.5).mean(),(all_neg[all_neg[col] == False].pred >0.5).mean(),len(all_neg[all_neg[col]==True])"
   ]
  },
  {
   "cell_type": "code",
   "execution_count": 103,
   "id": "fdb47ee2",
   "metadata": {},
   "outputs": [
    {
     "data": {
      "text/plain": [
       "negative_exam_for_pe          1.000000\n",
       "qa_motion                     0.000000\n",
       "qa_contrast                   0.000000\n",
       "flow_artifact                 0.041053\n",
       "rv_lv_ratio_gte_1             0.000000\n",
       "rv_lv_ratio_lt_1              0.000000\n",
       "leftsided_pe                  0.000000\n",
       "chronic_pe                    0.000000\n",
       "true_filling_defect_not_pe    0.006917\n",
       "rightsided_pe                 0.000000\n",
       "acute_and_chronic_pe          0.000000\n",
       "central_pe                    0.000000\n",
       "indeterminate                 0.000000\n",
       "fold                          4.454261\n",
       "pred                          0.796277\n",
       "dtype: float64"
      ]
     },
     "execution_count": 103,
     "metadata": {},
     "output_type": "execute_result"
    }
   ],
   "source": [
    "all_neg.mean()"
   ]
  },
  {
   "cell_type": "code",
   "execution_count": 246,
   "id": "647fedab",
   "metadata": {},
   "outputs": [],
   "source": [
    "all_all_ids = pd.read_csv('all_ids_updated.csv')"
   ]
  },
  {
   "cell_type": "code",
   "execution_count": 27,
   "id": "42ebddfc",
   "metadata": {},
   "outputs": [
    {
     "data": {
      "text/plain": [
       "0.34136664217487145"
      ]
     },
     "execution_count": 27,
     "metadata": {},
     "output_type": "execute_result"
    }
   ],
   "source": [
    "1-all_pred.negative_exam_for_pe.mean()"
   ]
  },
  {
   "cell_type": "code",
   "execution_count": 23,
   "id": "be698a70",
   "metadata": {},
   "outputs": [
    {
     "data": {
      "text/plain": [
       "0.6374458874458875"
      ]
     },
     "execution_count": 23,
     "metadata": {},
     "output_type": "execute_result"
    }
   ],
   "source": [
    "(all_pos[(all_pos.central_pe == False) & ((all_pos.leftsided_pe ==False) ^ (all_pos.rightsided_pe==False))].pred < 0.5).mean()"
   ]
  },
  {
   "cell_type": "code",
   "execution_count": 213,
   "id": "94912db8",
   "metadata": {},
   "outputs": [
    {
     "data": {
      "text/plain": [
       "(0.7649591046061128, 147, 0.7931985294117647, 0.3469387755102041)"
      ]
     },
     "execution_count": 213,
     "metadata": {},
     "output_type": "execute_result"
    }
   ],
   "source": [
    "(all_pos.pred < 0.5).mean(),len(all_pos[(all_pos.rv_lv_ratio_gte_1==False)& (all_pos.rv_lv_ratio_lt_1 == False)]),(all_pos[(all_pos.rv_lv_ratio_gte_1==True)| (all_pos.rv_lv_ratio_lt_1 == True)].pred < 0.5).mean(),(all_pos[(all_pos.rv_lv_ratio_gte_1==False)& (all_pos.rv_lv_ratio_lt_1 == False)].pred < 0.5).mean()"
   ]
  },
  {
   "cell_type": "code",
   "execution_count": 214,
   "id": "9709e0bf",
   "metadata": {},
   "outputs": [
    {
     "data": {
      "text/plain": [
       "negative_exam_for_pe          0.000000\n",
       "qa_motion                     0.387755\n",
       "qa_contrast                   0.775510\n",
       "flow_artifact                 0.095238\n",
       "rv_lv_ratio_gte_1             0.000000\n",
       "rv_lv_ratio_lt_1              0.000000\n",
       "leftsided_pe                  0.000000\n",
       "chronic_pe                    0.000000\n",
       "true_filling_defect_not_pe    0.000000\n",
       "rightsided_pe                 0.000000\n",
       "acute_and_chronic_pe          0.000000\n",
       "central_pe                    0.000000\n",
       "indeterminate                 1.000000\n",
       "fold                          4.551020\n",
       "pred                          0.594196\n",
       "dtype: float64"
      ]
     },
     "execution_count": 214,
     "metadata": {},
     "output_type": "execute_result"
    }
   ],
   "source": [
    "all_pos[(all_pos.rv_lv_ratio_gte_1 == False) & (all_pos.rv_lv_ratio_lt_1 == False)].mean()"
   ]
  },
  {
   "cell_type": "code",
   "execution_count": 241,
   "id": "d2e0a0c0",
   "metadata": {},
   "outputs": [
    {
     "data": {
      "text/plain": [
       "1.6272349780166098"
      ]
     },
     "execution_count": 241,
     "metadata": {},
     "output_type": "execute_result"
    }
   ],
   "source": [
    "(all_neg[all_neg.flow_artifact == True].pred < 0.5).mean()/(all_neg[all_neg.flow_artifact == False].pred < 0.5).mean()"
   ]
  },
  {
   "cell_type": "code",
   "execution_count": 242,
   "id": "9806a50e",
   "metadata": {},
   "outputs": [
    {
     "data": {
      "text/plain": [
       "2.1429947038998556"
      ]
     },
     "execution_count": 242,
     "metadata": {},
     "output_type": "execute_result"
    }
   ],
   "source": [
    "(all_neg[all_neg.true_filling_defect_not_pe == True].pred < 0.5).mean()/(all_neg[all_neg.true_filling_defect_not_pe == False].pred < 0.5).mean()"
   ]
  },
  {
   "cell_type": "code",
   "execution_count": 374,
   "id": "be95a0d3",
   "metadata": {},
   "outputs": [],
   "source": [
    "sub = all_false_neg[all_false_neg.qa_motion== True].StudyInstanceUID"
   ]
  },
  {
   "cell_type": "code",
   "execution_count": 257,
   "id": "418cd773",
   "metadata": {},
   "outputs": [],
   "source": [
    "all_all = pd.read_csv('/home/shared/nps/results_0to10.csv')"
   ]
  },
  {
   "cell_type": "code",
   "execution_count": 385,
   "id": "27f3b4e6",
   "metadata": {},
   "outputs": [
    {
     "data": {
      "text/plain": [
       "array(['1332400aae88', 'bdd1a6ef0a20', 'c4702e3013ef', 'd9e7f4891acd',\n",
       "       'deeba41e5b29'], dtype=object)"
      ]
     },
     "execution_count": 385,
     "metadata": {},
     "output_type": "execute_result"
    }
   ],
   "source": [
    "all_all[(all_all.StudyInstanceUID.isin(sub)) & (all_all.fold == 1) & (all_all.pred_01 > 0.6)].StudyInstanceUID.unique()"
   ]
  },
  {
   "cell_type": "code",
   "execution_count": 273,
   "id": "20b21017",
   "metadata": {},
   "outputs": [],
   "source": [
    "import matplotlib.pyplot as plt\n",
    "import cv2"
   ]
  },
  {
   "cell_type": "code",
   "execution_count": 247,
   "id": "95b81d17",
   "metadata": {},
   "outputs": [
    {
     "data": {
      "text/plain": [
       "0.07773109243697479"
      ]
     },
     "execution_count": 247,
     "metadata": {},
     "output_type": "execute_result"
    }
   ],
   "source": [
    "len(all_false_pos[(all_false_pos.flow_artifact == True) | (all_false_pos.true_filling_defect_not_pe == True)])/len(all_false_pos)"
   ]
  },
  {
   "cell_type": "code",
   "execution_count": 27,
   "id": "52bddab5",
   "metadata": {},
   "outputs": [
    {
     "data": {
      "text/plain": [
       "fold           4.500000\n",
       "auc            0.906226\n",
       "sensitivity    0.796730\n",
       "specificity    0.891286\n",
       "accuracy       0.860498\n",
       "npv            0.900261\n",
       "ppv            0.781158\n",
       "dtype: float64"
      ]
     },
     "execution_count": 27,
     "metadata": {},
     "output_type": "execute_result"
    }
   ],
   "source": [
    "dos5.mean()"
   ]
  },
  {
   "cell_type": "code",
   "execution_count": 224,
   "id": "d192042c",
   "metadata": {},
   "outputs": [
    {
     "data": {
      "text/plain": [
       "negative_exam_for_pe          1.000000\n",
       "qa_motion                     0.000000\n",
       "qa_contrast                   0.000000\n",
       "flow_artifact                 0.065126\n",
       "rv_lv_ratio_gte_1             0.000000\n",
       "rv_lv_ratio_lt_1              0.000000\n",
       "leftsided_pe                  0.000000\n",
       "chronic_pe                    0.000000\n",
       "true_filling_defect_not_pe    0.014706\n",
       "rightsided_pe                 0.000000\n",
       "acute_and_chronic_pe          0.000000\n",
       "central_pe                    0.000000\n",
       "indeterminate                 0.000000\n",
       "fold                          4.090336\n",
       "pred                          0.297252\n",
       "dtype: float64"
      ]
     },
     "execution_count": 224,
     "metadata": {},
     "output_type": "execute_result"
    }
   ],
   "source": [
    "all_false_pos.mean()"
   ]
  },
  {
   "cell_type": "code",
   "execution_count": 164,
   "id": "dbe91a57",
   "metadata": {},
   "outputs": [
    {
     "data": {
      "text/plain": [
       "0.631578947368421"
      ]
     },
     "execution_count": 164,
     "metadata": {},
     "output_type": "execute_result"
    }
   ],
   "source": [
    "(all_pred[all_pred.qa_motion == True].pred > 0.5).mean()/len(all_pred[all_pred.qa_motion == True])"
   ]
  },
  {
   "cell_type": "code",
   "execution_count": null,
   "id": "09cf063e",
   "metadata": {},
   "outputs": [],
   "source": [
    "(all_pred[all_pred.qa == True].pred > 0.5).sum()/len(all_pred[all_pred.qa_motion == True])"
   ]
  },
  {
   "cell_type": "code",
   "execution_count": 62,
   "id": "6068696c",
   "metadata": {},
   "outputs": [],
   "source": [
    "from scipy.stats import ranksums"
   ]
  },
  {
   "cell_type": "code",
   "execution_count": 71,
   "id": "d8b116e0",
   "metadata": {},
   "outputs": [
    {
     "name": "stdout",
     "output_type": "stream",
     "text": [
      "fold\n",
      "RanksumsResult(statistic=0.0, pvalue=1.0)\n",
      "auc\n",
      "RanksumsResult(statistic=-3.704051835490427, pvalue=0.00021218287122257823)\n",
      "sensitivity\n",
      "RanksumsResult(statistic=-3.4016802570830453, pvalue=0.0006697294490218271)\n",
      "specificity\n",
      "RanksumsResult(statistic=0.8315218406202999, pvalue=0.40567889528505297)\n",
      "accuracy\n",
      "RanksumsResult(statistic=-2.418972627259054, pvalue=0.015564411386633814)\n",
      "npv\n",
      "RanksumsResult(statistic=-3.3260873624811995, pvalue=0.000880743190741727)\n",
      "ppv\n",
      "RanksumsResult(statistic=-0.15118578920369088, pvalue=0.8798291600118298)\n"
     ]
    }
   ],
   "source": [
    "for col in dt.columns:\n",
    "    print(col)\n",
    "    print(ranksums(dt[col], doo[col]))"
   ]
  },
  {
   "cell_type": "code",
   "execution_count": 55,
   "id": "2ea57293",
   "metadata": {},
   "outputs": [
    {
     "data": {
      "text/plain": [
       "(fold           4.500000\n",
       " auc            0.895292\n",
       " sensitivity    0.765049\n",
       " specificity    0.886435\n",
       " accuracy       0.844828\n",
       " npv            0.879391\n",
       " ppv            0.781576\n",
       " dtype: float64,\n",
       " fold           4.500000\n",
       " auc            0.897514\n",
       " sensitivity    0.764919\n",
       " specificity    0.893941\n",
       " accuracy       0.849824\n",
       " npv            0.880483\n",
       " ppv            0.791557\n",
       " dtype: float64)"
      ]
     },
     "execution_count": 55,
     "metadata": {},
     "output_type": "execute_result"
    }
   ],
   "source": [
    "do.mean(), doo.mean()"
   ]
  },
  {
   "cell_type": "code",
   "execution_count": 35,
   "id": "8b2e8a48",
   "metadata": {},
   "outputs": [
    {
     "data": {
      "text/plain": [
       "(2323, 1777, 0.7649591046061128, 4482, 4006, 0.8937974118697011)"
      ]
     },
     "execution_count": 35,
     "metadata": {},
     "output_type": "execute_result"
    }
   ],
   "source": [
    "tot, caught, caught/tot, no ,nope, nope/no"
   ]
  },
  {
   "cell_type": "code",
   "execution_count": 36,
   "id": "20d73cc4",
   "metadata": {},
   "outputs": [
    {
     "data": {
      "text/plain": [
       "fold           4.500000\n",
       "auc            0.897514\n",
       "sensitivity    0.764919\n",
       "specificity    0.893941\n",
       "accuracy       0.849824\n",
       "npv            0.880483\n",
       "ppv            0.791557\n",
       "dtype: float64"
      ]
     },
     "execution_count": 36,
     "metadata": {},
     "output_type": "execute_result"
    }
   ],
   "source": [
    "do.mean()"
   ]
  },
  {
   "cell_type": "code",
   "execution_count": 11,
   "id": "f91693e4",
   "metadata": {},
   "outputs": [],
   "source": [
    "from sklearn.metrics import confusion_matrix\n",
    "from sklearn import metrics\n",
    "\n",
    "tf.config.experimental.enable_op_determinism()\n",
    "\n",
    "def test_version(model, x_test, y_test, offset=0, turku=False):\n",
    "\n",
    "    y_pred = model(x_test, training=False)\n",
    "        \n",
    "    if turku == False:\n",
    "        y_pred = y_pred.numpy() + offset\n",
    "    else: \n",
    "        y_pred = y_pred[1].numpy() + offset\n",
    "    cm = confusion_matrix(y_test, y_pred.round())\n",
    "        \n",
    "    sepecifity = cm[1][1]/(cm[1][1]+cm[1][0])\n",
    "    sensitivity = cm[0][0]/(cm[0][0]+cm[0][1])\n",
    "    accuracy = (cm[1][1]+cm[0][0])/(cm[1][1]+cm[1][0]+cm[0][0]+cm[0][1])\n",
    "\n",
    "    ppv = cm[0][0]/(cm[0][0]+cm[1][0])\n",
    "    npv = cm[1][1]/(cm[1][1]+cm[0][1])\n",
    "    loss = metrics.log_loss(y_test, y_pred)\n",
    "\n",
    "    print('Sensitivity:{:.4}'.format(sensitivity*100),\n",
    "          '\\nSpecificity:{:.4}'.format(sepecifity*100),\n",
    "          '\\nPPV:{:.4}'.format(ppv*100),\n",
    "          '\\nNPV:{:.4}'.format(npv*100),\n",
    "          '\\nAccuracy:{:.4}'.format(accuracy*100),\n",
    "          '\\nLoss:{:.4}'.format(loss))\n",
    "    print(cm)\n",
    "\n",
    "    fpr, tpr, thresholds = metrics.roc_curve(y_test, y_pred, pos_label=1)\n",
    "    roc_auc = metrics.auc(fpr, tpr)\n",
    "    display = metrics.RocCurveDisplay(fpr=fpr, tpr=tpr, roc_auc=roc_auc,\n",
    "                                      estimator_name='example estimator')\n",
    "    return (fpr,tpr), [roc_auc, sensitivity, sepecifity, accuracy, npv, ppv], cm"
   ]
  },
  {
   "cell_type": "code",
   "execution_count": null,
   "id": "52e6f9cc",
   "metadata": {},
   "outputs": [],
   "source": [
    "batch_size = 16\n",
    "training_generator, validation_generator, test_generator = get_generators(files, fold, batch_size, 'tot', 'feats')"
   ]
  },
  {
   "cell_type": "code",
   "execution_count": 10,
   "id": "99460d09",
   "metadata": {},
   "outputs": [],
   "source": [
    "class TurkuGenerator(keras.utils.Sequence):\n",
    "    def __init__(\n",
    "        self,\n",
    "        df: pd.DataFrame,\n",
    "#         encoding_dict: Dict[str, np.ndarray],\n",
    "#         filename_col: str,\n",
    "#         label_col: str,\n",
    "#         dataset_label_col: str,\n",
    "        batch_size: int,\n",
    "        encoding_dim: int,\n",
    "        directory: str,\n",
    "        num_slices: int = 96,\n",
    "        shuffle: bool = True,\n",
    "    ):\n",
    "        self.df = df.copy()\n",
    "        self.series_instance_uids = self.df[\"StudyInstanceUID\"].unique()\n",
    "        self.count_no_aug_series = len(self.series_instance_uids)\n",
    "#         self.encoding_dict = encoding_dict\n",
    "#         self.filename_col = filename_col\n",
    "#         self.label_col = label_col\n",
    "#         self.dataset_label_col = dataset_label_col\n",
    "        self.batch_size = batch_size\n",
    "        self.encoding_dim = encoding_dim\n",
    "        self.num_slices = num_slices\n",
    "        self.shuffle = shuffle\n",
    "        self.directory = directory\n",
    "\n",
    "        self.on_epoch_end()\n",
    "\n",
    "    def __len__(self) -> int:\n",
    "        return int(np.ceil(self.count_no_aug_series / self.batch_size))\n",
    "\n",
    "    def __getitem__(self, index: int):\n",
    "        offset = index * self.batch_size\n",
    "        indexes = self.indexes[offset : min(offset + self.batch_size, self.df.shape[0])]\n",
    "\n",
    "        UIDs = [self.series_instance_uids[k] for k in indexes]\n",
    "\n",
    "        X, ys = self._prepare_batch(UIDs)\n",
    "\n",
    "        return X, ys\n",
    "\n",
    "    def on_epoch_end(self):\n",
    "        \"\"\"Updates indexes after each epoch\"\"\"\n",
    "        self.indexes = np.arange(len(self.series_instance_uids))\n",
    "        if self.shuffle:\n",
    "            np.random.shuffle(self.indexes)\n",
    "\n",
    "    def _prepare_batch(self, UIDs):\n",
    "        batch_size = len(UIDs)\n",
    "        X = np.zeros((batch_size, self.num_slices, self.encoding_dim), dtype=np.float32)\n",
    "        y = np.zeros((batch_size, self.num_slices, 1), dtype=np.int32)\n",
    "        y_stack = np.zeros((batch_size, 1), dtype=np.int32)\n",
    "\n",
    "        for i, uid in enumerate(UIDs):\n",
    "\n",
    "            scan = pd.DataFrame(np.load(self.directory + uid + '.npy', allow_pickle=True).tolist())\n",
    "            scan.ycoord = scan.ycoord.replace('True', '1.0').astype('float')\n",
    "            scan = scan.sort_values(by=['ycoord'], ascending=True).reset_index(drop=True)\n",
    "\n",
    "            features = scan.features.tolist()\n",
    "            seq = scan.pe_present_on_image.tolist()\n",
    "            \n",
    "            if len(features) > self.num_slices:\n",
    "                X[i] = features[:self.num_slices]\n",
    "                y[i,:,0] = seq[:self.num_slices]\n",
    "            else:\n",
    "                X[i, :len(features), :] = features\n",
    "                y[i, :len(seq), 0] = seq\n",
    "            y_stack[i,0] = scan.negative_exam_for_pe.iloc[0]\n",
    "            \n",
    "        return X, [y, y_stack]\n",
    "\n",
    "\n",
    "def get_turku_generators(df, fold, batch_size, np_dir='/home/shared/nps/turku_0'):\n",
    "    test_df = df[df.fold == fold]\n",
    "    train_df = df[df.fold != fold]\n",
    "    \n",
    "    train_pos = train_df[train_df.negative_exam_for_pe == False]\n",
    "    train_neg = train_df[train_df.negative_exam_for_pe == True]\n",
    "\n",
    "    val_pos = test_df[test_df.negative_exam_for_pe == False]\n",
    "    val_neg = test_df[test_df.negative_exam_for_pe == True]\n",
    "\n",
    "    train = pd.concat([train_pos, train_neg.sample(n=len(train_pos))]).sample(frac = 1).reset_index(drop=True)\n",
    "    val = pd.concat([val_pos, val_neg.sample(n=len(val_pos))]).sample(frac = 1).reset_index(drop=True)\n",
    "    \n",
    "    print(train_df.fold.unique())\n",
    "    print(test_df.fold.unique())\n",
    "    directory = np_dir + str(fold) + '/'\n",
    "\n",
    "    test_generator = TurkuGenerator(test_df,\n",
    "                                    batch_size,\n",
    "                                    64,\n",
    "                                    directory)\n",
    "    \n",
    "    val_generator = TurkuGenerator(val,\n",
    "                                    batch_size,\n",
    "                                    64,\n",
    "                                    directory)\n",
    "    \n",
    "    train_generator = TurkuGenerator(train,\n",
    "                                    batch_size,\n",
    "                                    64,\n",
    "                                    directory)\n",
    "    \n",
    "    return train_generator, val_generator, test_generator\n",
    "def get_model() -> keras.models.Model:\n",
    "    \"\"\"Get a custom LSTM based model for classifying a set of slice encodings.\n",
    "    The model predicts presence of PE at both slice and stack level.\n",
    "    \"\"\"\n",
    "    tf.keras.backend.clear_session()\n",
    "\n",
    "    slice_stack = keras.Input(shape=(NUM_SLICES, ENCODING_DIM))\n",
    "\n",
    "    x = layers.BatchNormalization()(slice_stack)\n",
    "    x = layers.Bidirectional(layers.LSTM(units=64, return_sequences=True))(x)\n",
    "    x = layers.TimeDistributed(layers.Dense(512, activation=\"relu\"))(x)\n",
    "    x = layers.TimeDistributed(layers.Dense(128, activation=\"relu\"))(x)\n",
    "    slice_outputs = layers.TimeDistributed(layers.Dense(1, activation=\"sigmoid\"), name=\"slices\")(x)\n",
    "\n",
    "    reshaped_features = layers.Reshape((NUM_SLICES,))(slice_outputs)\n",
    "    reshaped_features = layers.Dropout(0.05)(reshaped_features)\n",
    "    stack_output = layers.Dense(1, activation=\"sigmoid\", name=\"sequence\")(reshaped_features)\n",
    "\n",
    "    model = keras.models.Model(inputs=slice_stack, outputs=[slice_outputs, stack_output])\n",
    "\n",
    "    return model\n"
   ]
  },
  {
   "cell_type": "code",
   "execution_count": 23,
   "id": "8f1e8b90",
   "metadata": {},
   "outputs": [
    {
     "name": "stdout",
     "output_type": "stream",
     "text": [
      "[2 4 8 6 7 9 1 3 5]\n",
      "[0]\n",
      "WARNING:tensorflow:Detecting that an object or model or tf.train.Checkpoint is being deleted with unrestored values. See the following logs for the specific values in question. To silence these warnings, use `status.expect_partial()`. See https://www.tensorflow.org/api_docs/python/tf/train/Checkpoint#restorefor details about the status object returned by the restore function.\n",
      "WARNING:tensorflow:Value in checkpoint could not be found in the restored object: (root).optimizer.beta_1\n",
      "WARNING:tensorflow:Value in checkpoint could not be found in the restored object: (root).optimizer.beta_2\n",
      "WARNING:tensorflow:Value in checkpoint could not be found in the restored object: (root).optimizer.decay\n",
      "WARNING:tensorflow:Value in checkpoint could not be found in the restored object: (root).optimizer.learning_rate\n",
      "WARNING:tensorflow:Value in checkpoint could not be found in the restored object: (root).optimizer.iter\n",
      "WARNING:tensorflow:Value in checkpoint could not be found in the restored object: (root).optimizer.momentum_cache\n",
      "Model: \"model\"\n",
      "_________________________________________________________________\n",
      " Layer (type)                Output Shape              Param #   \n",
      "=================================================================\n",
      " input_1 (InputLayer)        [(None, 96, 64)]          0         \n",
      "                                                                 \n",
      " batch_normalization (BatchN  (None, 96, 64)           256       \n",
      " ormalization)                                                   \n",
      "                                                                 \n",
      " bidirectional (Bidirectiona  (None, 96, 128)          66048     \n",
      " l)                                                              \n",
      "                                                                 \n",
      " time_distributed (TimeDistr  (None, 96, 512)          66048     \n",
      " ibuted)                                                         \n",
      "                                                                 \n",
      " time_distributed_1 (TimeDis  (None, 96, 128)          65664     \n",
      " tributed)                                                       \n",
      "                                                                 \n",
      " slices (TimeDistributed)    (None, 96, 1)             129       \n",
      "                                                                 \n",
      " reshape (Reshape)           (None, 96)                0         \n",
      "                                                                 \n",
      " dropout (Dropout)           (None, 96)                0         \n",
      "                                                                 \n",
      " sequence (Dense)            (None, 1)                 97        \n",
      "                                                                 \n",
      "=================================================================\n",
      "Total params: 198,242\n",
      "Trainable params: 198,114\n",
      "Non-trainable params: 128\n",
      "_________________________________________________________________\n",
      "Epoch 1/10\n",
      "124/124 [==============================] - 30s 210ms/step - loss: 0.8089 - slices_loss: 0.1867 - sequence_loss: 0.6222 - slices_accuracy: 0.9295 - sequence_accuracy: 0.5723 - val_loss: 0.7595 - val_slices_loss: 0.1989 - val_sequence_loss: 0.5605 - val_slices_accuracy: 0.9260 - val_sequence_accuracy: 0.6281\n",
      "Epoch 2/10\n",
      "124/124 [==============================] - 25s 205ms/step - loss: 0.6808 - slices_loss: 0.1638 - sequence_loss: 0.5170 - slices_accuracy: 0.9392 - sequence_accuracy: 0.7855 - val_loss: 0.6720 - val_slices_loss: 0.1834 - val_sequence_loss: 0.4886 - val_slices_accuracy: 0.9364 - val_sequence_accuracy: 0.8141\n",
      "Epoch 3/10\n",
      "124/124 [==============================] - 25s 201ms/step - loss: 0.6302 - slices_loss: 0.1739 - sequence_loss: 0.4564 - slices_accuracy: 0.9329 - sequence_accuracy: 0.8199 - val_loss: 0.6048 - val_slices_loss: 0.2112 - val_sequence_loss: 0.3936 - val_slices_accuracy: 0.9127 - val_sequence_accuracy: 0.8467\n",
      "Epoch 4/10\n",
      " 88/124 [====================>.........] - ETA: 6s - loss: 0.6102 - slices_loss: 0.1771 - sequence_loss: 0.4331 - slices_accuracy: 0.9294 - sequence_accuracy: 0.8141"
     ]
    },
    {
     "ename": "KeyboardInterrupt",
     "evalue": "",
     "output_type": "error",
     "traceback": [
      "\u001b[0;31m---------------------------------------------------------------------------\u001b[0m",
      "\u001b[0;31mKeyboardInterrupt\u001b[0m                         Traceback (most recent call last)",
      "Cell \u001b[0;32mIn [23], line 12\u001b[0m\n\u001b[1;32m      8\u001b[0m model\u001b[38;5;241m.\u001b[39mcompile(loss\u001b[38;5;241m=\u001b[39m\u001b[38;5;124m\"\u001b[39m\u001b[38;5;124mbinary_crossentropy\u001b[39m\u001b[38;5;124m\"\u001b[39m, optimizer\u001b[38;5;241m=\u001b[39mopt, metrics\u001b[38;5;241m=\u001b[39m[\u001b[38;5;124m\"\u001b[39m\u001b[38;5;124maccuracy\u001b[39m\u001b[38;5;124m\"\u001b[39m])\n\u001b[1;32m     10\u001b[0m model\u001b[38;5;241m.\u001b[39msummary()\n\u001b[0;32m---> 12\u001b[0m \u001b[43mmodel\u001b[49m\u001b[38;5;241;43m.\u001b[39;49m\u001b[43mfit\u001b[49m\u001b[43m(\u001b[49m\n\u001b[1;32m     13\u001b[0m \u001b[43m    \u001b[49m\u001b[43mtrain\u001b[49m\u001b[43m,\u001b[49m\n\u001b[1;32m     14\u001b[0m \u001b[43m    \u001b[49m\u001b[43mvalidation_data\u001b[49m\u001b[43m \u001b[49m\u001b[38;5;241;43m=\u001b[39;49m\u001b[43m \u001b[49m\u001b[43mval\u001b[49m\u001b[43m,\u001b[49m\n\u001b[1;32m     15\u001b[0m \u001b[43m    \u001b[49m\u001b[43mepochs\u001b[49m\u001b[38;5;241;43m=\u001b[39;49m\u001b[38;5;241;43m10\u001b[39;49m\u001b[43m,\u001b[49m\n\u001b[1;32m     16\u001b[0m \u001b[43m    \u001b[49m\u001b[43mshuffle\u001b[49m\u001b[38;5;241;43m=\u001b[39;49m\u001b[38;5;28;43;01mTrue\u001b[39;49;00m\u001b[43m,\u001b[49m\n\u001b[1;32m     17\u001b[0m \u001b[43m\u001b[49m\u001b[38;5;66;43;03m#     callbacks=[checkpoint],\u001b[39;49;00m\n\u001b[1;32m     18\u001b[0m \u001b[43m\u001b[49m\u001b[43m)\u001b[49m\n",
      "File \u001b[0;32m~/.conda/envs/tf-gpu/lib/python3.10/site-packages/keras/utils/traceback_utils.py:64\u001b[0m, in \u001b[0;36mfilter_traceback.<locals>.error_handler\u001b[0;34m(*args, **kwargs)\u001b[0m\n\u001b[1;32m     62\u001b[0m filtered_tb \u001b[38;5;241m=\u001b[39m \u001b[38;5;28;01mNone\u001b[39;00m\n\u001b[1;32m     63\u001b[0m \u001b[38;5;28;01mtry\u001b[39;00m:\n\u001b[0;32m---> 64\u001b[0m   \u001b[38;5;28;01mreturn\u001b[39;00m \u001b[43mfn\u001b[49m\u001b[43m(\u001b[49m\u001b[38;5;241;43m*\u001b[39;49m\u001b[43margs\u001b[49m\u001b[43m,\u001b[49m\u001b[43m \u001b[49m\u001b[38;5;241;43m*\u001b[39;49m\u001b[38;5;241;43m*\u001b[39;49m\u001b[43mkwargs\u001b[49m\u001b[43m)\u001b[49m\n\u001b[1;32m     65\u001b[0m \u001b[38;5;28;01mexcept\u001b[39;00m \u001b[38;5;167;01mException\u001b[39;00m \u001b[38;5;28;01mas\u001b[39;00m e:  \u001b[38;5;66;03m# pylint: disable=broad-except\u001b[39;00m\n\u001b[1;32m     66\u001b[0m   filtered_tb \u001b[38;5;241m=\u001b[39m _process_traceback_frames(e\u001b[38;5;241m.\u001b[39m__traceback__)\n",
      "File \u001b[0;32m~/.conda/envs/tf-gpu/lib/python3.10/site-packages/keras/engine/training.py:1384\u001b[0m, in \u001b[0;36mModel.fit\u001b[0;34m(self, x, y, batch_size, epochs, verbose, callbacks, validation_split, validation_data, shuffle, class_weight, sample_weight, initial_epoch, steps_per_epoch, validation_steps, validation_batch_size, validation_freq, max_queue_size, workers, use_multiprocessing)\u001b[0m\n\u001b[1;32m   1377\u001b[0m \u001b[38;5;28;01mwith\u001b[39;00m tf\u001b[38;5;241m.\u001b[39mprofiler\u001b[38;5;241m.\u001b[39mexperimental\u001b[38;5;241m.\u001b[39mTrace(\n\u001b[1;32m   1378\u001b[0m     \u001b[38;5;124m'\u001b[39m\u001b[38;5;124mtrain\u001b[39m\u001b[38;5;124m'\u001b[39m,\n\u001b[1;32m   1379\u001b[0m     epoch_num\u001b[38;5;241m=\u001b[39mepoch,\n\u001b[1;32m   1380\u001b[0m     step_num\u001b[38;5;241m=\u001b[39mstep,\n\u001b[1;32m   1381\u001b[0m     batch_size\u001b[38;5;241m=\u001b[39mbatch_size,\n\u001b[1;32m   1382\u001b[0m     _r\u001b[38;5;241m=\u001b[39m\u001b[38;5;241m1\u001b[39m):\n\u001b[1;32m   1383\u001b[0m   callbacks\u001b[38;5;241m.\u001b[39mon_train_batch_begin(step)\n\u001b[0;32m-> 1384\u001b[0m   tmp_logs \u001b[38;5;241m=\u001b[39m \u001b[38;5;28;43mself\u001b[39;49m\u001b[38;5;241;43m.\u001b[39;49m\u001b[43mtrain_function\u001b[49m\u001b[43m(\u001b[49m\u001b[43miterator\u001b[49m\u001b[43m)\u001b[49m\n\u001b[1;32m   1385\u001b[0m   \u001b[38;5;28;01mif\u001b[39;00m data_handler\u001b[38;5;241m.\u001b[39mshould_sync:\n\u001b[1;32m   1386\u001b[0m     context\u001b[38;5;241m.\u001b[39masync_wait()\n",
      "File \u001b[0;32m~/.conda/envs/tf-gpu/lib/python3.10/site-packages/tensorflow/python/util/traceback_utils.py:150\u001b[0m, in \u001b[0;36mfilter_traceback.<locals>.error_handler\u001b[0;34m(*args, **kwargs)\u001b[0m\n\u001b[1;32m    148\u001b[0m filtered_tb \u001b[38;5;241m=\u001b[39m \u001b[38;5;28;01mNone\u001b[39;00m\n\u001b[1;32m    149\u001b[0m \u001b[38;5;28;01mtry\u001b[39;00m:\n\u001b[0;32m--> 150\u001b[0m   \u001b[38;5;28;01mreturn\u001b[39;00m \u001b[43mfn\u001b[49m\u001b[43m(\u001b[49m\u001b[38;5;241;43m*\u001b[39;49m\u001b[43margs\u001b[49m\u001b[43m,\u001b[49m\u001b[43m \u001b[49m\u001b[38;5;241;43m*\u001b[39;49m\u001b[38;5;241;43m*\u001b[39;49m\u001b[43mkwargs\u001b[49m\u001b[43m)\u001b[49m\n\u001b[1;32m    151\u001b[0m \u001b[38;5;28;01mexcept\u001b[39;00m \u001b[38;5;167;01mException\u001b[39;00m \u001b[38;5;28;01mas\u001b[39;00m e:\n\u001b[1;32m    152\u001b[0m   filtered_tb \u001b[38;5;241m=\u001b[39m _process_traceback_frames(e\u001b[38;5;241m.\u001b[39m__traceback__)\n",
      "File \u001b[0;32m~/.conda/envs/tf-gpu/lib/python3.10/site-packages/tensorflow/python/eager/def_function.py:915\u001b[0m, in \u001b[0;36mFunction.__call__\u001b[0;34m(self, *args, **kwds)\u001b[0m\n\u001b[1;32m    912\u001b[0m compiler \u001b[38;5;241m=\u001b[39m \u001b[38;5;124m\"\u001b[39m\u001b[38;5;124mxla\u001b[39m\u001b[38;5;124m\"\u001b[39m \u001b[38;5;28;01mif\u001b[39;00m \u001b[38;5;28mself\u001b[39m\u001b[38;5;241m.\u001b[39m_jit_compile \u001b[38;5;28;01melse\u001b[39;00m \u001b[38;5;124m\"\u001b[39m\u001b[38;5;124mnonXla\u001b[39m\u001b[38;5;124m\"\u001b[39m\n\u001b[1;32m    914\u001b[0m \u001b[38;5;28;01mwith\u001b[39;00m OptionalXlaContext(\u001b[38;5;28mself\u001b[39m\u001b[38;5;241m.\u001b[39m_jit_compile):\n\u001b[0;32m--> 915\u001b[0m   result \u001b[38;5;241m=\u001b[39m \u001b[38;5;28;43mself\u001b[39;49m\u001b[38;5;241;43m.\u001b[39;49m\u001b[43m_call\u001b[49m\u001b[43m(\u001b[49m\u001b[38;5;241;43m*\u001b[39;49m\u001b[43margs\u001b[49m\u001b[43m,\u001b[49m\u001b[43m \u001b[49m\u001b[38;5;241;43m*\u001b[39;49m\u001b[38;5;241;43m*\u001b[39;49m\u001b[43mkwds\u001b[49m\u001b[43m)\u001b[49m\n\u001b[1;32m    917\u001b[0m new_tracing_count \u001b[38;5;241m=\u001b[39m \u001b[38;5;28mself\u001b[39m\u001b[38;5;241m.\u001b[39mexperimental_get_tracing_count()\n\u001b[1;32m    918\u001b[0m without_tracing \u001b[38;5;241m=\u001b[39m (tracing_count \u001b[38;5;241m==\u001b[39m new_tracing_count)\n",
      "File \u001b[0;32m~/.conda/envs/tf-gpu/lib/python3.10/site-packages/tensorflow/python/eager/def_function.py:947\u001b[0m, in \u001b[0;36mFunction._call\u001b[0;34m(self, *args, **kwds)\u001b[0m\n\u001b[1;32m    944\u001b[0m   \u001b[38;5;28mself\u001b[39m\u001b[38;5;241m.\u001b[39m_lock\u001b[38;5;241m.\u001b[39mrelease()\n\u001b[1;32m    945\u001b[0m   \u001b[38;5;66;03m# In this case we have created variables on the first call, so we run the\u001b[39;00m\n\u001b[1;32m    946\u001b[0m   \u001b[38;5;66;03m# defunned version which is guaranteed to never create variables.\u001b[39;00m\n\u001b[0;32m--> 947\u001b[0m   \u001b[38;5;28;01mreturn\u001b[39;00m \u001b[38;5;28;43mself\u001b[39;49m\u001b[38;5;241;43m.\u001b[39;49m\u001b[43m_stateless_fn\u001b[49m\u001b[43m(\u001b[49m\u001b[38;5;241;43m*\u001b[39;49m\u001b[43margs\u001b[49m\u001b[43m,\u001b[49m\u001b[43m \u001b[49m\u001b[38;5;241;43m*\u001b[39;49m\u001b[38;5;241;43m*\u001b[39;49m\u001b[43mkwds\u001b[49m\u001b[43m)\u001b[49m  \u001b[38;5;66;03m# pylint: disable=not-callable\u001b[39;00m\n\u001b[1;32m    948\u001b[0m \u001b[38;5;28;01melif\u001b[39;00m \u001b[38;5;28mself\u001b[39m\u001b[38;5;241m.\u001b[39m_stateful_fn \u001b[38;5;129;01mis\u001b[39;00m \u001b[38;5;129;01mnot\u001b[39;00m \u001b[38;5;28;01mNone\u001b[39;00m:\n\u001b[1;32m    949\u001b[0m   \u001b[38;5;66;03m# Release the lock early so that multiple threads can perform the call\u001b[39;00m\n\u001b[1;32m    950\u001b[0m   \u001b[38;5;66;03m# in parallel.\u001b[39;00m\n\u001b[1;32m    951\u001b[0m   \u001b[38;5;28mself\u001b[39m\u001b[38;5;241m.\u001b[39m_lock\u001b[38;5;241m.\u001b[39mrelease()\n",
      "File \u001b[0;32m~/.conda/envs/tf-gpu/lib/python3.10/site-packages/tensorflow/python/eager/function.py:2956\u001b[0m, in \u001b[0;36mFunction.__call__\u001b[0;34m(self, *args, **kwargs)\u001b[0m\n\u001b[1;32m   2953\u001b[0m \u001b[38;5;28;01mwith\u001b[39;00m \u001b[38;5;28mself\u001b[39m\u001b[38;5;241m.\u001b[39m_lock:\n\u001b[1;32m   2954\u001b[0m   (graph_function,\n\u001b[1;32m   2955\u001b[0m    filtered_flat_args) \u001b[38;5;241m=\u001b[39m \u001b[38;5;28mself\u001b[39m\u001b[38;5;241m.\u001b[39m_maybe_define_function(args, kwargs)\n\u001b[0;32m-> 2956\u001b[0m \u001b[38;5;28;01mreturn\u001b[39;00m \u001b[43mgraph_function\u001b[49m\u001b[38;5;241;43m.\u001b[39;49m\u001b[43m_call_flat\u001b[49m\u001b[43m(\u001b[49m\n\u001b[1;32m   2957\u001b[0m \u001b[43m    \u001b[49m\u001b[43mfiltered_flat_args\u001b[49m\u001b[43m,\u001b[49m\u001b[43m \u001b[49m\u001b[43mcaptured_inputs\u001b[49m\u001b[38;5;241;43m=\u001b[39;49m\u001b[43mgraph_function\u001b[49m\u001b[38;5;241;43m.\u001b[39;49m\u001b[43mcaptured_inputs\u001b[49m\u001b[43m)\u001b[49m\n",
      "File \u001b[0;32m~/.conda/envs/tf-gpu/lib/python3.10/site-packages/tensorflow/python/eager/function.py:1853\u001b[0m, in \u001b[0;36mConcreteFunction._call_flat\u001b[0;34m(self, args, captured_inputs, cancellation_manager)\u001b[0m\n\u001b[1;32m   1849\u001b[0m possible_gradient_type \u001b[38;5;241m=\u001b[39m gradients_util\u001b[38;5;241m.\u001b[39mPossibleTapeGradientTypes(args)\n\u001b[1;32m   1850\u001b[0m \u001b[38;5;28;01mif\u001b[39;00m (possible_gradient_type \u001b[38;5;241m==\u001b[39m gradients_util\u001b[38;5;241m.\u001b[39mPOSSIBLE_GRADIENT_TYPES_NONE\n\u001b[1;32m   1851\u001b[0m     \u001b[38;5;129;01mand\u001b[39;00m executing_eagerly):\n\u001b[1;32m   1852\u001b[0m   \u001b[38;5;66;03m# No tape is watching; skip to running the function.\u001b[39;00m\n\u001b[0;32m-> 1853\u001b[0m   \u001b[38;5;28;01mreturn\u001b[39;00m \u001b[38;5;28mself\u001b[39m\u001b[38;5;241m.\u001b[39m_build_call_outputs(\u001b[38;5;28;43mself\u001b[39;49m\u001b[38;5;241;43m.\u001b[39;49m\u001b[43m_inference_function\u001b[49m\u001b[38;5;241;43m.\u001b[39;49m\u001b[43mcall\u001b[49m\u001b[43m(\u001b[49m\n\u001b[1;32m   1854\u001b[0m \u001b[43m      \u001b[49m\u001b[43mctx\u001b[49m\u001b[43m,\u001b[49m\u001b[43m \u001b[49m\u001b[43margs\u001b[49m\u001b[43m,\u001b[49m\u001b[43m \u001b[49m\u001b[43mcancellation_manager\u001b[49m\u001b[38;5;241;43m=\u001b[39;49m\u001b[43mcancellation_manager\u001b[49m\u001b[43m)\u001b[49m)\n\u001b[1;32m   1855\u001b[0m forward_backward \u001b[38;5;241m=\u001b[39m \u001b[38;5;28mself\u001b[39m\u001b[38;5;241m.\u001b[39m_select_forward_and_backward_functions(\n\u001b[1;32m   1856\u001b[0m     args,\n\u001b[1;32m   1857\u001b[0m     possible_gradient_type,\n\u001b[1;32m   1858\u001b[0m     executing_eagerly)\n\u001b[1;32m   1859\u001b[0m forward_function, args_with_tangents \u001b[38;5;241m=\u001b[39m forward_backward\u001b[38;5;241m.\u001b[39mforward()\n",
      "File \u001b[0;32m~/.conda/envs/tf-gpu/lib/python3.10/site-packages/tensorflow/python/eager/function.py:499\u001b[0m, in \u001b[0;36m_EagerDefinedFunction.call\u001b[0;34m(self, ctx, args, cancellation_manager)\u001b[0m\n\u001b[1;32m    497\u001b[0m \u001b[38;5;28;01mwith\u001b[39;00m _InterpolateFunctionError(\u001b[38;5;28mself\u001b[39m):\n\u001b[1;32m    498\u001b[0m   \u001b[38;5;28;01mif\u001b[39;00m cancellation_manager \u001b[38;5;129;01mis\u001b[39;00m \u001b[38;5;28;01mNone\u001b[39;00m:\n\u001b[0;32m--> 499\u001b[0m     outputs \u001b[38;5;241m=\u001b[39m \u001b[43mexecute\u001b[49m\u001b[38;5;241;43m.\u001b[39;49m\u001b[43mexecute\u001b[49m\u001b[43m(\u001b[49m\n\u001b[1;32m    500\u001b[0m \u001b[43m        \u001b[49m\u001b[38;5;28;43mstr\u001b[39;49m\u001b[43m(\u001b[49m\u001b[38;5;28;43mself\u001b[39;49m\u001b[38;5;241;43m.\u001b[39;49m\u001b[43msignature\u001b[49m\u001b[38;5;241;43m.\u001b[39;49m\u001b[43mname\u001b[49m\u001b[43m)\u001b[49m\u001b[43m,\u001b[49m\n\u001b[1;32m    501\u001b[0m \u001b[43m        \u001b[49m\u001b[43mnum_outputs\u001b[49m\u001b[38;5;241;43m=\u001b[39;49m\u001b[38;5;28;43mself\u001b[39;49m\u001b[38;5;241;43m.\u001b[39;49m\u001b[43m_num_outputs\u001b[49m\u001b[43m,\u001b[49m\n\u001b[1;32m    502\u001b[0m \u001b[43m        \u001b[49m\u001b[43minputs\u001b[49m\u001b[38;5;241;43m=\u001b[39;49m\u001b[43margs\u001b[49m\u001b[43m,\u001b[49m\n\u001b[1;32m    503\u001b[0m \u001b[43m        \u001b[49m\u001b[43mattrs\u001b[49m\u001b[38;5;241;43m=\u001b[39;49m\u001b[43mattrs\u001b[49m\u001b[43m,\u001b[49m\n\u001b[1;32m    504\u001b[0m \u001b[43m        \u001b[49m\u001b[43mctx\u001b[49m\u001b[38;5;241;43m=\u001b[39;49m\u001b[43mctx\u001b[49m\u001b[43m)\u001b[49m\n\u001b[1;32m    505\u001b[0m   \u001b[38;5;28;01melse\u001b[39;00m:\n\u001b[1;32m    506\u001b[0m     outputs \u001b[38;5;241m=\u001b[39m execute\u001b[38;5;241m.\u001b[39mexecute_with_cancellation(\n\u001b[1;32m    507\u001b[0m         \u001b[38;5;28mstr\u001b[39m(\u001b[38;5;28mself\u001b[39m\u001b[38;5;241m.\u001b[39msignature\u001b[38;5;241m.\u001b[39mname),\n\u001b[1;32m    508\u001b[0m         num_outputs\u001b[38;5;241m=\u001b[39m\u001b[38;5;28mself\u001b[39m\u001b[38;5;241m.\u001b[39m_num_outputs,\n\u001b[0;32m   (...)\u001b[0m\n\u001b[1;32m    511\u001b[0m         ctx\u001b[38;5;241m=\u001b[39mctx,\n\u001b[1;32m    512\u001b[0m         cancellation_manager\u001b[38;5;241m=\u001b[39mcancellation_manager)\n",
      "File \u001b[0;32m~/.conda/envs/tf-gpu/lib/python3.10/site-packages/tensorflow/python/eager/execute.py:54\u001b[0m, in \u001b[0;36mquick_execute\u001b[0;34m(op_name, num_outputs, inputs, attrs, ctx, name)\u001b[0m\n\u001b[1;32m     52\u001b[0m \u001b[38;5;28;01mtry\u001b[39;00m:\n\u001b[1;32m     53\u001b[0m   ctx\u001b[38;5;241m.\u001b[39mensure_initialized()\n\u001b[0;32m---> 54\u001b[0m   tensors \u001b[38;5;241m=\u001b[39m \u001b[43mpywrap_tfe\u001b[49m\u001b[38;5;241;43m.\u001b[39;49m\u001b[43mTFE_Py_Execute\u001b[49m\u001b[43m(\u001b[49m\u001b[43mctx\u001b[49m\u001b[38;5;241;43m.\u001b[39;49m\u001b[43m_handle\u001b[49m\u001b[43m,\u001b[49m\u001b[43m \u001b[49m\u001b[43mdevice_name\u001b[49m\u001b[43m,\u001b[49m\u001b[43m \u001b[49m\u001b[43mop_name\u001b[49m\u001b[43m,\u001b[49m\n\u001b[1;32m     55\u001b[0m \u001b[43m                                      \u001b[49m\u001b[43minputs\u001b[49m\u001b[43m,\u001b[49m\u001b[43m \u001b[49m\u001b[43mattrs\u001b[49m\u001b[43m,\u001b[49m\u001b[43m \u001b[49m\u001b[43mnum_outputs\u001b[49m\u001b[43m)\u001b[49m\n\u001b[1;32m     56\u001b[0m \u001b[38;5;28;01mexcept\u001b[39;00m core\u001b[38;5;241m.\u001b[39m_NotOkStatusException \u001b[38;5;28;01mas\u001b[39;00m e:\n\u001b[1;32m     57\u001b[0m   \u001b[38;5;28;01mif\u001b[39;00m name \u001b[38;5;129;01mis\u001b[39;00m \u001b[38;5;129;01mnot\u001b[39;00m \u001b[38;5;28;01mNone\u001b[39;00m:\n",
      "\u001b[0;31mKeyboardInterrupt\u001b[0m: "
     ]
    }
   ],
   "source": [
    "for fold in range(0,10):\n",
    "    train, val, test = get_turku_generators(files,fold,32)\n",
    "\n",
    "    NUM_SLICES=96\n",
    "    ENCODING_DIM = 64\n",
    "    model = get_model()\n",
    "    opt = keras.optimizers.Nadam(learning_rate=0.001)\n",
    "    model.compile(loss=\"binary_crossentropy\", optimizer=opt, metrics=[\"accuracy\"])\n",
    "\n",
    "    model.summary()\n",
    "\n",
    "    model.fit(\n",
    "        train,\n",
    "        validation_data = val,\n",
    "        epochs=10,\n",
    "        shuffle=True,\n",
    "        callbacks=[checkpoint],\n",
    "    )\n",
    "\n"
   ]
  },
  {
   "cell_type": "code",
   "execution_count": 24,
   "id": "57e8285a",
   "metadata": {},
   "outputs": [
    {
     "data": {
      "text/plain": [
       "<tensorflow.python.training.tracking.util.CheckpointLoadStatus at 0x7f7c7fe05c30>"
      ]
     },
     "execution_count": 24,
     "metadata": {},
     "output_type": "execute_result"
    }
   ],
   "source": [
    "model.load_weights(checkpoint_filepath)\n",
    "# model.evaluate(test_generator)"
   ]
  },
  {
   "cell_type": "code",
   "execution_count": 5,
   "id": "ea887d8a",
   "metadata": {},
   "outputs": [],
   "source": [
    "def get_attn_lstm(noise=True):\n",
    "        tf.keras.backend.clear_session()\n",
    "        num_heads = 1\n",
    "        key_dim = 8\n",
    "        inputs = keras.Input(shape=(200, 64))\n",
    "        x = layers.BatchNormalization()(inputs)\n",
    "        if noise == True:\n",
    "            x = layers.GaussianNoise(0.001)(x)\n",
    "\n",
    "        attn = layers.MultiHeadAttention(num_heads=num_heads,\n",
    "                                                     key_dim=key_dim, \n",
    "                                                     dropout=0.3\n",
    "                                                    )(x, x)\n",
    "        attn = layers.LayerNormalization()(attn)\n",
    "        x = layers.Add()((x,attn))\n",
    "        x = layers.Bidirectional(layers.LSTM(units=8, return_sequences=True, dropout=0.3))(x)\n",
    "        x = layers.LayerNormalization()(x)\n",
    "#         x = layers.Bidirectional(layers.LSTM(units=8, return_sequences=True, dropout=0.3))(x)\n",
    "#         x = layers.LayerNormalization()(x)\n",
    "        x = layers.TimeDistributed(layers.Dropout(0.3))(x)\n",
    "        x = layers.TimeDistributed(layers.Dense(16, activation='gelu'))(x)\n",
    "        x = layers.LayerNormalization()(x)\n",
    "        x = layers.TimeDistributed(layers.Dropout(0.3))(x)\n",
    "        x = layers.GlobalMaxPooling1D()(x)\n",
    "        x = layers.Dropout(0.4)(x)\n",
    "        stack_outputs = layers.Dense(1, activation='sigmoid', name='tot_out')(x)\n",
    "\n",
    "        model = keras.models.Model(inputs=inputs, outputs=stack_outputs)\n",
    "        \n",
    "        lr = 0.001\n",
    "        opt = keras.optimizers.Nadam(learning_rate=lr)\n",
    "        scheduler = keras.optimizers.schedules.ExponentialDecay(lr, 2000,0.99)\n",
    "        scheduler = keras.callbacks.LearningRateScheduler(scheduler)\n",
    "\n",
    "\n",
    "        model.compile(\n",
    "                optimizer=opt,\n",
    "                loss=keras.losses.binary_crossentropy,\n",
    "                metrics=[\"accuracy\",]\n",
    "            )\n",
    "\n",
    "        return model\n"
   ]
  },
  {
   "cell_type": "code",
   "execution_count": 18,
   "id": "fe670762",
   "metadata": {},
   "outputs": [
    {
     "name": "stdout",
     "output_type": "stream",
     "text": [
      "WARNING:tensorflow:Detecting that an object or model or tf.train.Checkpoint is being deleted with unrestored values. See the following logs for the specific values in question. To silence these warnings, use `status.expect_partial()`. See https://www.tensorflow.org/api_docs/python/tf/train/Checkpoint#restorefor details about the status object returned by the restore function.\n",
      "WARNING:tensorflow:Value in checkpoint could not be found in the restored object: (root).optimizer.beta_1\n",
      "WARNING:tensorflow:Value in checkpoint could not be found in the restored object: (root).optimizer.beta_2\n",
      "WARNING:tensorflow:Value in checkpoint could not be found in the restored object: (root).optimizer.decay\n",
      "WARNING:tensorflow:Value in checkpoint could not be found in the restored object: (root).optimizer.learning_rate\n",
      "WARNING:tensorflow:Value in checkpoint could not be found in the restored object: (root).optimizer.iter\n",
      "WARNING:tensorflow:Value in checkpoint could not be found in the restored object: (root).optimizer.momentum_cache\n",
      "WARNING:tensorflow:Value in checkpoint could not be found in the restored object: (root).optimizer's state 'm' for (root).layer_with_weights-0.gamma\n",
      "WARNING:tensorflow:Value in checkpoint could not be found in the restored object: (root).optimizer's state 'm' for (root).layer_with_weights-0.beta\n",
      "WARNING:tensorflow:Value in checkpoint could not be found in the restored object: (root).optimizer's state 'm' for (root).layer_with_weights-1.kernel\n",
      "WARNING:tensorflow:Value in checkpoint could not be found in the restored object: (root).optimizer's state 'm' for (root).layer_with_weights-1.bias\n",
      "WARNING:tensorflow:Value in checkpoint could not be found in the restored object: (root).optimizer's state 'm' for (root).layer_with_weights-2.gamma\n",
      "WARNING:tensorflow:Value in checkpoint could not be found in the restored object: (root).optimizer's state 'm' for (root).layer_with_weights-2.beta\n",
      "WARNING:tensorflow:Value in checkpoint could not be found in the restored object: (root).optimizer's state 'm' for (root).layer_with_weights-3.kernel\n",
      "WARNING:tensorflow:Value in checkpoint could not be found in the restored object: (root).optimizer's state 'm' for (root).layer_with_weights-3.bias\n",
      "WARNING:tensorflow:Value in checkpoint could not be found in the restored object: (root).optimizer's state 'm' for (root).layer_with_weights-4.gamma\n",
      "WARNING:tensorflow:Value in checkpoint could not be found in the restored object: (root).optimizer's state 'm' for (root).layer_with_weights-4.beta\n",
      "WARNING:tensorflow:Value in checkpoint could not be found in the restored object: (root).optimizer's state 'm' for (root).layer_with_weights-5.kernel\n",
      "WARNING:tensorflow:Value in checkpoint could not be found in the restored object: (root).optimizer's state 'm' for (root).layer_with_weights-5.bias\n",
      "WARNING:tensorflow:Value in checkpoint could not be found in the restored object: (root).optimizer's state 'm' for (root).layer_with_weights-6.gamma\n",
      "WARNING:tensorflow:Value in checkpoint could not be found in the restored object: (root).optimizer's state 'm' for (root).layer_with_weights-6.beta\n",
      "WARNING:tensorflow:Value in checkpoint could not be found in the restored object: (root).optimizer's state 'm' for (root).layer_with_weights-7.kernel\n",
      "WARNING:tensorflow:Value in checkpoint could not be found in the restored object: (root).optimizer's state 'm' for (root).layer_with_weights-7.bias\n",
      "WARNING:tensorflow:Value in checkpoint could not be found in the restored object: (root).optimizer's state 'm' for (root).layer_with_weights-8.gamma\n",
      "WARNING:tensorflow:Value in checkpoint could not be found in the restored object: (root).optimizer's state 'm' for (root).layer_with_weights-8.beta\n",
      "WARNING:tensorflow:Value in checkpoint could not be found in the restored object: (root).optimizer's state 'm' for (root).layer_with_weights-9.kernel\n",
      "WARNING:tensorflow:Value in checkpoint could not be found in the restored object: (root).optimizer's state 'm' for (root).layer_with_weights-9.bias\n",
      "WARNING:tensorflow:Value in checkpoint could not be found in the restored object: (root).optimizer's state 'm' for (root).layer_with_weights-11.gamma\n",
      "WARNING:tensorflow:Value in checkpoint could not be found in the restored object: (root).optimizer's state 'm' for (root).layer_with_weights-11.beta\n",
      "WARNING:tensorflow:Value in checkpoint could not be found in the restored object: (root).optimizer's state 'm' for (root).layer_with_weights-12.kernel\n",
      "WARNING:tensorflow:Value in checkpoint could not be found in the restored object: (root).optimizer's state 'm' for (root).layer_with_weights-12.bias\n",
      "WARNING:tensorflow:Value in checkpoint could not be found in the restored object: (root).optimizer's state 'm' for (root).layer_with_weights-13.kernel\n",
      "WARNING:tensorflow:Value in checkpoint could not be found in the restored object: (root).optimizer's state 'm' for (root).layer_with_weights-13.bias\n",
      "WARNING:tensorflow:Value in checkpoint could not be found in the restored object: (root).optimizer's state 'm' for (root).layer_with_weights-10.forward_layer.cell.kernel\n",
      "WARNING:tensorflow:Value in checkpoint could not be found in the restored object: (root).optimizer's state 'm' for (root).layer_with_weights-10.forward_layer.cell.recurrent_kernel\n",
      "WARNING:tensorflow:Value in checkpoint could not be found in the restored object: (root).optimizer's state 'm' for (root).layer_with_weights-10.forward_layer.cell.bias\n",
      "WARNING:tensorflow:Value in checkpoint could not be found in the restored object: (root).optimizer's state 'm' for (root).layer_with_weights-10.backward_layer.cell.kernel\n",
      "WARNING:tensorflow:Value in checkpoint could not be found in the restored object: (root).optimizer's state 'm' for (root).layer_with_weights-10.backward_layer.cell.recurrent_kernel\n",
      "WARNING:tensorflow:Value in checkpoint could not be found in the restored object: (root).optimizer's state 'm' for (root).layer_with_weights-10.backward_layer.cell.bias\n",
      "WARNING:tensorflow:Value in checkpoint could not be found in the restored object: (root).optimizer's state 'v' for (root).layer_with_weights-0.gamma\n",
      "WARNING:tensorflow:Value in checkpoint could not be found in the restored object: (root).optimizer's state 'v' for (root).layer_with_weights-0.beta\n",
      "WARNING:tensorflow:Value in checkpoint could not be found in the restored object: (root).optimizer's state 'v' for (root).layer_with_weights-1.kernel\n",
      "WARNING:tensorflow:Value in checkpoint could not be found in the restored object: (root).optimizer's state 'v' for (root).layer_with_weights-1.bias\n",
      "WARNING:tensorflow:Value in checkpoint could not be found in the restored object: (root).optimizer's state 'v' for (root).layer_with_weights-2.gamma\n",
      "WARNING:tensorflow:Value in checkpoint could not be found in the restored object: (root).optimizer's state 'v' for (root).layer_with_weights-2.beta\n",
      "WARNING:tensorflow:Value in checkpoint could not be found in the restored object: (root).optimizer's state 'v' for (root).layer_with_weights-3.kernel\n",
      "WARNING:tensorflow:Value in checkpoint could not be found in the restored object: (root).optimizer's state 'v' for (root).layer_with_weights-3.bias\n",
      "WARNING:tensorflow:Value in checkpoint could not be found in the restored object: (root).optimizer's state 'v' for (root).layer_with_weights-4.gamma\n",
      "WARNING:tensorflow:Value in checkpoint could not be found in the restored object: (root).optimizer's state 'v' for (root).layer_with_weights-4.beta\n",
      "WARNING:tensorflow:Value in checkpoint could not be found in the restored object: (root).optimizer's state 'v' for (root).layer_with_weights-5.kernel\n",
      "WARNING:tensorflow:Value in checkpoint could not be found in the restored object: (root).optimizer's state 'v' for (root).layer_with_weights-5.bias\n",
      "WARNING:tensorflow:Value in checkpoint could not be found in the restored object: (root).optimizer's state 'v' for (root).layer_with_weights-6.gamma\n",
      "WARNING:tensorflow:Value in checkpoint could not be found in the restored object: (root).optimizer's state 'v' for (root).layer_with_weights-6.beta\n",
      "WARNING:tensorflow:Value in checkpoint could not be found in the restored object: (root).optimizer's state 'v' for (root).layer_with_weights-7.kernel\n",
      "WARNING:tensorflow:Value in checkpoint could not be found in the restored object: (root).optimizer's state 'v' for (root).layer_with_weights-7.bias\n"
     ]
    },
    {
     "name": "stdout",
     "output_type": "stream",
     "text": [
      "WARNING:tensorflow:Value in checkpoint could not be found in the restored object: (root).optimizer's state 'v' for (root).layer_with_weights-8.gamma\n",
      "WARNING:tensorflow:Value in checkpoint could not be found in the restored object: (root).optimizer's state 'v' for (root).layer_with_weights-8.beta\n",
      "WARNING:tensorflow:Value in checkpoint could not be found in the restored object: (root).optimizer's state 'v' for (root).layer_with_weights-9.kernel\n",
      "WARNING:tensorflow:Value in checkpoint could not be found in the restored object: (root).optimizer's state 'v' for (root).layer_with_weights-9.bias\n",
      "WARNING:tensorflow:Value in checkpoint could not be found in the restored object: (root).optimizer's state 'v' for (root).layer_with_weights-11.gamma\n",
      "WARNING:tensorflow:Value in checkpoint could not be found in the restored object: (root).optimizer's state 'v' for (root).layer_with_weights-11.beta\n",
      "WARNING:tensorflow:Value in checkpoint could not be found in the restored object: (root).optimizer's state 'v' for (root).layer_with_weights-12.kernel\n",
      "WARNING:tensorflow:Value in checkpoint could not be found in the restored object: (root).optimizer's state 'v' for (root).layer_with_weights-12.bias\n",
      "WARNING:tensorflow:Value in checkpoint could not be found in the restored object: (root).optimizer's state 'v' for (root).layer_with_weights-13.kernel\n",
      "WARNING:tensorflow:Value in checkpoint could not be found in the restored object: (root).optimizer's state 'v' for (root).layer_with_weights-13.bias\n",
      "WARNING:tensorflow:Value in checkpoint could not be found in the restored object: (root).optimizer's state 'v' for (root).layer_with_weights-10.forward_layer.cell.kernel\n",
      "WARNING:tensorflow:Value in checkpoint could not be found in the restored object: (root).optimizer's state 'v' for (root).layer_with_weights-10.forward_layer.cell.recurrent_kernel\n",
      "WARNING:tensorflow:Value in checkpoint could not be found in the restored object: (root).optimizer's state 'v' for (root).layer_with_weights-10.forward_layer.cell.bias\n",
      "WARNING:tensorflow:Value in checkpoint could not be found in the restored object: (root).optimizer's state 'v' for (root).layer_with_weights-10.backward_layer.cell.kernel\n",
      "WARNING:tensorflow:Value in checkpoint could not be found in the restored object: (root).optimizer's state 'v' for (root).layer_with_weights-10.backward_layer.cell.recurrent_kernel\n",
      "WARNING:tensorflow:Value in checkpoint could not be found in the restored object: (root).optimizer's state 'v' for (root).layer_with_weights-10.backward_layer.cell.bias\n",
      "[2 4 8 6 7 9 1 3 5]\n",
      "[0]\n",
      "Sensitivity:83.1 \n",
      "Specificity:81.2 \n",
      "PPV:66.79 \n",
      "NPV:91.35 \n",
      "Accuracy:81.79 \n",
      "Loss:0.5376\n",
      "[[177  36]\n",
      " [ 88 380]]\n"
     ]
    },
    {
     "data": {
      "image/png": "[encoded data removed]",
      "text/plain": [
       "<Figure size 640x480 with 1 Axes>"
      ]
     },
     "metadata": {},
     "output_type": "display_data"
    }
   ],
   "source": [
    "model = get_attn_lstm()\n",
    "\n",
    "fold = 0\n",
    "DIR =  '/home/shared/nps/coat_np_0' + str(fold) + '/'\n",
    "\n",
    "_,_, test_generator = get_generators(files, fold, 1, 'tot', 'feats', random=False)\n",
    "t_len = test_generator.__len__()\n",
    "x_test = np.zeros([t_len,200,num_features])\n",
    "y_test = np.zeros([t_len,1])\n",
    "for i in range(0,t_len):\n",
    "    x_test[i],y= test_generator.__getitem__(i)\n",
    "    y_test[i] = y\n",
    "\n",
    "# opt = keras.optimizers.Nadam(learning_rate=0.001)\n",
    "# model.compile(\n",
    "#     optimizer=opt,\n",
    "#     loss=keras.losses.binary_crossentropy,\n",
    "#     metrics=[\"accuracy\"])\n",
    "\n",
    "checkpoint_filepath = '/home/shared/model_checkpoint_paige/scan/lstm-w-attn-kfold_0'+str(fold)\n",
    "model.load_weights(checkpoint_filepath)\n",
    "test_version(model, x_test, y_test,offset=-0.1)"
   ]
  },
  {
   "cell_type": "code",
   "execution_count": 13,
   "id": "60a57beb",
   "metadata": {},
   "outputs": [
    {
     "name": "stdout",
     "output_type": "stream",
     "text": [
      "WARNING:tensorflow:Detecting that an object or model or tf.train.Checkpoint is being deleted with unrestored values. See the following logs for the specific values in question. To silence these warnings, use `status.expect_partial()`. See https://www.tensorflow.org/api_docs/python/tf/train/Checkpoint#restorefor details about the status object returned by the restore function.\n",
      "WARNING:tensorflow:Value in checkpoint could not be found in the restored object: (root).optimizer.beta_1\n",
      "WARNING:tensorflow:Value in checkpoint could not be found in the restored object: (root).optimizer.beta_2\n",
      "WARNING:tensorflow:Value in checkpoint could not be found in the restored object: (root).optimizer.decay\n",
      "WARNING:tensorflow:Value in checkpoint could not be found in the restored object: (root).optimizer.learning_rate\n",
      "WARNING:tensorflow:Value in checkpoint could not be found in the restored object: (root).optimizer.iter\n",
      "WARNING:tensorflow:Value in checkpoint could not be found in the restored object: (root).optimizer.momentum_cache\n",
      "[2 4 8 6 7 9 1 3 5]\n",
      "[0]\n"
     ]
    },
    {
     "name": "stderr",
     "output_type": "stream",
     "text": [
      "2022-11-29 15:00:20.216470: W tensorflow/stream_executor/gpu/asm_compiler.cc:111] *** WARNING *** You are using ptxas 10.1.243, which is older than 11.1. ptxas before 11.1 is known to miscompile XLA code, leading to incorrect results or invalid-address errors.\n",
      "\n",
      "You may not need to update to CUDA 11.1; cherry-picking the ptxas binary is often sufficient.\n"
     ]
    },
    {
     "name": "stdout",
     "output_type": "stream",
     "text": [
      "Sensitivity:76.53 \n",
      "Specificity:91.45 \n",
      "PPV:80.3 \n",
      "NPV:89.54 \n",
      "Accuracy:86.78 \n",
      "Loss:0.3584\n",
      "[[163  50]\n",
      " [ 40 428]]\n"
     ]
    },
    {
     "data": {
      "image/png": "[encoded data removed]",
      "text/plain": [
       "<Figure size 640x480 with 1 Axes>"
      ]
     },
     "metadata": {},
     "output_type": "display_data"
    }
   ],
   "source": [
    "model = get_conv_gru_model()\n",
    "\n",
    "fold = 0\n",
    "DIR =  '/home/shared/nps/coat_np_0' + str(fold) + '/'\n",
    "\n",
    "_,_, test_generator = get_generators(files, fold, 1, 'tot', 'feats', random=False)\n",
    "t_len = test_generator.__len__()\n",
    "x_test = np.zeros([t_len,200,num_features])\n",
    "y_test = np.zeros([t_len,1])\n",
    "for i in range(0,t_len):\n",
    "    x_test[i],y= test_generator.__getitem__(i)\n",
    "    y_test[i] = y\n",
    "\n",
    "# opt = keras.optimizers.Nadam(learning_rate=0.001)\n",
    "# model.compile(\n",
    "#     optimizer=opt,\n",
    "#     loss=keras.losses.binary_crossentropy,\n",
    "#     metrics=[\"accuracy\"])\n",
    "\n",
    "checkpoint_filepath = '/home/shared/model_checkpoint_paige/scan/conv_lstm_kfold_0'\n",
    "model.load_weights(checkpoint_filepath)\n",
    "test_version(model, x_test, y_test)"
   ]
  },
  {
   "cell_type": "code",
   "execution_count": 11,
   "id": "ef1dd54a",
   "metadata": {},
   "outputs": [
    {
     "name": "stdout",
     "output_type": "stream",
     "text": [
      "WARNING:tensorflow:Detecting that an object or model or tf.train.Checkpoint is being deleted with unrestored values. See the following logs for the specific values in question. To silence these warnings, use `status.expect_partial()`. See https://www.tensorflow.org/api_docs/python/tf/train/Checkpoint#restorefor details about the status object returned by the restore function.\n",
      "WARNING:tensorflow:Value in checkpoint could not be found in the restored object: (root).optimizer.beta_1\n",
      "WARNING:tensorflow:Value in checkpoint could not be found in the restored object: (root).optimizer.beta_2\n",
      "WARNING:tensorflow:Value in checkpoint could not be found in the restored object: (root).optimizer.decay\n",
      "WARNING:tensorflow:Value in checkpoint could not be found in the restored object: (root).optimizer.learning_rate\n",
      "WARNING:tensorflow:Value in checkpoint could not be found in the restored object: (root).optimizer.iter\n",
      "WARNING:tensorflow:Value in checkpoint could not be found in the restored object: (root).optimizer.momentum_cache\n",
      "[0 2 4 8 6 7 9 1 5]\n",
      "[3]\n",
      "Sensitivity:74.35 \n",
      "Specificity:90.91 \n",
      "PPV:80.66 \n",
      "NPV:87.42 \n",
      "Accuracy:85.32 \n",
      "Loss:0.3803\n",
      "[[171  59]\n",
      " [ 41 410]]\n"
     ]
    },
    {
     "data": {
      "image/png": "[encoded data removed]",
      "text/plain": [
       "<Figure size 640x480 with 1 Axes>"
      ]
     },
     "metadata": {},
     "output_type": "display_data"
    }
   ],
   "source": [
    "model = get_attn_lstm()\n",
    "\n",
    "fold = 3\n",
    "DIR =  '/home/shared/nps/coat_np_0' + str(fold) + '/'\n",
    "\n",
    "_,_, test_generator = get_generators(files, fold, 1, 'tot', 'feats', random=False)\n",
    "t_len = test_generator.__len__()\n",
    "x_test = np.zeros([t_len,200,num_features])\n",
    "y_test = np.zeros([t_len,1])\n",
    "for i in range(0,t_len):\n",
    "    x_test[i],y= test_generator.__getitem__(i)\n",
    "    y_test[i] = y\n",
    "\n",
    "# opt = keras.optimizers.Nadam(learning_rate=0.001)\n",
    "# model.compile(\n",
    "#     optimizer=opt,\n",
    "#     loss=keras.losses.binary_crossentropy,\n",
    "#     metrics=[\"accuracy\"])\n",
    "\n",
    "checkpoint_filepath = '/home/shared/model_checkpoint_paige/scan/attn_lstm_kfold_3'\n",
    "model.load_weights(checkpoint_filepath)\n",
    "test_version(model, x_test, y_test)\n",
    "\n"
   ]
  },
  {
   "cell_type": "code",
   "execution_count": 1,
   "id": "174d67de",
   "metadata": {},
   "outputs": [
    {
     "ename": "NameError",
     "evalue": "name 'model' is not defined",
     "output_type": "error",
     "traceback": [
      "\u001b[0;31m---------------------------------------------------------------------------\u001b[0m",
      "\u001b[0;31mNameError\u001b[0m                                 Traceback (most recent call last)",
      "Cell \u001b[0;32mIn [1], line 10\u001b[0m\n\u001b[1;32m      1\u001b[0m \u001b[38;5;66;03m# keras.utils.set_random_seed(1)\u001b[39;00m\n\u001b[1;32m      2\u001b[0m \n\u001b[1;32m      3\u001b[0m \u001b[38;5;66;03m# model = get_attn_lstm(200,64, 0.4,0.3)\u001b[39;00m\n\u001b[0;32m   (...)\u001b[0m\n\u001b[1;32m      8\u001b[0m \u001b[38;5;66;03m#     loss=keras.losses.binary_crossentropy,\u001b[39;00m\n\u001b[1;32m      9\u001b[0m \u001b[38;5;66;03m#     metrics=[\"accuracy\"])\u001b[39;00m\n\u001b[0;32m---> 10\u001b[0m \u001b[43mmodel\u001b[49m\u001b[38;5;241m.\u001b[39mload_weights(filepath\u001b[38;5;241m=\u001b[39m \u001b[38;5;124m'\u001b[39m\u001b[38;5;124m/home/shared/model_checkpoint_paige/scan/lstm-w-attn-kfold_00\u001b[39m\u001b[38;5;124m'\u001b[39m)\n\u001b[1;32m     11\u001b[0m test_version(model,x_test,y_test)\n",
      "\u001b[0;31mNameError\u001b[0m: name 'model' is not defined"
     ]
    }
   ],
   "source": [
    "# keras.utils.set_random_seed(1)\n",
    "\n",
    "# model = get_attn_lstm(200,64, 0.4,0.3)\n",
    "\n",
    "# opt = keras.optimizers.Nadam(learning_rate=0.001)\n",
    "# model.compile(\n",
    "#     optimizer=opt,\n",
    "#     loss=keras.losses.binary_crossentropy,\n",
    "#     metrics=[\"accuracy\"])\n",
    "model.load_weights(filepath= '/home/shared/model_checkpoint_paige/scan/lstm-w-attn-kfold_00')\n",
    "test_version(model,x_test,y_test)\n"
   ]
  },
  {
   "cell_type": "code",
   "execution_count": 123,
   "id": "21bfc831",
   "metadata": {},
   "outputs": [
    {
     "name": "stdout",
     "output_type": "stream",
     "text": [
      "WARNING:tensorflow:Detecting that an object or model or tf.train.Checkpoint is being deleted with unrestored values. See the following logs for the specific values in question. To silence these warnings, use `status.expect_partial()`. See https://www.tensorflow.org/api_docs/python/tf/train/Checkpoint#restorefor details about the status object returned by the restore function.\n",
      "WARNING:tensorflow:Value in checkpoint could not be found in the restored object: (root).optimizer.beta_1\n",
      "WARNING:tensorflow:Value in checkpoint could not be found in the restored object: (root).optimizer.beta_2\n",
      "WARNING:tensorflow:Value in checkpoint could not be found in the restored object: (root).optimizer.decay\n",
      "WARNING:tensorflow:Value in checkpoint could not be found in the restored object: (root).optimizer.learning_rate\n",
      "WARNING:tensorflow:Value in checkpoint could not be found in the restored object: (root).optimizer.iter\n",
      "WARNING:tensorflow:Value in checkpoint could not be found in the restored object: (root).optimizer.momentum_cache\n",
      "Sensitivity:76.53 \n",
      "Specificity:91.45 \n",
      "PPV:80.3 \n",
      "NPV:89.54 \n",
      "Accuracy:86.78 \n",
      "Loss:0.3557\n",
      "[[163  50]\n",
      " [ 40 428]]\n"
     ]
    },
    {
     "data": {
      "image/png": "[encoded data removed]",
      "text/plain": [
       "<Figure size 640x480 with 1 Axes>"
      ]
     },
     "metadata": {},
     "output_type": "display_data"
    }
   ],
   "source": [
    "model = get_conv_model(200,64, 0.4,0.3)\n",
    "\n",
    "opt = keras.optimizers.Nadam(learning_rate=0.001)\n",
    "model.compile(\n",
    "    optimizer=opt,\n",
    "    loss=keras.losses.binary_crossentropy,\n",
    "    metrics=[\"accuracy\"])\n",
    "\n",
    "checkpoint_filepath = '/home/shared/model_checkpoint_paige/scan/conv1d-kfold_0'+str(fold)\n",
    "\n",
    "model.load_weights(checkpoint_filepath)\n",
    "test_version(model,x_test,y_test)\n"
   ]
  },
  {
   "cell_type": "code",
   "execution_count": 8,
   "id": "1860799c",
   "metadata": {},
   "outputs": [],
   "source": [
    "from sklearn.metrics import confusion_matrix\n",
    "from sklearn import metrics\n",
    "\n",
    "tf.config.experimental.enable_op_determinism()\n",
    "\n",
    "def test_version(model, x_test, y_test, offset=0):\n",
    "\n",
    "    y_pred = model(x_test, training=False)\n",
    "        \n",
    "    y_pred = y_pred.numpy() + offset\n",
    "    cm = confusion_matrix(y_test, y_pred.round())\n",
    "        \n",
    "    sepecifity = cm[1][1]/(cm[1][1]+cm[1][0])\n",
    "    sensitivity = cm[0][0]/(cm[0][0]+cm[0][1])\n",
    "    accuracy = (cm[1][1]+cm[0][0])/(cm[1][1]+cm[1][0]+cm[0][0]+cm[0][1])\n",
    "\n",
    "    ppv = cm[0][0]/(cm[0][0]+cm[1][0])\n",
    "    npv = cm[1][1]/(cm[1][1]+cm[0][1])\n",
    "    loss = metrics.log_loss(y_test, y_pred)\n",
    "\n",
    "    print('Sensitivity:{:.4}'.format(sensitivity*100),\n",
    "          '\\nSpecificity:{:.4}'.format(sepecifity*100),\n",
    "          '\\nPPV:{:.4}'.format(ppv*100),\n",
    "          '\\nNPV:{:.4}'.format(npv*100),\n",
    "          '\\nAccuracy:{:.4}'.format(accuracy*100),\n",
    "          '\\nLoss:{:.4}'.format(loss))\n",
    "    print(cm)\n",
    "\n",
    "    fpr, tpr, thresholds = metrics.roc_curve(y_test, y_pred, pos_label=1)\n",
    "    roc_auc = metrics.auc(fpr, tpr)\n",
    "    display = metrics.RocCurveDisplay(fpr=fpr, tpr=tpr, roc_auc=roc_auc,\n",
    "                                      estimator_name='example estimator')\n",
    "    display.plot()\n",
    "\n",
    "    # plt.show()"
   ]
  },
  {
   "cell_type": "code",
   "execution_count": 74,
   "id": "f984a2bd",
   "metadata": {},
   "outputs": [],
   "source": [
    "seq_len=208\n",
    "\n",
    "for fold in range(0,9):\n",
    "\n",
    "    model = get_attn_lstm(seq_len)\n",
    "\n",
    "    np_dir = '/home/shared/nps/coat_np_0'\n",
    "\n",
    "    batch_size = 1\n",
    "    gen = get_generators(files, fold, batch_size, 'tot', 'feats', True, \n",
    "                         seq_len=seq_len, np_dir=np_dir, crop=False,\n",
    "                         osa=False, test_only = True)\n",
    "    \n",
    "    t_len = gen.__len__()\n",
    "    x_test = np.zeros([t_len,208,num_features])\n",
    "    y_test = np.zeros([t_len,1])\n",
    "    for i in range(0,t_len):\n",
    "        x_test[i], y_test[i]= gen.__getitem__(i)\n",
    "        \n",
    "    lr = 0.001\n",
    "    opt = keras.optimizers.Nadam(learning_rate=lr)\n",
    "    model.compile(\n",
    "            optimizer=opt,\n",
    "            loss=keras.losses.binary_crossentropy,\n",
    "            metrics=[\"accuracy\",]\n",
    "        )\n",
    "\n",
    "#     if fold != 9:\n",
    "    checkpoint_filepath = '/home/shared/model_checkpoint_paige/scan/reg5-kfold_0'+str(fold)\n",
    "#     else:\n",
    "#         checkpoint_filepath = '/home/shared/model_checkpoint_paige/scan/reg-kfold_0'+str(fold)\n",
    "    model.load_weights(checkpoint_filepath).expect_partial()\n",
    "    \n",
    "    y_pred = model(x_test, training=False)\n",
    "    \n",
    "    files['pred'+ str(fold)] = y_pred"
   ]
  },
  {
   "cell_type": "code",
   "execution_count": 119,
   "id": "0267d025",
   "metadata": {},
   "outputs": [],
   "source": [
    "def get_slope(y_true, y_pred, a, step):\n",
    "    y_alt = (y_pred + a - step/2).round()\n",
    "    cm = confusion_matrix(y_true, y_alt)\n",
    "\n",
    "    sp0 = cm[1][1]/(cm[1][1]+cm[1][0])\n",
    "    se0 = cm[0][0]/(cm[0][0]+cm[0][1])\n",
    "    \n",
    "    val0 = sp0+se0\n",
    "    \n",
    "    y_alt = (y_pred + a + step/2)\n",
    "    cm = confusion_matrix(y_true, y_alt)\n",
    "\n",
    "    sp1 = cm[1][1]/(cm[1][1]+cm[1][0])\n",
    "    se1 = cm[0][0]/(cm[0][0]+cm[0][1])\n",
    "    \n",
    "    val1 = sp1+se1\n",
    "    \n",
    "    return (val1 - val0)/step"
   ]
  },
  {
   "cell_type": "code",
   "execution_count": 155,
   "id": "f87e807f",
   "metadata": {},
   "outputs": [],
   "source": [
    "def get_slope_even(y_true, y_pred, a, step):\n",
    "    y_alt = (y_pred + a - step/2).round()\n",
    "    cm = confusion_matrix(y_true, y_alt)\n",
    "\n",
    "    sp0 = cm[1][1]/(cm[1][1]+cm[1][0])\n",
    "    se0 = cm[0][0]/(cm[0][0]+cm[0][1])\n",
    "    \n",
    "    val0 = sp0-se0\n",
    "    \n",
    "    y_alt = (y_pred + a + step/2).round()\n",
    "    cm = confusion_matrix(y_true, y_alt)\n",
    "\n",
    "    sp1 = cm[1][1]/(cm[1][1]+cm[1][0])\n",
    "    se1 = cm[0][0]/(cm[0][0]+cm[0][1])\n",
    "    \n",
    "    val1 = sp1-se1\n",
    "\n",
    "    return np.sign(val0 - val1)*(np.abs(val1) - np.abs(val0))/step"
   ]
  },
  {
   "cell_type": "code",
   "execution_count": 241,
   "id": "18697254",
   "metadata": {},
   "outputs": [
    {
     "name": "stdout",
     "output_type": "stream",
     "text": [
      "0   Original: 0.916, 0.830, 0.887, 1.745,\n",
      "    New:      0.930, 0.819, 0.894, 1.749\n",
      "1   Original: 0.889, 0.836, 0.872, 1.726,\n",
      "    New:      0.912, 0.820, 0.882, 1.731\n",
      "2   Original: 0.904, 0.859, 0.889, 1.763,\n",
      "    New:      0.905, 0.858, 0.890, 1.763\n",
      "3   Original: 0.916, 0.790, 0.875, 1.707,\n",
      "    New:      0.916, 0.791, 0.875, 1.707\n",
      "4   Original: 0.924, 0.848, 0.899, 1.772,\n",
      "    New:      0.923, 0.850, 0.899, 1.773\n",
      "5   Original: 0.929, 0.858, 0.906, 1.787,\n",
      "    New:      0.929, 0.858, 0.906, 1.787\n",
      "6   Original: 0.899, 0.824, 0.874, 1.723,\n",
      "    New:      0.908, 0.818, 0.879, 1.727\n",
      "7   Original: 0.890, 0.785, 0.856, 1.675,\n",
      "    New:      0.891, 0.785, 0.857, 1.676\n",
      "8   Original: 0.899, 0.820, 0.874, 1.720,\n",
      "    New:      0.900, 0.819, 0.874, 1.720\n",
      "9   Original: 0.893, 0.792, 0.860, 1.684,\n",
      "    New:      0.908, 0.781, 0.867, 1.690\n"
     ]
    }
   ],
   "source": [
    "alts = np.zeros([10])\n",
    "for fold in range(0,10):\n",
    "    train_files = files[files.fold != fold]\n",
    "    y_true = train_files.negative_exam_for_pe\n",
    "    y_pred = train_files['pred'+str(fold)]\n",
    "    lr = 0.01\n",
    "    alt = 0\n",
    "    for i in range(100):\n",
    "#         g = get_slope_npv(y_true, y_pred, alt, 0.02)\n",
    "#         alt = alt + g * lr\n",
    "        g = get_slope(y_true,y_pred ,alt, 0.02)\n",
    "        alt = alt + g * lr\n",
    "        \n",
    "    alts[fold] = alt\n",
    "    cm = confusion_matrix(y_true, y_pred.round())\n",
    "    sp0 = cm[1][1]/(cm[1][1]+cm[1][0])\n",
    "    se0 = cm[0][0]/(cm[0][0]+cm[0][1])\n",
    "    a0 = (cm[1][1]+cm[0][0])/(cm[1][1]+cm[1][0]+cm[0][0]+cm[0][1])\n",
    "\n",
    "    \n",
    "    cm = confusion_matrix(y_true, (y_pred + alt).round())\n",
    "    sp1 = cm[1][1]/(cm[1][1]+cm[1][0])\n",
    "    se1 = cm[0][0]/(cm[0][0]+cm[0][1])\n",
    "    a1 = (cm[1][1]+cm[0][0])/(cm[1][1]+cm[1][0]+cm[0][0]+cm[0][1])\n",
    "    \n",
    "    print(str(fold) + '   Original: {:.3f}, {:.3f}, {:.3f}, {:.3f},\\n    New:      {:.3f}, {:.3f}, {:.3f}, {:.3f}'.format(sp0,se0,a0,sp0+se0,sp1,se1,a1,sp1+se1) )"
   ]
  },
  {
   "cell_type": "code",
   "execution_count": 306,
   "id": "8a57e7be",
   "metadata": {},
   "outputs": [
    {
     "name": "stdout",
     "output_type": "stream",
     "text": [
      "(array([4157]),) 4.234042762318868e-05\n",
      "(array([5465]),) 1.7508753505371564\n",
      "(array([8185, 8211, 8212, 8213, 8214, 8230]),) 0.899682857619763\n"
     ]
    },
    {
     "data": {
      "image/png": "[encoded data removed]",
      "text/plain": [
       "<Figure size 640x480 with 1 Axes>"
      ]
     },
     "metadata": {},
     "output_type": "display_data"
    },
    {
     "name": "stdout",
     "output_type": "stream",
     "text": [
      "(array([4462, 4463, 4464, 4465, 4466, 4467, 4468, 4469, 4470]),) 0.00011619473630253285\n",
      "(array([5778, 5779]),) 1.7329647504661079\n",
      "(array([7537, 7539, 7540, 7546, 7547, 7548, 7549, 7550, 7551, 7552, 7553,\n",
      "       7554, 7555, 7556, 7557, 7558, 7559, 7560, 7561, 7562, 7563, 7569,\n",
      "       7570, 7571]),) 0.8938761888870349\n"
     ]
    },
    {
     "data": {
      "image/png": "[encoded data removed]",
      "text/plain": [
       "<Figure size 640x480 with 1 Axes>"
      ]
     },
     "metadata": {},
     "output_type": "display_data"
    },
    {
     "name": "stdout",
     "output_type": "stream",
     "text": [
      "(array([4406]),) 0.00020878576599225873\n",
      "(array([5068, 5069, 5070, 5071]),) 1.7638427248828439\n",
      "(array([6906, 6907, 6908, 6909, 6910, 6911]),) 0.9069806279225117\n"
     ]
    },
    {
     "data": {
      "image/png": "[encoded data removed]",
      "text/plain": [
       "<Figure size 640x480 with 1 Axes>"
      ]
     },
     "metadata": {},
     "output_type": "display_data"
    },
    {
     "name": "stdout",
     "output_type": "stream",
     "text": [
      "(array([3407, 3408, 3409, 3410, 3411, 3412, 3413, 3414, 3415, 3416, 3417,\n",
      "       3418, 3419, 3420, 3421, 3422]),) 9.140358153059136e-05\n",
      "(array([4380, 4381, 4382]),) 1.7113992512228702\n",
      "(array([6676]),) 0.8825883922615076\n"
     ]
    },
    {
     "data": {
      "image/png": "[encoded data removed]",
      "text/plain": [
       "<Figure size 640x480 with 1 Axes>"
      ]
     },
     "metadata": {},
     "output_type": "display_data"
    },
    {
     "name": "stdout",
     "output_type": "stream",
     "text": [
      "(array([3096, 3097, 3098, 3099, 3100, 3101]),) 0.00011616087181076651\n",
      "(array([4485, 4486, 4487, 4488, 4489, 4490, 4491, 4492, 4493, 4494, 4495,\n",
      "       4496, 4497, 4498, 4499, 4500, 4501, 4502, 4503, 4504, 4505, 4506,\n",
      "       4507, 4508, 4509, 4510, 4511, 4512, 4513, 4514, 4515, 4516, 4517,\n",
      "       4518, 4519, 4520, 4521, 4522]),) 1.7739030381566343\n",
      "(array([7033, 7034, 7035]),) 0.9062969767830299\n"
     ]
    },
    {
     "data": {
      "image/png": "[encoded data removed]",
      "text/plain": [
       "<Figure size 640x480 with 1 Axes>"
      ]
     },
     "metadata": {},
     "output_type": "display_data"
    },
    {
     "name": "stdout",
     "output_type": "stream",
     "text": [
      "(array([3413, 3414, 3415, 3416, 3417, 3418, 3419, 3420, 3421, 3422, 3423,\n",
      "       3424, 3425]),) 0.00017747687049118888\n",
      "(array([4464, 4465, 4466, 4467, 4468, 4469, 4470, 4471, 4472, 4473, 4474,\n",
      "       4475, 4476, 4477, 4478, 4479, 4480]),) 1.790457331602386\n",
      "(array([6342, 6343, 6346, 6611, 6612, 6613, 6614, 6615, 6616, 6617, 6618,\n",
      "       6619, 6620, 6621, 6622, 6623, 6624, 6625, 6649, 6650, 6651, 6652,\n",
      "       6653, 6654, 6710, 6711, 6712, 6713, 6714, 6715, 6716, 6717, 6718,\n",
      "       6719, 6720, 6721, 6722, 6723, 6724, 6725, 6726, 6727, 6728, 6729,\n",
      "       6730, 6731, 6732, 6733, 6734, 6735, 6736]),) 0.9127315201067913\n"
     ]
    },
    {
     "data": {
      "image/png": "[encoded data removed]",
      "text/plain": [
       "<Figure size 640x480 with 1 Axes>"
      ]
     },
     "metadata": {},
     "output_type": "display_data"
    },
    {
     "name": "stdout",
     "output_type": "stream",
     "text": [
      "(array([3287, 3288]),) 8.449727275594565e-05\n",
      "(array([5372, 5373, 5374, 5375, 5376, 5377, 5378, 5379, 5380, 5381, 5382,\n",
      "       5383]),) 1.7273424346564932\n",
      "(array([7488, 7489, 7490]),) 0.8920767306088407\n"
     ]
    },
    {
     "data": {
      "image/png": "[encoded data removed]",
      "text/plain": [
       "<Figure size 640x480 with 1 Axes>"
      ]
     },
     "metadata": {},
     "output_type": "display_data"
    },
    {
     "name": "stdout",
     "output_type": "stream",
     "text": [
      "(array([3777, 3778, 3779]),) 0.00011270450002032195\n",
      "(array([5587, 5588, 5589, 5590, 5591]),) 1.6803272000326386\n",
      "(array([7611, 7612, 7613, 7614]),) 0.8792125458792125\n"
     ]
    },
    {
     "data": {
      "image/png": "[encoded data removed]",
      "text/plain": [
       "<Figure size 640x480 with 1 Axes>"
      ]
     },
     "metadata": {},
     "output_type": "display_data"
    },
    {
     "name": "stdout",
     "output_type": "stream",
     "text": [
      "(array([3741, 3742, 3743, 3744, 3745, 3746, 3747]),) 0.00015982333179631603\n",
      "(array([5420]),) 1.7216499095285782\n",
      "(array([8508, 8509, 8510, 8511, 8512, 8513, 8514, 8515, 8516, 8517, 8518,\n",
      "       8519, 8520, 8735, 8736, 8737, 8738, 8739, 8740, 8790]),) 0.8895562228895563\n"
     ]
    },
    {
     "data": {
      "image/png": "[encoded data removed]",
      "text/plain": [
       "<Figure size 640x480 with 1 Axes>"
      ]
     },
     "metadata": {},
     "output_type": "display_data"
    },
    {
     "name": "stdout",
     "output_type": "stream",
     "text": [
      "(array([3332, 3333, 3334]),) 8.863568754291506e-05\n",
      "(array([5663, 5664, 5665, 5666]),) 1.692255751619218\n",
      "(array([7776]),) 0.8801535636788516\n"
     ]
    },
    {
     "data": {
      "image/png": "[encoded data removed]",
      "text/plain": [
       "<Figure size 640x480 with 1 Axes>"
      ]
     },
     "metadata": {},
     "output_type": "display_data"
    }
   ],
   "source": [
    "best = np.zeros([10,3,2])\n",
    "best[:,1,0] = 1\n",
    "for fold in range(0,10):\n",
    "    train_files = files[files.fold != fold]\n",
    "    y_true = train_files.negative_exam_for_pe\n",
    "    y_pred = train_files['pred'+str(fold)]\n",
    "\n",
    "    mindiff = np.zeros([9998])\n",
    "    maxtot = np.zeros([9998])\n",
    "    acurs = np.zeros([9998])\n",
    "    \n",
    "\n",
    "    for i in np.arange(-0.4999,0.4999,0.0001):\n",
    "        y_orig = (y_pred +i).round()\n",
    "        cm = confusion_matrix(y_true, y_orig)\n",
    "        sp0 = cm[1][1]/(cm[1][1]+cm[1][0])\n",
    "        se0 = cm[0][0]/(cm[0][0]+cm[0][1])\n",
    "\n",
    "        ppv = cm[0][0]/(cm[0][0]+cm[1][0])\n",
    "        npv = cm[1][1]/(cm[1][1]+cm[0][1])\n",
    "        acu = (cm[1][1]+cm[0][0])/(cm[1][1]+cm[1][0]+cm[0][0]+cm[0][1])\n",
    "        \n",
    "        mindiff[int(i*10000 + 4999)] = np.abs(sp0 - se0)\n",
    "        maxtot[int(i*10000 + 4999)] = sp0 + se0\n",
    "        acurs[int(i*10000 + 4999)] = acu\n",
    "        \n",
    "    mini = mindiff[:9990].min()\n",
    "    print(np.where(mindiff == mini), mini)\n",
    "    \n",
    "    maxi = maxtot.max()\n",
    "    print(np.where(maxtot == maxi), maxi)\n",
    "    \n",
    "    maxu = acurs.max()\n",
    "    print(np.where(acurs == maxu), maxu)\n",
    "\n",
    "    \n",
    "    best[fold,0,0] = maxi\n",
    "    best[fold,0,1] = np.mean(np.where(maxtot == maxi))\n",
    "    \n",
    "    best[fold,1,0] = mini\n",
    "    best[fold,1,1] = np.mean(np.where(mindiff == mini))\n",
    "    \n",
    "    best[fold,2,0] = maxu\n",
    "    best[fold,2,1] = np.mean(np.where(acurs == mini))\n",
    "\n",
    "        \n",
    "    plt.plot(np.arange(-0.4999,0.4999,0.0001),mindiff)\n",
    "    plt.plot(np.arange(-0.4999,0.4999,0.0001),maxtot/2)\n",
    "    plt.show()"
   ]
  },
  {
   "cell_type": "code",
   "execution_count": 349,
   "id": "cff8c511",
   "metadata": {},
   "outputs": [],
   "source": [
    "alts = best[:,1,1]/10000"
   ]
  },
  {
   "cell_type": "code",
   "execution_count": null,
   "id": "1c9ffb3b",
   "metadata": {},
   "outputs": [],
   "source": [
    "alts = np.zeros([10])\n",
    "for fold in range(0,10):\n",
    "    train_files = files[files.fold != fold]\n",
    "    y_true = train_files.negative_exam_for_pe\n",
    "    y_pred = train_files['pred'+str(fold)]\n",
    "    lr = 0.001\n",
    "    alt = 0\n",
    "    for i in range(100):\n",
    "        g = get_slope_npv(y_true, y_pred, alt, 0.02)\n",
    "        alt = alt + g * lr\n",
    "        if np.abs(alt) > 0.5:\n",
    "            break\n",
    "        \n",
    "    alts[fold] = alt\n",
    "    cm = confusion_matrix(y_true, y_pred.round())\n",
    "    sp0 = cm[1][1]/(cm[1][1]+cm[1][0])\n",
    "    se0 = cm[0][0]/(cm[0][0]+cm[0][1])\n",
    "    a0 = (cm[1][1]+cm[0][0])/(cm[1][1]+cm[1][0]+cm[0][0]+cm[0][1])\n",
    "    n0 = cm[1][1]/(cm[1][1]+cm[0][1])\n",
    "\n",
    "\n",
    "    \n",
    "    cm = confusion_matrix(y_true, (y_pred + alt).round())\n",
    "    sp1 = cm[1][1]/(cm[1][1]+cm[1][0])\n",
    "    se1 = cm[0][0]/(cm[0][0]+cm[0][1])\n",
    "    a1 = (cm[1][1]+cm[0][0])/(cm[1][1]+cm[1][0]+cm[0][0]+cm[0][1])\n",
    "    n1 = cm[1][1]/(cm[1][1]+cm[0][1])\n",
    "\n",
    "    \n",
    "    print(str(fold) + '   Original: {:.3f}, {:.3f}, {:.3f}, {:.3f}, {:.3f},\\n    New:      {:.3f}, {:.3f}, {:.3f}, {:.3f}, {:.3f}'.format(sp0,se0,a0,sp0+se0,n0,sp1,se1,a1,sp1+se1,n1) )"
   ]
  },
  {
   "cell_type": "code",
   "execution_count": 353,
   "id": "41040cad",
   "metadata": {},
   "outputs": [
    {
     "data": {
      "text/plain": [
       "array([0.5843 , 0.5534 , 0.5594 , 0.65855, 0.69015, 0.6581 , 0.67125,\n",
       "       0.6222 , 0.6256 , 0.6667 ])"
      ]
     },
     "execution_count": 353,
     "metadata": {},
     "output_type": "execute_result"
    }
   ],
   "source": [
    "1-alts"
   ]
  },
  {
   "cell_type": "code",
   "execution_count": 351,
   "id": "a873c2cb",
   "metadata": {},
   "outputs": [
    {
     "name": "stdout",
     "output_type": "stream",
     "text": [
      "0 0.8687095166915795 0.8694992412746586 0.8689701218494408 1.738208757966238\n",
      "1 0.8609665427509293 0.8610827374872319 0.8610045052561321 1.7220492802381613\n",
      "2 0.8781575037147102 0.8784615384615385 0.8782565130260521 1.7566190421762489\n",
      "3 0.8479285537087571 0.8478371501272265 0.847898599066044 1.6957657038359835\n",
      "4 0.881781981085117 0.8816658202133062 0.8817437781860699 1.7634478012984232\n",
      "5 0.8913151364764268 0.891492613346918 0.8913732688136159 1.7828077498233448\n",
      "6 0.8549068322981367 0.8553299492385786 0.8550458715596331 1.7102367815367154\n",
      "7 0.8309547244094488 0.8310880829015544 0.8309976643309976 1.6620428073110034\n",
      "8 0.8529048207663782 0.8527449974345819 0.8528528528528528 1.70564981820096\n",
      "9 0.8380386329866271 0.8381976446492575 0.8380904690368887 1.6762362776358846\n"
     ]
    }
   ],
   "source": [
    "for fold in range(0,10):\n",
    "    train_files = files[files.fold != fold]\n",
    "    y_true = train_files.negative_exam_for_pe\n",
    "    y_pred = (train_files['pred'+str(fold)] - 0.5 +alts[fold]).round()\n",
    "    \n",
    "    cm = confusion_matrix(y_true, y_pred)\n",
    "        \n",
    "    sepecifity = cm[1][1]/(cm[1][1]+cm[1][0])\n",
    "    sensitivity = cm[0][0]/(cm[0][0]+cm[0][1])\n",
    "    accuracy = (cm[1][1]+cm[0][0])/(cm[1][1]+cm[1][0]+cm[0][0]+cm[0][1])\n",
    "    print(fold, sepecifity, sensitivity, accuracy, sensitivity+sepecifity)"
   ]
  },
  {
   "cell_type": "code",
   "execution_count": 229,
   "id": "1d4ca1e8",
   "metadata": {},
   "outputs": [],
   "source": [
    "tot.to_csv('all_val_ans.csv')"
   ]
  },
  {
   "cell_type": "code",
   "execution_count": 58,
   "id": "4d7ef547",
   "metadata": {},
   "outputs": [
    {
     "data": {
      "text/plain": [
       "<Figure size 640x480 with 0 Axes>"
      ]
     },
     "metadata": {},
     "output_type": "display_data"
    }
   ],
   "source": [
    "seq_len=208\n",
    "dos5 = pd.DataFrame(columns=['fold','auc','sensitivity', 'specificity', 'accuracy','npv','ppv'])\n",
    "tot = 0\n",
    "caught = 0\n",
    "\n",
    "no = 0\n",
    "nope = 0\n",
    "\n",
    "plt.figure(0).clf()\n",
    "tot = pd.DataFrame(columns=files_test.columns)\n",
    "tot['pred'] = -1\n",
    "for fold in range(0,10):\n",
    "\n",
    "    model = get_attn_lstm(seq_len)\n",
    "\n",
    "    np_dir = '/home/shared/nps/coat_np_0'\n",
    "\n",
    "    batch_size = 1\n",
    "    test_files = files[files.fold == fold]\n",
    "    test_gen = get_generators(test_files, fold, \n",
    "                                   batch_size, \n",
    "                                   'tot', \n",
    "                                   'feats', \n",
    "                                   True, \n",
    "                                   seq_len=seq_len, \n",
    "                                   np_dir=np_dir, \n",
    "                                   crop=False,\n",
    "                                   test_only=True,\n",
    "                                   osa=False)\n",
    "    \n",
    "    \n",
    "    t_len = test_gen.__len__()\n",
    "    x_test = np.zeros([t_len,208,num_features])\n",
    "    y_test = np.zeros([t_len,1])\n",
    "    for i in range(0,t_len):\n",
    "        x_test[i],y= test_gen.__getitem__(i)\n",
    "        y_test[i] = y\n",
    "        \n",
    "    lr = 0.001\n",
    "    opt = keras.optimizers.Nadam(learning_rate=lr)\n",
    "    model.compile(\n",
    "            optimizer=opt,\n",
    "            loss=keras.losses.binary_crossentropy,\n",
    "            metrics=[\"accuracy\",]\n",
    "        )\n",
    "\n",
    "    checkpoint_filepath = '/home/shared/model_checkpoint_paige/scan/reg5-kfold_0'+str(fold)\n",
    "#     else:\n",
    "#         checkpoint_filepath = '/home/shared/model_checkpoint_paige/scan/reg-kfold_0'+str(fold)\n",
    "    model.load_weights(checkpoint_filepath).expect_partial()\n",
    "    \n",
    "    ys = model.predict(x_test)\n",
    "    test_files['pred'] = ys\n",
    "    tot = pd.concat([tot, test_files])"
   ]
  },
  {
   "cell_type": "code",
   "execution_count": 65,
   "id": "bc5ff5c5",
   "metadata": {},
   "outputs": [
    {
     "name": "stdout",
     "output_type": "stream",
     "text": [
      "Sensitivity:79.69 \n",
      "Specificity:89.13 \n",
      "PPV:78.07 \n",
      "NPV:90.04 \n",
      "Accuracy:86.05 \n",
      "Loss:0.3583\n",
      "[[1734  442]\n",
      " [ 487 3995]]\n",
      "0.905819407121952\n"
     ]
    },
    {
     "data": {
      "text/plain": [
       "<sklearn.metrics._plot.roc_curve.RocCurveDisplay at 0x7fab1a262530>"
      ]
     },
     "execution_count": 65,
     "metadata": {},
     "output_type": "execute_result"
    },
    {
     "data": {
      "image/png": "[encoded data removed]",
      "text/plain": [
       "<Figure size 640x480 with 1 Axes>"
      ]
     },
     "metadata": {},
     "output_type": "display_data"
    }
   ],
   "source": [
    "y_test = tot.negative_exam_for_pe.astype(int)\n",
    "y_pred = tot.pred\n",
    "cm = confusion_matrix(y_test, y_pred.round())\n",
    "\n",
    "sepecifity = cm[1][1]/(cm[1][1]+cm[1][0])\n",
    "sensitivity = cm[0][0]/(cm[0][0]+cm[0][1])\n",
    "accuracy = (cm[1][1]+cm[0][0])/(cm[1][1]+cm[1][0]+cm[0][0]+cm[0][1])\n",
    "\n",
    "ppv = cm[0][0]/(cm[0][0]+cm[1][0])\n",
    "npv = cm[1][1]/(cm[1][1]+cm[0][1])\n",
    "loss = metrics.log_loss(y_test, y_pred)\n",
    "\n",
    "print('Sensitivity:{:.4}'.format(sensitivity*100),\n",
    "      '\\nSpecificity:{:.4}'.format(sepecifity*100),\n",
    "      '\\nPPV:{:.4}'.format(ppv*100),\n",
    "      '\\nNPV:{:.4}'.format(npv*100),\n",
    "      '\\nAccuracy:{:.4}'.format(accuracy*100),\n",
    "      '\\nLoss:{:.4}'.format(loss))\n",
    "print(cm)\n",
    "\n",
    "fpr, tpr, thresholds = metrics.roc_curve(y_test, y_pred, pos_label=1)\n",
    "roc_auc = metrics.auc(fpr, tpr)\n",
    "print(roc_auc)\n",
    "display = metrics.RocCurveDisplay(fpr=fpr, tpr=tpr, roc_auc=roc_auc,\n",
    "                                  estimator_name='example estimator')\n",
    "display.plot()"
   ]
  },
  {
   "cell_type": "code",
   "execution_count": 76,
   "id": "db18f64d",
   "metadata": {},
   "outputs": [
    {
     "data": {
      "text/plain": [
       "negative_exam_for_pe          0.000000\n",
       "qa_motion                     0.000000\n",
       "qa_contrast                   0.000000\n",
       "flow_artifact                 0.028777\n",
       "rv_lv_ratio_gte_1             0.517986\n",
       "rv_lv_ratio_lt_1              0.482014\n",
       "leftsided_pe                  0.719424\n",
       "chronic_pe                    1.000000\n",
       "true_filling_defect_not_pe    0.007194\n",
       "rightsided_pe                 0.776978\n",
       "acute_and_chronic_pe          0.000000\n",
       "central_pe                    0.129496\n",
       "indeterminate                 0.000000\n",
       "fold                          4.553957\n",
       "pred                          0.443458\n",
       "score                         0.521583\n",
       "dtype: float64"
      ]
     },
     "execution_count": 76,
     "metadata": {},
     "output_type": "execute_result"
    }
   ],
   "source": [
    "tot[tot.chronic_pe == True].mean()"
   ]
  },
  {
   "cell_type": "code",
   "execution_count": 84,
   "id": "b8b9d874",
   "metadata": {},
   "outputs": [
    {
     "data": {
      "text/plain": [
       "0.4784172661870504"
      ]
     },
     "execution_count": 84,
     "metadata": {},
     "output_type": "execute_result"
    }
   ],
   "source": [
    "len(tot[(tot.chronic_pe == True) & (tot.score == 0)])/len(tot[tot.chronic_pe == True])"
   ]
  },
  {
   "cell_type": "code",
   "execution_count": 92,
   "id": "b0457f38",
   "metadata": {},
   "outputs": [
    {
     "data": {
      "text/plain": [
       "278"
      ]
     },
     "execution_count": 92,
     "metadata": {},
     "output_type": "execute_result"
    }
   ],
   "source": [
    "tot.chronic_pe.sum()"
   ]
  },
  {
   "cell_type": "code",
   "execution_count": 85,
   "id": "4754e998",
   "metadata": {},
   "outputs": [
    {
     "data": {
      "text/plain": [
       "0.1654054054054054"
      ]
     },
     "execution_count": 85,
     "metadata": {},
     "output_type": "execute_result"
    }
   ],
   "source": [
    "len(tot[(tot.rightsided_pe == True) & (tot.score == 0)])/len(tot[tot.rightsided_pe == True])"
   ]
  },
  {
   "cell_type": "code",
   "execution_count": 86,
   "id": "13566651",
   "metadata": {},
   "outputs": [
    {
     "data": {
      "text/plain": [
       "0.16228646517739817"
      ]
     },
     "execution_count": 86,
     "metadata": {},
     "output_type": "execute_result"
    }
   ],
   "source": [
    "len(tot[(tot.leftsided_pe == True) & (tot.score == 0)])/len(tot[tot.leftsided_pe == True])"
   ]
  },
  {
   "cell_type": "code",
   "execution_count": 87,
   "id": "d7ced9d7",
   "metadata": {},
   "outputs": [
    {
     "data": {
      "text/plain": [
       "negative_exam_for_pe          1.000000\n",
       "qa_motion                     0.000000\n",
       "qa_contrast                   0.000000\n",
       "flow_artifact                 0.129032\n",
       "rv_lv_ratio_gte_1             0.000000\n",
       "rv_lv_ratio_lt_1              0.000000\n",
       "leftsided_pe                  0.000000\n",
       "chronic_pe                    0.000000\n",
       "true_filling_defect_not_pe    1.000000\n",
       "rightsided_pe                 0.000000\n",
       "acute_and_chronic_pe          0.000000\n",
       "central_pe                    0.000000\n",
       "indeterminate                 0.000000\n",
       "fold                          4.161290\n",
       "pred                          0.675914\n",
       "score                         0.258065\n",
       "dtype: float64"
      ]
     },
     "execution_count": 87,
     "metadata": {},
     "output_type": "execute_result"
    }
   ],
   "source": [
    "tot[(tot.negative_exam_for_pe == True) & (tot.true_filling_defect_not_pe)].mean()"
   ]
  },
  {
   "cell_type": "code",
   "execution_count": 91,
   "id": "6ccd41ec",
   "metadata": {},
   "outputs": [
    {
     "data": {
      "text/plain": [
       "negative_exam_for_pe          0.000000\n",
       "qa_motion                     0.000000\n",
       "qa_contrast                   0.000000\n",
       "flow_artifact                 1.000000\n",
       "rv_lv_ratio_gte_1             0.375000\n",
       "rv_lv_ratio_lt_1              0.625000\n",
       "leftsided_pe                  0.687500\n",
       "chronic_pe                    0.125000\n",
       "true_filling_defect_not_pe    0.046875\n",
       "rightsided_pe                 0.765625\n",
       "acute_and_chronic_pe          0.078125\n",
       "central_pe                    0.093750\n",
       "indeterminate                 0.000000\n",
       "fold                          4.687500\n",
       "pred                          0.369322\n",
       "score                         0.625000\n",
       "dtype: float64"
      ]
     },
     "execution_count": 91,
     "metadata": {},
     "output_type": "execute_result"
    }
   ],
   "source": [
    "tot[(tot.negative_exam_for_pe == False) & (tot.flow_artifact)].mean()"
   ]
  },
  {
   "cell_type": "code",
   "execution_count": 89,
   "id": "fe1608bb",
   "metadata": {},
   "outputs": [
    {
     "data": {
      "text/plain": [
       "negative_exam_for_pe          1.000000\n",
       "qa_motion                     0.000000\n",
       "qa_contrast                   0.000000\n",
       "flow_artifact                 1.000000\n",
       "rv_lv_ratio_gte_1             0.000000\n",
       "rv_lv_ratio_lt_1              0.000000\n",
       "leftsided_pe                  0.000000\n",
       "chronic_pe                    0.000000\n",
       "true_filling_defect_not_pe    0.021739\n",
       "rightsided_pe                 0.000000\n",
       "acute_and_chronic_pe          0.000000\n",
       "central_pe                    0.000000\n",
       "indeterminate                 0.000000\n",
       "fold                          4.619565\n",
       "pred                          0.708678\n",
       "score                         0.163043\n",
       "dtype: float64"
      ]
     },
     "execution_count": 89,
     "metadata": {},
     "output_type": "execute_result"
    }
   ],
   "source": [
    "tot[(tot.negative_exam_for_pe == True) & (tot.flow_artifact)].mean()"
   ]
  },
  {
   "cell_type": "code",
   "execution_count": 90,
   "id": "fc2cc226",
   "metadata": {},
   "outputs": [
    {
     "data": {
      "text/plain": [
       "negative_exam_for_pe          1.000000\n",
       "qa_motion                     0.000000\n",
       "qa_contrast                   0.000000\n",
       "flow_artifact                 0.041053\n",
       "rv_lv_ratio_gte_1             0.000000\n",
       "rv_lv_ratio_lt_1              0.000000\n",
       "leftsided_pe                  0.000000\n",
       "chronic_pe                    0.000000\n",
       "true_filling_defect_not_pe    0.006917\n",
       "rightsided_pe                 0.000000\n",
       "acute_and_chronic_pe          0.000000\n",
       "central_pe                    0.000000\n",
       "indeterminate                 0.000000\n",
       "fold                          4.454261\n",
       "pred                          0.786981\n",
       "score                         0.108657\n",
       "dtype: float64"
      ]
     },
     "execution_count": 90,
     "metadata": {},
     "output_type": "execute_result"
    }
   ],
   "source": [
    "tot[(tot.negative_exam_for_pe == True)].mean()"
   ]
  },
  {
   "cell_type": "code",
   "execution_count": 80,
   "id": "478382fb",
   "metadata": {},
   "outputs": [
    {
     "data": {
      "text/plain": [
       "0.12775735294117646"
      ]
     },
     "execution_count": 80,
     "metadata": {},
     "output_type": "execute_result"
    }
   ],
   "source": [
    "len(tot[tot.chronic_pe == True])/len(tot[tot.negative_exam_for_pe == False])"
   ]
  },
  {
   "cell_type": "code",
   "execution_count": 83,
   "id": "1db3fd3e",
   "metadata": {},
   "outputs": [
    {
     "data": {
      "text/plain": [
       "negative_exam_for_pe          0.000000\n",
       "qa_motion                     0.000000\n",
       "qa_contrast                   0.000000\n",
       "flow_artifact                 0.054299\n",
       "rv_lv_ratio_gte_1             0.312217\n",
       "rv_lv_ratio_lt_1              0.687783\n",
       "leftsided_pe                  0.558824\n",
       "chronic_pe                    0.300905\n",
       "true_filling_defect_not_pe    0.013575\n",
       "rightsided_pe                 0.692308\n",
       "acute_and_chronic_pe          0.038462\n",
       "central_pe                    0.024887\n",
       "indeterminate                 0.000000\n",
       "fold                          4.628959\n",
       "pred                          0.777939\n",
       "score                         0.000000\n",
       "dtype: float64"
      ]
     },
     "execution_count": 83,
     "metadata": {},
     "output_type": "execute_result"
    }
   ],
   "source": [
    "tot[(tot.negative_exam_for_pe == False) & (tot.pred > 0.5)].mean()"
   ]
  },
  {
   "cell_type": "code",
   "execution_count": 125,
   "id": "dff65d40",
   "metadata": {},
   "outputs": [
    {
     "name": "stdout",
     "output_type": "stream",
     "text": [
      "flow_artifact   Pos: 37.500,   Neg: 19.792,   RR 189.474\n",
      "\n",
      "rv_lv_ratio_gte_1   Pos: 14.887,   Neg: 24.339,   RR 61.163\n",
      "\n",
      "rv_lv_ratio_lt_1   Pos: 24.339,   Neg: 14.887,   RR 163.498\n",
      "\n",
      "leftsided_pe   Pos: 16.229,   Neg: 29.817,   RR 54.428\n",
      "\n",
      "chronic_pe   Pos: 47.842,   Neg: 16.280,   RR 293.863\n",
      "\n",
      "true_filling_defect_not_pe   Pos: 27.273,   Neg: 20.241,   RR 134.737\n",
      "\n",
      "rightsided_pe   Pos: 16.541,   Neg: 41.718,   RR 39.649\n",
      "\n",
      "acute_and_chronic_pe   Pos: 11.888,   Neg: 20.905,   RR 56.867\n",
      "\n",
      "central_pe   Pos: 2.757,   Neg: 24.254,   RR 11.367\n",
      "\n",
      "Not Central   Pos: 24.254,   Neg: 2.757,   RR 879.772\n",
      "\n",
      "Both   Pos: 35.065,   Neg: 9.425,   RR 372.045\n",
      "\n",
      "No Central Left   Pos: 30.844,   Neg: 20.758,   RR 148.589\n",
      "\n",
      "No Central Right   Pos: 43.506,   Neg: 20.218,   RR 215.189\n",
      "\n"
     ]
    }
   ],
   "source": [
    "pos = tot[tot.negative_exam_for_pe == False]\n",
    "cols = ['flow_artifact','rv_lv_ratio_gte_1','rv_lv_ratio_lt_1','leftsided_pe','chronic_pe','true_filling_defect_not_pe','rightsided_pe','acute_and_chronic_pe','central_pe']\n",
    "for col in cols:\n",
    "    ARt = (1-pos[pos[col]==True].score).mean()\n",
    "    ARc = (1-pos[pos[col]==False].score).mean()\n",
    "    print(col + '   Pos: {:.3f},   Neg: {:.3f},   RR {:.3f}'.format(ARt*100, ARc*100, ARt/ARc*100))\n",
    "    print()\n",
    "ARt = (1-pos[pos.central_pe==False].score).mean()\n",
    "ARc = (1-pos[pos.central_pe==True].score).mean()\n",
    "print('Not Central   Pos: {:.3f},   Neg: {:.3f},   RR {:.3f}'.format(ARt*100, ARc*100, ARt/ARc*100))\n",
    "print()\n",
    "\n",
    "ARt = (1-pos[(pos.central_pe == False) & (pos.leftsided_pe ^ pos.rightsided_pe)].score).mean()\n",
    "ARc = (1-pos[~((pos.central_pe == False) & (pos.leftsided_pe ^ pos.rightsided_pe))].score).mean()\n",
    "print('Both   Pos: {:.3f},   Neg: {:.3f},   RR {:.3f}'.format(ARt*100, ARc*100, ARt/ARc*100))\n",
    "print()\n",
    "\n",
    "ARt = (1-pos[(pos.central_pe == False) & (pos.leftsided_pe == False)].score).mean()\n",
    "ARc = (1-pos[(pos.central_pe == False) & (pos.leftsided_pe)].score).mean()\n",
    "print('No Central Left   Pos: {:.3f},   Neg: {:.3f},   RR {:.3f}'.format(ARt*100, ARc*100, ARt/ARc*100))\n",
    "print()\n",
    "\n",
    "ARt = (1-pos[(pos.central_pe == False) & (pos.rightsided_pe ==False)].score).mean()\n",
    "ARc = (1-pos[(pos.central_pe == False) & (pos.rightsided_pe)].score).mean()\n",
    "print('No Central Right   Pos: {:.3f},   Neg: {:.3f},   RR {:.3f}'.format(ARt*100, ARc*100, ARt/ARc*100))\n",
    "print()"
   ]
  },
  {
   "cell_type": "code",
   "execution_count": 204,
   "id": "e1dc27d2",
   "metadata": {},
   "outputs": [
    {
     "data": {
      "text/plain": [
       "1.6051088259874278"
      ]
     },
     "execution_count": 204,
     "metadata": {},
     "output_type": "execute_result"
    }
   ],
   "source": [
    "col = 'chronic_pe'\n",
    "(pos[pos[col] == False].score.mean())/(pos[pos[col] == True].score.mean())"
   ]
  },
  {
   "cell_type": "code",
   "execution_count": 208,
   "id": "c971e485",
   "metadata": {},
   "outputs": [
    {
     "name": "stdout",
     "output_type": "stream",
     "text": [
      "1.2838113113392695 0.9724310776942355 0.7574563871693866\n"
     ]
    }
   ],
   "source": [
    "col = 'central_pe'\n",
    "print(pos[pos[col] == True].score.mean()/pos[pos[col] == False].score.mean(), pos[pos[col] == True].score.mean(), pos[pos[col] == False].score.mean())"
   ]
  },
  {
   "cell_type": "code",
   "execution_count": 209,
   "id": "9bc569c8",
   "metadata": {},
   "outputs": [
    {
     "name": "stdout",
     "output_type": "stream",
     "text": [
      "1.1249362168456019 0.8511326860841424 0.7566052842273819\n"
     ]
    }
   ],
   "source": [
    "col = 'rv_lv_ratio_gte_1'\n",
    "print(pos[pos[col] == True].score.mean()/pos[pos[col] == False].score.mean(), pos[pos[col] == True].score.mean(), pos[pos[col] == False].score.mean())"
   ]
  },
  {
   "cell_type": "code",
   "execution_count": 221,
   "id": "77aacda4",
   "metadata": {},
   "outputs": [
    {
     "data": {
      "text/plain": [
       "0.9479638009049773"
      ]
     },
     "execution_count": 221,
     "metadata": {},
     "output_type": "execute_result"
    }
   ],
   "source": [
    "len(fn[(fn.rv_lv_ratio_lt_1 == True) | (fn.chronic_pe == True) | ((fn.leftsided_pe == True) & (fn.central_pe == False) & (fn.rightsided_pe == False)) | ((fn.rightsided_pe == True) & (fn.central_pe == False) & (fn.leftsided_pe == False))])/len(fn)"
   ]
  },
  {
   "cell_type": "code",
   "execution_count": 227,
   "id": "34329ab3",
   "metadata": {},
   "outputs": [
    {
     "data": {
      "text/plain": [
       "308"
      ]
     },
     "execution_count": 227,
     "metadata": {},
     "output_type": "execute_result"
    }
   ],
   "source": [
    "len(pos[(pos.leftsided_pe == True) & (pos.central_pe == False) & (pos.rightsided_pe == False)])"
   ]
  },
  {
   "cell_type": "code",
   "execution_count": 226,
   "id": "7f6f5b75",
   "metadata": {},
   "outputs": [
    {
     "data": {
      "text/plain": [
       "616"
      ]
     },
     "execution_count": 226,
     "metadata": {},
     "output_type": "execute_result"
    }
   ],
   "source": [
    "len(pos[(pos.leftsided_pe == False) & (pos.central_pe == False) & (pos.rightsided_pe == True)])"
   ]
  },
  {
   "cell_type": "code",
   "execution_count": 222,
   "id": "4cda0a3e",
   "metadata": {},
   "outputs": [
    {
     "data": {
      "text/plain": [
       "0.997737556561086"
      ]
     },
     "execution_count": 222,
     "metadata": {},
     "output_type": "execute_result"
    }
   ],
   "source": [
    "len(fn[(fn.rv_lv_ratio_lt_1 == True) | (fn.chronic_pe == True) | (fn.central_pe == False)])/len(fn)"
   ]
  },
  {
   "cell_type": "code",
   "execution_count": 216,
   "id": "ad003e7d",
   "metadata": {},
   "outputs": [
    {
     "data": {
      "text/plain": [
       "negative_exam_for_pe          0.000000\n",
       "qa_motion                     0.000000\n",
       "qa_contrast                   0.000000\n",
       "flow_artifact                 0.048701\n",
       "rv_lv_ratio_gte_1             0.279221\n",
       "rv_lv_ratio_lt_1              0.720779\n",
       "leftsided_pe                  1.000000\n",
       "chronic_pe                    0.191558\n",
       "true_filling_defect_not_pe    0.012987\n",
       "rightsided_pe                 0.000000\n",
       "acute_and_chronic_pe          0.022727\n",
       "central_pe                    0.000000\n",
       "indeterminate                 0.000000\n",
       "fold                          4.392857\n",
       "pred                          0.429796\n",
       "score                         0.564935\n",
       "dtype: float64"
      ]
     },
     "execution_count": 216,
     "metadata": {},
     "output_type": "execute_result"
    }
   ],
   "source": [
    "pos[(pos.leftsided_pe == True) & (pos.central_pe==False) & (pos.rightsided_pe == False)].mean()"
   ]
  },
  {
   "cell_type": "code",
   "execution_count": 211,
   "id": "49d60d02",
   "metadata": {},
   "outputs": [
    {
     "data": {
      "text/plain": [
       "negative_exam_for_pe          0.000000\n",
       "qa_motion                     0.000000\n",
       "qa_contrast                   0.000000\n",
       "flow_artifact                 0.028777\n",
       "rv_lv_ratio_gte_1             0.517986\n",
       "rv_lv_ratio_lt_1              0.482014\n",
       "leftsided_pe                  0.719424\n",
       "chronic_pe                    1.000000\n",
       "true_filling_defect_not_pe    0.007194\n",
       "rightsided_pe                 0.776978\n",
       "acute_and_chronic_pe          0.000000\n",
       "central_pe                    0.129496\n",
       "indeterminate                 0.000000\n",
       "fold                          4.553957\n",
       "pred                          0.443458\n",
       "score                         0.521583\n",
       "dtype: float64"
      ]
     },
     "execution_count": 211,
     "metadata": {},
     "output_type": "execute_result"
    }
   ],
   "source": [
    "pos[pos.chronic_pe == True].mean()"
   ]
  },
  {
   "cell_type": "code",
   "execution_count": 134,
   "id": "a5feabd0",
   "metadata": {},
   "outputs": [
    {
     "name": "stdout",
     "output_type": "stream",
     "text": [
      "flow_artifact   Pos: 16.304,   Neg: 10.633,   RR 153.339\n",
      "\n",
      "true_filling_defect_not_pe   Pos: 25.806,   Neg: 10.762,   RR 239.801\n",
      "\n"
     ]
    }
   ],
   "source": [
    "tot.columns\n",
    "neg = tot[tot.negative_exam_for_pe == True]\n",
    "cols = ['flow_artifact','true_filling_defect_not_pe']\n",
    "for col in cols:\n",
    "    ARt = (neg[neg[col]==True].score).mean()\n",
    "    ARc = (neg[neg[col]==False].score).mean()\n",
    "    print(col + '   Pos: {:.3f},   Neg: {:.3f},   RR {:.3f}'.format(ARt*100, ARc*100, ARt/ARc*100))\n",
    "    print()"
   ]
  },
  {
   "cell_type": "code",
   "execution_count": 146,
   "id": "c1ee467a",
   "metadata": {},
   "outputs": [
    {
     "data": {
      "text/plain": [
       "0.07392197125256673"
      ]
     },
     "execution_count": 146,
     "metadata": {},
     "output_type": "execute_result"
    }
   ],
   "source": [
    "len(neg[(neg.score == 1) & (neg.flow_artifact | neg.true_filling_defect_not_pe)])/len(neg[neg.score == 1])"
   ]
  },
  {
   "cell_type": "code",
   "execution_count": 147,
   "id": "6ce9563b",
   "metadata": {},
   "outputs": [
    {
     "data": {
      "text/plain": [
       "negative_exam_for_pe          1.000000\n",
       "qa_motion                     0.000000\n",
       "qa_contrast                   0.000000\n",
       "flow_artifact                 0.061602\n",
       "rv_lv_ratio_gte_1             0.000000\n",
       "rv_lv_ratio_lt_1              0.000000\n",
       "leftsided_pe                  0.000000\n",
       "chronic_pe                    0.000000\n",
       "true_filling_defect_not_pe    0.016427\n",
       "rightsided_pe                 0.000000\n",
       "acute_and_chronic_pe          0.000000\n",
       "central_pe                    0.000000\n",
       "indeterminate                 0.000000\n",
       "fold                          4.246407\n",
       "pred                          0.274205\n",
       "score                         1.000000\n",
       "dtype: float64"
      ]
     },
     "execution_count": 147,
     "metadata": {},
     "output_type": "execute_result"
    }
   ],
   "source": [
    "neg[neg.score == 1].mean()"
   ]
  },
  {
   "cell_type": "code",
   "execution_count": 165,
   "id": "f59f700b",
   "metadata": {},
   "outputs": [
    {
     "data": {
      "text/plain": [
       "0.9502262443438914"
      ]
     },
     "execution_count": 165,
     "metadata": {},
     "output_type": "execute_result"
    }
   ],
   "source": [
    "1- len(fn[~((fn.chronic_pe == True) | (fn.rv_lv_ratio_lt_1 == True) | ((fn.leftsided_pe==True) ^ (fn.rightsided_pe ==True)))])/len(fn)"
   ]
  },
  {
   "cell_type": "code",
   "execution_count": 185,
   "id": "0d74b9c9",
   "metadata": {},
   "outputs": [
    {
     "data": {
      "text/plain": [
       "0.7330316742081447"
      ]
     },
     "execution_count": 185,
     "metadata": {},
     "output_type": "execute_result"
    }
   ],
   "source": [
    "len(fn[(fn.central_pe == False) & (fn.leftsided_pe ^ fn.rightsided_pe)])/len(fn)"
   ]
  },
  {
   "cell_type": "code",
   "execution_count": 171,
   "id": "4ddc04fe",
   "metadata": {},
   "outputs": [
    {
     "data": {
      "text/html": [
       "<div>\n",
       "<style scoped>\n",
       "    .dataframe tbody tr th:only-of-type {\n",
       "        vertical-align: middle;\n",
       "    }\n",
       "\n",
       "    .dataframe tbody tr th {\n",
       "        vertical-align: top;\n",
       "    }\n",
       "\n",
       "    .dataframe thead th {\n",
       "        text-align: right;\n",
       "    }\n",
       "</style>\n",
       "<table border=\"1\" class=\"dataframe\">\n",
       "  <thead>\n",
       "    <tr style=\"text-align: right;\">\n",
       "      <th></th>\n",
       "      <th>file_name</th>\n",
       "      <th>StudyInstanceUID</th>\n",
       "      <th>negative_exam_for_pe</th>\n",
       "      <th>qa_motion</th>\n",
       "      <th>qa_contrast</th>\n",
       "      <th>flow_artifact</th>\n",
       "      <th>rv_lv_ratio_gte_1</th>\n",
       "      <th>rv_lv_ratio_lt_1</th>\n",
       "      <th>leftsided_pe</th>\n",
       "      <th>chronic_pe</th>\n",
       "      <th>true_filling_defect_not_pe</th>\n",
       "      <th>rightsided_pe</th>\n",
       "      <th>acute_and_chronic_pe</th>\n",
       "      <th>central_pe</th>\n",
       "      <th>indeterminate</th>\n",
       "      <th>fold</th>\n",
       "      <th>pred</th>\n",
       "      <th>score</th>\n",
       "    </tr>\n",
       "  </thead>\n",
       "  <tbody>\n",
       "    <tr>\n",
       "      <th>2551</th>\n",
       "      <td>5e698a8957cf.npy</td>\n",
       "      <td>5e698a8957cf</td>\n",
       "      <td>0</td>\n",
       "      <td>0</td>\n",
       "      <td>0</td>\n",
       "      <td>0</td>\n",
       "      <td>1</td>\n",
       "      <td>0</td>\n",
       "      <td>0</td>\n",
       "      <td>0</td>\n",
       "      <td>0</td>\n",
       "      <td>1</td>\n",
       "      <td>0</td>\n",
       "      <td>1</td>\n",
       "      <td>0</td>\n",
       "      <td>3</td>\n",
       "      <td>0.899338</td>\n",
       "      <td>0.0</td>\n",
       "    </tr>\n",
       "  </tbody>\n",
       "</table>\n",
       "</div>"
      ],
      "text/plain": [
       "             file_name StudyInstanceUID negative_exam_for_pe qa_motion  \\\n",
       "2551  5e698a8957cf.npy     5e698a8957cf                    0         0   \n",
       "\n",
       "     qa_contrast flow_artifact rv_lv_ratio_gte_1 rv_lv_ratio_lt_1  \\\n",
       "2551           0             0                 1                0   \n",
       "\n",
       "     leftsided_pe chronic_pe true_filling_defect_not_pe rightsided_pe  \\\n",
       "2551            0          0                          0             1   \n",
       "\n",
       "     acute_and_chronic_pe central_pe indeterminate fold      pred  score  \n",
       "2551                    0          1             0    3  0.899338    0.0  "
      ]
     },
     "execution_count": 171,
     "metadata": {},
     "output_type": "execute_result"
    }
   ],
   "source": [
    "fn[(fn.central_pe == True) & (fn.rv_lv_ratio_gte_1 == True) & (fn.chronic_pe == False)]"
   ]
  },
  {
   "cell_type": "code",
   "execution_count": 160,
   "id": "2efad9b1",
   "metadata": {},
   "outputs": [
    {
     "data": {
      "text/plain": [
       "negative_exam_for_pe          0.000000\n",
       "qa_motion                     0.000000\n",
       "qa_contrast                   0.000000\n",
       "flow_artifact                 0.025890\n",
       "rv_lv_ratio_gte_1             1.000000\n",
       "rv_lv_ratio_lt_1              0.000000\n",
       "leftsided_pe                  0.813376\n",
       "chronic_pe                    0.155340\n",
       "true_filling_defect_not_pe    0.009709\n",
       "rightsided_pe                 0.901834\n",
       "acute_and_chronic_pe          0.080906\n",
       "central_pe                    0.307443\n",
       "indeterminate                 0.000000\n",
       "fold                          4.596548\n",
       "pred                          0.157926\n",
       "score                         0.851133\n",
       "dtype: float64"
      ]
     },
     "execution_count": 160,
     "metadata": {},
     "output_type": "execute_result"
    }
   ],
   "source": [
    "pos[pos.rv_lv_ratio_gte_1 == True].mean()"
   ]
  },
  {
   "cell_type": "code",
   "execution_count": 136,
   "id": "4e007730",
   "metadata": {},
   "outputs": [
    {
     "data": {
      "text/plain": [
       "(487.0, 4482)"
      ]
     },
     "execution_count": 136,
     "metadata": {},
     "output_type": "execute_result"
    }
   ],
   "source": [
    "neg.score.sum(), neg.negative_exam_for_pe.sum()"
   ]
  }
 ],
 "metadata": {
  "kernelspec": {
   "display_name": "tf-gpu",
   "language": "python",
   "name": "tf-gpu"
  },
  "language_info": {
   "codemirror_mode": {
    "name": "ipython",
    "version": 3
   },
   "file_extension": ".py",
   "mimetype": "text/x-python",
   "name": "python",
   "nbconvert_exporter": "python",
   "pygments_lexer": "ipython3",
   "version": "3.10.6"
  }
 },
 "nbformat": 4,
 "nbformat_minor": 5
}
